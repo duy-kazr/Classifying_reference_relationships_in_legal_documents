{
 "cells": [
  {
   "cell_type": "markdown",
   "metadata": {},
   "source": [
    "**Import Library**"
   ]
  },
  {
   "cell_type": "code",
   "execution_count": 1,
   "metadata": {},
   "outputs": [],
   "source": [
    "import re\n",
    "import os\n",
    "import time\n",
    "\n",
    "import numpy as np\n",
    "import pandas as pd\n",
    "import tensorflow as tf\n",
    "import plotly.graph_objects as go\n",
    "import matplotlib.pyplot as plt\n",
    "\n",
    "from sklearn.metrics import confusion_matrix, precision_score, recall_score, f1_score\n",
    "from tensorflow.keras.preprocessing.text import Tokenizer\n",
    "from tensorflow.keras.preprocessing.sequence import pad_sequences\n",
    "from tensorflow.keras.models import Sequential, Model, load_model\n",
    "from keras_self_attention import SeqSelfAttention\n",
    "from tensorflow.keras.layers import Embedding, LSTM, Dense, Flatten\n",
    "from sklearn.model_selection import train_test_split\n",
    "from sklearn.preprocessing import LabelEncoder\n",
    "from tensorflow.keras.callbacks import EarlyStopping\n",
    "from underthesea import word_tokenize\n",
    "from collections import Counter\n",
    "import fasttext\n"
   ]
  },
  {
   "cell_type": "markdown",
   "metadata": {},
   "source": [
    "**Read data & Visualize**"
   ]
  },
  {
   "cell_type": "code",
   "execution_count": 2,
   "metadata": {},
   "outputs": [
    {
     "data": {
      "text/html": [
       "<div>\n",
       "<style scoped>\n",
       "    .dataframe tbody tr th:only-of-type {\n",
       "        vertical-align: middle;\n",
       "    }\n",
       "\n",
       "    .dataframe tbody tr th {\n",
       "        vertical-align: top;\n",
       "    }\n",
       "\n",
       "    .dataframe thead th {\n",
       "        text-align: right;\n",
       "    }\n",
       "</style>\n",
       "<table border=\"1\" class=\"dataframe\">\n",
       "  <thead>\n",
       "    <tr style=\"text-align: right;\">\n",
       "      <th></th>\n",
       "      <th>Thực thể tham chiếu</th>\n",
       "      <th>Quan hệ</th>\n",
       "      <th>Nội dung Trước thực thể được tham chiếu</th>\n",
       "      <th>Thực thể được tham chiếu</th>\n",
       "      <th>Nội dung Sau thực thể được tham chiếu</th>\n",
       "    </tr>\n",
       "  </thead>\n",
       "  <tbody>\n",
       "    <tr>\n",
       "      <th>0</th>\n",
       "      <td>Nghị định Về chế độ thôi việc đối với cán bộ, ...</td>\n",
       "      <td>CC</td>\n",
       "      <td>NaN</td>\n",
       "      <td>Luật tổ_chức Chính_phủ ngày 30 tháng 9 năm 1992</td>\n",
       "      <td></td>\n",
       "    </tr>\n",
       "    <tr>\n",
       "      <th>1</th>\n",
       "      <td>Nghị định Về chế độ thôi việc đối với cán bộ, ...</td>\n",
       "      <td>CC</td>\n",
       "      <td>NaN</td>\n",
       "      <td>Bộ_Luật Lao_động ngày 23 tháng 6 năm 1994</td>\n",
       "      <td></td>\n",
       "    </tr>\n",
       "    <tr>\n",
       "      <th>2</th>\n",
       "      <td>Nghị định Về chế độ thôi việc đối với cán bộ, ...</td>\n",
       "      <td>CC</td>\n",
       "      <td>NaN</td>\n",
       "      <td>Pháp_lệnh Cán_bộ , công_chức ngày 26/02 năm 1...</td>\n",
       "      <td></td>\n",
       "    </tr>\n",
       "    <tr>\n",
       "      <th>3</th>\n",
       "      <td>Nghị định Về chế độ thôi việc đối với cán bộ, ...</td>\n",
       "      <td>DC</td>\n",
       "      <td>Những người được quy_định tại các khoản 2 , 3...</td>\n",
       "      <td>Pháp_lệnh Cán_bộ , công_chức</td>\n",
       "      <td></td>\n",
       "    </tr>\n",
       "    <tr>\n",
       "      <th>4</th>\n",
       "      <td>Nghị định Về chế độ thôi việc đối với cán bộ, ...</td>\n",
       "      <td>DC</td>\n",
       "      <td>Cán_bộ , công_chức làm_việc ở những ngành_ngh...</td>\n",
       "      <td>Pháp_lệnh Cán_bộ , công_chức</td>\n",
       "      <td></td>\n",
       "    </tr>\n",
       "  </tbody>\n",
       "</table>\n",
       "</div>"
      ],
      "text/plain": [
       "                                 Thực thể tham chiếu Quan hệ  \\\n",
       "0  Nghị định Về chế độ thôi việc đối với cán bộ, ...      CC   \n",
       "1  Nghị định Về chế độ thôi việc đối với cán bộ, ...      CC   \n",
       "2  Nghị định Về chế độ thôi việc đối với cán bộ, ...      CC   \n",
       "3  Nghị định Về chế độ thôi việc đối với cán bộ, ...      DC   \n",
       "4  Nghị định Về chế độ thôi việc đối với cán bộ, ...      DC   \n",
       "\n",
       "             Nội dung Trước thực thể được tham chiếu  \\\n",
       "0                                                NaN   \n",
       "1                                                NaN   \n",
       "2                                                NaN   \n",
       "3   Những người được quy_định tại các khoản 2 , 3...   \n",
       "4   Cán_bộ , công_chức làm_việc ở những ngành_ngh...   \n",
       "\n",
       "                            Thực thể được tham chiếu  \\\n",
       "0   Luật tổ_chức Chính_phủ ngày 30 tháng 9 năm 1992    \n",
       "1         Bộ_Luật Lao_động ngày 23 tháng 6 năm 1994    \n",
       "2   Pháp_lệnh Cán_bộ , công_chức ngày 26/02 năm 1...   \n",
       "3                      Pháp_lệnh Cán_bộ , công_chức    \n",
       "4                      Pháp_lệnh Cán_bộ , công_chức    \n",
       "\n",
       "  Nội dung Sau thực thể được tham chiếu  \n",
       "0                                        \n",
       "1                                        \n",
       "2                                        \n",
       "3                                        \n",
       "4                                        "
      ]
     },
     "execution_count": 2,
     "metadata": {},
     "output_type": "execute_result"
    }
   ],
   "source": [
    "dt = pd.read_csv(\"data/vbpl.csv\", encoding=\"utf-8\")\n",
    "dt.head()"
   ]
  },
  {
   "cell_type": "code",
   "execution_count": 3,
   "metadata": {},
   "outputs": [
    {
     "ename": "KeyError",
     "evalue": "\"['Nội dung trước thực thể được tham chiếu', 'Nội dung sau thực thể được tham chiếu'] not in index\"",
     "output_type": "error",
     "traceback": [
      "\u001b[1;31m---------------------------------------------------------------------------\u001b[0m",
      "\u001b[1;31mKeyError\u001b[0m                                  Traceback (most recent call last)",
      "Cell \u001b[1;32mIn[3], line 7\u001b[0m\n\u001b[0;32m      4\u001b[0m Before_B \u001b[38;5;241m=\u001b[39m \u001b[38;5;124m\"\u001b[39m\u001b[38;5;124mNội dung trước thực thể được tham chiếu\u001b[39m\u001b[38;5;124m\"\u001b[39m\n\u001b[0;32m      5\u001b[0m After_B \u001b[38;5;241m=\u001b[39m \u001b[38;5;124m\"\u001b[39m\u001b[38;5;124mNội dung sau thực thể được tham chiếu\u001b[39m\u001b[38;5;124m\"\u001b[39m\n\u001b[1;32m----> 7\u001b[0m data_Clean \u001b[38;5;241m=\u001b[39m \u001b[43mdt\u001b[49m\u001b[43m[\u001b[49m\u001b[43m[\u001b[49m\u001b[43mA\u001b[49m\u001b[43m,\u001b[49m\u001b[43mLabel\u001b[49m\u001b[43m,\u001b[49m\u001b[43mBefore_B\u001b[49m\u001b[43m,\u001b[49m\u001b[43mB\u001b[49m\u001b[43m,\u001b[49m\u001b[43mAfter_B\u001b[49m\u001b[43m]\u001b[49m\u001b[43m]\u001b[49m\u001b[38;5;241m.\u001b[39mcopy()\n\u001b[0;32m      8\u001b[0m data_Clean[Label] \u001b[38;5;241m=\u001b[39m dt[Label]\u001b[38;5;241m.\u001b[39mfillna(\u001b[38;5;124m'\u001b[39m\u001b[38;5;124mNone\u001b[39m\u001b[38;5;124m'\u001b[39m)\n\u001b[0;32m      9\u001b[0m data_Clean[[A, B]]\u001b[38;5;241m.\u001b[39mdropna()\n",
      "File \u001b[1;32mc:\\Users\\ADMIN\\AppData\\Local\\Programs\\Python\\Python39\\lib\\site-packages\\pandas\\core\\frame.py:3813\u001b[0m, in \u001b[0;36mDataFrame.__getitem__\u001b[1;34m(self, key)\u001b[0m\n\u001b[0;32m   3811\u001b[0m     \u001b[38;5;28;01mif\u001b[39;00m is_iterator(key):\n\u001b[0;32m   3812\u001b[0m         key \u001b[38;5;241m=\u001b[39m \u001b[38;5;28mlist\u001b[39m(key)\n\u001b[1;32m-> 3813\u001b[0m     indexer \u001b[38;5;241m=\u001b[39m \u001b[38;5;28;43mself\u001b[39;49m\u001b[38;5;241;43m.\u001b[39;49m\u001b[43mcolumns\u001b[49m\u001b[38;5;241;43m.\u001b[39;49m\u001b[43m_get_indexer_strict\u001b[49m\u001b[43m(\u001b[49m\u001b[43mkey\u001b[49m\u001b[43m,\u001b[49m\u001b[43m \u001b[49m\u001b[38;5;124;43m\"\u001b[39;49m\u001b[38;5;124;43mcolumns\u001b[39;49m\u001b[38;5;124;43m\"\u001b[39;49m\u001b[43m)\u001b[49m[\u001b[38;5;241m1\u001b[39m]\n\u001b[0;32m   3815\u001b[0m \u001b[38;5;66;03m# take() does not accept boolean indexers\u001b[39;00m\n\u001b[0;32m   3816\u001b[0m \u001b[38;5;28;01mif\u001b[39;00m \u001b[38;5;28mgetattr\u001b[39m(indexer, \u001b[38;5;124m\"\u001b[39m\u001b[38;5;124mdtype\u001b[39m\u001b[38;5;124m\"\u001b[39m, \u001b[38;5;28;01mNone\u001b[39;00m) \u001b[38;5;241m==\u001b[39m \u001b[38;5;28mbool\u001b[39m:\n",
      "File \u001b[1;32mc:\\Users\\ADMIN\\AppData\\Local\\Programs\\Python\\Python39\\lib\\site-packages\\pandas\\core\\indexes\\base.py:6070\u001b[0m, in \u001b[0;36mIndex._get_indexer_strict\u001b[1;34m(self, key, axis_name)\u001b[0m\n\u001b[0;32m   6067\u001b[0m \u001b[38;5;28;01melse\u001b[39;00m:\n\u001b[0;32m   6068\u001b[0m     keyarr, indexer, new_indexer \u001b[38;5;241m=\u001b[39m \u001b[38;5;28mself\u001b[39m\u001b[38;5;241m.\u001b[39m_reindex_non_unique(keyarr)\n\u001b[1;32m-> 6070\u001b[0m \u001b[38;5;28;43mself\u001b[39;49m\u001b[38;5;241;43m.\u001b[39;49m\u001b[43m_raise_if_missing\u001b[49m\u001b[43m(\u001b[49m\u001b[43mkeyarr\u001b[49m\u001b[43m,\u001b[49m\u001b[43m \u001b[49m\u001b[43mindexer\u001b[49m\u001b[43m,\u001b[49m\u001b[43m \u001b[49m\u001b[43maxis_name\u001b[49m\u001b[43m)\u001b[49m\n\u001b[0;32m   6072\u001b[0m keyarr \u001b[38;5;241m=\u001b[39m \u001b[38;5;28mself\u001b[39m\u001b[38;5;241m.\u001b[39mtake(indexer)\n\u001b[0;32m   6073\u001b[0m \u001b[38;5;28;01mif\u001b[39;00m \u001b[38;5;28misinstance\u001b[39m(key, Index):\n\u001b[0;32m   6074\u001b[0m     \u001b[38;5;66;03m# GH 42790 - Preserve name from an Index\u001b[39;00m\n",
      "File \u001b[1;32mc:\\Users\\ADMIN\\AppData\\Local\\Programs\\Python\\Python39\\lib\\site-packages\\pandas\\core\\indexes\\base.py:6133\u001b[0m, in \u001b[0;36mIndex._raise_if_missing\u001b[1;34m(self, key, indexer, axis_name)\u001b[0m\n\u001b[0;32m   6130\u001b[0m     \u001b[38;5;28;01mraise\u001b[39;00m \u001b[38;5;167;01mKeyError\u001b[39;00m(\u001b[38;5;124mf\u001b[39m\u001b[38;5;124m\"\u001b[39m\u001b[38;5;124mNone of [\u001b[39m\u001b[38;5;132;01m{\u001b[39;00mkey\u001b[38;5;132;01m}\u001b[39;00m\u001b[38;5;124m] are in the [\u001b[39m\u001b[38;5;132;01m{\u001b[39;00maxis_name\u001b[38;5;132;01m}\u001b[39;00m\u001b[38;5;124m]\u001b[39m\u001b[38;5;124m\"\u001b[39m)\n\u001b[0;32m   6132\u001b[0m not_found \u001b[38;5;241m=\u001b[39m \u001b[38;5;28mlist\u001b[39m(ensure_index(key)[missing_mask\u001b[38;5;241m.\u001b[39mnonzero()[\u001b[38;5;241m0\u001b[39m]]\u001b[38;5;241m.\u001b[39munique())\n\u001b[1;32m-> 6133\u001b[0m \u001b[38;5;28;01mraise\u001b[39;00m \u001b[38;5;167;01mKeyError\u001b[39;00m(\u001b[38;5;124mf\u001b[39m\u001b[38;5;124m\"\u001b[39m\u001b[38;5;132;01m{\u001b[39;00mnot_found\u001b[38;5;132;01m}\u001b[39;00m\u001b[38;5;124m not in index\u001b[39m\u001b[38;5;124m\"\u001b[39m)\n",
      "\u001b[1;31mKeyError\u001b[0m: \"['Nội dung trước thực thể được tham chiếu', 'Nội dung sau thực thể được tham chiếu'] not in index\""
     ]
    }
   ],
   "source": [
    "A = \"Thực thể tham chiếu\"\n",
    "Label = \"Quan hệ\"\n",
    "B = \"Thực thể được tham chiếu\"\n",
    "Before_B = \"Nội dung trước thực thể được tham chiếu\"\n",
    "After_B = \"Nội dung sau thực thể được tham chiếu\"\n",
    "\n",
    "data_Clean = dt[[A,Label,Before_B,B,After_B]].copy()\n",
    "data_Clean[Label] = dt[Label].fillna('None')\n",
    "data_Clean[[A, B]].dropna()\n",
    "data_Clean.info()\n",
    "\n",
    "\n",
    "data_Clean['Quan hệ'].unique()\n",
    "data_Clean.head(10)"
   ]
  },
  {
   "cell_type": "code",
   "execution_count": null,
   "metadata": {},
   "outputs": [
    {
     "ename": "ValueError",
     "evalue": "Mime type rendering requires nbformat>=4.2.0 but it is not installed",
     "output_type": "error",
     "traceback": [
      "\u001b[1;31m---------------------------------------------------------------------------\u001b[0m",
      "\u001b[1;31mValueError\u001b[0m                                Traceback (most recent call last)",
      "File \u001b[1;32m~\\AppData\\Roaming\\Python\\Python311\\site-packages\\IPython\\core\\formatters.py:925\u001b[0m, in \u001b[0;36mIPythonDisplayFormatter.__call__\u001b[1;34m(self, obj)\u001b[0m\n\u001b[0;32m    923\u001b[0m method \u001b[39m=\u001b[39m get_real_method(obj, \u001b[39mself\u001b[39m\u001b[39m.\u001b[39mprint_method)\n\u001b[0;32m    924\u001b[0m \u001b[39mif\u001b[39;00m method \u001b[39mis\u001b[39;00m \u001b[39mnot\u001b[39;00m \u001b[39mNone\u001b[39;00m:\n\u001b[1;32m--> 925\u001b[0m     method()\n\u001b[0;32m    926\u001b[0m     \u001b[39mreturn\u001b[39;00m \u001b[39mTrue\u001b[39;00m\n",
      "File \u001b[1;32mc:\\Users\\Administrator\\AppData\\Local\\Programs\\Python\\Python311\\Lib\\site-packages\\plotly\\basedatatypes.py:832\u001b[0m, in \u001b[0;36mBaseFigure._ipython_display_\u001b[1;34m(self)\u001b[0m\n\u001b[0;32m    829\u001b[0m \u001b[39mimport\u001b[39;00m \u001b[39mplotly\u001b[39;00m\u001b[39m.\u001b[39;00m\u001b[39mio\u001b[39;00m \u001b[39mas\u001b[39;00m \u001b[39mpio\u001b[39;00m\n\u001b[0;32m    831\u001b[0m \u001b[39mif\u001b[39;00m pio\u001b[39m.\u001b[39mrenderers\u001b[39m.\u001b[39mrender_on_display \u001b[39mand\u001b[39;00m pio\u001b[39m.\u001b[39mrenderers\u001b[39m.\u001b[39mdefault:\n\u001b[1;32m--> 832\u001b[0m     pio\u001b[39m.\u001b[39;49mshow(\u001b[39mself\u001b[39;49m)\n\u001b[0;32m    833\u001b[0m \u001b[39melse\u001b[39;00m:\n\u001b[0;32m    834\u001b[0m     \u001b[39mprint\u001b[39m(\u001b[39mrepr\u001b[39m(\u001b[39mself\u001b[39m))\n",
      "File \u001b[1;32mc:\\Users\\Administrator\\AppData\\Local\\Programs\\Python\\Python311\\Lib\\site-packages\\plotly\\io\\_renderers.py:394\u001b[0m, in \u001b[0;36mshow\u001b[1;34m(fig, renderer, validate, **kwargs)\u001b[0m\n\u001b[0;32m    389\u001b[0m         \u001b[39mraise\u001b[39;00m \u001b[39mValueError\u001b[39;00m(\n\u001b[0;32m    390\u001b[0m             \u001b[39m\"\u001b[39m\u001b[39mMime type rendering requires ipython but it is not installed\u001b[39m\u001b[39m\"\u001b[39m\n\u001b[0;32m    391\u001b[0m         )\n\u001b[0;32m    393\u001b[0m     \u001b[39mif\u001b[39;00m \u001b[39mnot\u001b[39;00m nbformat \u001b[39mor\u001b[39;00m Version(nbformat\u001b[39m.\u001b[39m__version__) \u001b[39m<\u001b[39m Version(\u001b[39m\"\u001b[39m\u001b[39m4.2.0\u001b[39m\u001b[39m\"\u001b[39m):\n\u001b[1;32m--> 394\u001b[0m         \u001b[39mraise\u001b[39;00m \u001b[39mValueError\u001b[39;00m(\n\u001b[0;32m    395\u001b[0m             \u001b[39m\"\u001b[39m\u001b[39mMime type rendering requires nbformat>=4.2.0 but it is not installed\u001b[39m\u001b[39m\"\u001b[39m\n\u001b[0;32m    396\u001b[0m         )\n\u001b[0;32m    398\u001b[0m     ipython_display\u001b[39m.\u001b[39mdisplay(bundle, raw\u001b[39m=\u001b[39m\u001b[39mTrue\u001b[39;00m)\n\u001b[0;32m    400\u001b[0m \u001b[39m# external renderers\u001b[39;00m\n",
      "\u001b[1;31mValueError\u001b[0m: Mime type rendering requires nbformat>=4.2.0 but it is not installed"
     ]
    },
    {
     "data": {
      "application/vnd.plotly.v1+json": {
       "config": {
        "plotlyServerURL": "https://plot.ly"
       },
       "data": [
        {
         "marker": {
          "color": "cadetblue"
         },
         "type": "bar",
         "width": [
          0.4,
          0.4
         ],
         "x": [
          "BTT",
          "CC",
          "DHD",
          "DSD",
          "DaC",
          "HHL",
          "none"
         ],
         "y": [
          1615,
          16441,
          269,
          509,
          23472,
          1390,
          1617
         ]
        }
       ],
       "layout": {
        "template": {
         "data": {
          "bar": [
           {
            "error_x": {
             "color": "#2a3f5f"
            },
            "error_y": {
             "color": "#2a3f5f"
            },
            "marker": {
             "line": {
              "color": "#E5ECF6",
              "width": 0.5
             },
             "pattern": {
              "fillmode": "overlay",
              "size": 10,
              "solidity": 0.2
             }
            },
            "type": "bar"
           }
          ],
          "barpolar": [
           {
            "marker": {
             "line": {
              "color": "#E5ECF6",
              "width": 0.5
             },
             "pattern": {
              "fillmode": "overlay",
              "size": 10,
              "solidity": 0.2
             }
            },
            "type": "barpolar"
           }
          ],
          "carpet": [
           {
            "aaxis": {
             "endlinecolor": "#2a3f5f",
             "gridcolor": "white",
             "linecolor": "white",
             "minorgridcolor": "white",
             "startlinecolor": "#2a3f5f"
            },
            "baxis": {
             "endlinecolor": "#2a3f5f",
             "gridcolor": "white",
             "linecolor": "white",
             "minorgridcolor": "white",
             "startlinecolor": "#2a3f5f"
            },
            "type": "carpet"
           }
          ],
          "choropleth": [
           {
            "colorbar": {
             "outlinewidth": 0,
             "ticks": ""
            },
            "type": "choropleth"
           }
          ],
          "contour": [
           {
            "colorbar": {
             "outlinewidth": 0,
             "ticks": ""
            },
            "colorscale": [
             [
              0,
              "#0d0887"
             ],
             [
              0.1111111111111111,
              "#46039f"
             ],
             [
              0.2222222222222222,
              "#7201a8"
             ],
             [
              0.3333333333333333,
              "#9c179e"
             ],
             [
              0.4444444444444444,
              "#bd3786"
             ],
             [
              0.5555555555555556,
              "#d8576b"
             ],
             [
              0.6666666666666666,
              "#ed7953"
             ],
             [
              0.7777777777777778,
              "#fb9f3a"
             ],
             [
              0.8888888888888888,
              "#fdca26"
             ],
             [
              1,
              "#f0f921"
             ]
            ],
            "type": "contour"
           }
          ],
          "contourcarpet": [
           {
            "colorbar": {
             "outlinewidth": 0,
             "ticks": ""
            },
            "type": "contourcarpet"
           }
          ],
          "heatmap": [
           {
            "colorbar": {
             "outlinewidth": 0,
             "ticks": ""
            },
            "colorscale": [
             [
              0,
              "#0d0887"
             ],
             [
              0.1111111111111111,
              "#46039f"
             ],
             [
              0.2222222222222222,
              "#7201a8"
             ],
             [
              0.3333333333333333,
              "#9c179e"
             ],
             [
              0.4444444444444444,
              "#bd3786"
             ],
             [
              0.5555555555555556,
              "#d8576b"
             ],
             [
              0.6666666666666666,
              "#ed7953"
             ],
             [
              0.7777777777777778,
              "#fb9f3a"
             ],
             [
              0.8888888888888888,
              "#fdca26"
             ],
             [
              1,
              "#f0f921"
             ]
            ],
            "type": "heatmap"
           }
          ],
          "heatmapgl": [
           {
            "colorbar": {
             "outlinewidth": 0,
             "ticks": ""
            },
            "colorscale": [
             [
              0,
              "#0d0887"
             ],
             [
              0.1111111111111111,
              "#46039f"
             ],
             [
              0.2222222222222222,
              "#7201a8"
             ],
             [
              0.3333333333333333,
              "#9c179e"
             ],
             [
              0.4444444444444444,
              "#bd3786"
             ],
             [
              0.5555555555555556,
              "#d8576b"
             ],
             [
              0.6666666666666666,
              "#ed7953"
             ],
             [
              0.7777777777777778,
              "#fb9f3a"
             ],
             [
              0.8888888888888888,
              "#fdca26"
             ],
             [
              1,
              "#f0f921"
             ]
            ],
            "type": "heatmapgl"
           }
          ],
          "histogram": [
           {
            "marker": {
             "pattern": {
              "fillmode": "overlay",
              "size": 10,
              "solidity": 0.2
             }
            },
            "type": "histogram"
           }
          ],
          "histogram2d": [
           {
            "colorbar": {
             "outlinewidth": 0,
             "ticks": ""
            },
            "colorscale": [
             [
              0,
              "#0d0887"
             ],
             [
              0.1111111111111111,
              "#46039f"
             ],
             [
              0.2222222222222222,
              "#7201a8"
             ],
             [
              0.3333333333333333,
              "#9c179e"
             ],
             [
              0.4444444444444444,
              "#bd3786"
             ],
             [
              0.5555555555555556,
              "#d8576b"
             ],
             [
              0.6666666666666666,
              "#ed7953"
             ],
             [
              0.7777777777777778,
              "#fb9f3a"
             ],
             [
              0.8888888888888888,
              "#fdca26"
             ],
             [
              1,
              "#f0f921"
             ]
            ],
            "type": "histogram2d"
           }
          ],
          "histogram2dcontour": [
           {
            "colorbar": {
             "outlinewidth": 0,
             "ticks": ""
            },
            "colorscale": [
             [
              0,
              "#0d0887"
             ],
             [
              0.1111111111111111,
              "#46039f"
             ],
             [
              0.2222222222222222,
              "#7201a8"
             ],
             [
              0.3333333333333333,
              "#9c179e"
             ],
             [
              0.4444444444444444,
              "#bd3786"
             ],
             [
              0.5555555555555556,
              "#d8576b"
             ],
             [
              0.6666666666666666,
              "#ed7953"
             ],
             [
              0.7777777777777778,
              "#fb9f3a"
             ],
             [
              0.8888888888888888,
              "#fdca26"
             ],
             [
              1,
              "#f0f921"
             ]
            ],
            "type": "histogram2dcontour"
           }
          ],
          "mesh3d": [
           {
            "colorbar": {
             "outlinewidth": 0,
             "ticks": ""
            },
            "type": "mesh3d"
           }
          ],
          "parcoords": [
           {
            "line": {
             "colorbar": {
              "outlinewidth": 0,
              "ticks": ""
             }
            },
            "type": "parcoords"
           }
          ],
          "pie": [
           {
            "automargin": true,
            "type": "pie"
           }
          ],
          "scatter": [
           {
            "fillpattern": {
             "fillmode": "overlay",
             "size": 10,
             "solidity": 0.2
            },
            "type": "scatter"
           }
          ],
          "scatter3d": [
           {
            "line": {
             "colorbar": {
              "outlinewidth": 0,
              "ticks": ""
             }
            },
            "marker": {
             "colorbar": {
              "outlinewidth": 0,
              "ticks": ""
             }
            },
            "type": "scatter3d"
           }
          ],
          "scattercarpet": [
           {
            "marker": {
             "colorbar": {
              "outlinewidth": 0,
              "ticks": ""
             }
            },
            "type": "scattercarpet"
           }
          ],
          "scattergeo": [
           {
            "marker": {
             "colorbar": {
              "outlinewidth": 0,
              "ticks": ""
             }
            },
            "type": "scattergeo"
           }
          ],
          "scattergl": [
           {
            "marker": {
             "colorbar": {
              "outlinewidth": 0,
              "ticks": ""
             }
            },
            "type": "scattergl"
           }
          ],
          "scattermapbox": [
           {
            "marker": {
             "colorbar": {
              "outlinewidth": 0,
              "ticks": ""
             }
            },
            "type": "scattermapbox"
           }
          ],
          "scatterpolar": [
           {
            "marker": {
             "colorbar": {
              "outlinewidth": 0,
              "ticks": ""
             }
            },
            "type": "scatterpolar"
           }
          ],
          "scatterpolargl": [
           {
            "marker": {
             "colorbar": {
              "outlinewidth": 0,
              "ticks": ""
             }
            },
            "type": "scatterpolargl"
           }
          ],
          "scatterternary": [
           {
            "marker": {
             "colorbar": {
              "outlinewidth": 0,
              "ticks": ""
             }
            },
            "type": "scatterternary"
           }
          ],
          "surface": [
           {
            "colorbar": {
             "outlinewidth": 0,
             "ticks": ""
            },
            "colorscale": [
             [
              0,
              "#0d0887"
             ],
             [
              0.1111111111111111,
              "#46039f"
             ],
             [
              0.2222222222222222,
              "#7201a8"
             ],
             [
              0.3333333333333333,
              "#9c179e"
             ],
             [
              0.4444444444444444,
              "#bd3786"
             ],
             [
              0.5555555555555556,
              "#d8576b"
             ],
             [
              0.6666666666666666,
              "#ed7953"
             ],
             [
              0.7777777777777778,
              "#fb9f3a"
             ],
             [
              0.8888888888888888,
              "#fdca26"
             ],
             [
              1,
              "#f0f921"
             ]
            ],
            "type": "surface"
           }
          ],
          "table": [
           {
            "cells": {
             "fill": {
              "color": "#EBF0F8"
             },
             "line": {
              "color": "white"
             }
            },
            "header": {
             "fill": {
              "color": "#C8D4E3"
             },
             "line": {
              "color": "white"
             }
            },
            "type": "table"
           }
          ]
         },
         "layout": {
          "annotationdefaults": {
           "arrowcolor": "#2a3f5f",
           "arrowhead": 0,
           "arrowwidth": 1
          },
          "autotypenumbers": "strict",
          "coloraxis": {
           "colorbar": {
            "outlinewidth": 0,
            "ticks": ""
           }
          },
          "colorscale": {
           "diverging": [
            [
             0,
             "#8e0152"
            ],
            [
             0.1,
             "#c51b7d"
            ],
            [
             0.2,
             "#de77ae"
            ],
            [
             0.3,
             "#f1b6da"
            ],
            [
             0.4,
             "#fde0ef"
            ],
            [
             0.5,
             "#f7f7f7"
            ],
            [
             0.6,
             "#e6f5d0"
            ],
            [
             0.7,
             "#b8e186"
            ],
            [
             0.8,
             "#7fbc41"
            ],
            [
             0.9,
             "#4d9221"
            ],
            [
             1,
             "#276419"
            ]
           ],
           "sequential": [
            [
             0,
             "#0d0887"
            ],
            [
             0.1111111111111111,
             "#46039f"
            ],
            [
             0.2222222222222222,
             "#7201a8"
            ],
            [
             0.3333333333333333,
             "#9c179e"
            ],
            [
             0.4444444444444444,
             "#bd3786"
            ],
            [
             0.5555555555555556,
             "#d8576b"
            ],
            [
             0.6666666666666666,
             "#ed7953"
            ],
            [
             0.7777777777777778,
             "#fb9f3a"
            ],
            [
             0.8888888888888888,
             "#fdca26"
            ],
            [
             1,
             "#f0f921"
            ]
           ],
           "sequentialminus": [
            [
             0,
             "#0d0887"
            ],
            [
             0.1111111111111111,
             "#46039f"
            ],
            [
             0.2222222222222222,
             "#7201a8"
            ],
            [
             0.3333333333333333,
             "#9c179e"
            ],
            [
             0.4444444444444444,
             "#bd3786"
            ],
            [
             0.5555555555555556,
             "#d8576b"
            ],
            [
             0.6666666666666666,
             "#ed7953"
            ],
            [
             0.7777777777777778,
             "#fb9f3a"
            ],
            [
             0.8888888888888888,
             "#fdca26"
            ],
            [
             1,
             "#f0f921"
            ]
           ]
          },
          "colorway": [
           "#636efa",
           "#EF553B",
           "#00cc96",
           "#ab63fa",
           "#FFA15A",
           "#19d3f3",
           "#FF6692",
           "#B6E880",
           "#FF97FF",
           "#FECB52"
          ],
          "font": {
           "color": "#2a3f5f"
          },
          "geo": {
           "bgcolor": "white",
           "lakecolor": "white",
           "landcolor": "#E5ECF6",
           "showlakes": true,
           "showland": true,
           "subunitcolor": "white"
          },
          "hoverlabel": {
           "align": "left"
          },
          "hovermode": "closest",
          "mapbox": {
           "style": "light"
          },
          "paper_bgcolor": "white",
          "plot_bgcolor": "#E5ECF6",
          "polar": {
           "angularaxis": {
            "gridcolor": "white",
            "linecolor": "white",
            "ticks": ""
           },
           "bgcolor": "#E5ECF6",
           "radialaxis": {
            "gridcolor": "white",
            "linecolor": "white",
            "ticks": ""
           }
          },
          "scene": {
           "xaxis": {
            "backgroundcolor": "#E5ECF6",
            "gridcolor": "white",
            "gridwidth": 2,
            "linecolor": "white",
            "showbackground": true,
            "ticks": "",
            "zerolinecolor": "white"
           },
           "yaxis": {
            "backgroundcolor": "#E5ECF6",
            "gridcolor": "white",
            "gridwidth": 2,
            "linecolor": "white",
            "showbackground": true,
            "ticks": "",
            "zerolinecolor": "white"
           },
           "zaxis": {
            "backgroundcolor": "#E5ECF6",
            "gridcolor": "white",
            "gridwidth": 2,
            "linecolor": "white",
            "showbackground": true,
            "ticks": "",
            "zerolinecolor": "white"
           }
          },
          "shapedefaults": {
           "line": {
            "color": "#2a3f5f"
           }
          },
          "ternary": {
           "aaxis": {
            "gridcolor": "white",
            "linecolor": "white",
            "ticks": ""
           },
           "baxis": {
            "gridcolor": "white",
            "linecolor": "white",
            "ticks": ""
           },
           "bgcolor": "#E5ECF6",
           "caxis": {
            "gridcolor": "white",
            "linecolor": "white",
            "ticks": ""
           }
          },
          "title": {
           "x": 0.05
          },
          "xaxis": {
           "automargin": true,
           "gridcolor": "white",
           "linecolor": "white",
           "ticks": "",
           "title": {
            "standoff": 15
           },
           "zerolinecolor": "white",
           "zerolinewidth": 2
          },
          "yaxis": {
           "automargin": true,
           "gridcolor": "white",
           "linecolor": "white",
           "ticks": "",
           "title": {
            "standoff": 15
           },
           "zerolinecolor": "white",
           "zerolinewidth": 2
          }
         }
        },
        "title": {
         "text": "Classes and their number in the dataset",
         "x": 0.5
        }
       }
      },
      "text/html": [
       "<div>                        <script type=\"text/javascript\">window.PlotlyConfig = {MathJaxConfig: 'local'};</script>\n",
       "        <script charset=\"utf-8\" src=\"https://cdn.plot.ly/plotly-2.31.1.min.js\"></script>                <div id=\"46deab3e-daf6-4fcd-a6e7-d739c1d7adff\" class=\"plotly-graph-div\" style=\"height:100%; width:100%;\"></div>            <script type=\"text/javascript\">                                    window.PLOTLYENV=window.PLOTLYENV || {};                                    if (document.getElementById(\"46deab3e-daf6-4fcd-a6e7-d739c1d7adff\")) {                    Plotly.newPlot(                        \"46deab3e-daf6-4fcd-a6e7-d739c1d7adff\",                        [{\"marker\":{\"color\":\"cadetblue\"},\"width\":[0.4,0.4],\"x\":[\"BTT\",\"CC\",\"DHD\",\"DSD\",\"DaC\",\"HHL\",\"none\"],\"y\":[1615,16441,269,509,23472,1390,1617],\"type\":\"bar\"}],                        {\"template\":{\"data\":{\"histogram2dcontour\":[{\"type\":\"histogram2dcontour\",\"colorbar\":{\"outlinewidth\":0,\"ticks\":\"\"},\"colorscale\":[[0.0,\"#0d0887\"],[0.1111111111111111,\"#46039f\"],[0.2222222222222222,\"#7201a8\"],[0.3333333333333333,\"#9c179e\"],[0.4444444444444444,\"#bd3786\"],[0.5555555555555556,\"#d8576b\"],[0.6666666666666666,\"#ed7953\"],[0.7777777777777778,\"#fb9f3a\"],[0.8888888888888888,\"#fdca26\"],[1.0,\"#f0f921\"]]}],\"choropleth\":[{\"type\":\"choropleth\",\"colorbar\":{\"outlinewidth\":0,\"ticks\":\"\"}}],\"histogram2d\":[{\"type\":\"histogram2d\",\"colorbar\":{\"outlinewidth\":0,\"ticks\":\"\"},\"colorscale\":[[0.0,\"#0d0887\"],[0.1111111111111111,\"#46039f\"],[0.2222222222222222,\"#7201a8\"],[0.3333333333333333,\"#9c179e\"],[0.4444444444444444,\"#bd3786\"],[0.5555555555555556,\"#d8576b\"],[0.6666666666666666,\"#ed7953\"],[0.7777777777777778,\"#fb9f3a\"],[0.8888888888888888,\"#fdca26\"],[1.0,\"#f0f921\"]]}],\"heatmap\":[{\"type\":\"heatmap\",\"colorbar\":{\"outlinewidth\":0,\"ticks\":\"\"},\"colorscale\":[[0.0,\"#0d0887\"],[0.1111111111111111,\"#46039f\"],[0.2222222222222222,\"#7201a8\"],[0.3333333333333333,\"#9c179e\"],[0.4444444444444444,\"#bd3786\"],[0.5555555555555556,\"#d8576b\"],[0.6666666666666666,\"#ed7953\"],[0.7777777777777778,\"#fb9f3a\"],[0.8888888888888888,\"#fdca26\"],[1.0,\"#f0f921\"]]}],\"heatmapgl\":[{\"type\":\"heatmapgl\",\"colorbar\":{\"outlinewidth\":0,\"ticks\":\"\"},\"colorscale\":[[0.0,\"#0d0887\"],[0.1111111111111111,\"#46039f\"],[0.2222222222222222,\"#7201a8\"],[0.3333333333333333,\"#9c179e\"],[0.4444444444444444,\"#bd3786\"],[0.5555555555555556,\"#d8576b\"],[0.6666666666666666,\"#ed7953\"],[0.7777777777777778,\"#fb9f3a\"],[0.8888888888888888,\"#fdca26\"],[1.0,\"#f0f921\"]]}],\"contourcarpet\":[{\"type\":\"contourcarpet\",\"colorbar\":{\"outlinewidth\":0,\"ticks\":\"\"}}],\"contour\":[{\"type\":\"contour\",\"colorbar\":{\"outlinewidth\":0,\"ticks\":\"\"},\"colorscale\":[[0.0,\"#0d0887\"],[0.1111111111111111,\"#46039f\"],[0.2222222222222222,\"#7201a8\"],[0.3333333333333333,\"#9c179e\"],[0.4444444444444444,\"#bd3786\"],[0.5555555555555556,\"#d8576b\"],[0.6666666666666666,\"#ed7953\"],[0.7777777777777778,\"#fb9f3a\"],[0.8888888888888888,\"#fdca26\"],[1.0,\"#f0f921\"]]}],\"surface\":[{\"type\":\"surface\",\"colorbar\":{\"outlinewidth\":0,\"ticks\":\"\"},\"colorscale\":[[0.0,\"#0d0887\"],[0.1111111111111111,\"#46039f\"],[0.2222222222222222,\"#7201a8\"],[0.3333333333333333,\"#9c179e\"],[0.4444444444444444,\"#bd3786\"],[0.5555555555555556,\"#d8576b\"],[0.6666666666666666,\"#ed7953\"],[0.7777777777777778,\"#fb9f3a\"],[0.8888888888888888,\"#fdca26\"],[1.0,\"#f0f921\"]]}],\"mesh3d\":[{\"type\":\"mesh3d\",\"colorbar\":{\"outlinewidth\":0,\"ticks\":\"\"}}],\"scatter\":[{\"fillpattern\":{\"fillmode\":\"overlay\",\"size\":10,\"solidity\":0.2},\"type\":\"scatter\"}],\"parcoords\":[{\"type\":\"parcoords\",\"line\":{\"colorbar\":{\"outlinewidth\":0,\"ticks\":\"\"}}}],\"scatterpolargl\":[{\"type\":\"scatterpolargl\",\"marker\":{\"colorbar\":{\"outlinewidth\":0,\"ticks\":\"\"}}}],\"bar\":[{\"error_x\":{\"color\":\"#2a3f5f\"},\"error_y\":{\"color\":\"#2a3f5f\"},\"marker\":{\"line\":{\"color\":\"#E5ECF6\",\"width\":0.5},\"pattern\":{\"fillmode\":\"overlay\",\"size\":10,\"solidity\":0.2}},\"type\":\"bar\"}],\"scattergeo\":[{\"type\":\"scattergeo\",\"marker\":{\"colorbar\":{\"outlinewidth\":0,\"ticks\":\"\"}}}],\"scatterpolar\":[{\"type\":\"scatterpolar\",\"marker\":{\"colorbar\":{\"outlinewidth\":0,\"ticks\":\"\"}}}],\"histogram\":[{\"marker\":{\"pattern\":{\"fillmode\":\"overlay\",\"size\":10,\"solidity\":0.2}},\"type\":\"histogram\"}],\"scattergl\":[{\"type\":\"scattergl\",\"marker\":{\"colorbar\":{\"outlinewidth\":0,\"ticks\":\"\"}}}],\"scatter3d\":[{\"type\":\"scatter3d\",\"line\":{\"colorbar\":{\"outlinewidth\":0,\"ticks\":\"\"}},\"marker\":{\"colorbar\":{\"outlinewidth\":0,\"ticks\":\"\"}}}],\"scattermapbox\":[{\"type\":\"scattermapbox\",\"marker\":{\"colorbar\":{\"outlinewidth\":0,\"ticks\":\"\"}}}],\"scatterternary\":[{\"type\":\"scatterternary\",\"marker\":{\"colorbar\":{\"outlinewidth\":0,\"ticks\":\"\"}}}],\"scattercarpet\":[{\"type\":\"scattercarpet\",\"marker\":{\"colorbar\":{\"outlinewidth\":0,\"ticks\":\"\"}}}],\"carpet\":[{\"aaxis\":{\"endlinecolor\":\"#2a3f5f\",\"gridcolor\":\"white\",\"linecolor\":\"white\",\"minorgridcolor\":\"white\",\"startlinecolor\":\"#2a3f5f\"},\"baxis\":{\"endlinecolor\":\"#2a3f5f\",\"gridcolor\":\"white\",\"linecolor\":\"white\",\"minorgridcolor\":\"white\",\"startlinecolor\":\"#2a3f5f\"},\"type\":\"carpet\"}],\"table\":[{\"cells\":{\"fill\":{\"color\":\"#EBF0F8\"},\"line\":{\"color\":\"white\"}},\"header\":{\"fill\":{\"color\":\"#C8D4E3\"},\"line\":{\"color\":\"white\"}},\"type\":\"table\"}],\"barpolar\":[{\"marker\":{\"line\":{\"color\":\"#E5ECF6\",\"width\":0.5},\"pattern\":{\"fillmode\":\"overlay\",\"size\":10,\"solidity\":0.2}},\"type\":\"barpolar\"}],\"pie\":[{\"automargin\":true,\"type\":\"pie\"}]},\"layout\":{\"autotypenumbers\":\"strict\",\"colorway\":[\"#636efa\",\"#EF553B\",\"#00cc96\",\"#ab63fa\",\"#FFA15A\",\"#19d3f3\",\"#FF6692\",\"#B6E880\",\"#FF97FF\",\"#FECB52\"],\"font\":{\"color\":\"#2a3f5f\"},\"hovermode\":\"closest\",\"hoverlabel\":{\"align\":\"left\"},\"paper_bgcolor\":\"white\",\"plot_bgcolor\":\"#E5ECF6\",\"polar\":{\"bgcolor\":\"#E5ECF6\",\"angularaxis\":{\"gridcolor\":\"white\",\"linecolor\":\"white\",\"ticks\":\"\"},\"radialaxis\":{\"gridcolor\":\"white\",\"linecolor\":\"white\",\"ticks\":\"\"}},\"ternary\":{\"bgcolor\":\"#E5ECF6\",\"aaxis\":{\"gridcolor\":\"white\",\"linecolor\":\"white\",\"ticks\":\"\"},\"baxis\":{\"gridcolor\":\"white\",\"linecolor\":\"white\",\"ticks\":\"\"},\"caxis\":{\"gridcolor\":\"white\",\"linecolor\":\"white\",\"ticks\":\"\"}},\"coloraxis\":{\"colorbar\":{\"outlinewidth\":0,\"ticks\":\"\"}},\"colorscale\":{\"sequential\":[[0.0,\"#0d0887\"],[0.1111111111111111,\"#46039f\"],[0.2222222222222222,\"#7201a8\"],[0.3333333333333333,\"#9c179e\"],[0.4444444444444444,\"#bd3786\"],[0.5555555555555556,\"#d8576b\"],[0.6666666666666666,\"#ed7953\"],[0.7777777777777778,\"#fb9f3a\"],[0.8888888888888888,\"#fdca26\"],[1.0,\"#f0f921\"]],\"sequentialminus\":[[0.0,\"#0d0887\"],[0.1111111111111111,\"#46039f\"],[0.2222222222222222,\"#7201a8\"],[0.3333333333333333,\"#9c179e\"],[0.4444444444444444,\"#bd3786\"],[0.5555555555555556,\"#d8576b\"],[0.6666666666666666,\"#ed7953\"],[0.7777777777777778,\"#fb9f3a\"],[0.8888888888888888,\"#fdca26\"],[1.0,\"#f0f921\"]],\"diverging\":[[0,\"#8e0152\"],[0.1,\"#c51b7d\"],[0.2,\"#de77ae\"],[0.3,\"#f1b6da\"],[0.4,\"#fde0ef\"],[0.5,\"#f7f7f7\"],[0.6,\"#e6f5d0\"],[0.7,\"#b8e186\"],[0.8,\"#7fbc41\"],[0.9,\"#4d9221\"],[1,\"#276419\"]]},\"xaxis\":{\"gridcolor\":\"white\",\"linecolor\":\"white\",\"ticks\":\"\",\"title\":{\"standoff\":15},\"zerolinecolor\":\"white\",\"automargin\":true,\"zerolinewidth\":2},\"yaxis\":{\"gridcolor\":\"white\",\"linecolor\":\"white\",\"ticks\":\"\",\"title\":{\"standoff\":15},\"zerolinecolor\":\"white\",\"automargin\":true,\"zerolinewidth\":2},\"scene\":{\"xaxis\":{\"backgroundcolor\":\"#E5ECF6\",\"gridcolor\":\"white\",\"linecolor\":\"white\",\"showbackground\":true,\"ticks\":\"\",\"zerolinecolor\":\"white\",\"gridwidth\":2},\"yaxis\":{\"backgroundcolor\":\"#E5ECF6\",\"gridcolor\":\"white\",\"linecolor\":\"white\",\"showbackground\":true,\"ticks\":\"\",\"zerolinecolor\":\"white\",\"gridwidth\":2},\"zaxis\":{\"backgroundcolor\":\"#E5ECF6\",\"gridcolor\":\"white\",\"linecolor\":\"white\",\"showbackground\":true,\"ticks\":\"\",\"zerolinecolor\":\"white\",\"gridwidth\":2}},\"shapedefaults\":{\"line\":{\"color\":\"#2a3f5f\"}},\"annotationdefaults\":{\"arrowcolor\":\"#2a3f5f\",\"arrowhead\":0,\"arrowwidth\":1},\"geo\":{\"bgcolor\":\"white\",\"landcolor\":\"#E5ECF6\",\"subunitcolor\":\"white\",\"showland\":true,\"showlakes\":true,\"lakecolor\":\"white\"},\"title\":{\"x\":0.05},\"mapbox\":{\"style\":\"light\"}}},\"title\":{\"text\":\"Classes and their number in the dataset\",\"x\":0.5}},                        {\"responsive\": true}                    )                };                            </script>        </div>"
      ],
      "text/plain": [
       "Figure({\n",
       "    'data': [{'marker': {'color': 'cadetblue'},\n",
       "              'type': 'bar',\n",
       "              'width': [0.4, 0.4],\n",
       "              'x': array(['BTT', 'CC', 'DHD', 'DSD', 'DaC', 'HHL', 'none'], dtype=object),\n",
       "              'y': array([ 1615, 16441,   269,   509, 23472,  1390,  1617], dtype=int64)}],\n",
       "    'layout': {'template': '...', 'title': {'text': 'Classes and their number in the dataset', 'x': 0.5}}\n",
       "})"
      ]
     },
     "execution_count": 75,
     "metadata": {},
     "output_type": "execute_result"
    }
   ],
   "source": [
    "groups = data_Clean.groupby(by=Label).count()[A]\n",
    "fig = go.Figure()\n",
    "fig.add_trace(go.Bar(\n",
    "    x=groups.index,\n",
    "    y=groups,\n",
    "    marker_color='cadetblue',\n",
    "    width=[0.4, 0.4]))\n",
    "fig.update_layout(title='Classes and their number in the dataset', title_x=0.5)"
   ]
  },
  {
   "cell_type": "markdown",
   "metadata": {},
   "source": [
    "**Preprocessing**"
   ]
  },
  {
   "cell_type": "code",
   "execution_count": null,
   "metadata": {},
   "outputs": [],
   "source": [
    "def load_dicchar():\n",
    "    dic = {}\n",
    "    char1252 = 'à|á|ả|ã|ạ|ầ|ấ|ẩ|ẫ|ậ|ằ|ắ|ẳ|ẵ|ặ|è|é|ẻ|ẽ|ẹ|ề|ế|ể|ễ|ệ|ì|í|ỉ|ĩ|ị|ò|ó|ỏ|õ|ọ|ồ|ố|ổ|ỗ|ộ|ờ|ớ|ở|ỡ|ợ|ù|ú|ủ|ũ|ụ|ừ|ứ|ử|ữ|ự|ỳ|ý|ỷ|ỹ|ỵ|À|Á|Ả|Ã|Ạ|Ầ|Ấ|Ẩ|Ẫ|Ậ|Ằ|Ắ|Ẳ|Ẵ|Ặ|È|É|Ẻ|Ẽ|Ẹ|Ề|Ế|Ể|Ễ|Ệ|Ì|Í|Ỉ|Ĩ|Ị|Ò|Ó|Ỏ|Õ|Ọ|Ồ|Ố|Ổ|Ỗ|Ộ|Ờ|Ớ|Ở|Ỡ|Ợ|Ù|Ú|Ủ|Ũ|Ụ|Ừ|Ứ|Ử|Ữ|Ự|Ỳ|Ý|Ỷ|Ỹ|Ỵ'.split(\n",
    "        '|')\n",
    "    charutf8 = \"à|á|ả|ã|ạ|ầ|ấ|ẩ|ẫ|ậ|ằ|ắ|ẳ|ẵ|ặ|è|é|ẻ|ẽ|ẹ|ề|ế|ể|ễ|ệ|ì|í|ỉ|ĩ|ị|ò|ó|ỏ|õ|ọ|ồ|ố|ổ|ỗ|ộ|ờ|ớ|ở|ỡ|ợ|ù|ú|ủ|ũ|ụ|ừ|ứ|ử|ữ|ự|ỳ|ý|ỷ|ỹ|ỵ|À|Á|Ả|Ã|Ạ|Ầ|Ấ|Ẩ|Ẫ|Ậ|Ằ|Ắ|Ẳ|Ẵ|Ặ|È|É|Ẻ|Ẽ|Ẹ|Ề|Ế|Ể|Ễ|Ệ|Ì|Í|Ỉ|Ĩ|Ị|Ò|Ó|Ỏ|Õ|Ọ|Ồ|Ố|Ổ|Ỗ|Ộ|Ờ|Ớ|Ở|Ỡ|Ợ|Ù|Ú|Ủ|Ũ|Ụ|Ừ|Ứ|Ử|Ữ|Ự|Ỳ|Ý|Ỷ|Ỹ|Ỵ\".split(\n",
    "        '|')\n",
    "    for i in range(len(char1252)):\n",
    "        dic[char1252[i]] = charutf8[i]\n",
    "    return dic\n",
    "\n",
    "# Chuyển đổi mã kí tự 1252 sang UTF-8\n",
    "def covert_unicode(text):\n",
    "    dicchar = load_dicchar()\n",
    "    return re.sub(\n",
    "        r'à|á|ả|ã|ạ|ầ|ấ|ẩ|ẫ|ậ|ằ|ắ|ẳ|ẵ|ặ|è|é|ẻ|ẽ|ẹ|ề|ế|ể|ễ|ệ|ì|í|ỉ|ĩ|ị|ò|ó|ỏ|õ|ọ|ồ|ố|ổ|ỗ|ộ|ờ|ớ|ở|ỡ|ợ|ù|ú|ủ|ũ|ụ|ừ|ứ|ử|ữ|ự|ỳ|ý|ỷ|ỹ|ỵ|À|Á|Ả|Ã|Ạ|Ầ|Ấ|Ẩ|Ẫ|Ậ|Ằ|Ắ|Ẳ|Ẵ|Ặ|È|É|Ẻ|Ẽ|Ẹ|Ề|Ế|Ể|Ễ|Ệ|Ì|Í|Ỉ|Ĩ|Ị|Ò|Ó|Ỏ|Õ|Ọ|Ồ|Ố|Ổ|Ỗ|Ộ|Ờ|Ớ|Ở|Ỡ|Ợ|Ù|Ú|Ủ|Ũ|Ụ|Ừ|Ứ|Ử|Ữ|Ự|Ỳ|Ý|Ỷ|Ỹ|Ỵ',\n",
    "        lambda x: dicchar[x.group()], text)\n",
    "\n",
    "def text_preprocessing(document):\n",
    "    # Chuyển đổi mã kí tự 1252 sang UTF-8\n",
    "    document['Text'] = document['Text'].apply(covert_unicode)\n",
    "    # Đưa về dạng chữ thường\n",
    "    document['Text'] = document['Text'].str.lower()\n",
    "    # xóa các ký tự không cần thiết\n",
    "    document['Text'] = document['Text'].apply(lambda x: re.sub(r'[^\\w\\s]', '', str(x)))\n",
    "    document = document['Text'].apply(lambda y: re.sub(r'[^\\s\\wáàảãạăắằẳẵặâấầẩẫậéèẻẽẹêếềểễệóòỏõọôốồổỗộơớờởỡợíìỉĩịúùủũụưứừửữựýỳỷỹỵđ_]',' ',str(y)))\n",
    "    return document"
   ]
  },
  {
   "cell_type": "code",
   "execution_count": null,
   "metadata": {},
   "outputs": [
    {
     "name": "stdout",
     "output_type": "stream",
     "text": [
      "<class 'pandas.core.frame.DataFrame'>\n",
      "RangeIndex: 45313 entries, 0 to 45312\n",
      "Data columns (total 5 columns):\n",
      " #   Column                    Non-Null Count  Dtype \n",
      "---  ------                    --------------  ----- \n",
      " 0   Thực thể tham chiếu       45313 non-null  object\n",
      " 1   Quan hệ                   45313 non-null  object\n",
      " 2   Trước                     29417 non-null  object\n",
      " 3   Thực thể được tham chiếu  45313 non-null  object\n",
      " 4   Sau                       45313 non-null  object\n",
      "dtypes: object(5)\n",
      "memory usage: 1.7+ MB\n"
     ]
    },
    {
     "data": {
      "text/html": [
       "<div>\n",
       "<style scoped>\n",
       "    .dataframe tbody tr th:only-of-type {\n",
       "        vertical-align: middle;\n",
       "    }\n",
       "\n",
       "    .dataframe tbody tr th {\n",
       "        vertical-align: top;\n",
       "    }\n",
       "\n",
       "    .dataframe thead th {\n",
       "        text-align: right;\n",
       "    }\n",
       "</style>\n",
       "<table border=\"1\" class=\"dataframe\">\n",
       "  <thead>\n",
       "    <tr style=\"text-align: right;\">\n",
       "      <th></th>\n",
       "      <th>Thực thể tham chiếu</th>\n",
       "      <th>Quan hệ</th>\n",
       "      <th>Trước</th>\n",
       "      <th>Thực thể được tham chiếu</th>\n",
       "      <th>Sau</th>\n",
       "    </tr>\n",
       "  </thead>\n",
       "  <tbody>\n",
       "    <tr>\n",
       "      <th>0</th>\n",
       "      <td>Nghị định Về chế độ thôi việc đối với cán bộ, ...</td>\n",
       "      <td>CC</td>\n",
       "      <td>NaN</td>\n",
       "      <td>Luật tổ_chức Chính_phủ ngày 30 tháng 9 năm 1992</td>\n",
       "      <td></td>\n",
       "    </tr>\n",
       "    <tr>\n",
       "      <th>1</th>\n",
       "      <td>Nghị định Về chế độ thôi việc đối với cán bộ, ...</td>\n",
       "      <td>CC</td>\n",
       "      <td>NaN</td>\n",
       "      <td>Bộ_Luật Lao_động ngày 23 tháng 6 năm 1994</td>\n",
       "      <td></td>\n",
       "    </tr>\n",
       "    <tr>\n",
       "      <th>2</th>\n",
       "      <td>Nghị định Về chế độ thôi việc đối với cán bộ, ...</td>\n",
       "      <td>CC</td>\n",
       "      <td>NaN</td>\n",
       "      <td>Pháp_lệnh Cán_bộ , công_chức ngày 26/02 năm 1...</td>\n",
       "      <td></td>\n",
       "    </tr>\n",
       "    <tr>\n",
       "      <th>3</th>\n",
       "      <td>Nghị định Về chế độ thôi việc đối với cán bộ, ...</td>\n",
       "      <td>DaC</td>\n",
       "      <td>Những người được quy_định tại các khoản 2 , 3...</td>\n",
       "      <td>Pháp_lệnh Cán_bộ , công_chức</td>\n",
       "      <td></td>\n",
       "    </tr>\n",
       "    <tr>\n",
       "      <th>4</th>\n",
       "      <td>Nghị định Về chế độ thôi việc đối với cán bộ, ...</td>\n",
       "      <td>DaC</td>\n",
       "      <td>Cán_bộ , công_chức làm_việc ở những ngành_ngh...</td>\n",
       "      <td>Pháp_lệnh Cán_bộ , công_chức</td>\n",
       "      <td></td>\n",
       "    </tr>\n",
       "  </tbody>\n",
       "</table>\n",
       "</div>"
      ],
      "text/plain": [
       "                                 Thực thể tham chiếu Quan hệ  \\\n",
       "0  Nghị định Về chế độ thôi việc đối với cán bộ, ...      CC   \n",
       "1  Nghị định Về chế độ thôi việc đối với cán bộ, ...      CC   \n",
       "2  Nghị định Về chế độ thôi việc đối với cán bộ, ...      CC   \n",
       "3  Nghị định Về chế độ thôi việc đối với cán bộ, ...     DaC   \n",
       "4  Nghị định Về chế độ thôi việc đối với cán bộ, ...     DaC   \n",
       "\n",
       "                                               Trước  \\\n",
       "0                                                NaN   \n",
       "1                                                NaN   \n",
       "2                                                NaN   \n",
       "3   Những người được quy_định tại các khoản 2 , 3...   \n",
       "4   Cán_bộ , công_chức làm_việc ở những ngành_ngh...   \n",
       "\n",
       "                            Thực thể được tham chiếu Sau  \n",
       "0   Luật tổ_chức Chính_phủ ngày 30 tháng 9 năm 1992       \n",
       "1         Bộ_Luật Lao_động ngày 23 tháng 6 năm 1994       \n",
       "2   Pháp_lệnh Cán_bộ , công_chức ngày 26/02 năm 1...      \n",
       "3                      Pháp_lệnh Cán_bộ , công_chức       \n",
       "4                      Pháp_lệnh Cán_bộ , công_chức       "
      ]
     },
     "execution_count": 77,
     "metadata": {},
     "output_type": "execute_result"
    }
   ],
   "source": [
    "dt_clean =  data_Clean.loc[data_Clean[Label].isin(groups.index)].reset_index(drop=True)\n",
    "dt_clean.info()\n",
    "dt_clean.head()"
   ]
  },
  {
   "cell_type": "code",
   "execution_count": null,
   "metadata": {},
   "outputs": [
    {
     "data": {
      "text/html": [
       "<div>\n",
       "<style scoped>\n",
       "    .dataframe tbody tr th:only-of-type {\n",
       "        vertical-align: middle;\n",
       "    }\n",
       "\n",
       "    .dataframe tbody tr th {\n",
       "        vertical-align: top;\n",
       "    }\n",
       "\n",
       "    .dataframe thead th {\n",
       "        text-align: right;\n",
       "    }\n",
       "</style>\n",
       "<table border=\"1\" class=\"dataframe\">\n",
       "  <thead>\n",
       "    <tr style=\"text-align: right;\">\n",
       "      <th></th>\n",
       "      <th>Thực thể tham chiếu</th>\n",
       "      <th>Quan hệ</th>\n",
       "      <th>Trước</th>\n",
       "      <th>Thực thể được tham chiếu</th>\n",
       "      <th>Sau</th>\n",
       "      <th>Text</th>\n",
       "    </tr>\n",
       "  </thead>\n",
       "  <tbody>\n",
       "    <tr>\n",
       "      <th>0</th>\n",
       "      <td>Nghị định Về chế độ thôi việc đối với cán bộ, ...</td>\n",
       "      <td>CC</td>\n",
       "      <td>NaN</td>\n",
       "      <td>Luật tổ_chức Chính_phủ ngày 30 tháng 9 năm 1992</td>\n",
       "      <td></td>\n",
       "      <td>Nghị định Về chế độ thôi việc đối với cán bộ, ...</td>\n",
       "    </tr>\n",
       "    <tr>\n",
       "      <th>1</th>\n",
       "      <td>Nghị định Về chế độ thôi việc đối với cán bộ, ...</td>\n",
       "      <td>CC</td>\n",
       "      <td>NaN</td>\n",
       "      <td>Bộ_Luật Lao_động ngày 23 tháng 6 năm 1994</td>\n",
       "      <td></td>\n",
       "      <td>Nghị định Về chế độ thôi việc đối với cán bộ, ...</td>\n",
       "    </tr>\n",
       "    <tr>\n",
       "      <th>2</th>\n",
       "      <td>Nghị định Về chế độ thôi việc đối với cán bộ, ...</td>\n",
       "      <td>CC</td>\n",
       "      <td>NaN</td>\n",
       "      <td>Pháp_lệnh Cán_bộ , công_chức ngày 26/02 năm 1...</td>\n",
       "      <td></td>\n",
       "      <td>Nghị định Về chế độ thôi việc đối với cán bộ, ...</td>\n",
       "    </tr>\n",
       "    <tr>\n",
       "      <th>3</th>\n",
       "      <td>Nghị định Về chế độ thôi việc đối với cán bộ, ...</td>\n",
       "      <td>DaC</td>\n",
       "      <td>Những người được quy_định tại các khoản 2 , 3...</td>\n",
       "      <td>Pháp_lệnh Cán_bộ , công_chức</td>\n",
       "      <td></td>\n",
       "      <td>Nghị định Về chế độ thôi việc đối với cán bộ, ...</td>\n",
       "    </tr>\n",
       "    <tr>\n",
       "      <th>4</th>\n",
       "      <td>Nghị định Về chế độ thôi việc đối với cán bộ, ...</td>\n",
       "      <td>DaC</td>\n",
       "      <td>Cán_bộ , công_chức làm_việc ở những ngành_ngh...</td>\n",
       "      <td>Pháp_lệnh Cán_bộ , công_chức</td>\n",
       "      <td></td>\n",
       "      <td>Nghị định Về chế độ thôi việc đối với cán bộ, ...</td>\n",
       "    </tr>\n",
       "  </tbody>\n",
       "</table>\n",
       "</div>"
      ],
      "text/plain": [
       "                                 Thực thể tham chiếu Quan hệ  \\\n",
       "0  Nghị định Về chế độ thôi việc đối với cán bộ, ...      CC   \n",
       "1  Nghị định Về chế độ thôi việc đối với cán bộ, ...      CC   \n",
       "2  Nghị định Về chế độ thôi việc đối với cán bộ, ...      CC   \n",
       "3  Nghị định Về chế độ thôi việc đối với cán bộ, ...     DaC   \n",
       "4  Nghị định Về chế độ thôi việc đối với cán bộ, ...     DaC   \n",
       "\n",
       "                                               Trước  \\\n",
       "0                                                NaN   \n",
       "1                                                NaN   \n",
       "2                                                NaN   \n",
       "3   Những người được quy_định tại các khoản 2 , 3...   \n",
       "4   Cán_bộ , công_chức làm_việc ở những ngành_ngh...   \n",
       "\n",
       "                            Thực thể được tham chiếu Sau  \\\n",
       "0   Luật tổ_chức Chính_phủ ngày 30 tháng 9 năm 1992        \n",
       "1         Bộ_Luật Lao_động ngày 23 tháng 6 năm 1994        \n",
       "2   Pháp_lệnh Cán_bộ , công_chức ngày 26/02 năm 1...       \n",
       "3                      Pháp_lệnh Cán_bộ , công_chức        \n",
       "4                      Pháp_lệnh Cán_bộ , công_chức        \n",
       "\n",
       "                                                Text  \n",
       "0  Nghị định Về chế độ thôi việc đối với cán bộ, ...  \n",
       "1  Nghị định Về chế độ thôi việc đối với cán bộ, ...  \n",
       "2  Nghị định Về chế độ thôi việc đối với cán bộ, ...  \n",
       "3  Nghị định Về chế độ thôi việc đối với cán bộ, ...  \n",
       "4  Nghị định Về chế độ thôi việc đối với cán bộ, ...  "
      ]
     },
     "execution_count": 78,
     "metadata": {},
     "output_type": "execute_result"
    }
   ],
   "source": [
    "\n",
    "dt_clean['Text'] = dt_clean.apply(lambda d: f'{d[A]} {d[Before_B]} {d[B]} {d[After_B]}'.strip(), axis=1)\n",
    "\n",
    "dt_clean.head()"
   ]
  },
  {
   "cell_type": "code",
   "execution_count": 11,
   "metadata": {},
   "outputs": [
    {
     "data": {
      "text/html": [
       "<div>\n",
       "<style scoped>\n",
       "    .dataframe tbody tr th:only-of-type {\n",
       "        vertical-align: middle;\n",
       "    }\n",
       "\n",
       "    .dataframe tbody tr th {\n",
       "        vertical-align: top;\n",
       "    }\n",
       "\n",
       "    .dataframe thead th {\n",
       "        text-align: right;\n",
       "    }\n",
       "</style>\n",
       "<table border=\"1\" class=\"dataframe\">\n",
       "  <thead>\n",
       "    <tr style=\"text-align: right;\">\n",
       "      <th></th>\n",
       "      <th>Text</th>\n",
       "      <th>Quan hệ</th>\n",
       "    </tr>\n",
       "  </thead>\n",
       "  <tbody>\n",
       "    <tr>\n",
       "      <th>0</th>\n",
       "      <td>Nghị định Về chế độ thôi việc đối với cán bộ, ...</td>\n",
       "      <td>CC</td>\n",
       "    </tr>\n",
       "    <tr>\n",
       "      <th>1</th>\n",
       "      <td>Nghị định Về chế độ thôi việc đối với cán bộ, ...</td>\n",
       "      <td>CC</td>\n",
       "    </tr>\n",
       "    <tr>\n",
       "      <th>2</th>\n",
       "      <td>Nghị định Về chế độ thôi việc đối với cán bộ, ...</td>\n",
       "      <td>CC</td>\n",
       "    </tr>\n",
       "    <tr>\n",
       "      <th>3</th>\n",
       "      <td>Nghị định Về chế độ thôi việc đối với cán bộ, ...</td>\n",
       "      <td>DaC</td>\n",
       "    </tr>\n",
       "    <tr>\n",
       "      <th>4</th>\n",
       "      <td>Nghị định Về chế độ thôi việc đối với cán bộ, ...</td>\n",
       "      <td>DaC</td>\n",
       "    </tr>\n",
       "  </tbody>\n",
       "</table>\n",
       "</div>"
      ],
      "text/plain": [
       "                                                Text Quan hệ\n",
       "0  Nghị định Về chế độ thôi việc đối với cán bộ, ...      CC\n",
       "1  Nghị định Về chế độ thôi việc đối với cán bộ, ...      CC\n",
       "2  Nghị định Về chế độ thôi việc đối với cán bộ, ...      CC\n",
       "3  Nghị định Về chế độ thôi việc đối với cán bộ, ...     DaC\n",
       "4  Nghị định Về chế độ thôi việc đối với cán bộ, ...     DaC"
      ]
     },
     "execution_count": 11,
     "metadata": {},
     "output_type": "execute_result"
    }
   ],
   "source": [
    "dt_preprocess =  dt_clean[['Text', 'Quan hệ']].copy()\n",
    "dt_preprocess.head()\n"
   ]
  },
  {
   "cell_type": "code",
   "execution_count": 12,
   "metadata": {},
   "outputs": [
    {
     "data": {
      "text/html": [
       "<div>\n",
       "<style scoped>\n",
       "    .dataframe tbody tr th:only-of-type {\n",
       "        vertical-align: middle;\n",
       "    }\n",
       "\n",
       "    .dataframe tbody tr th {\n",
       "        vertical-align: top;\n",
       "    }\n",
       "\n",
       "    .dataframe thead th {\n",
       "        text-align: right;\n",
       "    }\n",
       "</style>\n",
       "<table border=\"1\" class=\"dataframe\">\n",
       "  <thead>\n",
       "    <tr style=\"text-align: right;\">\n",
       "      <th></th>\n",
       "      <th>Text</th>\n",
       "      <th>Quan hệ</th>\n",
       "    </tr>\n",
       "  </thead>\n",
       "  <tbody>\n",
       "    <tr>\n",
       "      <th>0</th>\n",
       "      <td>nghị định về chế độ thôi việc đối với cán bộ c...</td>\n",
       "      <td>CC</td>\n",
       "    </tr>\n",
       "    <tr>\n",
       "      <th>1</th>\n",
       "      <td>nghị định về chế độ thôi việc đối với cán bộ c...</td>\n",
       "      <td>CC</td>\n",
       "    </tr>\n",
       "    <tr>\n",
       "      <th>2</th>\n",
       "      <td>nghị định về chế độ thôi việc đối với cán bộ c...</td>\n",
       "      <td>CC</td>\n",
       "    </tr>\n",
       "    <tr>\n",
       "      <th>3</th>\n",
       "      <td>nghị định về chế độ thôi việc đối với cán bộ c...</td>\n",
       "      <td>DaC</td>\n",
       "    </tr>\n",
       "    <tr>\n",
       "      <th>4</th>\n",
       "      <td>nghị định về chế độ thôi việc đối với cán bộ c...</td>\n",
       "      <td>DaC</td>\n",
       "    </tr>\n",
       "  </tbody>\n",
       "</table>\n",
       "</div>"
      ],
      "text/plain": [
       "                                                Text Quan hệ\n",
       "0  nghị định về chế độ thôi việc đối với cán bộ c...      CC\n",
       "1  nghị định về chế độ thôi việc đối với cán bộ c...      CC\n",
       "2  nghị định về chế độ thôi việc đối với cán bộ c...      CC\n",
       "3  nghị định về chế độ thôi việc đối với cán bộ c...     DaC\n",
       "4  nghị định về chế độ thôi việc đối với cán bộ c...     DaC"
      ]
     },
     "execution_count": 12,
     "metadata": {},
     "output_type": "execute_result"
    }
   ],
   "source": [
    "dt_preprocess['Text'] = text_preprocessing(dt_preprocess)\n",
    "dt_preprocess.head()"
   ]
  },
  {
   "cell_type": "code",
   "execution_count": 46,
   "metadata": {},
   "outputs": [
    {
     "name": "stdout",
     "output_type": "stream",
     "text": [
      "<class 'pandas.core.frame.DataFrame'>\n",
      "Index: 100 entries, 7341 to 5589\n",
      "Data columns (total 2 columns):\n",
      " #   Column   Non-Null Count  Dtype \n",
      "---  ------   --------------  ----- \n",
      " 0   Text     100 non-null    object\n",
      " 1   Quan hệ  100 non-null    object\n",
      "dtypes: object(2)\n",
      "memory usage: 2.3+ KB\n"
     ]
    },
    {
     "data": {
      "text/plain": [
       "array(['DaC', 'DSD', 'CC', 'BTT', 'HHL', 'DHD', 'none'], dtype=object)"
      ]
     },
     "execution_count": 46,
     "metadata": {},
     "output_type": "execute_result"
    }
   ],
   "source": [
    "# Lặp lại cho đến khi đủ 100 mẫu với đủ 7 nhãn\n",
    "\n",
    "sampled_df = pd.DataFrame()\n",
    "while True:\n",
    "    sampled_df = dt_preprocess.sample(n=100, random_state=np.random.randint(0, 10000))\n",
    "    unique_labels = sampled_df['Quan hệ'].unique()\n",
    "    if len(unique_labels) == 7:\n",
    "        break\n",
    "\n",
    "# Kiểm tra lại số lượng mẫu cho mỗi nhãn trong dữ liệu đã lấy\n",
    "sampled_df.info()\n",
    "sampled_df['Quan hệ'].unique()"
   ]
  },
  {
   "cell_type": "code",
   "execution_count": 79,
   "metadata": {},
   "outputs": [],
   "source": [
    "def tokenization(data):\n",
    "    Text_col = data\n",
    "    tokenizer = Tokenizer(split=' ')\n",
    "    tokenizer.fit_on_texts(Text_col)\n",
    "    words_to_index = tokenizer.word_index\n",
    "    vocab_size = len(words_to_index) + 1\n",
    "\n",
    "    # chuyển đổi dữ liệu văn bản thành các chuỗi số\n",
    "    tokenizer_seq = tokenizer.texts_to_sequences(Text_col)\n",
    "\n",
    "    # Đảm bảo mỗi sequece có cùng độ dài\n",
    "    # 'post' có nghĩa là thêm padding vào cuối mỗi sequence\n",
    "    # 'pre' có nghĩa là thêm padding vào đầu mỗi sequence\n",
    "    tokenizer_pad = pad_sequences(tokenizer_seq, padding='pre', truncating=\"post\", maxlen=250)\n",
    "\n",
    "    return tokenizer_pad, vocab_size, words_to_index\n",
    "\n",
    "\n",
    "\n",
    "def create_model(max_length, lstm_unit, dropout, classes, vocab_size, words_to_index):\n",
    "    embedding_dim = 100  # Kích thước nhúng\n",
    "\n",
    "\n",
    "    ft = fasttext.load_model('model/fasttext/vbpl_fasttext_100d.bin')\n",
    "    embed_vector_size = ft.get_word_vector('của').shape[0]\n",
    "\n",
    "    embed_vector_matrix = np.zeros((vocab_size, embed_vector_size))\n",
    "\n",
    "    for word, i in words_to_index.items():\n",
    "        embedding_vector = ft.get_word_vector(word)\n",
    "        if any(embedding_vector):\n",
    "            embed_vector_matrix[i] = embedding_vector\n",
    "        else:\n",
    "            embed_vector_matrix[i] = np.random.uniform(low=-1, high=1, size= embed_vector_size)\n",
    "\n",
    "    embedding = Embedding(input_dim=vocab_size, output_dim=embed_vector_size,\n",
    "                        input_length=max_length, weights=[embed_vector_matrix], trainable=False)\n",
    "    \n",
    "\n",
    "    lstm_units = lstm_unit  # Số đơn vị LSTM\n",
    "    dropout_val = dropout\n",
    "\n",
    "    model = Sequential()\n",
    "    model.add(embedding)\n",
    "    model.add(LSTM(lstm_units, return_sequences=True, dropout=dropout_val))\n",
    "    model.add(LSTM(lstm_units, return_sequences=True, dropout=dropout_val))\n",
    "    model.add(LSTM(lstm_units, return_sequences=True, dropout=dropout_val))\n",
    "    model.add(SeqSelfAttention())\n",
    "    model.add(Flatten())\n",
    "    model.add(Dense(classes, activation=\"softmax\"))\n",
    "\n",
    "    # Model compiling\n",
    "    model.compile(optimizer='adam', loss='sparse_categorical_crossentropy', metrics=['accuracy'])\n",
    "\n",
    "    return model\n",
    "    \n",
    "    \n",
    "    "
   ]
  },
  {
   "cell_type": "code",
   "execution_count": 37,
   "metadata": {},
   "outputs": [
    {
     "name": "stderr",
     "output_type": "stream",
     "text": [
      "c:\\Users\\Administrator\\AppData\\Local\\Programs\\Python\\Python311\\Lib\\site-packages\\keras\\src\\initializers\\initializers.py:120: UserWarning:\n",
      "\n",
      "The initializer GlorotNormal is unseeded and being called multiple times, which will return identical values each time (even if the initializer is unseeded). Please update your code to provide a seed to the initializer, or avoid using the same initializer instance more than once.\n",
      "\n"
     ]
    },
    {
     "name": "stdout",
     "output_type": "stream",
     "text": [
      "WARNING:tensorflow:From c:\\Users\\Administrator\\AppData\\Local\\Programs\\Python\\Python311\\Lib\\site-packages\\keras\\src\\optimizers\\__init__.py:309: The name tf.train.Optimizer is deprecated. Please use tf.compat.v1.train.Optimizer instead.\n",
      "\n",
      "Epoch 1/10\n",
      "WARNING:tensorflow:From c:\\Users\\Administrator\\AppData\\Local\\Programs\\Python\\Python311\\Lib\\site-packages\\keras\\src\\utils\\tf_utils.py:492: The name tf.ragged.RaggedTensorValue is deprecated. Please use tf.compat.v1.ragged.RaggedTensorValue instead.\n",
      "\n",
      "WARNING:tensorflow:From c:\\Users\\Administrator\\AppData\\Local\\Programs\\Python\\Python311\\Lib\\site-packages\\keras\\src\\engine\\base_layer_utils.py:384: The name tf.executing_eagerly_outside_functions is deprecated. Please use tf.compat.v1.executing_eagerly_outside_functions instead.\n",
      "\n",
      "5/5 [==============================] - ETA: 0s - loss: 1.6593 - accuracy: 0.4267\n",
      "Epoch 1: saving model to checkpointvbpl_ft\\cp.ckpt\n",
      "5/5 [==============================] - 25s 3s/step - loss: 1.6593 - accuracy: 0.4267 - val_loss: 1.0305 - val_accuracy: 0.5400\n",
      "Epoch 2/10\n",
      "5/5 [==============================] - ETA: 0s - loss: 1.1344 - accuracy: 0.5267\n",
      "Epoch 2: saving model to checkpointvbpl_ft\\cp.ckpt\n",
      "5/5 [==============================] - 11s 2s/step - loss: 1.1344 - accuracy: 0.5267 - val_loss: 1.0377 - val_accuracy: 0.5400\n",
      "Epoch 3/10\n",
      "5/5 [==============================] - ETA: 0s - loss: 1.0533 - accuracy: 0.5267\n",
      "Epoch 3: saving model to checkpointvbpl_ft\\cp.ckpt\n",
      "5/5 [==============================] - 11s 2s/step - loss: 1.0533 - accuracy: 0.5267 - val_loss: 0.9705 - val_accuracy: 0.5400\n",
      "Epoch 4/10\n",
      "5/5 [==============================] - ETA: 0s - loss: 0.9857 - accuracy: 0.5317\n",
      "Epoch 4: saving model to checkpointvbpl_ft\\cp.ckpt\n",
      "5/5 [==============================] - 11s 2s/step - loss: 0.9857 - accuracy: 0.5317 - val_loss: 0.9010 - val_accuracy: 0.5700\n",
      "Epoch 5/10\n",
      "5/5 [==============================] - ETA: 0s - loss: 0.8549 - accuracy: 0.6667\n",
      "Epoch 5: saving model to checkpointvbpl_ft\\cp.ckpt\n",
      "5/5 [==============================] - 11s 2s/step - loss: 0.8549 - accuracy: 0.6667 - val_loss: 0.7739 - val_accuracy: 0.7700\n",
      "Epoch 6/10\n",
      "5/5 [==============================] - ETA: 0s - loss: 0.7414 - accuracy: 0.8050\n",
      "Epoch 6: saving model to checkpointvbpl_ft\\cp.ckpt\n",
      "5/5 [==============================] - 11s 2s/step - loss: 0.7414 - accuracy: 0.8050 - val_loss: 0.7727 - val_accuracy: 0.7900\n",
      "Epoch 7/10\n",
      "5/5 [==============================] - ETA: 0s - loss: 0.6764 - accuracy: 0.8300\n",
      "Epoch 7: saving model to checkpointvbpl_ft\\cp.ckpt\n",
      "5/5 [==============================] - 11s 2s/step - loss: 0.6764 - accuracy: 0.8300 - val_loss: 0.6965 - val_accuracy: 0.7900\n",
      "Epoch 8/10\n",
      "5/5 [==============================] - ETA: 0s - loss: 0.6224 - accuracy: 0.8167\n",
      "Epoch 8: saving model to checkpointvbpl_ft\\cp.ckpt\n",
      "5/5 [==============================] - 11s 2s/step - loss: 0.6224 - accuracy: 0.8167 - val_loss: 0.6684 - val_accuracy: 0.8200\n",
      "Epoch 9/10\n",
      "5/5 [==============================] - ETA: 0s - loss: 0.5722 - accuracy: 0.8400\n",
      "Epoch 9: saving model to checkpointvbpl_ft\\cp.ckpt\n",
      "5/5 [==============================] - 11s 2s/step - loss: 0.5722 - accuracy: 0.8400 - val_loss: 0.6071 - val_accuracy: 0.8000\n",
      "Epoch 10/10\n",
      "5/5 [==============================] - ETA: 0s - loss: 0.5177 - accuracy: 0.8617\n",
      "Epoch 10: saving model to checkpointvbpl_ft\\cp.ckpt\n",
      "5/5 [==============================] - 11s 2s/step - loss: 0.5177 - accuracy: 0.8617 - val_loss: 0.5877 - val_accuracy: 0.8300\n",
      "7/7 [==============================] - 2s 231ms/step - loss: 0.8376 - accuracy: 0.7750\n",
      "Best accuracy: 0.7749999761581421\n",
      "Best parameters: {'lstm_unit': 32, 'dropout': 0}\n",
      "----------------------------------\n",
      "Epoch 1/10\n",
      "5/5 [==============================] - ETA: 0s - loss: 1.6739 - accuracy: 0.5083\n",
      "Epoch 1: saving model to checkpointvbpl_ft\\cp.ckpt\n",
      "5/5 [==============================] - 20s 3s/step - loss: 1.6739 - accuracy: 0.5083 - val_loss: 1.0318 - val_accuracy: 0.5400\n",
      "Epoch 2/10\n",
      "5/5 [==============================] - ETA: 0s - loss: 1.1296 - accuracy: 0.5267\n",
      "Epoch 2: saving model to checkpointvbpl_ft\\cp.ckpt\n",
      "5/5 [==============================] - 11s 2s/step - loss: 1.1296 - accuracy: 0.5267 - val_loss: 0.9865 - val_accuracy: 0.5500\n",
      "Epoch 3/10\n",
      "5/5 [==============================] - ETA: 0s - loss: 1.0320 - accuracy: 0.7350\n",
      "Epoch 3: saving model to checkpointvbpl_ft\\cp.ckpt\n",
      "5/5 [==============================] - 11s 2s/step - loss: 1.0320 - accuracy: 0.7350 - val_loss: 0.9272 - val_accuracy: 0.5750\n",
      "Epoch 4/10\n",
      "5/5 [==============================] - ETA: 0s - loss: 0.9415 - accuracy: 0.5667\n",
      "Epoch 4: saving model to checkpointvbpl_ft\\cp.ckpt\n",
      "5/5 [==============================] - 11s 2s/step - loss: 0.9415 - accuracy: 0.5667 - val_loss: 0.8101 - val_accuracy: 0.7850\n",
      "Epoch 5/10\n",
      "5/5 [==============================] - ETA: 0s - loss: 0.7724 - accuracy: 0.8017\n",
      "Epoch 5: saving model to checkpointvbpl_ft\\cp.ckpt\n",
      "5/5 [==============================] - 11s 2s/step - loss: 0.7724 - accuracy: 0.8017 - val_loss: 0.7338 - val_accuracy: 0.7900\n",
      "Epoch 6/10\n",
      "5/5 [==============================] - ETA: 0s - loss: 0.6914 - accuracy: 0.8183\n",
      "Epoch 6: saving model to checkpointvbpl_ft\\cp.ckpt\n",
      "5/5 [==============================] - 11s 2s/step - loss: 0.6914 - accuracy: 0.8183 - val_loss: 0.7133 - val_accuracy: 0.8050\n",
      "Epoch 7/10\n",
      "5/5 [==============================] - ETA: 0s - loss: 0.6339 - accuracy: 0.8267\n",
      "Epoch 7: saving model to checkpointvbpl_ft\\cp.ckpt\n",
      "5/5 [==============================] - 11s 2s/step - loss: 0.6339 - accuracy: 0.8267 - val_loss: 0.6791 - val_accuracy: 0.8050\n",
      "Epoch 8/10\n",
      "5/5 [==============================] - ETA: 0s - loss: 0.5960 - accuracy: 0.8483\n",
      "Epoch 8: saving model to checkpointvbpl_ft\\cp.ckpt\n",
      "5/5 [==============================] - 11s 2s/step - loss: 0.5960 - accuracy: 0.8483 - val_loss: 0.6354 - val_accuracy: 0.8150\n",
      "Epoch 9/10\n",
      "5/5 [==============================] - ETA: 0s - loss: 0.5493 - accuracy: 0.8500\n",
      "Epoch 9: saving model to checkpointvbpl_ft\\cp.ckpt\n",
      "5/5 [==============================] - 11s 2s/step - loss: 0.5493 - accuracy: 0.8500 - val_loss: 0.6261 - val_accuracy: 0.8100\n",
      "Epoch 10/10\n",
      "5/5 [==============================] - ETA: 0s - loss: 0.5094 - accuracy: 0.8700\n",
      "Epoch 10: saving model to checkpointvbpl_ft\\cp.ckpt\n",
      "5/5 [==============================] - 11s 2s/step - loss: 0.5094 - accuracy: 0.8700 - val_loss: 0.5806 - val_accuracy: 0.8450\n",
      "7/7 [==============================] - 2s 237ms/step - loss: 0.7244 - accuracy: 0.7950\n",
      "Best accuracy: 0.7950000166893005\n",
      "Best parameters: {'lstm_unit': 32, 'dropout': 0.1}\n",
      "----------------------------------\n",
      "Epoch 1/10\n",
      "5/5 [==============================] - ETA: 0s - loss: 1.6767 - accuracy: 0.4767\n",
      "Epoch 1: saving model to checkpointvbpl_ft\\cp.ckpt\n",
      "5/5 [==============================] - 20s 3s/step - loss: 1.6767 - accuracy: 0.4767 - val_loss: 1.0542 - val_accuracy: 0.5400\n",
      "Epoch 2/10\n",
      "5/5 [==============================] - ETA: 0s - loss: 1.1500 - accuracy: 0.5267\n",
      "Epoch 2: saving model to checkpointvbpl_ft\\cp.ckpt\n",
      "5/5 [==============================] - 11s 2s/step - loss: 1.1500 - accuracy: 0.5267 - val_loss: 1.0329 - val_accuracy: 0.5350\n",
      "Epoch 3/10\n",
      "5/5 [==============================] - ETA: 0s - loss: 1.0724 - accuracy: 0.6533\n",
      "Epoch 3: saving model to checkpointvbpl_ft\\cp.ckpt\n",
      "5/5 [==============================] - 11s 2s/step - loss: 1.0724 - accuracy: 0.6533 - val_loss: 0.9132 - val_accuracy: 0.5350\n",
      "Epoch 4/10\n",
      "5/5 [==============================] - ETA: 0s - loss: 0.9662 - accuracy: 0.5783\n",
      "Epoch 4: saving model to checkpointvbpl_ft\\cp.ckpt\n",
      "5/5 [==============================] - 11s 2s/step - loss: 0.9662 - accuracy: 0.5783 - val_loss: 0.8399 - val_accuracy: 0.7650\n",
      "Epoch 5/10\n",
      "5/5 [==============================] - ETA: 0s - loss: 0.7870 - accuracy: 0.8033\n",
      "Epoch 5: saving model to checkpointvbpl_ft\\cp.ckpt\n",
      "5/5 [==============================] - 11s 2s/step - loss: 0.7870 - accuracy: 0.8033 - val_loss: 0.6902 - val_accuracy: 0.8000\n",
      "Epoch 6/10\n",
      "5/5 [==============================] - ETA: 0s - loss: 0.6862 - accuracy: 0.8183\n",
      "Epoch 6: saving model to checkpointvbpl_ft\\cp.ckpt\n",
      "5/5 [==============================] - 11s 2s/step - loss: 0.6862 - accuracy: 0.8183 - val_loss: 0.7361 - val_accuracy: 0.7950\n",
      "Epoch 7/10\n",
      "5/5 [==============================] - ETA: 0s - loss: 0.6340 - accuracy: 0.8300\n",
      "Epoch 7: saving model to checkpointvbpl_ft\\cp.ckpt\n",
      "5/5 [==============================] - 11s 2s/step - loss: 0.6340 - accuracy: 0.8300 - val_loss: 0.6798 - val_accuracy: 0.8100\n",
      "Epoch 8/10\n",
      "5/5 [==============================] - ETA: 0s - loss: 0.5910 - accuracy: 0.8567\n",
      "Epoch 8: saving model to checkpointvbpl_ft\\cp.ckpt\n",
      "5/5 [==============================] - 11s 2s/step - loss: 0.5910 - accuracy: 0.8567 - val_loss: 0.6418 - val_accuracy: 0.8000\n",
      "Epoch 9/10\n",
      "5/5 [==============================] - ETA: 0s - loss: 0.5587 - accuracy: 0.8533\n",
      "Epoch 9: saving model to checkpointvbpl_ft\\cp.ckpt\n",
      "5/5 [==============================] - 11s 2s/step - loss: 0.5587 - accuracy: 0.8533 - val_loss: 0.6166 - val_accuracy: 0.8200\n",
      "Epoch 10/10\n",
      "5/5 [==============================] - ETA: 0s - loss: 0.5269 - accuracy: 0.8683\n",
      "Epoch 10: saving model to checkpointvbpl_ft\\cp.ckpt\n",
      "5/5 [==============================] - 11s 2s/step - loss: 0.5269 - accuracy: 0.8683 - val_loss: 0.6036 - val_accuracy: 0.8350\n",
      "7/7 [==============================] - 2s 241ms/step - loss: 0.8123 - accuracy: 0.7900\n",
      "Best accuracy: 0.7950000166893005\n",
      "Best parameters: {'lstm_unit': 32, 'dropout': 0.1}\n",
      "----------------------------------\n",
      "Epoch 1/10\n",
      "5/5 [==============================] - ETA: 0s - loss: 1.7425 - accuracy: 0.5617\n",
      "Epoch 1: saving model to checkpointvbpl_ft\\cp.ckpt\n",
      "5/5 [==============================] - 20s 3s/step - loss: 1.7425 - accuracy: 0.5617 - val_loss: 1.1309 - val_accuracy: 0.7450\n",
      "Epoch 2/10\n",
      "5/5 [==============================] - ETA: 0s - loss: 1.1157 - accuracy: 0.6417\n",
      "Epoch 2: saving model to checkpointvbpl_ft\\cp.ckpt\n",
      "5/5 [==============================] - 11s 2s/step - loss: 1.1157 - accuracy: 0.6417 - val_loss: 0.8893 - val_accuracy: 0.7850\n",
      "Epoch 3/10\n",
      "5/5 [==============================] - ETA: 0s - loss: 0.9224 - accuracy: 0.7817\n",
      "Epoch 3: saving model to checkpointvbpl_ft\\cp.ckpt\n",
      "5/5 [==============================] - 11s 2s/step - loss: 0.9224 - accuracy: 0.7817 - val_loss: 0.7077 - val_accuracy: 0.7900\n",
      "Epoch 4/10\n",
      "5/5 [==============================] - ETA: 0s - loss: 0.7502 - accuracy: 0.8100\n",
      "Epoch 4: saving model to checkpointvbpl_ft\\cp.ckpt\n",
      "5/5 [==============================] - 11s 2s/step - loss: 0.7502 - accuracy: 0.8100 - val_loss: 0.6679 - val_accuracy: 0.7900\n",
      "Epoch 5/10\n",
      "5/5 [==============================] - ETA: 0s - loss: 0.6647 - accuracy: 0.8317\n",
      "Epoch 5: saving model to checkpointvbpl_ft\\cp.ckpt\n",
      "5/5 [==============================] - 11s 2s/step - loss: 0.6647 - accuracy: 0.8317 - val_loss: 0.6387 - val_accuracy: 0.8050\n",
      "Epoch 6/10\n",
      "5/5 [==============================] - ETA: 0s - loss: 0.6256 - accuracy: 0.8450\n",
      "Epoch 6: saving model to checkpointvbpl_ft\\cp.ckpt\n",
      "5/5 [==============================] - 11s 2s/step - loss: 0.6256 - accuracy: 0.8450 - val_loss: 0.5989 - val_accuracy: 0.8200\n",
      "Epoch 7/10\n",
      "5/5 [==============================] - ETA: 0s - loss: 0.5784 - accuracy: 0.8500\n",
      "Epoch 7: saving model to checkpointvbpl_ft\\cp.ckpt\n",
      "5/5 [==============================] - 12s 2s/step - loss: 0.5784 - accuracy: 0.8500 - val_loss: 0.5485 - val_accuracy: 0.8450\n",
      "Epoch 8/10\n",
      "5/5 [==============================] - ETA: 0s - loss: 0.5422 - accuracy: 0.8567\n",
      "Epoch 8: saving model to checkpointvbpl_ft\\cp.ckpt\n",
      "5/5 [==============================] - 11s 2s/step - loss: 0.5422 - accuracy: 0.8567 - val_loss: 0.5189 - val_accuracy: 0.8650\n",
      "Epoch 9/10\n",
      "5/5 [==============================] - ETA: 0s - loss: 0.5239 - accuracy: 0.8633\n",
      "Epoch 9: saving model to checkpointvbpl_ft\\cp.ckpt\n",
      "5/5 [==============================] - 11s 2s/step - loss: 0.5239 - accuracy: 0.8633 - val_loss: 0.4998 - val_accuracy: 0.8650\n",
      "Epoch 10/10\n",
      "5/5 [==============================] - ETA: 0s - loss: 0.4893 - accuracy: 0.8650\n",
      "Epoch 10: saving model to checkpointvbpl_ft\\cp.ckpt\n",
      "5/5 [==============================] - 11s 2s/step - loss: 0.4893 - accuracy: 0.8650 - val_loss: 0.4973 - val_accuracy: 0.8650\n",
      "7/7 [==============================] - 2s 246ms/step - loss: 0.7374 - accuracy: 0.8000\n",
      "Best accuracy: 0.800000011920929\n",
      "Best parameters: {'lstm_unit': 32, 'dropout': 0.3}\n",
      "----------------------------------\n",
      "Epoch 1/10\n",
      "5/5 [==============================] - ETA: 0s - loss: 1.7875 - accuracy: 0.4967\n",
      "Epoch 1: saving model to checkpointvbpl_ft\\cp.ckpt\n",
      "5/5 [==============================] - 20s 3s/step - loss: 1.7875 - accuracy: 0.4967 - val_loss: 1.2156 - val_accuracy: 0.5500\n",
      "Epoch 2/10\n",
      "5/5 [==============================] - ETA: 0s - loss: 1.1605 - accuracy: 0.5300\n",
      "Epoch 2: saving model to checkpointvbpl_ft\\cp.ckpt\n",
      "5/5 [==============================] - 11s 2s/step - loss: 1.1605 - accuracy: 0.5300 - val_loss: 0.9434 - val_accuracy: 0.7650\n",
      "Epoch 3/10\n",
      "5/5 [==============================] - ETA: 0s - loss: 0.9724 - accuracy: 0.7917\n",
      "Epoch 3: saving model to checkpointvbpl_ft\\cp.ckpt\n",
      "5/5 [==============================] - 11s 2s/step - loss: 0.9724 - accuracy: 0.7917 - val_loss: 0.7052 - val_accuracy: 0.7750\n",
      "Epoch 4/10\n",
      "5/5 [==============================] - ETA: 0s - loss: 0.7314 - accuracy: 0.8117\n",
      "Epoch 4: saving model to checkpointvbpl_ft\\cp.ckpt\n",
      "5/5 [==============================] - 11s 2s/step - loss: 0.7314 - accuracy: 0.8117 - val_loss: 0.6799 - val_accuracy: 0.8150\n",
      "Epoch 5/10\n",
      "5/5 [==============================] - ETA: 0s - loss: 0.6906 - accuracy: 0.8200\n",
      "Epoch 5: saving model to checkpointvbpl_ft\\cp.ckpt\n",
      "5/5 [==============================] - 11s 2s/step - loss: 0.6906 - accuracy: 0.8200 - val_loss: 0.6859 - val_accuracy: 0.8000\n",
      "Epoch 6/10\n",
      "5/5 [==============================] - ETA: 0s - loss: 0.6684 - accuracy: 0.8400\n",
      "Epoch 6: saving model to checkpointvbpl_ft\\cp.ckpt\n",
      "5/5 [==============================] - 11s 2s/step - loss: 0.6684 - accuracy: 0.8400 - val_loss: 0.6203 - val_accuracy: 0.8250\n",
      "Epoch 7/10\n",
      "5/5 [==============================] - ETA: 0s - loss: 0.5975 - accuracy: 0.8500\n",
      "Epoch 7: saving model to checkpointvbpl_ft\\cp.ckpt\n",
      "5/5 [==============================] - 12s 2s/step - loss: 0.5975 - accuracy: 0.8500 - val_loss: 0.5783 - val_accuracy: 0.8500\n",
      "Epoch 8/10\n",
      "5/5 [==============================] - ETA: 0s - loss: 0.5715 - accuracy: 0.8567\n",
      "Epoch 8: saving model to checkpointvbpl_ft\\cp.ckpt\n",
      "5/5 [==============================] - 12s 2s/step - loss: 0.5715 - accuracy: 0.8567 - val_loss: 0.5519 - val_accuracy: 0.8600\n",
      "Epoch 9/10\n",
      "5/5 [==============================] - ETA: 0s - loss: 0.5387 - accuracy: 0.8650\n",
      "Epoch 9: saving model to checkpointvbpl_ft\\cp.ckpt\n",
      "5/5 [==============================] - 12s 2s/step - loss: 0.5387 - accuracy: 0.8650 - val_loss: 0.5322 - val_accuracy: 0.8500\n",
      "Epoch 10/10\n",
      "5/5 [==============================] - ETA: 0s - loss: 0.5153 - accuracy: 0.8633\n",
      "Epoch 10: saving model to checkpointvbpl_ft\\cp.ckpt\n",
      "5/5 [==============================] - 11s 2s/step - loss: 0.5153 - accuracy: 0.8633 - val_loss: 0.5060 - val_accuracy: 0.8700\n",
      "7/7 [==============================] - 2s 266ms/step - loss: 0.7414 - accuracy: 0.7900\n",
      "Best accuracy: 0.800000011920929\n",
      "Best parameters: {'lstm_unit': 32, 'dropout': 0.3}\n",
      "----------------------------------\n",
      "Epoch 1/10\n",
      "5/5 [==============================] - ETA: 0s - loss: 1.7008 - accuracy: 0.5350\n",
      "Epoch 1: saving model to checkpointvbpl_ft\\cp.ckpt\n",
      "5/5 [==============================] - 20s 3s/step - loss: 1.7008 - accuracy: 0.5350 - val_loss: 1.0354 - val_accuracy: 0.5400\n",
      "Epoch 2/10\n",
      "5/5 [==============================] - ETA: 0s - loss: 1.2217 - accuracy: 0.5267\n",
      "Epoch 2: saving model to checkpointvbpl_ft\\cp.ckpt\n",
      "5/5 [==============================] - 11s 2s/step - loss: 1.2217 - accuracy: 0.5267 - val_loss: 1.0096 - val_accuracy: 0.5400\n",
      "Epoch 3/10\n",
      "5/5 [==============================] - ETA: 0s - loss: 1.0482 - accuracy: 0.5283\n",
      "Epoch 3: saving model to checkpointvbpl_ft\\cp.ckpt\n",
      "5/5 [==============================] - 11s 2s/step - loss: 1.0482 - accuracy: 0.5283 - val_loss: 0.9462 - val_accuracy: 0.5550\n",
      "Epoch 4/10\n",
      "5/5 [==============================] - ETA: 0s - loss: 0.9938 - accuracy: 0.6767\n",
      "Epoch 4: saving model to checkpointvbpl_ft\\cp.ckpt\n",
      "5/5 [==============================] - 11s 2s/step - loss: 0.9938 - accuracy: 0.6767 - val_loss: 0.8154 - val_accuracy: 0.8000\n",
      "Epoch 5/10\n",
      "5/5 [==============================] - ETA: 0s - loss: 0.8402 - accuracy: 0.7917\n",
      "Epoch 5: saving model to checkpointvbpl_ft\\cp.ckpt\n",
      "5/5 [==============================] - 11s 2s/step - loss: 0.8402 - accuracy: 0.7917 - val_loss: 0.6810 - val_accuracy: 0.7950\n",
      "Epoch 6/10\n",
      "5/5 [==============================] - ETA: 0s - loss: 0.7319 - accuracy: 0.8233\n",
      "Epoch 6: saving model to checkpointvbpl_ft\\cp.ckpt\n",
      "5/5 [==============================] - 11s 2s/step - loss: 0.7319 - accuracy: 0.8233 - val_loss: 0.6874 - val_accuracy: 0.8000\n",
      "Epoch 7/10\n",
      "5/5 [==============================] - ETA: 0s - loss: 0.6633 - accuracy: 0.8333\n",
      "Epoch 7: saving model to checkpointvbpl_ft\\cp.ckpt\n",
      "5/5 [==============================] - 11s 2s/step - loss: 0.6633 - accuracy: 0.8333 - val_loss: 0.6023 - val_accuracy: 0.8350\n",
      "Epoch 8/10\n",
      "5/5 [==============================] - ETA: 0s - loss: 0.6441 - accuracy: 0.8300\n",
      "Epoch 8: saving model to checkpointvbpl_ft\\cp.ckpt\n",
      "5/5 [==============================] - 11s 2s/step - loss: 0.6441 - accuracy: 0.8300 - val_loss: 0.5931 - val_accuracy: 0.8350\n",
      "Epoch 9/10\n",
      "5/5 [==============================] - ETA: 0s - loss: 0.6297 - accuracy: 0.8367\n",
      "Epoch 9: saving model to checkpointvbpl_ft\\cp.ckpt\n",
      "5/5 [==============================] - 11s 2s/step - loss: 0.6297 - accuracy: 0.8367 - val_loss: 0.5640 - val_accuracy: 0.8500\n",
      "Epoch 10/10\n",
      "5/5 [==============================] - ETA: 0s - loss: 0.5847 - accuracy: 0.8550\n",
      "Epoch 10: saving model to checkpointvbpl_ft\\cp.ckpt\n",
      "5/5 [==============================] - 11s 2s/step - loss: 0.5847 - accuracy: 0.8550 - val_loss: 0.5836 - val_accuracy: 0.8600\n",
      "7/7 [==============================] - 2s 242ms/step - loss: 0.7680 - accuracy: 0.7800\n",
      "Best accuracy: 0.800000011920929\n",
      "Best parameters: {'lstm_unit': 32, 'dropout': 0.3}\n",
      "----------------------------------\n",
      "Epoch 1/10\n",
      "5/5 [==============================] - ETA: 0s - loss: 1.5390 - accuracy: 0.4667\n",
      "Epoch 1: saving model to checkpointvbpl_ft\\cp.ckpt\n",
      "5/5 [==============================] - 22s 3s/step - loss: 1.5390 - accuracy: 0.4667 - val_loss: 1.1154 - val_accuracy: 0.5400\n",
      "Epoch 2/10\n",
      "5/5 [==============================] - ETA: 0s - loss: 1.1783 - accuracy: 0.5367\n",
      "Epoch 2: saving model to checkpointvbpl_ft\\cp.ckpt\n",
      "5/5 [==============================] - 14s 3s/step - loss: 1.1783 - accuracy: 0.5367 - val_loss: 0.9566 - val_accuracy: 0.5400\n",
      "Epoch 3/10\n",
      "5/5 [==============================] - ETA: 0s - loss: 0.9921 - accuracy: 0.5550\n",
      "Epoch 3: saving model to checkpointvbpl_ft\\cp.ckpt\n",
      "5/5 [==============================] - 14s 3s/step - loss: 0.9921 - accuracy: 0.5550 - val_loss: 0.8228 - val_accuracy: 0.7950\n",
      "Epoch 4/10\n",
      "5/5 [==============================] - ETA: 0s - loss: 0.7990 - accuracy: 0.7967\n",
      "Epoch 4: saving model to checkpointvbpl_ft\\cp.ckpt\n",
      "5/5 [==============================] - 14s 3s/step - loss: 0.7990 - accuracy: 0.7967 - val_loss: 0.7279 - val_accuracy: 0.7900\n",
      "Epoch 5/10\n",
      "5/5 [==============================] - ETA: 0s - loss: 0.7060 - accuracy: 0.8250\n",
      "Epoch 5: saving model to checkpointvbpl_ft\\cp.ckpt\n",
      "5/5 [==============================] - 14s 3s/step - loss: 0.7060 - accuracy: 0.8250 - val_loss: 0.6552 - val_accuracy: 0.8200\n",
      "Epoch 6/10\n",
      "5/5 [==============================] - ETA: 0s - loss: 0.6294 - accuracy: 0.8433\n",
      "Epoch 6: saving model to checkpointvbpl_ft\\cp.ckpt\n",
      "5/5 [==============================] - 14s 3s/step - loss: 0.6294 - accuracy: 0.8433 - val_loss: 0.6298 - val_accuracy: 0.8150\n",
      "Epoch 7/10\n",
      "5/5 [==============================] - ETA: 0s - loss: 0.5708 - accuracy: 0.8467\n",
      "Epoch 7: saving model to checkpointvbpl_ft\\cp.ckpt\n",
      "5/5 [==============================] - 14s 3s/step - loss: 0.5708 - accuracy: 0.8467 - val_loss: 0.6131 - val_accuracy: 0.8250\n",
      "Epoch 8/10\n",
      "5/5 [==============================] - ETA: 0s - loss: 0.5413 - accuracy: 0.8583\n",
      "Epoch 8: saving model to checkpointvbpl_ft\\cp.ckpt\n",
      "5/5 [==============================] - 14s 3s/step - loss: 0.5413 - accuracy: 0.8583 - val_loss: 0.6033 - val_accuracy: 0.8300\n",
      "Epoch 9/10\n",
      "5/5 [==============================] - ETA: 0s - loss: 0.4823 - accuracy: 0.8683\n",
      "Epoch 9: saving model to checkpointvbpl_ft\\cp.ckpt\n",
      "5/5 [==============================] - 14s 3s/step - loss: 0.4823 - accuracy: 0.8683 - val_loss: 0.5656 - val_accuracy: 0.8450\n",
      "Epoch 10/10\n",
      "5/5 [==============================] - ETA: 0s - loss: 0.4289 - accuracy: 0.8700\n",
      "Epoch 10: saving model to checkpointvbpl_ft\\cp.ckpt\n",
      "5/5 [==============================] - 14s 3s/step - loss: 0.4289 - accuracy: 0.8700 - val_loss: 0.5571 - val_accuracy: 0.8450\n",
      "7/7 [==============================] - 2s 285ms/step - loss: 0.7244 - accuracy: 0.8050\n",
      "Best accuracy: 0.8050000071525574\n",
      "Best parameters: {'lstm_unit': 64, 'dropout': 0}\n",
      "----------------------------------\n",
      "Epoch 1/10\n",
      "5/5 [==============================] - ETA: 0s - loss: 1.5952 - accuracy: 0.5333\n",
      "Epoch 1: saving model to checkpointvbpl_ft\\cp.ckpt\n",
      "5/5 [==============================] - 22s 3s/step - loss: 1.5952 - accuracy: 0.5333 - val_loss: 1.0771 - val_accuracy: 0.5400\n",
      "Epoch 2/10\n",
      "5/5 [==============================] - ETA: 0s - loss: 1.1039 - accuracy: 0.6517\n",
      "Epoch 2: saving model to checkpointvbpl_ft\\cp.ckpt\n",
      "5/5 [==============================] - 14s 3s/step - loss: 1.1039 - accuracy: 0.6517 - val_loss: 0.8837 - val_accuracy: 0.7550\n",
      "Epoch 3/10\n",
      "5/5 [==============================] - ETA: 0s - loss: 0.8645 - accuracy: 0.7383\n",
      "Epoch 3: saving model to checkpointvbpl_ft\\cp.ckpt\n",
      "5/5 [==============================] - 14s 3s/step - loss: 0.8645 - accuracy: 0.7383 - val_loss: 0.6482 - val_accuracy: 0.7900\n",
      "Epoch 4/10\n",
      "5/5 [==============================] - ETA: 0s - loss: 0.7038 - accuracy: 0.8200\n",
      "Epoch 4: saving model to checkpointvbpl_ft\\cp.ckpt\n",
      "5/5 [==============================] - 14s 3s/step - loss: 0.7038 - accuracy: 0.8200 - val_loss: 0.6526 - val_accuracy: 0.8150\n",
      "Epoch 5/10\n",
      "5/5 [==============================] - ETA: 0s - loss: 0.6726 - accuracy: 0.8233\n",
      "Epoch 5: saving model to checkpointvbpl_ft\\cp.ckpt\n",
      "5/5 [==============================] - 14s 3s/step - loss: 0.6726 - accuracy: 0.8233 - val_loss: 0.6326 - val_accuracy: 0.8100\n",
      "Epoch 6/10\n",
      "5/5 [==============================] - ETA: 0s - loss: 0.5834 - accuracy: 0.8400\n",
      "Epoch 6: saving model to checkpointvbpl_ft\\cp.ckpt\n",
      "5/5 [==============================] - 14s 3s/step - loss: 0.5834 - accuracy: 0.8400 - val_loss: 0.5856 - val_accuracy: 0.8300\n",
      "Epoch 7/10\n",
      "5/5 [==============================] - ETA: 0s - loss: 0.5345 - accuracy: 0.8533\n",
      "Epoch 7: saving model to checkpointvbpl_ft\\cp.ckpt\n",
      "5/5 [==============================] - 14s 3s/step - loss: 0.5345 - accuracy: 0.8533 - val_loss: 0.5532 - val_accuracy: 0.8450\n",
      "Epoch 8/10\n",
      "5/5 [==============================] - ETA: 0s - loss: 0.4803 - accuracy: 0.8683\n",
      "Epoch 8: saving model to checkpointvbpl_ft\\cp.ckpt\n",
      "5/5 [==============================] - 14s 3s/step - loss: 0.4803 - accuracy: 0.8683 - val_loss: 0.5265 - val_accuracy: 0.8600\n",
      "Epoch 9/10\n",
      "5/5 [==============================] - ETA: 0s - loss: 0.4308 - accuracy: 0.8800\n",
      "Epoch 9: saving model to checkpointvbpl_ft\\cp.ckpt\n",
      "5/5 [==============================] - 14s 3s/step - loss: 0.4308 - accuracy: 0.8800 - val_loss: 0.5294 - val_accuracy: 0.8650\n",
      "Epoch 10/10\n",
      "5/5 [==============================] - ETA: 0s - loss: 0.4161 - accuracy: 0.8817\n",
      "Epoch 10: saving model to checkpointvbpl_ft\\cp.ckpt\n",
      "5/5 [==============================] - 14s 3s/step - loss: 0.4161 - accuracy: 0.8817 - val_loss: 0.5298 - val_accuracy: 0.8600\n",
      "Epoch 10: early stopping\n",
      "7/7 [==============================] - 2s 266ms/step - loss: 0.7627 - accuracy: 0.8000\n",
      "Best accuracy: 0.8050000071525574\n",
      "Best parameters: {'lstm_unit': 64, 'dropout': 0}\n",
      "----------------------------------\n",
      "Epoch 1/10\n",
      "5/5 [==============================] - ETA: 0s - loss: 1.5852 - accuracy: 0.4750\n",
      "Epoch 1: saving model to checkpointvbpl_ft\\cp.ckpt\n",
      "5/5 [==============================] - 22s 3s/step - loss: 1.5852 - accuracy: 0.4750 - val_loss: 1.0191 - val_accuracy: 0.5400\n",
      "Epoch 2/10\n",
      "5/5 [==============================] - ETA: 0s - loss: 1.1091 - accuracy: 0.6850\n",
      "Epoch 2: saving model to checkpointvbpl_ft\\cp.ckpt\n",
      "5/5 [==============================] - 14s 3s/step - loss: 1.1091 - accuracy: 0.6850 - val_loss: 0.8396 - val_accuracy: 0.7450\n",
      "Epoch 3/10\n",
      "5/5 [==============================] - ETA: 0s - loss: 0.8226 - accuracy: 0.7950\n",
      "Epoch 3: saving model to checkpointvbpl_ft\\cp.ckpt\n",
      "5/5 [==============================] - 14s 3s/step - loss: 0.8226 - accuracy: 0.7950 - val_loss: 0.7045 - val_accuracy: 0.7950\n",
      "Epoch 4/10\n",
      "5/5 [==============================] - ETA: 0s - loss: 0.7144 - accuracy: 0.8317\n",
      "Epoch 4: saving model to checkpointvbpl_ft\\cp.ckpt\n",
      "5/5 [==============================] - 14s 3s/step - loss: 0.7144 - accuracy: 0.8317 - val_loss: 0.6512 - val_accuracy: 0.8200\n",
      "Epoch 5/10\n",
      "5/5 [==============================] - ETA: 0s - loss: 0.6566 - accuracy: 0.8450\n",
      "Epoch 5: saving model to checkpointvbpl_ft\\cp.ckpt\n",
      "5/5 [==============================] - 14s 3s/step - loss: 0.6566 - accuracy: 0.8450 - val_loss: 0.5963 - val_accuracy: 0.8450\n",
      "Epoch 6/10\n",
      "5/5 [==============================] - ETA: 0s - loss: 0.5912 - accuracy: 0.8483\n",
      "Epoch 6: saving model to checkpointvbpl_ft\\cp.ckpt\n",
      "5/5 [==============================] - 14s 3s/step - loss: 0.5912 - accuracy: 0.8483 - val_loss: 0.5414 - val_accuracy: 0.8650\n",
      "Epoch 7/10\n",
      "5/5 [==============================] - ETA: 0s - loss: 0.5390 - accuracy: 0.8600\n",
      "Epoch 7: saving model to checkpointvbpl_ft\\cp.ckpt\n",
      "5/5 [==============================] - 14s 3s/step - loss: 0.5390 - accuracy: 0.8600 - val_loss: 0.5375 - val_accuracy: 0.8600\n",
      "Epoch 8/10\n",
      "5/5 [==============================] - ETA: 0s - loss: 0.5109 - accuracy: 0.8683\n",
      "Epoch 8: saving model to checkpointvbpl_ft\\cp.ckpt\n",
      "5/5 [==============================] - 14s 3s/step - loss: 0.5109 - accuracy: 0.8683 - val_loss: 0.5169 - val_accuracy: 0.8650\n",
      "Epoch 9/10\n",
      "5/5 [==============================] - ETA: 0s - loss: 0.4987 - accuracy: 0.8700\n",
      "Epoch 9: saving model to checkpointvbpl_ft\\cp.ckpt\n",
      "5/5 [==============================] - 13s 3s/step - loss: 0.4987 - accuracy: 0.8700 - val_loss: 0.5484 - val_accuracy: 0.8700\n",
      "Epoch 10/10\n",
      "5/5 [==============================] - ETA: 0s - loss: 0.4449 - accuracy: 0.8733\n",
      "Epoch 10: saving model to checkpointvbpl_ft\\cp.ckpt\n",
      "5/5 [==============================] - 13s 3s/step - loss: 0.4449 - accuracy: 0.8733 - val_loss: 0.5097 - val_accuracy: 0.8750\n",
      "7/7 [==============================] - 2s 258ms/step - loss: 0.7132 - accuracy: 0.8000\n",
      "Best accuracy: 0.8050000071525574\n",
      "Best parameters: {'lstm_unit': 64, 'dropout': 0}\n",
      "----------------------------------\n",
      "Epoch 1/10\n",
      "5/5 [==============================] - ETA: 0s - loss: 1.6833 - accuracy: 0.4367\n",
      "Epoch 1: saving model to checkpointvbpl_ft\\cp.ckpt\n",
      "5/5 [==============================] - 23s 3s/step - loss: 1.6833 - accuracy: 0.4367 - val_loss: 1.0358 - val_accuracy: 0.5400\n",
      "Epoch 2/10\n",
      "5/5 [==============================] - ETA: 0s - loss: 1.1838 - accuracy: 0.5550\n",
      "Epoch 2: saving model to checkpointvbpl_ft\\cp.ckpt\n",
      "5/5 [==============================] - 14s 3s/step - loss: 1.1838 - accuracy: 0.5550 - val_loss: 0.9699 - val_accuracy: 0.8000\n",
      "Epoch 3/10\n",
      "5/5 [==============================] - ETA: 0s - loss: 1.0178 - accuracy: 0.6300\n",
      "Epoch 3: saving model to checkpointvbpl_ft\\cp.ckpt\n",
      "5/5 [==============================] - 14s 3s/step - loss: 1.0178 - accuracy: 0.6300 - val_loss: 0.8254 - val_accuracy: 0.6450\n",
      "Epoch 4/10\n",
      "5/5 [==============================] - ETA: 0s - loss: 0.7919 - accuracy: 0.7717\n",
      "Epoch 4: saving model to checkpointvbpl_ft\\cp.ckpt\n",
      "5/5 [==============================] - 14s 3s/step - loss: 0.7919 - accuracy: 0.7717 - val_loss: 0.6603 - val_accuracy: 0.8100\n",
      "Epoch 5/10\n",
      "5/5 [==============================] - ETA: 0s - loss: 0.6744 - accuracy: 0.8283\n",
      "Epoch 5: saving model to checkpointvbpl_ft\\cp.ckpt\n",
      "5/5 [==============================] - 14s 3s/step - loss: 0.6744 - accuracy: 0.8283 - val_loss: 0.6120 - val_accuracy: 0.8250\n",
      "Epoch 6/10\n",
      "5/5 [==============================] - ETA: 0s - loss: 0.6039 - accuracy: 0.8450\n",
      "Epoch 6: saving model to checkpointvbpl_ft\\cp.ckpt\n",
      "5/5 [==============================] - 14s 3s/step - loss: 0.6039 - accuracy: 0.8450 - val_loss: 0.5660 - val_accuracy: 0.8400\n",
      "Epoch 7/10\n",
      "5/5 [==============================] - ETA: 0s - loss: 0.5529 - accuracy: 0.8483\n",
      "Epoch 7: saving model to checkpointvbpl_ft\\cp.ckpt\n",
      "5/5 [==============================] - 14s 3s/step - loss: 0.5529 - accuracy: 0.8483 - val_loss: 0.5798 - val_accuracy: 0.8450\n",
      "Epoch 8/10\n",
      "5/5 [==============================] - ETA: 0s - loss: 0.5360 - accuracy: 0.8417\n",
      "Epoch 8: saving model to checkpointvbpl_ft\\cp.ckpt\n",
      "5/5 [==============================] - 14s 3s/step - loss: 0.5360 - accuracy: 0.8417 - val_loss: 0.5207 - val_accuracy: 0.8450\n",
      "Epoch 9/10\n",
      "5/5 [==============================] - ETA: 0s - loss: 0.4584 - accuracy: 0.8650\n",
      "Epoch 9: saving model to checkpointvbpl_ft\\cp.ckpt\n",
      "5/5 [==============================] - 14s 3s/step - loss: 0.4584 - accuracy: 0.8650 - val_loss: 0.5066 - val_accuracy: 0.8650\n",
      "Epoch 10/10\n",
      "5/5 [==============================] - ETA: 0s - loss: 0.4525 - accuracy: 0.8700\n",
      "Epoch 10: saving model to checkpointvbpl_ft\\cp.ckpt\n",
      "5/5 [==============================] - 14s 3s/step - loss: 0.4525 - accuracy: 0.8700 - val_loss: 0.4962 - val_accuracy: 0.8650\n",
      "7/7 [==============================] - 2s 279ms/step - loss: 0.7173 - accuracy: 0.8000\n",
      "Best accuracy: 0.8050000071525574\n",
      "Best parameters: {'lstm_unit': 64, 'dropout': 0}\n",
      "----------------------------------\n",
      "Epoch 1/10\n",
      "5/5 [==============================] - ETA: 0s - loss: 1.5714 - accuracy: 0.4800\n",
      "Epoch 1: saving model to checkpointvbpl_ft\\cp.ckpt\n",
      "5/5 [==============================] - 23s 3s/step - loss: 1.5714 - accuracy: 0.4800 - val_loss: 1.1370 - val_accuracy: 0.5400\n",
      "Epoch 2/10\n",
      "5/5 [==============================] - ETA: 0s - loss: 1.0782 - accuracy: 0.7233\n",
      "Epoch 2: saving model to checkpointvbpl_ft\\cp.ckpt\n",
      "5/5 [==============================] - 14s 3s/step - loss: 1.0782 - accuracy: 0.7233 - val_loss: 0.8654 - val_accuracy: 0.8350\n",
      "Epoch 3/10\n",
      "5/5 [==============================] - ETA: 0s - loss: 0.8407 - accuracy: 0.8167\n",
      "Epoch 3: saving model to checkpointvbpl_ft\\cp.ckpt\n",
      "5/5 [==============================] - 14s 3s/step - loss: 0.8407 - accuracy: 0.8167 - val_loss: 0.6447 - val_accuracy: 0.8400\n",
      "Epoch 4/10\n",
      "5/5 [==============================] - ETA: 0s - loss: 0.6611 - accuracy: 0.8317\n",
      "Epoch 4: saving model to checkpointvbpl_ft\\cp.ckpt\n",
      "5/5 [==============================] - 15s 3s/step - loss: 0.6611 - accuracy: 0.8317 - val_loss: 0.6545 - val_accuracy: 0.8400\n",
      "Epoch 5/10\n",
      "5/5 [==============================] - ETA: 0s - loss: 0.5949 - accuracy: 0.8483\n",
      "Epoch 5: saving model to checkpointvbpl_ft\\cp.ckpt\n",
      "5/5 [==============================] - 14s 3s/step - loss: 0.5949 - accuracy: 0.8483 - val_loss: 0.5644 - val_accuracy: 0.8600\n",
      "Epoch 6/10\n",
      "5/5 [==============================] - ETA: 0s - loss: 0.5316 - accuracy: 0.8633\n",
      "Epoch 6: saving model to checkpointvbpl_ft\\cp.ckpt\n",
      "5/5 [==============================] - 14s 3s/step - loss: 0.5316 - accuracy: 0.8633 - val_loss: 0.5573 - val_accuracy: 0.8600\n",
      "Epoch 7/10\n",
      "5/5 [==============================] - ETA: 0s - loss: 0.5425 - accuracy: 0.8567\n",
      "Epoch 7: saving model to checkpointvbpl_ft\\cp.ckpt\n",
      "5/5 [==============================] - 14s 3s/step - loss: 0.5425 - accuracy: 0.8567 - val_loss: 0.5020 - val_accuracy: 0.8650\n",
      "Epoch 8/10\n",
      "5/5 [==============================] - ETA: 0s - loss: 0.4661 - accuracy: 0.8717\n",
      "Epoch 8: saving model to checkpointvbpl_ft\\cp.ckpt\n",
      "5/5 [==============================] - 14s 3s/step - loss: 0.4661 - accuracy: 0.8717 - val_loss: 0.4755 - val_accuracy: 0.8800\n",
      "Epoch 9/10\n",
      "5/5 [==============================] - ETA: 0s - loss: 0.4422 - accuracy: 0.8683\n",
      "Epoch 9: saving model to checkpointvbpl_ft\\cp.ckpt\n",
      "5/5 [==============================] - 14s 3s/step - loss: 0.4422 - accuracy: 0.8683 - val_loss: 0.4810 - val_accuracy: 0.8750\n",
      "Epoch 10/10\n",
      "5/5 [==============================] - ETA: 0s - loss: 0.4382 - accuracy: 0.8700\n",
      "Epoch 10: saving model to checkpointvbpl_ft\\cp.ckpt\n",
      "5/5 [==============================] - 14s 3s/step - loss: 0.4382 - accuracy: 0.8700 - val_loss: 0.4615 - val_accuracy: 0.8750\n",
      "7/7 [==============================] - 2s 279ms/step - loss: 0.6421 - accuracy: 0.8100\n",
      "Best accuracy: 0.8100000023841858\n",
      "Best parameters: {'lstm_unit': 64, 'dropout': 0.4}\n",
      "----------------------------------\n",
      "Epoch 1/10\n",
      "5/5 [==============================] - ETA: 0s - loss: 1.5991 - accuracy: 0.4800\n",
      "Epoch 1: saving model to checkpointvbpl_ft\\cp.ckpt\n",
      "5/5 [==============================] - 23s 3s/step - loss: 1.5991 - accuracy: 0.4800 - val_loss: 1.0774 - val_accuracy: 0.5400\n",
      "Epoch 2/10\n",
      "5/5 [==============================] - ETA: 0s - loss: 1.0679 - accuracy: 0.6500\n",
      "Epoch 2: saving model to checkpointvbpl_ft\\cp.ckpt\n",
      "5/5 [==============================] - 15s 3s/step - loss: 1.0679 - accuracy: 0.6500 - val_loss: 0.8699 - val_accuracy: 0.7950\n",
      "Epoch 3/10\n",
      "5/5 [==============================] - ETA: 0s - loss: 0.8271 - accuracy: 0.7900\n",
      "Epoch 3: saving model to checkpointvbpl_ft\\cp.ckpt\n",
      "5/5 [==============================] - 15s 3s/step - loss: 0.8271 - accuracy: 0.7900 - val_loss: 0.7661 - val_accuracy: 0.8050\n",
      "Epoch 4/10\n",
      "5/5 [==============================] - ETA: 0s - loss: 0.7240 - accuracy: 0.8133\n",
      "Epoch 4: saving model to checkpointvbpl_ft\\cp.ckpt\n",
      "5/5 [==============================] - 15s 3s/step - loss: 0.7240 - accuracy: 0.8133 - val_loss: 0.6443 - val_accuracy: 0.8050\n",
      "Epoch 5/10\n",
      "5/5 [==============================] - ETA: 0s - loss: 0.6499 - accuracy: 0.8217\n",
      "Epoch 5: saving model to checkpointvbpl_ft\\cp.ckpt\n",
      "5/5 [==============================] - 15s 3s/step - loss: 0.6499 - accuracy: 0.8217 - val_loss: 0.6023 - val_accuracy: 0.8150\n",
      "Epoch 6/10\n",
      "5/5 [==============================] - ETA: 0s - loss: 0.5707 - accuracy: 0.8417\n",
      "Epoch 6: saving model to checkpointvbpl_ft\\cp.ckpt\n",
      "5/5 [==============================] - 15s 3s/step - loss: 0.5707 - accuracy: 0.8417 - val_loss: 0.6249 - val_accuracy: 0.8250\n",
      "Epoch 7/10\n",
      "5/5 [==============================] - ETA: 0s - loss: 0.5528 - accuracy: 0.8583\n",
      "Epoch 7: saving model to checkpointvbpl_ft\\cp.ckpt\n",
      "5/5 [==============================] - 15s 3s/step - loss: 0.5528 - accuracy: 0.8583 - val_loss: 0.5983 - val_accuracy: 0.8300\n",
      "Epoch 8/10\n",
      "5/5 [==============================] - ETA: 0s - loss: 0.5098 - accuracy: 0.8567\n",
      "Epoch 8: saving model to checkpointvbpl_ft\\cp.ckpt\n",
      "5/5 [==============================] - 14s 3s/step - loss: 0.5098 - accuracy: 0.8567 - val_loss: 0.5711 - val_accuracy: 0.8450\n",
      "Epoch 9/10\n",
      "5/5 [==============================] - ETA: 0s - loss: 0.4848 - accuracy: 0.8650\n",
      "Epoch 9: saving model to checkpointvbpl_ft\\cp.ckpt\n",
      "5/5 [==============================] - 14s 3s/step - loss: 0.4848 - accuracy: 0.8650 - val_loss: 0.5556 - val_accuracy: 0.8450\n",
      "Epoch 10/10\n",
      "5/5 [==============================] - ETA: 0s - loss: 0.4622 - accuracy: 0.8600\n",
      "Epoch 10: saving model to checkpointvbpl_ft\\cp.ckpt\n",
      "5/5 [==============================] - 15s 3s/step - loss: 0.4622 - accuracy: 0.8600 - val_loss: 0.5538 - val_accuracy: 0.8500\n",
      "7/7 [==============================] - 2s 288ms/step - loss: 0.7032 - accuracy: 0.7900\n",
      "Best accuracy: 0.8100000023841858\n",
      "Best parameters: {'lstm_unit': 64, 'dropout': 0.4}\n",
      "----------------------------------\n",
      "Epoch 1/10\n",
      "5/5 [==============================] - ETA: 0s - loss: 1.5141 - accuracy: 0.4383\n",
      "Epoch 1: saving model to checkpointvbpl_ft\\cp.ckpt\n",
      "5/5 [==============================] - 26s 4s/step - loss: 1.5141 - accuracy: 0.4383 - val_loss: 0.9823 - val_accuracy: 0.8000\n",
      "Epoch 2/10\n",
      "5/5 [==============================] - ETA: 0s - loss: 0.9834 - accuracy: 0.7900\n",
      "Epoch 2: saving model to checkpointvbpl_ft\\cp.ckpt\n",
      "5/5 [==============================] - 18s 4s/step - loss: 0.9834 - accuracy: 0.7900 - val_loss: 0.6975 - val_accuracy: 0.8050\n",
      "Epoch 3/10\n",
      "5/5 [==============================] - ETA: 0s - loss: 0.7523 - accuracy: 0.8083\n",
      "Epoch 3: saving model to checkpointvbpl_ft\\cp.ckpt\n",
      "5/5 [==============================] - 19s 4s/step - loss: 0.7523 - accuracy: 0.8083 - val_loss: 0.6699 - val_accuracy: 0.7950\n",
      "Epoch 4/10\n",
      "5/5 [==============================] - ETA: 0s - loss: 0.6799 - accuracy: 0.8283\n",
      "Epoch 4: saving model to checkpointvbpl_ft\\cp.ckpt\n",
      "5/5 [==============================] - 19s 4s/step - loss: 0.6799 - accuracy: 0.8283 - val_loss: 0.5596 - val_accuracy: 0.8550\n",
      "Epoch 5/10\n",
      "5/5 [==============================] - ETA: 0s - loss: 0.5470 - accuracy: 0.8533\n",
      "Epoch 5: saving model to checkpointvbpl_ft\\cp.ckpt\n",
      "5/5 [==============================] - 19s 4s/step - loss: 0.5470 - accuracy: 0.8533 - val_loss: 0.5642 - val_accuracy: 0.8400\n",
      "Epoch 6/10\n",
      "5/5 [==============================] - ETA: 0s - loss: 0.4733 - accuracy: 0.8700\n",
      "Epoch 6: saving model to checkpointvbpl_ft\\cp.ckpt\n",
      "5/5 [==============================] - 19s 4s/step - loss: 0.4733 - accuracy: 0.8700 - val_loss: 0.6285 - val_accuracy: 0.8250\n",
      "Epoch 6: early stopping\n",
      "7/7 [==============================] - 2s 343ms/step - loss: 0.7390 - accuracy: 0.8050\n",
      "Best accuracy: 0.8100000023841858\n",
      "Best parameters: {'lstm_unit': 64, 'dropout': 0.4}\n",
      "----------------------------------\n",
      "Epoch 1/10\n",
      "5/5 [==============================] - ETA: 0s - loss: 1.5144 - accuracy: 0.4767\n",
      "Epoch 1: saving model to checkpointvbpl_ft\\cp.ckpt\n",
      "5/5 [==============================] - 28s 4s/step - loss: 1.5144 - accuracy: 0.4767 - val_loss: 0.9963 - val_accuracy: 0.7150\n",
      "Epoch 2/10\n",
      "5/5 [==============================] - ETA: 0s - loss: 0.9887 - accuracy: 0.7533\n",
      "Epoch 2: saving model to checkpointvbpl_ft\\cp.ckpt\n",
      "5/5 [==============================] - 19s 4s/step - loss: 0.9887 - accuracy: 0.7533 - val_loss: 0.7446 - val_accuracy: 0.7950\n",
      "Epoch 3/10\n",
      "5/5 [==============================] - ETA: 0s - loss: 0.7442 - accuracy: 0.8150\n",
      "Epoch 3: saving model to checkpointvbpl_ft\\cp.ckpt\n",
      "5/5 [==============================] - 20s 4s/step - loss: 0.7442 - accuracy: 0.8150 - val_loss: 0.6215 - val_accuracy: 0.8100\n",
      "Epoch 4/10\n",
      "5/5 [==============================] - ETA: 0s - loss: 0.6076 - accuracy: 0.8433\n",
      "Epoch 4: saving model to checkpointvbpl_ft\\cp.ckpt\n",
      "5/5 [==============================] - 20s 4s/step - loss: 0.6076 - accuracy: 0.8433 - val_loss: 0.5972 - val_accuracy: 0.8350\n",
      "Epoch 5/10\n",
      "5/5 [==============================] - ETA: 0s - loss: 0.5899 - accuracy: 0.8417\n",
      "Epoch 5: saving model to checkpointvbpl_ft\\cp.ckpt\n",
      "5/5 [==============================] - 20s 4s/step - loss: 0.5899 - accuracy: 0.8417 - val_loss: 0.5341 - val_accuracy: 0.8450\n",
      "Epoch 6/10\n",
      "5/5 [==============================] - ETA: 0s - loss: 0.5122 - accuracy: 0.8683\n",
      "Epoch 6: saving model to checkpointvbpl_ft\\cp.ckpt\n",
      "5/5 [==============================] - 20s 4s/step - loss: 0.5122 - accuracy: 0.8683 - val_loss: 0.5472 - val_accuracy: 0.8500\n",
      "Epoch 7/10\n",
      "5/5 [==============================] - ETA: 0s - loss: 0.4964 - accuracy: 0.8767\n",
      "Epoch 7: saving model to checkpointvbpl_ft\\cp.ckpt\n",
      "5/5 [==============================] - 20s 4s/step - loss: 0.4964 - accuracy: 0.8767 - val_loss: 0.5076 - val_accuracy: 0.8450\n",
      "Epoch 8/10\n",
      "5/5 [==============================] - ETA: 0s - loss: 0.4505 - accuracy: 0.8767\n",
      "Epoch 8: saving model to checkpointvbpl_ft\\cp.ckpt\n",
      "5/5 [==============================] - 20s 4s/step - loss: 0.4505 - accuracy: 0.8767 - val_loss: 0.4761 - val_accuracy: 0.8500\n",
      "Epoch 9/10\n",
      "5/5 [==============================] - ETA: 0s - loss: 0.4084 - accuracy: 0.8867\n",
      "Epoch 9: saving model to checkpointvbpl_ft\\cp.ckpt\n",
      "5/5 [==============================] - 20s 4s/step - loss: 0.4084 - accuracy: 0.8867 - val_loss: 0.4546 - val_accuracy: 0.8750\n",
      "Epoch 10/10\n",
      "5/5 [==============================] - ETA: 0s - loss: 0.3498 - accuracy: 0.8967\n",
      "Epoch 10: saving model to checkpointvbpl_ft\\cp.ckpt\n",
      "5/5 [==============================] - 20s 4s/step - loss: 0.3498 - accuracy: 0.8967 - val_loss: 0.4641 - val_accuracy: 0.8850\n",
      "7/7 [==============================] - 3s 352ms/step - loss: 0.6342 - accuracy: 0.8150\n",
      "Best accuracy: 0.8149999976158142\n",
      "Best parameters: {'lstm_unit': 128, 'dropout': 0.1}\n",
      "----------------------------------\n",
      "Epoch 1/10\n",
      "5/5 [==============================] - ETA: 0s - loss: 1.5242 - accuracy: 0.4233\n",
      "Epoch 1: saving model to checkpointvbpl_ft\\cp.ckpt\n",
      "5/5 [==============================] - 27s 4s/step - loss: 1.5242 - accuracy: 0.4233 - val_loss: 1.0280 - val_accuracy: 0.7800\n",
      "Epoch 2/10\n",
      "5/5 [==============================] - ETA: 0s - loss: 1.0454 - accuracy: 0.6750\n",
      "Epoch 2: saving model to checkpointvbpl_ft\\cp.ckpt\n",
      "5/5 [==============================] - 19s 4s/step - loss: 1.0454 - accuracy: 0.6750 - val_loss: 0.8142 - val_accuracy: 0.7600\n",
      "Epoch 3/10\n",
      "5/5 [==============================] - ETA: 0s - loss: 0.7671 - accuracy: 0.8000\n",
      "Epoch 3: saving model to checkpointvbpl_ft\\cp.ckpt\n",
      "5/5 [==============================] - 19s 4s/step - loss: 0.7671 - accuracy: 0.8000 - val_loss: 0.6947 - val_accuracy: 0.8150\n",
      "Epoch 4/10\n",
      "5/5 [==============================] - ETA: 0s - loss: 0.6026 - accuracy: 0.8483\n",
      "Epoch 4: saving model to checkpointvbpl_ft\\cp.ckpt\n",
      "5/5 [==============================] - 19s 4s/step - loss: 0.6026 - accuracy: 0.8483 - val_loss: 0.5753 - val_accuracy: 0.8400\n",
      "Epoch 5/10\n",
      "5/5 [==============================] - ETA: 0s - loss: 0.5488 - accuracy: 0.8633\n",
      "Epoch 5: saving model to checkpointvbpl_ft\\cp.ckpt\n",
      "5/5 [==============================] - 20s 4s/step - loss: 0.5488 - accuracy: 0.8633 - val_loss: 0.6547 - val_accuracy: 0.8200\n",
      "Epoch 6/10\n",
      "5/5 [==============================] - ETA: 0s - loss: 0.5086 - accuracy: 0.8583\n",
      "Epoch 6: saving model to checkpointvbpl_ft\\cp.ckpt\n",
      "5/5 [==============================] - 19s 4s/step - loss: 0.5086 - accuracy: 0.8583 - val_loss: 0.5299 - val_accuracy: 0.8350\n",
      "Epoch 7/10\n",
      "5/5 [==============================] - ETA: 0s - loss: 0.4369 - accuracy: 0.8817\n",
      "Epoch 7: saving model to checkpointvbpl_ft\\cp.ckpt\n",
      "5/5 [==============================] - 20s 4s/step - loss: 0.4369 - accuracy: 0.8817 - val_loss: 0.5608 - val_accuracy: 0.8350\n",
      "Epoch 8/10\n",
      "5/5 [==============================] - ETA: 0s - loss: 0.4014 - accuracy: 0.8800\n",
      "Epoch 8: saving model to checkpointvbpl_ft\\cp.ckpt\n",
      "5/5 [==============================] - 19s 4s/step - loss: 0.4014 - accuracy: 0.8800 - val_loss: 0.5910 - val_accuracy: 0.8550\n",
      "Epoch 8: early stopping\n",
      "7/7 [==============================] - 3s 350ms/step - loss: 0.8312 - accuracy: 0.8000\n",
      "Best accuracy: 0.8149999976158142\n",
      "Best parameters: {'lstm_unit': 128, 'dropout': 0.1}\n",
      "----------------------------------\n",
      "Epoch 1/10\n",
      "5/5 [==============================] - ETA: 0s - loss: 1.4403 - accuracy: 0.5017\n",
      "Epoch 1: saving model to checkpointvbpl_ft\\cp.ckpt\n",
      "5/5 [==============================] - 27s 4s/step - loss: 1.4403 - accuracy: 0.5017 - val_loss: 0.9761 - val_accuracy: 0.7800\n",
      "Epoch 2/10\n",
      "5/5 [==============================] - ETA: 0s - loss: 0.8782 - accuracy: 0.8150\n",
      "Epoch 2: saving model to checkpointvbpl_ft\\cp.ckpt\n",
      "5/5 [==============================] - 19s 4s/step - loss: 0.8782 - accuracy: 0.8150 - val_loss: 0.7000 - val_accuracy: 0.7900\n",
      "Epoch 3/10\n",
      "5/5 [==============================] - ETA: 0s - loss: 0.6880 - accuracy: 0.8200\n",
      "Epoch 3: saving model to checkpointvbpl_ft\\cp.ckpt\n",
      "5/5 [==============================] - 19s 4s/step - loss: 0.6880 - accuracy: 0.8200 - val_loss: 0.5935 - val_accuracy: 0.7950\n",
      "Epoch 4/10\n",
      "5/5 [==============================] - ETA: 0s - loss: 0.5934 - accuracy: 0.8467\n",
      "Epoch 4: saving model to checkpointvbpl_ft\\cp.ckpt\n",
      "5/5 [==============================] - 19s 4s/step - loss: 0.5934 - accuracy: 0.8467 - val_loss: 0.5683 - val_accuracy: 0.8300\n",
      "Epoch 5/10\n",
      "5/5 [==============================] - ETA: 0s - loss: 0.5220 - accuracy: 0.8567\n",
      "Epoch 5: saving model to checkpointvbpl_ft\\cp.ckpt\n",
      "5/5 [==============================] - 20s 4s/step - loss: 0.5220 - accuracy: 0.8567 - val_loss: 0.5430 - val_accuracy: 0.8550\n",
      "Epoch 6/10\n",
      "5/5 [==============================] - ETA: 0s - loss: 0.4812 - accuracy: 0.8633\n",
      "Epoch 6: saving model to checkpointvbpl_ft\\cp.ckpt\n",
      "5/5 [==============================] - 20s 4s/step - loss: 0.4812 - accuracy: 0.8633 - val_loss: 0.5146 - val_accuracy: 0.8600\n",
      "Epoch 7/10\n",
      "5/5 [==============================] - ETA: 0s - loss: 0.4526 - accuracy: 0.8767\n",
      "Epoch 7: saving model to checkpointvbpl_ft\\cp.ckpt\n",
      "5/5 [==============================] - 20s 4s/step - loss: 0.4526 - accuracy: 0.8767 - val_loss: 0.4863 - val_accuracy: 0.8650\n",
      "Epoch 8/10\n",
      "5/5 [==============================] - ETA: 0s - loss: 0.4148 - accuracy: 0.8850\n",
      "Epoch 8: saving model to checkpointvbpl_ft\\cp.ckpt\n",
      "5/5 [==============================] - 20s 4s/step - loss: 0.4148 - accuracy: 0.8850 - val_loss: 0.5011 - val_accuracy: 0.8800\n",
      "Epoch 9/10\n",
      "5/5 [==============================] - ETA: 0s - loss: 0.4046 - accuracy: 0.8800\n",
      "Epoch 9: saving model to checkpointvbpl_ft\\cp.ckpt\n",
      "5/5 [==============================] - 20s 4s/step - loss: 0.4046 - accuracy: 0.8800 - val_loss: 0.5072 - val_accuracy: 0.8700\n",
      "Epoch 9: early stopping\n",
      "7/7 [==============================] - 3s 358ms/step - loss: 0.7087 - accuracy: 0.7850\n",
      "Best accuracy: 0.8149999976158142\n",
      "Best parameters: {'lstm_unit': 128, 'dropout': 0.1}\n",
      "----------------------------------\n",
      "Epoch 1/10\n",
      "5/5 [==============================] - ETA: 0s - loss: 1.5391 - accuracy: 0.5050\n",
      "Epoch 1: saving model to checkpointvbpl_ft\\cp.ckpt\n",
      "5/5 [==============================] - 28s 4s/step - loss: 1.5391 - accuracy: 0.5050 - val_loss: 0.9763 - val_accuracy: 0.5400\n",
      "Epoch 2/10\n",
      "5/5 [==============================] - ETA: 0s - loss: 1.0298 - accuracy: 0.5850\n",
      "Epoch 2: saving model to checkpointvbpl_ft\\cp.ckpt\n",
      "5/5 [==============================] - 19s 4s/step - loss: 1.0298 - accuracy: 0.5850 - val_loss: 0.7404 - val_accuracy: 0.7900\n",
      "Epoch 3/10\n",
      "5/5 [==============================] - ETA: 0s - loss: 0.8275 - accuracy: 0.8167\n",
      "Epoch 3: saving model to checkpointvbpl_ft\\cp.ckpt\n",
      "5/5 [==============================] - 19s 4s/step - loss: 0.8275 - accuracy: 0.8167 - val_loss: 0.6597 - val_accuracy: 0.8050\n",
      "Epoch 4/10\n",
      "5/5 [==============================] - ETA: 0s - loss: 0.6868 - accuracy: 0.8367\n",
      "Epoch 4: saving model to checkpointvbpl_ft\\cp.ckpt\n",
      "5/5 [==============================] - 21s 4s/step - loss: 0.6868 - accuracy: 0.8367 - val_loss: 0.6843 - val_accuracy: 0.8100\n",
      "Epoch 5/10\n",
      "5/5 [==============================] - ETA: 0s - loss: 0.6424 - accuracy: 0.8283\n",
      "Epoch 5: saving model to checkpointvbpl_ft\\cp.ckpt\n",
      "5/5 [==============================] - 20s 4s/step - loss: 0.6424 - accuracy: 0.8283 - val_loss: 0.6013 - val_accuracy: 0.8450\n",
      "Epoch 6/10\n",
      "5/5 [==============================] - ETA: 0s - loss: 0.5597 - accuracy: 0.8533\n",
      "Epoch 6: saving model to checkpointvbpl_ft\\cp.ckpt\n",
      "5/5 [==============================] - 20s 4s/step - loss: 0.5597 - accuracy: 0.8533 - val_loss: 0.5644 - val_accuracy: 0.8400\n",
      "Epoch 7/10\n",
      "5/5 [==============================] - ETA: 0s - loss: 0.5125 - accuracy: 0.8417\n",
      "Epoch 7: saving model to checkpointvbpl_ft\\cp.ckpt\n",
      "5/5 [==============================] - 20s 4s/step - loss: 0.5125 - accuracy: 0.8417 - val_loss: 0.5399 - val_accuracy: 0.8350\n",
      "Epoch 8/10\n",
      "5/5 [==============================] - ETA: 0s - loss: 0.4340 - accuracy: 0.8667\n",
      "Epoch 8: saving model to checkpointvbpl_ft\\cp.ckpt\n",
      "5/5 [==============================] - 20s 4s/step - loss: 0.4340 - accuracy: 0.8667 - val_loss: 0.5506 - val_accuracy: 0.8400\n",
      "Epoch 9/10\n",
      "5/5 [==============================] - ETA: 0s - loss: 0.4258 - accuracy: 0.8617\n",
      "Epoch 9: saving model to checkpointvbpl_ft\\cp.ckpt\n",
      "5/5 [==============================] - 20s 4s/step - loss: 0.4258 - accuracy: 0.8617 - val_loss: 0.5708 - val_accuracy: 0.8400\n",
      "Epoch 9: early stopping\n",
      "7/7 [==============================] - 3s 359ms/step - loss: 0.7813 - accuracy: 0.7950\n",
      "Best accuracy: 0.8149999976158142\n",
      "Best parameters: {'lstm_unit': 128, 'dropout': 0.1}\n",
      "----------------------------------\n",
      "Epoch 1/10\n",
      "5/5 [==============================] - ETA: 0s - loss: 1.4772 - accuracy: 0.4600\n",
      "Epoch 1: saving model to checkpointvbpl_ft\\cp.ckpt\n",
      "5/5 [==============================] - 28s 4s/step - loss: 1.4772 - accuracy: 0.4600 - val_loss: 1.0714 - val_accuracy: 0.5850\n",
      "Epoch 2/10\n",
      "5/5 [==============================] - ETA: 0s - loss: 1.0639 - accuracy: 0.5700\n",
      "Epoch 2: saving model to checkpointvbpl_ft\\cp.ckpt\n",
      "5/5 [==============================] - 20s 4s/step - loss: 1.0639 - accuracy: 0.5700 - val_loss: 0.8562 - val_accuracy: 0.5700\n",
      "Epoch 3/10\n",
      "5/5 [==============================] - ETA: 0s - loss: 0.7710 - accuracy: 0.7500\n",
      "Epoch 3: saving model to checkpointvbpl_ft\\cp.ckpt\n",
      "5/5 [==============================] - 20s 4s/step - loss: 0.7710 - accuracy: 0.7500 - val_loss: 0.6791 - val_accuracy: 0.8250\n",
      "Epoch 4/10\n",
      "5/5 [==============================] - ETA: 0s - loss: 0.6285 - accuracy: 0.8433\n",
      "Epoch 4: saving model to checkpointvbpl_ft\\cp.ckpt\n",
      "5/5 [==============================] - 20s 4s/step - loss: 0.6285 - accuracy: 0.8433 - val_loss: 0.5600 - val_accuracy: 0.8350\n",
      "Epoch 5/10\n",
      "5/5 [==============================] - ETA: 0s - loss: 0.5342 - accuracy: 0.8617\n",
      "Epoch 5: saving model to checkpointvbpl_ft\\cp.ckpt\n",
      "5/5 [==============================] - 20s 4s/step - loss: 0.5342 - accuracy: 0.8617 - val_loss: 0.5296 - val_accuracy: 0.8550\n",
      "Epoch 6/10\n",
      "5/5 [==============================] - ETA: 0s - loss: 0.4851 - accuracy: 0.8750\n",
      "Epoch 6: saving model to checkpointvbpl_ft\\cp.ckpt\n",
      "5/5 [==============================] - 20s 4s/step - loss: 0.4851 - accuracy: 0.8750 - val_loss: 0.5285 - val_accuracy: 0.8600\n",
      "Epoch 7/10\n",
      "5/5 [==============================] - ETA: 0s - loss: 0.5105 - accuracy: 0.8667\n",
      "Epoch 7: saving model to checkpointvbpl_ft\\cp.ckpt\n",
      "5/5 [==============================] - 20s 4s/step - loss: 0.5105 - accuracy: 0.8667 - val_loss: 0.4827 - val_accuracy: 0.8800\n",
      "Epoch 8/10\n",
      "5/5 [==============================] - ETA: 0s - loss: 0.4656 - accuracy: 0.8567\n",
      "Epoch 8: saving model to checkpointvbpl_ft\\cp.ckpt\n",
      "5/5 [==============================] - 20s 4s/step - loss: 0.4656 - accuracy: 0.8567 - val_loss: 0.4884 - val_accuracy: 0.8800\n",
      "Epoch 9/10\n",
      "5/5 [==============================] - ETA: 0s - loss: 0.4347 - accuracy: 0.8717\n",
      "Epoch 9: saving model to checkpointvbpl_ft\\cp.ckpt\n",
      "5/5 [==============================] - 20s 4s/step - loss: 0.4347 - accuracy: 0.8717 - val_loss: 0.4862 - val_accuracy: 0.8650\n",
      "Epoch 9: early stopping\n",
      "7/7 [==============================] - 3s 359ms/step - loss: 0.8013 - accuracy: 0.7900\n",
      "Best accuracy: 0.8149999976158142\n",
      "Best parameters: {'lstm_unit': 128, 'dropout': 0.1}\n",
      "----------------------------------\n",
      "Epoch 1/10\n",
      "5/5 [==============================] - ETA: 0s - loss: 1.8514 - accuracy: 0.4333\n",
      "Epoch 1: saving model to checkpointvbpl_ft\\cp.ckpt\n",
      "5/5 [==============================] - 41s 7s/step - loss: 1.8514 - accuracy: 0.4333 - val_loss: 1.2084 - val_accuracy: 0.4200\n",
      "Epoch 2/10\n",
      "5/5 [==============================] - ETA: 0s - loss: 1.2074 - accuracy: 0.4117\n",
      "Epoch 2: saving model to checkpointvbpl_ft\\cp.ckpt\n",
      "5/5 [==============================] - 36s 7s/step - loss: 1.2074 - accuracy: 0.4117 - val_loss: 0.9788 - val_accuracy: 0.5400\n",
      "Epoch 3/10\n",
      "5/5 [==============================] - ETA: 0s - loss: 0.9449 - accuracy: 0.6067\n",
      "Epoch 3: saving model to checkpointvbpl_ft\\cp.ckpt\n",
      "5/5 [==============================] - 38s 8s/step - loss: 0.9449 - accuracy: 0.6067 - val_loss: 0.6632 - val_accuracy: 0.8050\n",
      "Epoch 4/10\n",
      "5/5 [==============================] - ETA: 0s - loss: 0.6565 - accuracy: 0.8233\n",
      "Epoch 4: saving model to checkpointvbpl_ft\\cp.ckpt\n",
      "5/5 [==============================] - 41s 8s/step - loss: 0.6565 - accuracy: 0.8233 - val_loss: 0.5994 - val_accuracy: 0.8300\n",
      "Epoch 5/10\n",
      "5/5 [==============================] - ETA: 0s - loss: 0.5357 - accuracy: 0.8417\n",
      "Epoch 5: saving model to checkpointvbpl_ft\\cp.ckpt\n",
      "5/5 [==============================] - 48s 10s/step - loss: 0.5357 - accuracy: 0.8417 - val_loss: 0.5617 - val_accuracy: 0.8500\n",
      "Epoch 6/10\n",
      "5/5 [==============================] - ETA: 0s - loss: 0.4847 - accuracy: 0.8517\n",
      "Epoch 6: saving model to checkpointvbpl_ft\\cp.ckpt\n",
      "5/5 [==============================] - 48s 10s/step - loss: 0.4847 - accuracy: 0.8517 - val_loss: 0.5207 - val_accuracy: 0.8500\n",
      "Epoch 7/10\n",
      "5/5 [==============================] - ETA: 0s - loss: 0.4279 - accuracy: 0.8667\n",
      "Epoch 7: saving model to checkpointvbpl_ft\\cp.ckpt\n",
      "5/5 [==============================] - 50s 10s/step - loss: 0.4279 - accuracy: 0.8667 - val_loss: 0.5397 - val_accuracy: 0.8400\n",
      "Epoch 8/10\n",
      "5/5 [==============================] - ETA: 0s - loss: 0.3954 - accuracy: 0.8850\n",
      "Epoch 8: saving model to checkpointvbpl_ft\\cp.ckpt\n",
      "5/5 [==============================] - 51s 10s/step - loss: 0.3954 - accuracy: 0.8850 - val_loss: 0.5359 - val_accuracy: 0.8450\n",
      "Epoch 8: early stopping\n",
      "7/7 [==============================] - 8s 1s/step - loss: 0.8328 - accuracy: 0.8100\n",
      "Best accuracy: 0.8149999976158142\n",
      "Best parameters: {'lstm_unit': 128, 'dropout': 0.1}\n",
      "----------------------------------\n",
      "Epoch 1/10\n",
      "5/5 [==============================] - ETA: 0s - loss: 1.3802 - accuracy: 0.4783\n",
      "Epoch 1: saving model to checkpointvbpl_ft\\cp.ckpt\n",
      "5/5 [==============================] - 52s 9s/step - loss: 1.3802 - accuracy: 0.4783 - val_loss: 0.7818 - val_accuracy: 0.7550\n",
      "Epoch 2/10\n",
      "5/5 [==============================] - ETA: 0s - loss: 0.8154 - accuracy: 0.7800\n",
      "Epoch 2: saving model to checkpointvbpl_ft\\cp.ckpt\n",
      "5/5 [==============================] - 46s 9s/step - loss: 0.8154 - accuracy: 0.7800 - val_loss: 0.6370 - val_accuracy: 0.8300\n",
      "Epoch 3/10\n",
      "5/5 [==============================] - ETA: 0s - loss: 0.6258 - accuracy: 0.8233\n",
      "Epoch 3: saving model to checkpointvbpl_ft\\cp.ckpt\n",
      "5/5 [==============================] - 46s 9s/step - loss: 0.6258 - accuracy: 0.8233 - val_loss: 0.5732 - val_accuracy: 0.8350\n",
      "Epoch 4/10\n",
      "5/5 [==============================] - ETA: 0s - loss: 0.5357 - accuracy: 0.8550\n",
      "Epoch 4: saving model to checkpointvbpl_ft\\cp.ckpt\n",
      "5/5 [==============================] - 48s 10s/step - loss: 0.5357 - accuracy: 0.8550 - val_loss: 0.4979 - val_accuracy: 0.8500\n",
      "Epoch 5/10\n",
      "5/5 [==============================] - ETA: 0s - loss: 0.4366 - accuracy: 0.8667\n",
      "Epoch 5: saving model to checkpointvbpl_ft\\cp.ckpt\n",
      "5/5 [==============================] - 49s 10s/step - loss: 0.4366 - accuracy: 0.8667 - val_loss: 0.5000 - val_accuracy: 0.8450\n",
      "Epoch 6/10\n",
      "5/5 [==============================] - ETA: 0s - loss: 0.3992 - accuracy: 0.8933\n",
      "Epoch 6: saving model to checkpointvbpl_ft\\cp.ckpt\n",
      "5/5 [==============================] - 48s 10s/step - loss: 0.3992 - accuracy: 0.8933 - val_loss: 0.4972 - val_accuracy: 0.8700\n",
      "Epoch 7/10\n",
      "5/5 [==============================] - ETA: 0s - loss: 0.4069 - accuracy: 0.8917\n",
      "Epoch 7: saving model to checkpointvbpl_ft\\cp.ckpt\n",
      "5/5 [==============================] - 48s 10s/step - loss: 0.4069 - accuracy: 0.8917 - val_loss: 0.5090 - val_accuracy: 0.8700\n",
      "Epoch 8/10\n",
      "5/5 [==============================] - ETA: 0s - loss: 0.3519 - accuracy: 0.8917\n",
      "Epoch 8: saving model to checkpointvbpl_ft\\cp.ckpt\n",
      "5/5 [==============================] - 47s 10s/step - loss: 0.3519 - accuracy: 0.8917 - val_loss: 0.4673 - val_accuracy: 0.8600\n",
      "Epoch 9/10\n",
      "5/5 [==============================] - ETA: 0s - loss: 0.3333 - accuracy: 0.8967\n",
      "Epoch 9: saving model to checkpointvbpl_ft\\cp.ckpt\n",
      "5/5 [==============================] - 48s 10s/step - loss: 0.3333 - accuracy: 0.8967 - val_loss: 0.5062 - val_accuracy: 0.8600\n",
      "Epoch 10/10\n",
      "5/5 [==============================] - ETA: 0s - loss: 0.3222 - accuracy: 0.9017\n",
      "Epoch 10: saving model to checkpointvbpl_ft\\cp.ckpt\n",
      "5/5 [==============================] - 49s 10s/step - loss: 0.3222 - accuracy: 0.9017 - val_loss: 0.6009 - val_accuracy: 0.8450\n",
      "Epoch 10: early stopping\n",
      "7/7 [==============================] - 10s 1s/step - loss: 0.8917 - accuracy: 0.8000\n",
      "Best accuracy: 0.8149999976158142\n",
      "Best parameters: {'lstm_unit': 128, 'dropout': 0.1}\n",
      "----------------------------------\n",
      "Epoch 1/10\n",
      "5/5 [==============================] - ETA: 0s - loss: 1.3924 - accuracy: 0.5200\n",
      "Epoch 1: saving model to checkpointvbpl_ft\\cp.ckpt\n",
      "5/5 [==============================] - 48s 8s/step - loss: 1.3924 - accuracy: 0.5200 - val_loss: 0.8526 - val_accuracy: 0.6050\n",
      "Epoch 2/10\n",
      "5/5 [==============================] - ETA: 0s - loss: 0.8440 - accuracy: 0.7500\n",
      "Epoch 2: saving model to checkpointvbpl_ft\\cp.ckpt\n",
      "5/5 [==============================] - 40s 8s/step - loss: 0.8440 - accuracy: 0.7500 - val_loss: 0.6558 - val_accuracy: 0.8050\n",
      "Epoch 3/10\n",
      "5/5 [==============================] - ETA: 0s - loss: 0.6975 - accuracy: 0.8333\n",
      "Epoch 3: saving model to checkpointvbpl_ft\\cp.ckpt\n",
      "5/5 [==============================] - 40s 8s/step - loss: 0.6975 - accuracy: 0.8333 - val_loss: 0.6390 - val_accuracy: 0.8350\n",
      "Epoch 4/10\n",
      "5/5 [==============================] - ETA: 0s - loss: 0.6241 - accuracy: 0.8500\n",
      "Epoch 4: saving model to checkpointvbpl_ft\\cp.ckpt\n",
      "5/5 [==============================] - 41s 8s/step - loss: 0.6241 - accuracy: 0.8500 - val_loss: 0.6172 - val_accuracy: 0.8300\n",
      "Epoch 5/10\n",
      "5/5 [==============================] - ETA: 0s - loss: 0.5453 - accuracy: 0.8583\n",
      "Epoch 5: saving model to checkpointvbpl_ft\\cp.ckpt\n",
      "5/5 [==============================] - 41s 8s/step - loss: 0.5453 - accuracy: 0.8583 - val_loss: 0.5772 - val_accuracy: 0.8400\n",
      "Epoch 6/10\n",
      "5/5 [==============================] - ETA: 0s - loss: 0.5160 - accuracy: 0.8583\n",
      "Epoch 6: saving model to checkpointvbpl_ft\\cp.ckpt\n",
      "5/5 [==============================] - 41s 9s/step - loss: 0.5160 - accuracy: 0.8583 - val_loss: 0.6420 - val_accuracy: 0.8200\n",
      "Epoch 7/10\n",
      "5/5 [==============================] - ETA: 0s - loss: 0.5097 - accuracy: 0.8533\n",
      "Epoch 7: saving model to checkpointvbpl_ft\\cp.ckpt\n",
      "5/5 [==============================] - 42s 9s/step - loss: 0.5097 - accuracy: 0.8533 - val_loss: 0.5128 - val_accuracy: 0.8600\n",
      "Epoch 8/10\n",
      "5/5 [==============================] - ETA: 0s - loss: 0.4327 - accuracy: 0.8750\n",
      "Epoch 8: saving model to checkpointvbpl_ft\\cp.ckpt\n",
      "5/5 [==============================] - 42s 8s/step - loss: 0.4327 - accuracy: 0.8750 - val_loss: 0.4756 - val_accuracy: 0.8750\n",
      "Epoch 9/10\n",
      "5/5 [==============================] - ETA: 0s - loss: 0.3923 - accuracy: 0.8750\n",
      "Epoch 9: saving model to checkpointvbpl_ft\\cp.ckpt\n",
      "5/5 [==============================] - 42s 9s/step - loss: 0.3923 - accuracy: 0.8750 - val_loss: 0.4914 - val_accuracy: 0.8900\n",
      "Epoch 10/10\n",
      "5/5 [==============================] - ETA: 0s - loss: 0.3720 - accuracy: 0.8900\n",
      "Epoch 10: saving model to checkpointvbpl_ft\\cp.ckpt\n",
      "5/5 [==============================] - 42s 9s/step - loss: 0.3720 - accuracy: 0.8900 - val_loss: 0.5121 - val_accuracy: 0.8550\n",
      "Epoch 10: early stopping\n",
      "7/7 [==============================] - 9s 1s/step - loss: 0.8678 - accuracy: 0.7750\n",
      "Best accuracy: 0.8149999976158142\n",
      "Best parameters: {'lstm_unit': 128, 'dropout': 0.1}\n",
      "----------------------------------\n",
      "Epoch 1/10\n",
      "5/5 [==============================] - ETA: 0s - loss: 1.7027 - accuracy: 0.4833\n",
      "Epoch 1: saving model to checkpointvbpl_ft\\cp.ckpt\n",
      "5/5 [==============================] - 51s 9s/step - loss: 1.7027 - accuracy: 0.4833 - val_loss: 1.0507 - val_accuracy: 0.5900\n",
      "Epoch 2/10\n",
      "5/5 [==============================] - ETA: 0s - loss: 0.9668 - accuracy: 0.7567\n",
      "Epoch 2: saving model to checkpointvbpl_ft\\cp.ckpt\n",
      "5/5 [==============================] - 42s 9s/step - loss: 0.9668 - accuracy: 0.7567 - val_loss: 0.8033 - val_accuracy: 0.8250\n",
      "Epoch 3/10\n",
      "5/5 [==============================] - ETA: 0s - loss: 0.7568 - accuracy: 0.8317\n",
      "Epoch 3: saving model to checkpointvbpl_ft\\cp.ckpt\n",
      "5/5 [==============================] - 43s 9s/step - loss: 0.7568 - accuracy: 0.8317 - val_loss: 0.6648 - val_accuracy: 0.8050\n",
      "Epoch 4/10\n",
      "5/5 [==============================] - ETA: 0s - loss: 0.7098 - accuracy: 0.8083\n",
      "Epoch 4: saving model to checkpointvbpl_ft\\cp.ckpt\n",
      "5/5 [==============================] - 43s 9s/step - loss: 0.7098 - accuracy: 0.8083 - val_loss: 0.6308 - val_accuracy: 0.8300\n",
      "Epoch 5/10\n",
      "5/5 [==============================] - ETA: 0s - loss: 0.5836 - accuracy: 0.8533\n",
      "Epoch 5: saving model to checkpointvbpl_ft\\cp.ckpt\n",
      "5/5 [==============================] - 42s 9s/step - loss: 0.5836 - accuracy: 0.8533 - val_loss: 0.5804 - val_accuracy: 0.8300\n",
      "Epoch 6/10\n",
      "5/5 [==============================] - ETA: 0s - loss: 0.5236 - accuracy: 0.8633\n",
      "Epoch 6: saving model to checkpointvbpl_ft\\cp.ckpt\n",
      "5/5 [==============================] - 42s 9s/step - loss: 0.5236 - accuracy: 0.8633 - val_loss: 0.5503 - val_accuracy: 0.8600\n",
      "Epoch 7/10\n",
      "5/5 [==============================] - ETA: 0s - loss: 0.5165 - accuracy: 0.8583\n",
      "Epoch 7: saving model to checkpointvbpl_ft\\cp.ckpt\n",
      "5/5 [==============================] - 43s 9s/step - loss: 0.5165 - accuracy: 0.8583 - val_loss: 0.5151 - val_accuracy: 0.8700\n",
      "Epoch 8/10\n",
      "5/5 [==============================] - ETA: 0s - loss: 0.4652 - accuracy: 0.8717\n",
      "Epoch 8: saving model to checkpointvbpl_ft\\cp.ckpt\n",
      "5/5 [==============================] - 41s 8s/step - loss: 0.4652 - accuracy: 0.8717 - val_loss: 0.4768 - val_accuracy: 0.8650\n",
      "Epoch 9/10\n",
      "5/5 [==============================] - ETA: 0s - loss: 0.4283 - accuracy: 0.8717\n",
      "Epoch 9: saving model to checkpointvbpl_ft\\cp.ckpt\n",
      "5/5 [==============================] - 43s 9s/step - loss: 0.4283 - accuracy: 0.8717 - val_loss: 0.4599 - val_accuracy: 0.8650\n",
      "Epoch 10/10\n",
      "5/5 [==============================] - ETA: 0s - loss: 0.3852 - accuracy: 0.8917\n",
      "Epoch 10: saving model to checkpointvbpl_ft\\cp.ckpt\n",
      "5/5 [==============================] - 42s 9s/step - loss: 0.3852 - accuracy: 0.8917 - val_loss: 0.5358 - val_accuracy: 0.8700\n",
      "7/7 [==============================] - 9s 1s/step - loss: 0.7467 - accuracy: 0.8100\n",
      "Best accuracy: 0.8149999976158142\n",
      "Best parameters: {'lstm_unit': 128, 'dropout': 0.1}\n",
      "----------------------------------\n",
      "Epoch 1/10\n",
      "5/5 [==============================] - ETA: 0s - loss: 1.3973 - accuracy: 0.4900\n",
      "Epoch 1: saving model to checkpointvbpl_ft\\cp.ckpt\n",
      "5/5 [==============================] - 51s 9s/step - loss: 1.3973 - accuracy: 0.4900 - val_loss: 1.1060 - val_accuracy: 0.5450\n",
      "Epoch 2/10\n",
      "5/5 [==============================] - ETA: 0s - loss: 0.8782 - accuracy: 0.7467\n",
      "Epoch 2: saving model to checkpointvbpl_ft\\cp.ckpt\n",
      "5/5 [==============================] - 42s 9s/step - loss: 0.8782 - accuracy: 0.7467 - val_loss: 0.6389 - val_accuracy: 0.8050\n",
      "Epoch 3/10\n",
      "5/5 [==============================] - ETA: 0s - loss: 0.6420 - accuracy: 0.8267\n",
      "Epoch 3: saving model to checkpointvbpl_ft\\cp.ckpt\n",
      "5/5 [==============================] - 42s 9s/step - loss: 0.6420 - accuracy: 0.8267 - val_loss: 0.5610 - val_accuracy: 0.8450\n",
      "Epoch 4/10\n",
      "5/5 [==============================] - ETA: 0s - loss: 0.5341 - accuracy: 0.8517\n",
      "Epoch 4: saving model to checkpointvbpl_ft\\cp.ckpt\n",
      "5/5 [==============================] - 42s 9s/step - loss: 0.5341 - accuracy: 0.8517 - val_loss: 0.6163 - val_accuracy: 0.8250\n",
      "Epoch 5/10\n",
      "5/5 [==============================] - ETA: 0s - loss: 0.4940 - accuracy: 0.8683\n",
      "Epoch 5: saving model to checkpointvbpl_ft\\cp.ckpt\n",
      "5/5 [==============================] - 42s 9s/step - loss: 0.4940 - accuracy: 0.8683 - val_loss: 0.5308 - val_accuracy: 0.8550\n",
      "Epoch 6/10\n",
      "5/5 [==============================] - ETA: 0s - loss: 0.4494 - accuracy: 0.8750\n",
      "Epoch 6: saving model to checkpointvbpl_ft\\cp.ckpt\n",
      "5/5 [==============================] - 42s 8s/step - loss: 0.4494 - accuracy: 0.8750 - val_loss: 0.5685 - val_accuracy: 0.8500\n",
      "Epoch 7/10\n",
      "5/5 [==============================] - ETA: 0s - loss: 0.4481 - accuracy: 0.8583\n",
      "Epoch 7: saving model to checkpointvbpl_ft\\cp.ckpt\n",
      "5/5 [==============================] - 42s 9s/step - loss: 0.4481 - accuracy: 0.8583 - val_loss: 0.4757 - val_accuracy: 0.8650\n",
      "Epoch 8/10\n",
      "5/5 [==============================] - ETA: 0s - loss: 0.4257 - accuracy: 0.8867\n",
      "Epoch 8: saving model to checkpointvbpl_ft\\cp.ckpt\n",
      "5/5 [==============================] - 44s 9s/step - loss: 0.4257 - accuracy: 0.8867 - val_loss: 0.5225 - val_accuracy: 0.8800\n",
      "Epoch 9/10\n",
      "5/5 [==============================] - ETA: 0s - loss: 0.3917 - accuracy: 0.8817\n",
      "Epoch 9: saving model to checkpointvbpl_ft\\cp.ckpt\n",
      "5/5 [==============================] - 43s 9s/step - loss: 0.3917 - accuracy: 0.8817 - val_loss: 0.4828 - val_accuracy: 0.8800\n",
      "Epoch 9: early stopping\n",
      "7/7 [==============================] - 10s 1s/step - loss: 0.6537 - accuracy: 0.8400\n",
      "Best accuracy: 0.8399999737739563\n",
      "Best parameters: {'lstm_unit': 256, 'dropout': 0.4}\n",
      "----------------------------------\n",
      "Epoch 1/10\n",
      "5/5 [==============================] - ETA: 0s - loss: 1.5350 - accuracy: 0.4450\n",
      "Epoch 1: saving model to checkpointvbpl_ft\\cp.ckpt\n",
      "5/5 [==============================] - 53s 10s/step - loss: 1.5350 - accuracy: 0.4450 - val_loss: 1.0981 - val_accuracy: 0.7900\n",
      "Epoch 2/10\n",
      "5/5 [==============================] - ETA: 0s - loss: 1.0032 - accuracy: 0.6750\n",
      "Epoch 2: saving model to checkpointvbpl_ft\\cp.ckpt\n",
      "5/5 [==============================] - 45s 9s/step - loss: 1.0032 - accuracy: 0.6750 - val_loss: 0.7142 - val_accuracy: 0.7950\n",
      "Epoch 3/10\n",
      "5/5 [==============================] - ETA: 0s - loss: 0.7723 - accuracy: 0.8000\n",
      "Epoch 3: saving model to checkpointvbpl_ft\\cp.ckpt\n",
      "5/5 [==============================] - 44s 9s/step - loss: 0.7723 - accuracy: 0.8000 - val_loss: 0.7240 - val_accuracy: 0.8100\n",
      "Epoch 4/10\n",
      "5/5 [==============================] - ETA: 0s - loss: 0.6552 - accuracy: 0.8283\n",
      "Epoch 4: saving model to checkpointvbpl_ft\\cp.ckpt\n",
      "5/5 [==============================] - 46s 9s/step - loss: 0.6552 - accuracy: 0.8283 - val_loss: 0.5811 - val_accuracy: 0.8400\n",
      "Epoch 5/10\n",
      "5/5 [==============================] - ETA: 0s - loss: 0.5786 - accuracy: 0.8400\n",
      "Epoch 5: saving model to checkpointvbpl_ft\\cp.ckpt\n",
      "5/5 [==============================] - 45s 9s/step - loss: 0.5786 - accuracy: 0.8400 - val_loss: 0.5765 - val_accuracy: 0.8400\n",
      "Epoch 6/10\n",
      "5/5 [==============================] - ETA: 0s - loss: 0.5573 - accuracy: 0.8467\n",
      "Epoch 6: saving model to checkpointvbpl_ft\\cp.ckpt\n",
      "5/5 [==============================] - 45s 9s/step - loss: 0.5573 - accuracy: 0.8467 - val_loss: 0.5552 - val_accuracy: 0.8650\n",
      "Epoch 7/10\n",
      "5/5 [==============================] - ETA: 0s - loss: 0.5844 - accuracy: 0.8383\n",
      "Epoch 7: saving model to checkpointvbpl_ft\\cp.ckpt\n",
      "5/5 [==============================] - 46s 9s/step - loss: 0.5844 - accuracy: 0.8383 - val_loss: 0.5132 - val_accuracy: 0.8700\n",
      "Epoch 8/10\n",
      "5/5 [==============================] - ETA: 0s - loss: 0.5076 - accuracy: 0.8467\n",
      "Epoch 8: saving model to checkpointvbpl_ft\\cp.ckpt\n",
      "5/5 [==============================] - 46s 9s/step - loss: 0.5076 - accuracy: 0.8467 - val_loss: 0.5057 - val_accuracy: 0.8750\n",
      "Epoch 9/10\n",
      "5/5 [==============================] - ETA: 0s - loss: 0.4958 - accuracy: 0.8567\n",
      "Epoch 9: saving model to checkpointvbpl_ft\\cp.ckpt\n",
      "5/5 [==============================] - 46s 9s/step - loss: 0.4958 - accuracy: 0.8567 - val_loss: 0.4593 - val_accuracy: 0.8800\n",
      "Epoch 10/10\n",
      "5/5 [==============================] - ETA: 0s - loss: 0.4403 - accuracy: 0.8767\n",
      "Epoch 10: saving model to checkpointvbpl_ft\\cp.ckpt\n",
      "5/5 [==============================] - 46s 9s/step - loss: 0.4403 - accuracy: 0.8767 - val_loss: 0.5536 - val_accuracy: 0.8500\n",
      "7/7 [==============================] - 10s 1s/step - loss: 0.6747 - accuracy: 0.8150\n",
      "Best accuracy: 0.8399999737739563\n",
      "Best parameters: {'lstm_unit': 256, 'dropout': 0.4}\n",
      "----------------------------------\n",
      "Epoch 1/10\n",
      "5/5 [==============================] - ETA: 0s - loss: 1.5094 - accuracy: 0.4350\n",
      "Epoch 1: saving model to checkpointvbpl_ft\\cp.ckpt\n",
      "5/5 [==============================] - 51s 9s/step - loss: 1.5094 - accuracy: 0.4350 - val_loss: 1.1486 - val_accuracy: 0.7450\n",
      "Epoch 2/10\n",
      "5/5 [==============================] - ETA: 0s - loss: 0.9702 - accuracy: 0.7833\n",
      "Epoch 2: saving model to checkpointvbpl_ft\\cp.ckpt\n",
      "5/5 [==============================] - 45s 9s/step - loss: 0.9702 - accuracy: 0.7833 - val_loss: 0.7545 - val_accuracy: 0.8000\n",
      "Epoch 3/10\n",
      "5/5 [==============================] - ETA: 0s - loss: 0.6468 - accuracy: 0.8350\n",
      "Epoch 3: saving model to checkpointvbpl_ft\\cp.ckpt\n",
      "5/5 [==============================] - 46s 9s/step - loss: 0.6468 - accuracy: 0.8350 - val_loss: 0.6191 - val_accuracy: 0.8300\n",
      "Epoch 4/10\n",
      "5/5 [==============================] - ETA: 0s - loss: 0.5767 - accuracy: 0.8550\n",
      "Epoch 4: saving model to checkpointvbpl_ft\\cp.ckpt\n",
      "5/5 [==============================] - 46s 9s/step - loss: 0.5767 - accuracy: 0.8550 - val_loss: 0.6582 - val_accuracy: 0.8200\n",
      "Epoch 5/10\n",
      "5/5 [==============================] - ETA: 0s - loss: 0.5289 - accuracy: 0.8583\n",
      "Epoch 5: saving model to checkpointvbpl_ft\\cp.ckpt\n",
      "5/5 [==============================] - 46s 9s/step - loss: 0.5289 - accuracy: 0.8583 - val_loss: 0.5736 - val_accuracy: 0.8450\n",
      "Epoch 6/10\n",
      "5/5 [==============================] - ETA: 0s - loss: 0.4500 - accuracy: 0.8733\n",
      "Epoch 6: saving model to checkpointvbpl_ft\\cp.ckpt\n",
      "5/5 [==============================] - 46s 9s/step - loss: 0.4500 - accuracy: 0.8733 - val_loss: 0.5772 - val_accuracy: 0.8600\n",
      "Epoch 7/10\n",
      "5/5 [==============================] - ETA: 0s - loss: 0.4037 - accuracy: 0.8833\n",
      "Epoch 7: saving model to checkpointvbpl_ft\\cp.ckpt\n",
      "5/5 [==============================] - 46s 9s/step - loss: 0.4037 - accuracy: 0.8833 - val_loss: 0.5216 - val_accuracy: 0.8650\n",
      "Epoch 8/10\n",
      "5/5 [==============================] - ETA: 0s - loss: 0.3839 - accuracy: 0.8833\n",
      "Epoch 8: saving model to checkpointvbpl_ft\\cp.ckpt\n",
      "5/5 [==============================] - 46s 9s/step - loss: 0.3839 - accuracy: 0.8833 - val_loss: 0.5441 - val_accuracy: 0.8500\n",
      "Epoch 9/10\n",
      "5/5 [==============================] - ETA: 0s - loss: 0.3448 - accuracy: 0.8917\n",
      "Epoch 9: saving model to checkpointvbpl_ft\\cp.ckpt\n",
      "5/5 [==============================] - 46s 9s/step - loss: 0.3448 - accuracy: 0.8917 - val_loss: 0.4991 - val_accuracy: 0.8650\n",
      "Epoch 10/10\n",
      "5/5 [==============================] - ETA: 0s - loss: 0.3274 - accuracy: 0.8983\n",
      "Epoch 10: saving model to checkpointvbpl_ft\\cp.ckpt\n",
      "5/5 [==============================] - 46s 9s/step - loss: 0.3274 - accuracy: 0.8983 - val_loss: 0.5190 - val_accuracy: 0.8450\n",
      "7/7 [==============================] - 12s 2s/step - loss: 0.7437 - accuracy: 0.8000\n",
      "Best accuracy: 0.8399999737739563\n",
      "Best parameters: {'lstm_unit': 256, 'dropout': 0.4}\n",
      "----------------------------------\n",
      "Epoch 1/10\n",
      "5/5 [==============================] - ETA: 0s - loss: 1.6291 - accuracy: 0.3500\n",
      "Epoch 1: saving model to checkpointvbpl_ft\\cp.ckpt\n",
      "5/5 [==============================] - 56s 10s/step - loss: 1.6291 - accuracy: 0.3500 - val_loss: 1.2918 - val_accuracy: 0.8000\n",
      "Epoch 2/10\n",
      "5/5 [==============================] - ETA: 0s - loss: 1.0939 - accuracy: 0.5967\n",
      "Epoch 2: saving model to checkpointvbpl_ft\\cp.ckpt\n",
      "5/5 [==============================] - 47s 10s/step - loss: 1.0939 - accuracy: 0.5967 - val_loss: 0.7392 - val_accuracy: 0.7850\n",
      "Epoch 3/10\n",
      "5/5 [==============================] - ETA: 0s - loss: 1.0275 - accuracy: 0.6600\n",
      "Epoch 3: saving model to checkpointvbpl_ft\\cp.ckpt\n",
      "5/5 [==============================] - 49s 10s/step - loss: 1.0275 - accuracy: 0.6600 - val_loss: 0.7934 - val_accuracy: 0.8150\n",
      "Epoch 4/10\n",
      "5/5 [==============================] - ETA: 0s - loss: 0.9037 - accuracy: 0.7583\n",
      "Epoch 4: saving model to checkpointvbpl_ft\\cp.ckpt\n",
      "5/5 [==============================] - 48s 10s/step - loss: 0.9037 - accuracy: 0.7583 - val_loss: 0.8901 - val_accuracy: 0.7450\n",
      "Epoch 4: early stopping\n",
      "7/7 [==============================] - 13s 2s/step - loss: 1.0058 - accuracy: 0.7200\n",
      "Best accuracy: 0.8399999737739563\n",
      "Best parameters: {'lstm_unit': 256, 'dropout': 0.4}\n",
      "----------------------------------\n",
      "Epoch 1/10\n",
      "5/5 [==============================] - ETA: 0s - loss: 1.5886 - accuracy: 0.4550\n",
      "Epoch 1: saving model to checkpointvbpl_ft\\cp.ckpt\n",
      "5/5 [==============================] - 60s 11s/step - loss: 1.5886 - accuracy: 0.4550 - val_loss: 1.0084 - val_accuracy: 0.7500\n",
      "Epoch 2/10\n",
      "5/5 [==============================] - ETA: 0s - loss: 0.9194 - accuracy: 0.8100\n",
      "Epoch 2: saving model to checkpointvbpl_ft\\cp.ckpt\n",
      "5/5 [==============================] - 52s 11s/step - loss: 0.9194 - accuracy: 0.8100 - val_loss: 0.6025 - val_accuracy: 0.8150\n",
      "Epoch 3/10\n",
      "5/5 [==============================] - ETA: 0s - loss: 0.7044 - accuracy: 0.8417\n",
      "Epoch 3: saving model to checkpointvbpl_ft\\cp.ckpt\n",
      "5/5 [==============================] - 51s 10s/step - loss: 0.7044 - accuracy: 0.8417 - val_loss: 0.6241 - val_accuracy: 0.8150\n",
      "Epoch 4/10\n",
      "5/5 [==============================] - ETA: 0s - loss: 0.6482 - accuracy: 0.8383\n",
      "Epoch 4: saving model to checkpointvbpl_ft\\cp.ckpt\n",
      "5/5 [==============================] - 51s 10s/step - loss: 0.6482 - accuracy: 0.8383 - val_loss: 0.5755 - val_accuracy: 0.8350\n",
      "Epoch 5/10\n",
      "5/5 [==============================] - ETA: 0s - loss: 0.4941 - accuracy: 0.8567\n",
      "Epoch 5: saving model to checkpointvbpl_ft\\cp.ckpt\n",
      "5/5 [==============================] - 50s 10s/step - loss: 0.4941 - accuracy: 0.8567 - val_loss: 0.5229 - val_accuracy: 0.8450\n",
      "Epoch 6/10\n",
      "5/5 [==============================] - ETA: 0s - loss: 0.4630 - accuracy: 0.8667\n",
      "Epoch 6: saving model to checkpointvbpl_ft\\cp.ckpt\n",
      "5/5 [==============================] - 51s 10s/step - loss: 0.4630 - accuracy: 0.8667 - val_loss: 0.5196 - val_accuracy: 0.8450\n",
      "Epoch 7/10\n",
      "5/5 [==============================] - ETA: 0s - loss: 0.4321 - accuracy: 0.8750\n",
      "Epoch 7: saving model to checkpointvbpl_ft\\cp.ckpt\n",
      "5/5 [==============================] - 50s 10s/step - loss: 0.4321 - accuracy: 0.8750 - val_loss: 0.5231 - val_accuracy: 0.8600\n",
      "Epoch 8/10\n",
      "5/5 [==============================] - ETA: 0s - loss: 0.4039 - accuracy: 0.8800\n",
      "Epoch 8: saving model to checkpointvbpl_ft\\cp.ckpt\n",
      "5/5 [==============================] - 51s 10s/step - loss: 0.4039 - accuracy: 0.8800 - val_loss: 0.4890 - val_accuracy: 0.8700\n",
      "Epoch 9/10\n",
      "5/5 [==============================] - ETA: 0s - loss: 0.3717 - accuracy: 0.8833\n",
      "Epoch 9: saving model to checkpointvbpl_ft\\cp.ckpt\n",
      "5/5 [==============================] - 51s 11s/step - loss: 0.3717 - accuracy: 0.8833 - val_loss: 0.4835 - val_accuracy: 0.8500\n",
      "Epoch 10/10\n",
      "5/5 [==============================] - ETA: 0s - loss: 0.3376 - accuracy: 0.8900\n",
      "Epoch 10: saving model to checkpointvbpl_ft\\cp.ckpt\n",
      "5/5 [==============================] - 50s 10s/step - loss: 0.3376 - accuracy: 0.8900 - val_loss: 0.5600 - val_accuracy: 0.8650\n",
      "7/7 [==============================] - 14s 2s/step - loss: 0.7377 - accuracy: 0.8350\n",
      "Best accuracy: 0.8399999737739563\n",
      "Best parameters: {'lstm_unit': 256, 'dropout': 0.4}\n",
      "----------------------------------\n",
      "Epoch 1/10\n",
      "5/5 [==============================] - ETA: 0s - loss: 1.3802 - accuracy: 0.5283\n",
      "Epoch 1: saving model to checkpointvbpl_ft\\cp.ckpt\n",
      "5/5 [==============================] - 57s 10s/step - loss: 1.3802 - accuracy: 0.5283 - val_loss: 0.9035 - val_accuracy: 0.7950\n",
      "Epoch 2/10\n",
      "5/5 [==============================] - ETA: 0s - loss: 0.9420 - accuracy: 0.7650\n",
      "Epoch 2: saving model to checkpointvbpl_ft\\cp.ckpt\n",
      "5/5 [==============================] - 49s 10s/step - loss: 0.9420 - accuracy: 0.7650 - val_loss: 0.7689 - val_accuracy: 0.7100\n",
      "Epoch 3/10\n",
      "5/5 [==============================] - ETA: 0s - loss: 0.7490 - accuracy: 0.7600\n",
      "Epoch 3: saving model to checkpointvbpl_ft\\cp.ckpt\n",
      "5/5 [==============================] - 49s 10s/step - loss: 0.7490 - accuracy: 0.7600 - val_loss: 0.8049 - val_accuracy: 0.8200\n",
      "Epoch 4/10\n",
      "5/5 [==============================] - ETA: 0s - loss: 0.6272 - accuracy: 0.8450\n",
      "Epoch 4: saving model to checkpointvbpl_ft\\cp.ckpt\n",
      "5/5 [==============================] - 50s 10s/step - loss: 0.6272 - accuracy: 0.8450 - val_loss: 0.6507 - val_accuracy: 0.8100\n",
      "Epoch 5/10\n",
      "5/5 [==============================] - ETA: 0s - loss: 0.5540 - accuracy: 0.8600\n",
      "Epoch 5: saving model to checkpointvbpl_ft\\cp.ckpt\n",
      "5/5 [==============================] - 49s 10s/step - loss: 0.5540 - accuracy: 0.8600 - val_loss: 0.5841 - val_accuracy: 0.8400\n",
      "Epoch 6/10\n",
      "5/5 [==============================] - ETA: 0s - loss: 0.4930 - accuracy: 0.8617\n",
      "Epoch 6: saving model to checkpointvbpl_ft\\cp.ckpt\n",
      "5/5 [==============================] - 50s 10s/step - loss: 0.4930 - accuracy: 0.8617 - val_loss: 0.4766 - val_accuracy: 0.8750\n",
      "Epoch 7/10\n",
      "5/5 [==============================] - ETA: 0s - loss: 0.4358 - accuracy: 0.8700\n",
      "Epoch 7: saving model to checkpointvbpl_ft\\cp.ckpt\n",
      "5/5 [==============================] - 49s 10s/step - loss: 0.4358 - accuracy: 0.8700 - val_loss: 0.4801 - val_accuracy: 0.8700\n",
      "Epoch 8/10\n",
      "5/5 [==============================] - ETA: 0s - loss: 0.4419 - accuracy: 0.8833\n",
      "Epoch 8: saving model to checkpointvbpl_ft\\cp.ckpt\n",
      "5/5 [==============================] - 48s 10s/step - loss: 0.4419 - accuracy: 0.8833 - val_loss: 0.5443 - val_accuracy: 0.8650\n",
      "Epoch 8: early stopping\n",
      "7/7 [==============================] - 11s 2s/step - loss: 0.8007 - accuracy: 0.7800\n",
      "Best accuracy: 0.8399999737739563\n",
      "Best parameters: {'lstm_unit': 256, 'dropout': 0.4}\n",
      "----------------------------------\n",
      "Epoch 1/10\n",
      "5/5 [==============================] - ETA: 0s - loss: 1.7046 - accuracy: 0.4650\n",
      "Epoch 1: saving model to checkpointvbpl_ft\\cp.ckpt\n",
      "5/5 [==============================] - 57s 10s/step - loss: 1.7046 - accuracy: 0.4650 - val_loss: 1.3269 - val_accuracy: 0.7050\n",
      "Epoch 2/10\n",
      "5/5 [==============================] - ETA: 0s - loss: 1.0406 - accuracy: 0.7683\n",
      "Epoch 2: saving model to checkpointvbpl_ft\\cp.ckpt\n",
      "5/5 [==============================] - 53s 11s/step - loss: 1.0406 - accuracy: 0.7683 - val_loss: 0.7869 - val_accuracy: 0.8250\n",
      "Epoch 3/10\n",
      "5/5 [==============================] - ETA: 0s - loss: 0.9416 - accuracy: 0.7983 \n",
      "Epoch 3: saving model to checkpointvbpl_ft\\cp.ckpt\n",
      "5/5 [==============================] - 55s 11s/step - loss: 0.9416 - accuracy: 0.7983 - val_loss: 0.7204 - val_accuracy: 0.8100\n",
      "Epoch 4/10\n",
      "5/5 [==============================] - ETA: 0s - loss: 0.8675 - accuracy: 0.7600 \n",
      "Epoch 4: saving model to checkpointvbpl_ft\\cp.ckpt\n",
      "5/5 [==============================] - 56s 11s/step - loss: 0.8675 - accuracy: 0.7600 - val_loss: 0.7098 - val_accuracy: 0.8150\n",
      "Epoch 5/10\n",
      "5/5 [==============================] - ETA: 0s - loss: 0.7274 - accuracy: 0.7917\n",
      "Epoch 5: saving model to checkpointvbpl_ft\\cp.ckpt\n",
      "5/5 [==============================] - 55s 11s/step - loss: 0.7274 - accuracy: 0.7917 - val_loss: 0.6711 - val_accuracy: 0.8100\n",
      "Epoch 6/10\n",
      "5/5 [==============================] - ETA: 0s - loss: 0.6024 - accuracy: 0.8300\n",
      "Epoch 6: saving model to checkpointvbpl_ft\\cp.ckpt\n",
      "5/5 [==============================] - 55s 11s/step - loss: 0.6024 - accuracy: 0.8300 - val_loss: 0.6507 - val_accuracy: 0.8200\n",
      "Epoch 7/10\n",
      "5/5 [==============================] - ETA: 0s - loss: 0.5443 - accuracy: 0.8417 \n",
      "Epoch 7: saving model to checkpointvbpl_ft\\cp.ckpt\n",
      "5/5 [==============================] - 55s 11s/step - loss: 0.5443 - accuracy: 0.8417 - val_loss: 0.6003 - val_accuracy: 0.8250\n",
      "Epoch 8/10\n",
      "5/5 [==============================] - ETA: 0s - loss: 0.4633 - accuracy: 0.8717 \n",
      "Epoch 8: saving model to checkpointvbpl_ft\\cp.ckpt\n",
      "5/5 [==============================] - 55s 11s/step - loss: 0.4633 - accuracy: 0.8717 - val_loss: 0.6530 - val_accuracy: 0.8200\n",
      "Epoch 9/10\n",
      "5/5 [==============================] - ETA: 0s - loss: 0.4820 - accuracy: 0.8683\n",
      "Epoch 9: saving model to checkpointvbpl_ft\\cp.ckpt\n",
      "5/5 [==============================] - 53s 11s/step - loss: 0.4820 - accuracy: 0.8683 - val_loss: 0.5394 - val_accuracy: 0.8550\n",
      "Epoch 10/10\n",
      "5/5 [==============================] - ETA: 0s - loss: 0.4396 - accuracy: 0.8783 \n",
      "Epoch 10: saving model to checkpointvbpl_ft\\cp.ckpt\n",
      "5/5 [==============================] - 55s 11s/step - loss: 0.4396 - accuracy: 0.8783 - val_loss: 0.5204 - val_accuracy: 0.8750\n",
      "7/7 [==============================] - 16s 2s/step - loss: 0.6586 - accuracy: 0.8050\n",
      "Best accuracy: 0.8399999737739563\n",
      "Best parameters: {'lstm_unit': 256, 'dropout': 0.4}\n",
      "----------------------------------\n",
      "Epoch 1/10\n",
      "5/5 [==============================] - ETA: 0s - loss: 1.4744 - accuracy: 0.3850\n",
      "Epoch 1: saving model to checkpointvbpl_ft\\cp.ckpt\n",
      "5/5 [==============================] - 63s 12s/step - loss: 1.4744 - accuracy: 0.3850 - val_loss: 1.2172 - val_accuracy: 0.5400\n",
      "Epoch 2/10\n",
      "5/5 [==============================] - ETA: 0s - loss: 1.0752 - accuracy: 0.6433 \n",
      "Epoch 2: saving model to checkpointvbpl_ft\\cp.ckpt\n",
      "5/5 [==============================] - 59s 12s/step - loss: 1.0752 - accuracy: 0.6433 - val_loss: 0.7650 - val_accuracy: 0.7600\n",
      "Epoch 3/10\n",
      "5/5 [==============================] - ETA: 0s - loss: 0.8240 - accuracy: 0.8117 \n",
      "Epoch 3: saving model to checkpointvbpl_ft\\cp.ckpt\n",
      "5/5 [==============================] - 60s 12s/step - loss: 0.8240 - accuracy: 0.8117 - val_loss: 0.7027 - val_accuracy: 0.7900\n",
      "Epoch 4/10\n",
      "5/5 [==============================] - ETA: 0s - loss: 0.6722 - accuracy: 0.8183 \n",
      "Epoch 4: saving model to checkpointvbpl_ft\\cp.ckpt\n",
      "5/5 [==============================] - 59s 12s/step - loss: 0.6722 - accuracy: 0.8183 - val_loss: 0.6249 - val_accuracy: 0.8050\n",
      "Epoch 5/10\n",
      "5/5 [==============================] - ETA: 0s - loss: 0.5879 - accuracy: 0.8467 \n",
      "Epoch 5: saving model to checkpointvbpl_ft\\cp.ckpt\n",
      "5/5 [==============================] - 62s 13s/step - loss: 0.5879 - accuracy: 0.8467 - val_loss: 0.6208 - val_accuracy: 0.8100\n",
      "Epoch 6/10\n",
      "5/5 [==============================] - ETA: 0s - loss: 0.5572 - accuracy: 0.8533 \n",
      "Epoch 6: saving model to checkpointvbpl_ft\\cp.ckpt\n",
      "5/5 [==============================] - 61s 12s/step - loss: 0.5572 - accuracy: 0.8533 - val_loss: 0.5759 - val_accuracy: 0.8350\n",
      "Epoch 7/10\n",
      "5/5 [==============================] - ETA: 0s - loss: 0.5127 - accuracy: 0.8533 \n",
      "Epoch 7: saving model to checkpointvbpl_ft\\cp.ckpt\n",
      "5/5 [==============================] - 61s 12s/step - loss: 0.5127 - accuracy: 0.8533 - val_loss: 0.5384 - val_accuracy: 0.8200\n",
      "Epoch 8/10\n",
      "5/5 [==============================] - ETA: 0s - loss: 0.4944 - accuracy: 0.8550 \n",
      "Epoch 8: saving model to checkpointvbpl_ft\\cp.ckpt\n",
      "5/5 [==============================] - 61s 13s/step - loss: 0.4944 - accuracy: 0.8550 - val_loss: 0.5022 - val_accuracy: 0.8750\n",
      "Epoch 9/10\n",
      "5/5 [==============================] - ETA: 0s - loss: 0.4637 - accuracy: 0.8683 \n",
      "Epoch 9: saving model to checkpointvbpl_ft\\cp.ckpt\n",
      "5/5 [==============================] - 59s 12s/step - loss: 0.4637 - accuracy: 0.8683 - val_loss: 0.6279 - val_accuracy: 0.8500\n",
      "Epoch 10/10\n",
      "5/5 [==============================] - ETA: 0s - loss: 0.4092 - accuracy: 0.8767 \n",
      "Epoch 10: saving model to checkpointvbpl_ft\\cp.ckpt\n",
      "5/5 [==============================] - 59s 12s/step - loss: 0.4092 - accuracy: 0.8767 - val_loss: 0.5785 - val_accuracy: 0.8200\n",
      "Epoch 10: early stopping\n",
      "7/7 [==============================] - 18s 2s/step - loss: 0.8461 - accuracy: 0.7650\n",
      "Best accuracy: 0.8399999737739563\n",
      "Best parameters: {'lstm_unit': 256, 'dropout': 0.4}\n",
      "----------------------------------\n"
     ]
    }
   ],
   "source": [
    "from itertools import product\n",
    "\n",
    "lstm_unit = [32, 64, 128, 256, 300]\n",
    "dropout = [0, 0.1, 0.2, 0.3, 0.4, 0.5]\n",
    "\n",
    "# Tách từ\n",
    "data_tokenizer_sample = sampled_df.copy()\n",
    "data_tokenizer_sample['Text'] = data_tokenizer_sample['Text'].apply(word_tokenize)\n",
    "data_tokenizer_pad_sample, vocab_size, words_to_index = tokenization(data_tokenizer_sample['Text'])\n",
    "\n",
    "X = data_tokenizer_pad_sample\n",
    "y = data_tokenizer_sample['Quan hệ']\n",
    "classes = data_tokenizer_sample['Quan hệ'].nunique()\n",
    "\n",
    "X_train_val, X_test, y_train_val, y_test = train_test_split(X, y.values, test_size=0.2, random_state=40)\n",
    "\n",
    "# encode label\n",
    "label_encoder = LabelEncoder()\n",
    "label_encoder.fit(data_tokenizer_sample[\"Quan hệ\"].values)\n",
    "y_train_val = label_encoder.transform(y_train_val)\n",
    "y_test = label_encoder.transform(y_test)\n",
    "\n",
    "# Chia train_val thành train và validation\n",
    "X_train, X_val, y_train, y_val  = train_test_split(X_train_val, y_train_val, test_size=0.25, random_state=40)\n",
    "\n",
    "\n",
    "best_accuracy = 0\n",
    "best_params = {}\n",
    "\n",
    "for units, drop_val in product(lstm_unit, dropout):\n",
    "    params = {'lstm_unit': units, 'dropout': drop_val}\n",
    "    model = create_model(250, units, drop_val, classes, vocab_size, words_to_index)\n",
    "\n",
    "    checkpoint_path = \"\".join(['checkpoint','vbpl_ft',\"/cp.ckpt\"])\n",
    "    checkpoint_dir = os.path.dirname(checkpoint_path)\n",
    "    earlystopping = EarlyStopping(monitor='val_loss', mode='min', verbose=1,patience=2)\n",
    "    checkpointing = tf.keras.callbacks.ModelCheckpoint(filepath=checkpoint_path,\n",
    "                                                    save_weights_only=True,\n",
    "                                                    verbose=1)\n",
    "    model.fit(X_train, y_train, batch_size=128, epochs=10, callbacks=[earlystopping,checkpointing], validation_data=(X_val, y_val))\n",
    "\n",
    "    # Calculate accuracy\n",
    "    loss, accuracy = model.evaluate(X_test, y_test)\n",
    "\n",
    "    # Check if current parameters result in better accuracy\n",
    "    if accuracy > best_accuracy:\n",
    "        best_accuracy = accuracy\n",
    "        best_params = params\n",
    "\n",
    "    print(\"Best accuracy:\", best_accuracy)\n",
    "    print(\"Best parameters:\", best_params)\n",
    "    print(\"----------------------------------\")\n"
   ]
  },
  {
   "cell_type": "code",
   "execution_count": 47,
   "metadata": {},
   "outputs": [
    {
     "name": "stdout",
     "output_type": "stream",
     "text": [
      "Epoch 1/3\n"
     ]
    },
    {
     "name": "stderr",
     "output_type": "stream",
     "text": [
      "c:\\Users\\Administrator\\AppData\\Local\\Programs\\Python\\Python311\\Lib\\site-packages\\keras\\src\\initializers\\initializers.py:120: UserWarning:\n",
      "\n",
      "The initializer GlorotNormal is unseeded and being called multiple times, which will return identical values each time (even if the initializer is unseeded). Please update your code to provide a seed to the initializer, or avoid using the same initializer instance more than once.\n",
      "\n"
     ]
    },
    {
     "name": "stdout",
     "output_type": "stream",
     "text": [
      "2/2 [==============================] - ETA: 0s - loss: 1.7804 - accuracy: 0.4833 \n",
      "Epoch 1: saving model to checkpointvbpl_ft\\cp.ckpt\n",
      "2/2 [==============================] - 25s 9s/step - loss: 1.7804 - accuracy: 0.4833 - val_loss: 0.6754 - val_accuracy: 0.6000\n",
      "Epoch 2/3\n",
      "2/2 [==============================] - ETA: 0s - loss: 1.5221 - accuracy: 0.3333\n",
      "Epoch 2: saving model to checkpointvbpl_ft\\cp.ckpt\n",
      "2/2 [==============================] - 15s 8s/step - loss: 1.5221 - accuracy: 0.3333 - val_loss: 1.1825 - val_accuracy: 0.4500\n",
      "Epoch 3/3\n",
      "2/2 [==============================] - ETA: 0s - loss: 1.3228 - accuracy: 0.6500\n",
      "Epoch 3: saving model to checkpointvbpl_ft\\cp.ckpt\n",
      "2/2 [==============================] - 15s 8s/step - loss: 1.3228 - accuracy: 0.6500 - val_loss: 0.9924 - val_accuracy: 0.8500\n",
      "Epoch 3: early stopping\n",
      "1/1 [==============================] - 2s 2s/step - loss: 1.2091 - accuracy: 0.7000\n",
      "current parameter: {'lstm_unit': 224, 'dropout': 0.1, 'batchsize': 32}\n",
      "Best accuracy: 0.699999988079071\n",
      "Best parameters: {'lstm_unit': 224, 'dropout': 0.1, 'batchsize': 32}\n",
      "----------------------------------\n",
      "Epoch 1/3\n",
      "1/1 [==============================] - ETA: 0s - loss: 1.9449 - accuracy: 0.2667\n",
      "Epoch 1: saving model to checkpointvbpl_ft\\cp.ckpt\n",
      "1/1 [==============================] - 49s 49s/step - loss: 1.9449 - accuracy: 0.2667 - val_loss: 1.6046 - val_accuracy: 0.6000\n",
      "Epoch 2/3\n",
      "1/1 [==============================] - ETA: 0s - loss: 1.6683 - accuracy: 0.4667\n",
      "Epoch 2: saving model to checkpointvbpl_ft\\cp.ckpt\n",
      "1/1 [==============================] - 41s 41s/step - loss: 1.6683 - accuracy: 0.4667 - val_loss: 0.7168 - val_accuracy: 0.6000\n",
      "Epoch 3/3\n",
      "1/1 [==============================] - ETA: 0s - loss: 1.4224 - accuracy: 0.4667\n",
      "Epoch 3: saving model to checkpointvbpl_ft\\cp.ckpt\n",
      "1/1 [==============================] - 40s 40s/step - loss: 1.4224 - accuracy: 0.4667 - val_loss: 0.7902 - val_accuracy: 0.6000\n",
      "1/1 [==============================] - 2s 2s/step - loss: 1.2533 - accuracy: 0.4500\n",
      "current parameter: {'lstm_unit': 224, 'dropout': 0.1, 'batchsize': 64}\n",
      "Best accuracy: 0.699999988079071\n",
      "Best parameters: {'lstm_unit': 224, 'dropout': 0.1, 'batchsize': 32}\n",
      "----------------------------------\n",
      "Epoch 1/3\n",
      "1/1 [==============================] - ETA: 0s - loss: 1.9488 - accuracy: 0.0167\n",
      "Epoch 1: saving model to checkpointvbpl_ft\\cp.ckpt\n",
      "1/1 [==============================] - 49s 49s/step - loss: 1.9488 - accuracy: 0.0167 - val_loss: 1.7955 - val_accuracy: 0.6500\n",
      "Epoch 2/3\n",
      "1/1 [==============================] - ETA: 0s - loss: 1.8098 - accuracy: 0.6500\n",
      "Epoch 2: saving model to checkpointvbpl_ft\\cp.ckpt\n",
      "1/1 [==============================] - 40s 40s/step - loss: 1.8098 - accuracy: 0.6500 - val_loss: 0.8852 - val_accuracy: 0.6000\n",
      "Epoch 3/3\n",
      "1/1 [==============================] - ETA: 0s - loss: 1.2269 - accuracy: 0.4667\n",
      "Epoch 3: saving model to checkpointvbpl_ft\\cp.ckpt\n",
      "1/1 [==============================] - 40s 40s/step - loss: 1.2269 - accuracy: 0.4667 - val_loss: 0.4594 - val_accuracy: 0.9000\n",
      "1/1 [==============================] - 2s 2s/step - loss: 1.4221 - accuracy: 0.8000\n",
      "current parameter: {'lstm_unit': 224, 'dropout': 0.1, 'batchsize': 128}\n",
      "Best accuracy: 0.800000011920929\n",
      "Best parameters: {'lstm_unit': 224, 'dropout': 0.1, 'batchsize': 128}\n",
      "----------------------------------\n",
      "Epoch 1/3\n",
      "1/1 [==============================] - ETA: 0s - loss: 1.9471 - accuracy: 0.0333\n",
      "Epoch 1: saving model to checkpointvbpl_ft\\cp.ckpt\n",
      "1/1 [==============================] - 44s 44s/step - loss: 1.9471 - accuracy: 0.0333 - val_loss: 1.7405 - val_accuracy: 0.8500\n",
      "Epoch 2/3\n",
      "1/1 [==============================] - ETA: 0s - loss: 1.7797 - accuracy: 0.7500\n",
      "Epoch 2: saving model to checkpointvbpl_ft\\cp.ckpt\n",
      "1/1 [==============================] - 37s 37s/step - loss: 1.7797 - accuracy: 0.7500 - val_loss: 0.7694 - val_accuracy: 0.6000\n",
      "Epoch 3/3\n",
      "1/1 [==============================] - ETA: 0s - loss: 1.3121 - accuracy: 0.4667\n",
      "Epoch 3: saving model to checkpointvbpl_ft\\cp.ckpt\n",
      "1/1 [==============================] - 37s 37s/step - loss: 1.3121 - accuracy: 0.4667 - val_loss: 0.7710 - val_accuracy: 0.8500\n",
      "1/1 [==============================] - 2s 2s/step - loss: 1.1883 - accuracy: 0.7000\n",
      "current parameter: {'lstm_unit': 224, 'dropout': 0.1, 'batchsize': 256}\n",
      "Best accuracy: 0.800000011920929\n",
      "Best parameters: {'lstm_unit': 224, 'dropout': 0.1, 'batchsize': 128}\n",
      "----------------------------------\n",
      "Epoch 1/3\n",
      "WARNING:tensorflow:5 out of the last 16 calls to <function Model.make_train_function.<locals>.train_function at 0x000002B284418900> triggered tf.function retracing. Tracing is expensive and the excessive number of tracings could be due to (1) creating @tf.function repeatedly in a loop, (2) passing tensors with different shapes, (3) passing Python objects instead of tensors. For (1), please define your @tf.function outside of the loop. For (2), @tf.function has reduce_retracing=True option that can avoid unnecessary retracing. For (3), please refer to https://www.tensorflow.org/guide/function#controlling_retracing and https://www.tensorflow.org/api_docs/python/tf/function for  more details.\n",
      "2/2 [==============================] - ETA: 0s - loss: 1.8705 - accuracy: 0.4000 \n",
      "Epoch 1: saving model to checkpointvbpl_ft\\cp.ckpt\n",
      "2/2 [==============================] - 25s 10s/step - loss: 1.8705 - accuracy: 0.4000 - val_loss: 0.8736 - val_accuracy: 0.6000\n",
      "Epoch 2/3\n",
      "2/2 [==============================] - ETA: 0s - loss: 2.4068 - accuracy: 0.5167\n",
      "Epoch 2: saving model to checkpointvbpl_ft\\cp.ckpt\n",
      "2/2 [==============================] - 16s 8s/step - loss: 2.4068 - accuracy: 0.5167 - val_loss: 0.6843 - val_accuracy: 0.8000\n",
      "Epoch 3/3\n",
      "2/2 [==============================] - ETA: 0s - loss: 1.3320 - accuracy: 0.6667\n",
      "Epoch 3: saving model to checkpointvbpl_ft\\cp.ckpt\n",
      "2/2 [==============================] - 16s 8s/step - loss: 1.3320 - accuracy: 0.6667 - val_loss: 1.2917 - val_accuracy: 0.5500\n",
      "1/1 [==============================] - 2s 2s/step - loss: 1.4443 - accuracy: 0.6000\n",
      "current parameter: {'lstm_unit': 224, 'dropout': 0.2, 'batchsize': 32}\n",
      "Best accuracy: 0.800000011920929\n",
      "Best parameters: {'lstm_unit': 224, 'dropout': 0.1, 'batchsize': 128}\n",
      "----------------------------------\n",
      "Epoch 1/3\n",
      "1/1 [==============================] - ETA: 0s - loss: 1.9446 - accuracy: 0.1333\n",
      "Epoch 1: saving model to checkpointvbpl_ft\\cp.ckpt\n",
      "1/1 [==============================] - 47s 47s/step - loss: 1.9446 - accuracy: 0.1333 - val_loss: 1.6703 - val_accuracy: 0.9500\n",
      "Epoch 2/3\n",
      "1/1 [==============================] - ETA: 0s - loss: 1.7229 - accuracy: 0.7500\n",
      "Epoch 2: saving model to checkpointvbpl_ft\\cp.ckpt\n",
      "1/1 [==============================] - 40s 40s/step - loss: 1.7229 - accuracy: 0.7500 - val_loss: 0.7548 - val_accuracy: 0.6000\n",
      "Epoch 3/3\n",
      "1/1 [==============================] - ETA: 0s - loss: 1.3525 - accuracy: 0.6667\n",
      "Epoch 3: saving model to checkpointvbpl_ft\\cp.ckpt\n",
      "1/1 [==============================] - 40s 40s/step - loss: 1.3525 - accuracy: 0.6667 - val_loss: 0.7964 - val_accuracy: 0.6000\n",
      "1/1 [==============================] - 2s 2s/step - loss: 1.2862 - accuracy: 0.4500\n",
      "current parameter: {'lstm_unit': 224, 'dropout': 0.2, 'batchsize': 64}\n",
      "Best accuracy: 0.800000011920929\n",
      "Best parameters: {'lstm_unit': 224, 'dropout': 0.1, 'batchsize': 128}\n",
      "----------------------------------\n",
      "Epoch 1/3\n",
      "1/1 [==============================] - ETA: 0s - loss: 1.9427 - accuracy: 0.3333\n",
      "Epoch 1: saving model to checkpointvbpl_ft\\cp.ckpt\n",
      "1/1 [==============================] - 49s 49s/step - loss: 1.9427 - accuracy: 0.3333 - val_loss: 1.6269 - val_accuracy: 0.8500\n",
      "Epoch 2/3\n",
      "1/1 [==============================] - ETA: 0s - loss: 1.6760 - accuracy: 0.7333\n",
      "Epoch 2: saving model to checkpointvbpl_ft\\cp.ckpt\n",
      "1/1 [==============================] - 41s 41s/step - loss: 1.6760 - accuracy: 0.7333 - val_loss: 0.6890 - val_accuracy: 0.6500\n",
      "Epoch 3/3\n",
      "1/1 [==============================] - ETA: 0s - loss: 1.3798 - accuracy: 0.6333\n",
      "Epoch 3: saving model to checkpointvbpl_ft\\cp.ckpt\n",
      "1/1 [==============================] - 41s 41s/step - loss: 1.3798 - accuracy: 0.6333 - val_loss: 0.7850 - val_accuracy: 0.6000\n",
      "1/1 [==============================] - 2s 2s/step - loss: 1.1718 - accuracy: 0.4500\n",
      "current parameter: {'lstm_unit': 224, 'dropout': 0.2, 'batchsize': 128}\n",
      "Best accuracy: 0.800000011920929\n",
      "Best parameters: {'lstm_unit': 224, 'dropout': 0.1, 'batchsize': 128}\n",
      "----------------------------------\n",
      "Epoch 1/3\n",
      "1/1 [==============================] - ETA: 0s - loss: 1.9445 - accuracy: 0.1500\n",
      "Epoch 1: saving model to checkpointvbpl_ft\\cp.ckpt\n",
      "1/1 [==============================] - 49s 49s/step - loss: 1.9445 - accuracy: 0.1500 - val_loss: 1.6719 - val_accuracy: 0.6000\n",
      "Epoch 2/3\n",
      "1/1 [==============================] - ETA: 0s - loss: 1.7250 - accuracy: 0.4667\n",
      "Epoch 2: saving model to checkpointvbpl_ft\\cp.ckpt\n",
      "1/1 [==============================] - 42s 42s/step - loss: 1.7250 - accuracy: 0.4667 - val_loss: 0.7196 - val_accuracy: 0.6000\n",
      "Epoch 3/3\n",
      "1/1 [==============================] - ETA: 0s - loss: 1.2838 - accuracy: 0.4667\n",
      "Epoch 3: saving model to checkpointvbpl_ft\\cp.ckpt\n",
      "1/1 [==============================] - 42s 42s/step - loss: 1.2838 - accuracy: 0.4667 - val_loss: 0.8262 - val_accuracy: 0.5000\n",
      "1/1 [==============================] - 3s 3s/step - loss: 1.2586 - accuracy: 0.5500\n",
      "current parameter: {'lstm_unit': 224, 'dropout': 0.2, 'batchsize': 256}\n",
      "Best accuracy: 0.800000011920929\n",
      "Best parameters: {'lstm_unit': 224, 'dropout': 0.1, 'batchsize': 128}\n",
      "----------------------------------\n",
      "Epoch 1/3\n",
      "WARNING:tensorflow:5 out of the last 16 calls to <function Model.make_train_function.<locals>.train_function at 0x000002B28B304040> triggered tf.function retracing. Tracing is expensive and the excessive number of tracings could be due to (1) creating @tf.function repeatedly in a loop, (2) passing tensors with different shapes, (3) passing Python objects instead of tensors. For (1), please define your @tf.function outside of the loop. For (2), @tf.function has reduce_retracing=True option that can avoid unnecessary retracing. For (3), please refer to https://www.tensorflow.org/guide/function#controlling_retracing and https://www.tensorflow.org/api_docs/python/tf/function for  more details.\n",
      "2/2 [==============================] - ETA: 0s - loss: 1.8605 - accuracy: 0.3167 \n",
      "Epoch 1: saving model to checkpointvbpl_ft\\cp.ckpt\n",
      "2/2 [==============================] - 79s 39s/step - loss: 1.8605 - accuracy: 0.3167 - val_loss: 0.6965 - val_accuracy: 0.6000\n",
      "Epoch 2/3\n",
      "2/2 [==============================] - ETA: 0s - loss: 1.3205 - accuracy: 0.6167 \n",
      "Epoch 2: saving model to checkpointvbpl_ft\\cp.ckpt\n",
      "2/2 [==============================] - 70s 37s/step - loss: 1.3205 - accuracy: 0.6167 - val_loss: 0.8545 - val_accuracy: 0.9000\n",
      "Epoch 3/3\n",
      "2/2 [==============================] - ETA: 0s - loss: 1.0868 - accuracy: 0.6833 \n",
      "Epoch 3: saving model to checkpointvbpl_ft\\cp.ckpt\n",
      "2/2 [==============================] - 70s 37s/step - loss: 1.0868 - accuracy: 0.6833 - val_loss: 0.4461 - val_accuracy: 0.9000\n",
      "1/1 [==============================] - 13s 13s/step - loss: 0.9989 - accuracy: 0.7500\n",
      "current parameter: {'lstm_unit': 250, 'dropout': 0.1, 'batchsize': 32}\n",
      "Best accuracy: 0.800000011920929\n",
      "Best parameters: {'lstm_unit': 224, 'dropout': 0.1, 'batchsize': 128}\n",
      "----------------------------------\n",
      "Epoch 1/3\n",
      "1/1 [==============================] - ETA: 0s - loss: 1.9478 - accuracy: 0.0500\n",
      "Epoch 1: saving model to checkpointvbpl_ft\\cp.ckpt\n",
      "1/1 [==============================] - 59s 59s/step - loss: 1.9478 - accuracy: 0.0500 - val_loss: 1.7033 - val_accuracy: 0.6500\n",
      "Epoch 2/3\n",
      "1/1 [==============================] - ETA: 0s - loss: 1.7483 - accuracy: 0.6000\n",
      "Epoch 2: saving model to checkpointvbpl_ft\\cp.ckpt\n",
      "1/1 [==============================] - 52s 52s/step - loss: 1.7483 - accuracy: 0.6000 - val_loss: 0.6962 - val_accuracy: 0.6000\n",
      "Epoch 3/3\n",
      "1/1 [==============================] - ETA: 0s - loss: 1.3008 - accuracy: 0.4667\n",
      "Epoch 3: saving model to checkpointvbpl_ft\\cp.ckpt\n",
      "1/1 [==============================] - 52s 52s/step - loss: 1.3008 - accuracy: 0.4667 - val_loss: 0.7367 - val_accuracy: 0.9000\n",
      "1/1 [==============================] - 15s 15s/step - loss: 1.1086 - accuracy: 0.7500\n",
      "current parameter: {'lstm_unit': 250, 'dropout': 0.1, 'batchsize': 64}\n",
      "Best accuracy: 0.800000011920929\n",
      "Best parameters: {'lstm_unit': 224, 'dropout': 0.1, 'batchsize': 128}\n",
      "----------------------------------\n",
      "Epoch 1/3\n",
      "1/1 [==============================] - ETA: 0s - loss: 1.9489 - accuracy: 0.0667\n",
      "Epoch 1: saving model to checkpointvbpl_ft\\cp.ckpt\n",
      "1/1 [==============================] - 62s 62s/step - loss: 1.9489 - accuracy: 0.0667 - val_loss: 1.8022 - val_accuracy: 0.8000\n",
      "Epoch 2/3\n",
      "1/1 [==============================] - ETA: 0s - loss: 1.8169 - accuracy: 0.7167\n",
      "Epoch 2: saving model to checkpointvbpl_ft\\cp.ckpt\n",
      "1/1 [==============================] - 55s 55s/step - loss: 1.8169 - accuracy: 0.7167 - val_loss: 0.8713 - val_accuracy: 0.6000\n",
      "Epoch 3/3\n",
      "1/1 [==============================] - ETA: 0s - loss: 1.2420 - accuracy: 0.5667\n",
      "Epoch 3: saving model to checkpointvbpl_ft\\cp.ckpt\n",
      "1/1 [==============================] - 54s 54s/step - loss: 1.2420 - accuracy: 0.5667 - val_loss: 0.7132 - val_accuracy: 0.6000\n",
      "1/1 [==============================] - 14s 14s/step - loss: 1.6043 - accuracy: 0.4500\n",
      "current parameter: {'lstm_unit': 250, 'dropout': 0.1, 'batchsize': 128}\n",
      "Best accuracy: 0.800000011920929\n",
      "Best parameters: {'lstm_unit': 224, 'dropout': 0.1, 'batchsize': 128}\n",
      "----------------------------------\n",
      "Epoch 1/3\n",
      "1/1 [==============================] - ETA: 0s - loss: 1.9447 - accuracy: 0.0833\n",
      "Epoch 1: saving model to checkpointvbpl_ft\\cp.ckpt\n",
      "1/1 [==============================] - 72s 72s/step - loss: 1.9447 - accuracy: 0.0833 - val_loss: 1.6461 - val_accuracy: 0.6000\n",
      "Epoch 2/3\n",
      "1/1 [==============================] - ETA: 0s - loss: 1.7103 - accuracy: 0.4667\n",
      "Epoch 2: saving model to checkpointvbpl_ft\\cp.ckpt\n",
      "1/1 [==============================] - 58s 58s/step - loss: 1.7103 - accuracy: 0.4667 - val_loss: 0.6279 - val_accuracy: 0.6000\n",
      "Epoch 3/3\n",
      "1/1 [==============================] - ETA: 0s - loss: 1.5245 - accuracy: 0.4667\n",
      "Epoch 3: saving model to checkpointvbpl_ft\\cp.ckpt\n",
      "1/1 [==============================] - 58s 58s/step - loss: 1.5245 - accuracy: 0.4667 - val_loss: 1.0003 - val_accuracy: 0.4000\n",
      "1/1 [==============================] - 14s 14s/step - loss: 1.3287 - accuracy: 0.4000\n",
      "current parameter: {'lstm_unit': 250, 'dropout': 0.1, 'batchsize': 256}\n",
      "Best accuracy: 0.800000011920929\n",
      "Best parameters: {'lstm_unit': 224, 'dropout': 0.1, 'batchsize': 128}\n",
      "----------------------------------\n",
      "Epoch 1/3\n",
      "2/2 [==============================] - ETA: 0s - loss: 1.8295 - accuracy: 0.4833 \n",
      "Epoch 1: saving model to checkpointvbpl_ft\\cp.ckpt\n",
      "2/2 [==============================] - 84s 41s/step - loss: 1.8295 - accuracy: 0.4833 - val_loss: 0.7015 - val_accuracy: 0.6500\n",
      "Epoch 2/3\n",
      "2/2 [==============================] - ETA: 0s - loss: 1.4619 - accuracy: 0.6167 \n",
      "Epoch 2: saving model to checkpointvbpl_ft\\cp.ckpt\n",
      "2/2 [==============================] - 76s 39s/step - loss: 1.4619 - accuracy: 0.6167 - val_loss: 1.0505 - val_accuracy: 0.6000\n",
      "Epoch 3/3\n",
      "2/2 [==============================] - ETA: 0s - loss: 1.2885 - accuracy: 0.6667 \n",
      "Epoch 3: saving model to checkpointvbpl_ft\\cp.ckpt\n",
      "2/2 [==============================] - 75s 39s/step - loss: 1.2885 - accuracy: 0.6667 - val_loss: 0.9181 - val_accuracy: 0.8500\n",
      "Epoch 3: early stopping\n",
      "1/1 [==============================] - 14s 14s/step - loss: 1.1952 - accuracy: 0.7000\n",
      "current parameter: {'lstm_unit': 250, 'dropout': 0.2, 'batchsize': 32}\n",
      "Best accuracy: 0.800000011920929\n",
      "Best parameters: {'lstm_unit': 224, 'dropout': 0.1, 'batchsize': 128}\n",
      "----------------------------------\n",
      "Epoch 1/3\n",
      "1/1 [==============================] - ETA: 0s - loss: 1.9434 - accuracy: 0.2167\n",
      "Epoch 1: saving model to checkpointvbpl_ft\\cp.ckpt\n",
      "1/1 [==============================] - 66s 66s/step - loss: 1.9434 - accuracy: 0.2167 - val_loss: 1.6088 - val_accuracy: 0.6000\n",
      "Epoch 2/3\n",
      "1/1 [==============================] - ETA: 0s - loss: 1.6767 - accuracy: 0.5333\n",
      "Epoch 2: saving model to checkpointvbpl_ft\\cp.ckpt\n",
      "1/1 [==============================] - 57s 57s/step - loss: 1.6767 - accuracy: 0.5333 - val_loss: 0.6399 - val_accuracy: 0.6000\n",
      "Epoch 3/3\n",
      "1/1 [==============================] - ETA: 0s - loss: 1.5311 - accuracy: 0.4667\n",
      "Epoch 3: saving model to checkpointvbpl_ft\\cp.ckpt\n",
      "1/1 [==============================] - 57s 57s/step - loss: 1.5311 - accuracy: 0.4667 - val_loss: 0.9621 - val_accuracy: 0.4000\n",
      "1/1 [==============================] - 14s 14s/step - loss: 1.3492 - accuracy: 0.4000\n",
      "current parameter: {'lstm_unit': 250, 'dropout': 0.2, 'batchsize': 64}\n",
      "Best accuracy: 0.800000011920929\n",
      "Best parameters: {'lstm_unit': 224, 'dropout': 0.1, 'batchsize': 128}\n",
      "----------------------------------\n",
      "Epoch 1/3\n",
      "1/1 [==============================] - ETA: 0s - loss: 1.9459 - accuracy: 0.1333\n",
      "Epoch 1: saving model to checkpointvbpl_ft\\cp.ckpt\n",
      "1/1 [==============================] - 65s 65s/step - loss: 1.9459 - accuracy: 0.1333 - val_loss: 1.7119 - val_accuracy: 0.9000\n",
      "Epoch 2/3\n",
      "1/1 [==============================] - ETA: 0s - loss: 1.7522 - accuracy: 0.7333\n",
      "Epoch 2: saving model to checkpointvbpl_ft\\cp.ckpt\n",
      "1/1 [==============================] - 56s 56s/step - loss: 1.7522 - accuracy: 0.7333 - val_loss: 0.7442 - val_accuracy: 0.8500\n",
      "Epoch 3/3\n",
      "1/1 [==============================] - ETA: 0s - loss: 1.3243 - accuracy: 0.6667\n",
      "Epoch 3: saving model to checkpointvbpl_ft\\cp.ckpt\n",
      "1/1 [==============================] - 56s 56s/step - loss: 1.3243 - accuracy: 0.6667 - val_loss: 0.7940 - val_accuracy: 0.6000\n",
      "1/1 [==============================] - 14s 14s/step - loss: 1.2489 - accuracy: 0.4500\n",
      "current parameter: {'lstm_unit': 250, 'dropout': 0.2, 'batchsize': 128}\n",
      "Best accuracy: 0.800000011920929\n",
      "Best parameters: {'lstm_unit': 224, 'dropout': 0.1, 'batchsize': 128}\n",
      "----------------------------------\n",
      "Epoch 1/3\n",
      "1/1 [==============================] - ETA: 0s - loss: 1.9455 - accuracy: 0.1000\n",
      "Epoch 1: saving model to checkpointvbpl_ft\\cp.ckpt\n",
      "1/1 [==============================] - 66s 66s/step - loss: 1.9455 - accuracy: 0.1000 - val_loss: 1.7372 - val_accuracy: 0.7500\n",
      "Epoch 2/3\n",
      "1/1 [==============================] - ETA: 0s - loss: 1.7743 - accuracy: 0.6833\n",
      "Epoch 2: saving model to checkpointvbpl_ft\\cp.ckpt\n",
      "1/1 [==============================] - 56s 56s/step - loss: 1.7743 - accuracy: 0.6833 - val_loss: 0.7020 - val_accuracy: 0.6000\n",
      "Epoch 3/3\n",
      "1/1 [==============================] - ETA: 0s - loss: 1.3612 - accuracy: 0.4667\n",
      "Epoch 3: saving model to checkpointvbpl_ft\\cp.ckpt\n",
      "1/1 [==============================] - 56s 56s/step - loss: 1.3612 - accuracy: 0.4667 - val_loss: 0.8512 - val_accuracy: 0.6000\n",
      "1/1 [==============================] - 14s 14s/step - loss: 1.2138 - accuracy: 0.4500\n",
      "current parameter: {'lstm_unit': 250, 'dropout': 0.2, 'batchsize': 256}\n",
      "Best accuracy: 0.800000011920929\n",
      "Best parameters: {'lstm_unit': 224, 'dropout': 0.1, 'batchsize': 128}\n",
      "----------------------------------\n",
      "Epoch 1/3\n",
      "2/2 [==============================] - ETA: 0s - loss: 1.8503 - accuracy: 0.3500  \n",
      "Epoch 1: saving model to checkpointvbpl_ft\\cp.ckpt\n",
      "2/2 [==============================] - 111s 48s/step - loss: 1.8503 - accuracy: 0.3500 - val_loss: 0.6697 - val_accuracy: 0.6000\n",
      "Epoch 2/3\n",
      "2/2 [==============================] - ETA: 0s - loss: 1.2283 - accuracy: 0.5833 \n",
      "Epoch 2: saving model to checkpointvbpl_ft\\cp.ckpt\n",
      "2/2 [==============================] - 102s 47s/step - loss: 1.2283 - accuracy: 0.5833 - val_loss: 0.9912 - val_accuracy: 0.8000\n",
      "Epoch 3/3\n",
      "2/2 [==============================] - ETA: 0s - loss: 0.9715 - accuracy: 0.7333 \n",
      "Epoch 3: saving model to checkpointvbpl_ft\\cp.ckpt\n",
      "2/2 [==============================] - 103s 47s/step - loss: 0.9715 - accuracy: 0.7333 - val_loss: 1.0235 - val_accuracy: 0.8500\n",
      "Epoch 3: early stopping\n",
      "1/1 [==============================] - 15s 15s/step - loss: 0.8588 - accuracy: 0.8000\n",
      "current parameter: {'lstm_unit': 256, 'dropout': 0.1, 'batchsize': 32}\n",
      "Best accuracy: 0.800000011920929\n",
      "Best parameters: {'lstm_unit': 224, 'dropout': 0.1, 'batchsize': 128}\n",
      "----------------------------------\n",
      "Epoch 1/3\n",
      "1/1 [==============================] - ETA: 0s - loss: 1.9512 - accuracy: 0.0667\n",
      "Epoch 1: saving model to checkpointvbpl_ft\\cp.ckpt\n",
      "1/1 [==============================] - 72s 72s/step - loss: 1.9512 - accuracy: 0.0667 - val_loss: 1.8069 - val_accuracy: 0.9000\n",
      "Epoch 2/3\n",
      "1/1 [==============================] - ETA: 0s - loss: 1.8244 - accuracy: 0.6833\n",
      "Epoch 2: saving model to checkpointvbpl_ft\\cp.ckpt\n",
      "1/1 [==============================] - 64s 64s/step - loss: 1.8244 - accuracy: 0.6833 - val_loss: 0.8805 - val_accuracy: 0.9000\n",
      "Epoch 3/3\n",
      "1/1 [==============================] - ETA: 0s - loss: 1.2687 - accuracy: 0.7167\n",
      "Epoch 3: saving model to checkpointvbpl_ft\\cp.ckpt\n",
      "1/1 [==============================] - 64s 64s/step - loss: 1.2687 - accuracy: 0.7167 - val_loss: 0.7441 - val_accuracy: 0.6000\n",
      "1/1 [==============================] - 15s 15s/step - loss: 1.5374 - accuracy: 0.4500\n",
      "current parameter: {'lstm_unit': 256, 'dropout': 0.1, 'batchsize': 64}\n",
      "Best accuracy: 0.800000011920929\n",
      "Best parameters: {'lstm_unit': 224, 'dropout': 0.1, 'batchsize': 128}\n",
      "----------------------------------\n",
      "Epoch 1/3\n",
      "1/1 [==============================] - ETA: 0s - loss: 1.9438 - accuracy: 0.2833\n",
      "Epoch 1: saving model to checkpointvbpl_ft\\cp.ckpt\n",
      "1/1 [==============================] - 72s 72s/step - loss: 1.9438 - accuracy: 0.2833 - val_loss: 1.5580 - val_accuracy: 0.6000\n",
      "Epoch 2/3\n",
      "1/1 [==============================] - ETA: 0s - loss: 1.6427 - accuracy: 0.5000\n",
      "Epoch 2: saving model to checkpointvbpl_ft\\cp.ckpt\n",
      "1/1 [==============================] - 63s 63s/step - loss: 1.6427 - accuracy: 0.5000 - val_loss: 0.6302 - val_accuracy: 0.6000\n",
      "Epoch 3/3\n",
      "1/1 [==============================] - ETA: 0s - loss: 1.7318 - accuracy: 0.4667\n",
      "Epoch 3: saving model to checkpointvbpl_ft\\cp.ckpt\n",
      "1/1 [==============================] - 63s 63s/step - loss: 1.7318 - accuracy: 0.4667 - val_loss: 0.9956 - val_accuracy: 0.4000\n",
      "1/1 [==============================] - 15s 15s/step - loss: 1.3888 - accuracy: 0.4000\n",
      "current parameter: {'lstm_unit': 256, 'dropout': 0.1, 'batchsize': 128}\n",
      "Best accuracy: 0.800000011920929\n",
      "Best parameters: {'lstm_unit': 224, 'dropout': 0.1, 'batchsize': 128}\n",
      "----------------------------------\n",
      "Epoch 1/3\n",
      "1/1 [==============================] - ETA: 0s - loss: 1.9451 - accuracy: 0.2500\n",
      "Epoch 1: saving model to checkpointvbpl_ft\\cp.ckpt\n",
      "1/1 [==============================] - 74s 74s/step - loss: 1.9451 - accuracy: 0.2500 - val_loss: 1.6316 - val_accuracy: 0.9500\n",
      "Epoch 2/3\n",
      "1/1 [==============================] - ETA: 0s - loss: 1.6908 - accuracy: 0.7667\n",
      "Epoch 2: saving model to checkpointvbpl_ft\\cp.ckpt\n",
      "1/1 [==============================] - 66s 66s/step - loss: 1.6908 - accuracy: 0.7667 - val_loss: 0.6641 - val_accuracy: 0.8500\n",
      "Epoch 3/3\n",
      "1/1 [==============================] - ETA: 0s - loss: 1.4871 - accuracy: 0.7167\n",
      "Epoch 3: saving model to checkpointvbpl_ft\\cp.ckpt\n",
      "1/1 [==============================] - 66s 66s/step - loss: 1.4871 - accuracy: 0.7167 - val_loss: 0.7868 - val_accuracy: 0.6000\n",
      "1/1 [==============================] - 16s 16s/step - loss: 1.2067 - accuracy: 0.4500\n",
      "current parameter: {'lstm_unit': 256, 'dropout': 0.1, 'batchsize': 256}\n",
      "Best accuracy: 0.800000011920929\n",
      "Best parameters: {'lstm_unit': 224, 'dropout': 0.1, 'batchsize': 128}\n",
      "----------------------------------\n",
      "Epoch 1/3\n",
      "2/2 [==============================] - ETA: 0s - loss: 1.8854 - accuracy: 0.4500  \n",
      "Epoch 1: saving model to checkpointvbpl_ft\\cp.ckpt\n",
      "2/2 [==============================] - 114s 49s/step - loss: 1.8854 - accuracy: 0.4500 - val_loss: 0.8878 - val_accuracy: 0.9000\n",
      "Epoch 2/3\n",
      "2/2 [==============================] - ETA: 0s - loss: 1.2919 - accuracy: 0.6000 \n",
      "Epoch 2: saving model to checkpointvbpl_ft\\cp.ckpt\n",
      "2/2 [==============================] - 105s 47s/step - loss: 1.2919 - accuracy: 0.6000 - val_loss: 0.8174 - val_accuracy: 0.8000\n",
      "Epoch 3/3\n",
      "2/2 [==============================] - ETA: 0s - loss: 1.0686 - accuracy: 0.6833 \n",
      "Epoch 3: saving model to checkpointvbpl_ft\\cp.ckpt\n",
      "2/2 [==============================] - 105s 47s/step - loss: 1.0686 - accuracy: 0.6833 - val_loss: 0.5536 - val_accuracy: 0.9000\n",
      "1/1 [==============================] - 16s 16s/step - loss: 0.8179 - accuracy: 0.8500\n",
      "current parameter: {'lstm_unit': 256, 'dropout': 0.2, 'batchsize': 32}\n",
      "Best accuracy: 0.8500000238418579\n",
      "Best parameters: {'lstm_unit': 256, 'dropout': 0.2, 'batchsize': 32}\n",
      "----------------------------------\n",
      "Epoch 1/3\n",
      "1/1 [==============================] - ETA: 0s - loss: 1.9459 - accuracy: 0.1167\n",
      "Epoch 1: saving model to checkpointvbpl_ft\\cp.ckpt\n",
      "1/1 [==============================] - 72s 72s/step - loss: 1.9459 - accuracy: 0.1167 - val_loss: 1.6420 - val_accuracy: 0.8000\n",
      "Epoch 2/3\n",
      "1/1 [==============================] - ETA: 0s - loss: 1.7047 - accuracy: 0.6833\n",
      "Epoch 2: saving model to checkpointvbpl_ft\\cp.ckpt\n",
      "1/1 [==============================] - 66s 66s/step - loss: 1.7047 - accuracy: 0.6833 - val_loss: 0.6645 - val_accuracy: 0.6000\n",
      "Epoch 3/3\n",
      "1/1 [==============================] - ETA: 0s - loss: 1.4108 - accuracy: 0.4667\n",
      "Epoch 3: saving model to checkpointvbpl_ft\\cp.ckpt\n",
      "1/1 [==============================] - 66s 66s/step - loss: 1.4108 - accuracy: 0.4667 - val_loss: 0.8062 - val_accuracy: 0.8000\n",
      "1/1 [==============================] - 17s 17s/step - loss: 1.1926 - accuracy: 0.8000\n",
      "current parameter: {'lstm_unit': 256, 'dropout': 0.2, 'batchsize': 64}\n",
      "Best accuracy: 0.8500000238418579\n",
      "Best parameters: {'lstm_unit': 256, 'dropout': 0.2, 'batchsize': 32}\n",
      "----------------------------------\n",
      "Epoch 1/3\n",
      "1/1 [==============================] - ETA: 0s - loss: 1.9451 - accuracy: 0.0333\n",
      "Epoch 1: saving model to checkpointvbpl_ft\\cp.ckpt\n",
      "1/1 [==============================] - 74s 74s/step - loss: 1.9451 - accuracy: 0.0333 - val_loss: 1.6435 - val_accuracy: 0.9000\n",
      "Epoch 2/3\n",
      "1/1 [==============================] - ETA: 0s - loss: 1.7014 - accuracy: 0.7667\n",
      "Epoch 2: saving model to checkpointvbpl_ft\\cp.ckpt\n",
      "1/1 [==============================] - 66s 66s/step - loss: 1.7014 - accuracy: 0.7667 - val_loss: 0.6206 - val_accuracy: 0.6000\n",
      "Epoch 3/3\n",
      "1/1 [==============================] - ETA: 0s - loss: 1.4198 - accuracy: 0.4667\n",
      "Epoch 3: saving model to checkpointvbpl_ft\\cp.ckpt\n",
      "1/1 [==============================] - 67s 67s/step - loss: 1.4198 - accuracy: 0.4667 - val_loss: 0.8322 - val_accuracy: 0.7500\n",
      "1/1 [==============================] - 16s 16s/step - loss: 1.1945 - accuracy: 0.6500\n",
      "current parameter: {'lstm_unit': 256, 'dropout': 0.2, 'batchsize': 128}\n",
      "Best accuracy: 0.8500000238418579\n",
      "Best parameters: {'lstm_unit': 256, 'dropout': 0.2, 'batchsize': 32}\n",
      "----------------------------------\n",
      "Epoch 1/3\n",
      "1/1 [==============================] - ETA: 0s - loss: 1.9445 - accuracy: 0.1500\n",
      "Epoch 1: saving model to checkpointvbpl_ft\\cp.ckpt\n",
      "1/1 [==============================] - 74s 74s/step - loss: 1.9445 - accuracy: 0.1500 - val_loss: 1.5570 - val_accuracy: 0.6000\n",
      "Epoch 2/3\n",
      "1/1 [==============================] - ETA: 0s - loss: 1.6320 - accuracy: 0.4667\n",
      "Epoch 2: saving model to checkpointvbpl_ft\\cp.ckpt\n",
      "1/1 [==============================] - 67s 67s/step - loss: 1.6320 - accuracy: 0.4667 - val_loss: 0.6379 - val_accuracy: 0.6000\n",
      "Epoch 3/3\n",
      "1/1 [==============================] - ETA: 0s - loss: 1.8182 - accuracy: 0.4667\n",
      "Epoch 3: saving model to checkpointvbpl_ft\\cp.ckpt\n",
      "1/1 [==============================] - 68s 68s/step - loss: 1.8182 - accuracy: 0.4667 - val_loss: 1.1481 - val_accuracy: 0.4000\n",
      "1/1 [==============================] - 17s 17s/step - loss: 1.4754 - accuracy: 0.4000\n",
      "current parameter: {'lstm_unit': 256, 'dropout': 0.2, 'batchsize': 256}\n",
      "Best accuracy: 0.8500000238418579\n",
      "Best parameters: {'lstm_unit': 256, 'dropout': 0.2, 'batchsize': 32}\n",
      "----------------------------------\n"
     ]
    }
   ],
   "source": [
    "from itertools import product\n",
    "\n",
    "lstm_unit = [224, 250, 256]\n",
    "dropout = [0.1, 0.2]\n",
    "batchsizes = [32, 64, 128, 256]\n",
    "\n",
    "# Tách từ\n",
    "data_tokenizer_sample = sampled_df.copy()\n",
    "data_tokenizer_sample['Text'] = data_tokenizer_sample['Text'].apply(word_tokenize)\n",
    "data_tokenizer_pad_sample, vocab_size, words_to_index = tokenization(data_tokenizer_sample['Text'])\n",
    "\n",
    "X = data_tokenizer_pad_sample\n",
    "y = data_tokenizer_sample['Quan hệ']\n",
    "classes = data_tokenizer_sample['Quan hệ'].nunique()\n",
    "\n",
    "X_train_val, X_test, y_train_val, y_test = train_test_split(X, y.values, test_size=0.2, random_state=40)\n",
    "\n",
    "# encode label\n",
    "label_encoder = LabelEncoder()\n",
    "label_encoder.fit(data_tokenizer_sample[\"Quan hệ\"].values)\n",
    "y_train_val = label_encoder.transform(y_train_val)\n",
    "y_test = label_encoder.transform(y_test)\n",
    "\n",
    "# Chia train_val thành train và validation\n",
    "X_train, X_val, y_train, y_val  = train_test_split(X_train_val, y_train_val, test_size=0.25, random_state=40)\n",
    "\n",
    "\n",
    "best_accuracy = 0\n",
    "best_params = {}\n",
    "\n",
    "for units, drop_val, batchsize in product(lstm_unit, dropout, batchsizes):\n",
    "    params = {'lstm_unit': units, 'dropout': drop_val, 'batchsize': batchsize}\n",
    "    model = create_model(250, units, drop_val, classes, vocab_size, words_to_index)\n",
    "\n",
    "    checkpoint_path = \"\".join(['checkpoint','vbpl_ft',\"/cp.ckpt\"])\n",
    "    checkpoint_dir = os.path.dirname(checkpoint_path)\n",
    "    earlystopping = EarlyStopping(monitor='val_loss', mode='min', verbose=1,patience=2)\n",
    "    checkpointing = tf.keras.callbacks.ModelCheckpoint(filepath=checkpoint_path,\n",
    "                                                    save_weights_only=True,\n",
    "                                                    verbose=1)\n",
    "    model.fit(X_train, y_train, batch_size=batchsize, epochs=3, callbacks=[earlystopping,checkpointing], validation_data=(X_val, y_val))\n",
    "\n",
    "    # Calculate accuracy\n",
    "    loss, accuracy = model.evaluate(X_test, y_test)\n",
    "    print(\"current parameter:\", params)\n",
    "    # Check if current parameters result in better accuracy\n",
    "    if accuracy > best_accuracy:\n",
    "        best_accuracy = accuracy\n",
    "        best_params = params\n",
    "\n",
    "    print(\"Best accuracy:\", best_accuracy)\n",
    "    print(\"Best parameters:\", best_params)\n",
    "    print(\"----------------------------------\")\n"
   ]
  },
  {
   "cell_type": "markdown",
   "metadata": {},
   "source": [
    "**Tokenization**"
   ]
  },
  {
   "cell_type": "code",
   "execution_count": 80,
   "metadata": {},
   "outputs": [],
   "source": [
    "def tokenization(data):\n",
    "    Text_col = data\n",
    "    tokenizer = Tokenizer(split=' ')\n",
    "    tokenizer.fit_on_texts(Text_col)\n",
    "    words_to_index = tokenizer.word_index\n",
    "    vocab_size = len(words_to_index) + 1\n",
    "\n",
    "    # chuyển đổi dữ liệu văn bản thành các chuỗi số\n",
    "    tokenizer_seq = tokenizer.texts_to_sequences(Text_col)\n",
    "\n",
    "    # Đảm bảo mỗi sequece có cùng độ dài\n",
    "    # 'post' có nghĩa là thêm padding vào cuối mỗi sequence\n",
    "    # 'pre' có nghĩa là thêm padding vào đầu mỗi sequence\n",
    "    tokenizer_pad = pad_sequences(tokenizer_seq, padding='pre', truncating=\"post\", maxlen=250)\n",
    "\n",
    "    return tokenizer_pad, vocab_size, words_to_index"
   ]
  },
  {
   "cell_type": "code",
   "execution_count": 51,
   "metadata": {},
   "outputs": [
    {
     "name": "stdout",
     "output_type": "stream",
     "text": [
      "<class 'pandas.core.frame.DataFrame'>\n",
      "RangeIndex: 45313 entries, 0 to 45312\n",
      "Data columns (total 2 columns):\n",
      " #   Column   Non-Null Count  Dtype \n",
      "---  ------   --------------  ----- \n",
      " 0   Text     45313 non-null  object\n",
      " 1   Quan hệ  45313 non-null  object\n",
      "dtypes: object(2)\n",
      "memory usage: 708.1+ KB\n"
     ]
    }
   ],
   "source": [
    "# Tách từ\n",
    "data_tokenizer = dt_preprocess.copy()\n",
    "data_tokenizer['Text'] = data_tokenizer['Text'].apply(word_tokenize)\n",
    "\n",
    "data_tokenizer.info()\n",
    "data_tokenizer.head()\n",
    "\n",
    "\n",
    "data_tokenizer_pad, vocab_size, words_to_index = tokenization(data_tokenizer['Text'])"
   ]
  },
  {
   "cell_type": "code",
   "execution_count": 52,
   "metadata": {},
   "outputs": [
    {
     "name": "stdout",
     "output_type": "stream",
     "text": [
      "[[   0    0    0 ...    9  797   20]\n",
      " [   0    0    0 ...    9  987   20]\n",
      " [   0    0    0 ...    9  779   20]\n",
      " ...\n",
      " [   0    0    0 ... 1278   90   12]\n",
      " [   0    0    0 ...    7 1055    1]\n",
      " [   0    0    0 ...    3  535  197]]\n"
     ]
    }
   ],
   "source": [
    "print(data_tokenizer_pad)"
   ]
  },
  {
   "cell_type": "markdown",
   "metadata": {},
   "source": [
    "**Embedding**"
   ]
  },
  {
   "cell_type": "code",
   "execution_count": null,
   "metadata": {},
   "outputs": [],
   "source": [
    "with open('model/fasttext/vbpl_text.txt', 'w', encoding=\"utf-8\") as file:\n",
    "    # Write content to the\n",
    "    for i in dt_preprocess['Text']:\n",
    "        file.write(i+\"\\n\")"
   ]
  },
  {
   "cell_type": "code",
   "execution_count": null,
   "metadata": {},
   "outputs": [],
   "source": [
    "model_fasttext = fasttext.train_unsupervised('model/fasttext/vbpl_text.txt', maxn=0, dim=100)\n",
    "model_fasttext.save_model('model/fasttext/fasttext_100d_vbpl.bin')"
   ]
  },
  {
   "cell_type": "code",
   "execution_count": null,
   "metadata": {},
   "outputs": [
    {
     "name": "stdout",
     "output_type": "stream",
     "text": [
      "Most common word: của\n",
      "Frequency: 193472\n"
     ]
    }
   ],
   "source": [
    "all_text = ' '.join(dt_preprocess['Text'])\n",
    "\n",
    "# Split the text into individual words\n",
    "words = all_text.split()\n",
    "\n",
    "# Count the frequency of each word\n",
    "word_counts = Counter(words)\n",
    "\n",
    "# Find the word with the highest frequency\n",
    "most_common_word, frequency = word_counts.most_common(1)[0]\n",
    "\n",
    "print(\"Most common word:\", most_common_word)\n",
    "print(\"Frequency:\", frequency)"
   ]
  },
  {
   "cell_type": "code",
   "execution_count": 59,
   "metadata": {},
   "outputs": [
    {
     "name": "stdout",
     "output_type": "stream",
     "text": [
      "Max length | input_length      = 250\n",
      "input_dim  | vocab_size        = 20114\n",
      "output_dim | embed_vector_size = 100\n",
      "weights = (20114, 100)\n"
     ]
    }
   ],
   "source": [
    "embedding_dim = 100  # Kích thước nhúng\n",
    "\n",
    "\n",
    "ft = fasttext.load_model('model/fasttext/fasttext_100d_vbpl.bin')\n",
    "embed_vector_size = ft.get_word_vector('của').shape[0]\n",
    "\n",
    "embed_vector_matrix = np.zeros((vocab_size, embed_vector_size))\n",
    "\n",
    "for word, i in words_to_index.items():\n",
    "    embedding_vector = ft.get_word_vector(word)\n",
    "    if any(embedding_vector):\n",
    "        embed_vector_matrix[i] = embedding_vector\n",
    "    else:\n",
    "        embed_vector_matrix[i] = np.random.uniform(low=-1, high=1, size= embed_vector_size)\n",
    "\n",
    "print(f\"Max length | input_length      = {250}\")\n",
    "print(f\"input_dim  | vocab_size        = {vocab_size}\")\n",
    "print(f\"output_dim | embed_vector_size = {embed_vector_size}\")\n",
    "print(f\"weights = {embed_vector_matrix.shape}\")\n",
    "\n",
    "embedding = Embedding(input_dim=vocab_size, output_dim=embed_vector_size,\n",
    "                      input_length=250, weights=[embed_vector_matrix], trainable=False)"
   ]
  },
  {
   "cell_type": "markdown",
   "metadata": {},
   "source": [
    "**Create Model**"
   ]
  },
  {
   "cell_type": "code",
   "execution_count": 60,
   "metadata": {},
   "outputs": [
    {
     "name": "stdout",
     "output_type": "stream",
     "text": [
      "Number labels = 7\n"
     ]
    }
   ],
   "source": [
    "classes = data_tokenizer['Quan hệ'].nunique()\n",
    "print(f\"Number labels = {classes}\")\n",
    "\n",
    "def create_model():\n",
    "    lstm_units = 256  # Số đơn vị LSTM\n",
    "    dropout_val = 0.2\n",
    "    recurrent_dropout = 0.1\n",
    "\n",
    "    model = Sequential()\n",
    "    model.add(embedding)\n",
    "    model.add(LSTM(lstm_units, return_sequences=True, dropout=dropout_val, recurrent_dropout=recurrent_dropout))\n",
    "    model.add(LSTM(lstm_units, return_sequences=True, dropout=dropout_val, recurrent_dropout=recurrent_dropout))\n",
    "    model.add(LSTM(lstm_units, return_sequences=True, dropout=dropout_val, recurrent_dropout=recurrent_dropout))\n",
    "    model.add(SeqSelfAttention())\n",
    "    model.add(Flatten())\n",
    "    model.add(Dense(classes, activation=\"softmax\"))\n",
    "\n",
    "    # Model compiling\n",
    "    model.compile(optimizer='adam', loss='sparse_categorical_crossentropy', metrics=['accuracy'])\n",
    "\n",
    "    return model"
   ]
  },
  {
   "cell_type": "code",
   "execution_count": 61,
   "metadata": {},
   "outputs": [],
   "source": [
    "# Chia dataset thành tập training thành train_val và test\n",
    "X = data_tokenizer_pad\n",
    "y = data_tokenizer['Quan hệ']\n",
    "\n",
    "X_train_val, X_test, y_train_val, y_test = train_test_split(X, y.values, test_size=0.2, random_state=40)"
   ]
  },
  {
   "cell_type": "code",
   "execution_count": 62,
   "metadata": {},
   "outputs": [
    {
     "name": "stdout",
     "output_type": "stream",
     "text": [
      "\n",
      "Labels: ['BTT', 'CC', 'DHD', 'DSD', 'DaC', 'HHL', 'none'] \n",
      "\n",
      "Size Train:  (27187, 250) (27187,)\n",
      "Size Test:  (9063, 250) (9063,)\n",
      "Size Validation:  (9063, 250) (9063,)\n"
     ]
    }
   ],
   "source": [
    "# encode label\n",
    "label_encoder = LabelEncoder()\n",
    "label_encoder.fit(data_tokenizer[\"Quan hệ\"].values)\n",
    "print('\\nLabels:',list(label_encoder.classes_), '\\n')\n",
    "y_train_val = label_encoder.transform(y_train_val)\n",
    "y_test = label_encoder.transform(y_test)\n",
    "\n",
    "# Chia train_val thành train và validation\n",
    "X_train, X_val, y_train, y_val  = train_test_split(X_train_val, y_train_val, test_size=0.25, random_state=40)\n",
    "\n",
    "print(\"Size Train: \",X_train.shape, y_train.shape)\n",
    "print(\"Size Test: \",X_test.shape, y_test.shape)\n",
    "print(\"Size Validation: \",X_val.shape, y_val.shape)"
   ]
  },
  {
   "cell_type": "markdown",
   "metadata": {},
   "source": [
    "**Run**"
   ]
  },
  {
   "cell_type": "code",
   "execution_count": 65,
   "metadata": {},
   "outputs": [
    {
     "name": "stdout",
     "output_type": "stream",
     "text": [
      "Model: \"sequential_137\"\n",
      "_________________________________________________________________\n",
      " Layer (type)                Output Shape              Param #   \n",
      "=================================================================\n",
      " embedding_138 (Embedding)   (None, 250, 100)          2011400   \n",
      "                                                                 \n",
      " lstm_390 (LSTM)             (None, 250, 256)          365568    \n",
      "                                                                 \n",
      " lstm_391 (LSTM)             (None, 250, 256)          525312    \n",
      "                                                                 \n",
      " lstm_392 (LSTM)             (None, 250, 256)          525312    \n",
      "                                                                 \n",
      " seq_self_attention_130 (Se  (None, 250, 256)          16449     \n",
      " qSelfAttention)                                                 \n",
      "                                                                 \n",
      " flatten_130 (Flatten)       (None, 64000)             0         \n",
      "                                                                 \n",
      " dense_130 (Dense)           (None, 7)                 448007    \n",
      "                                                                 \n",
      "=================================================================\n",
      "Total params: 3892048 (14.85 MB)\n",
      "Trainable params: 1880648 (7.17 MB)\n",
      "Non-trainable params: 2011400 (7.67 MB)\n",
      "_________________________________________________________________\n"
     ]
    }
   ],
   "source": [
    "model = create_model()\n",
    "batchSize = 128\n",
    "epoch = 20\n",
    "#print(batchSize)\n",
    "model.summary()\n"
   ]
  },
  {
   "cell_type": "code",
   "execution_count": 66,
   "metadata": {},
   "outputs": [
    {
     "name": "stdout",
     "output_type": "stream",
     "text": [
      "Epoch 1/20\n",
      "213/213 [==============================] - ETA: 0s - loss: 0.6793 - accuracy: 0.7915  \n",
      "Epoch 1: saving model to checkpointvbpl_ft\\cp.ckpt\n",
      "213/213 [==============================] - 15285s 72s/step - loss: 0.6793 - accuracy: 0.7915 - val_loss: 0.4782 - val_accuracy: 0.8580\n",
      "Epoch 2/20\n",
      "213/213 [==============================] - ETA: 0s - loss: 0.4343 - accuracy: 0.8683  \n",
      "Epoch 2: saving model to checkpointvbpl_ft\\cp.ckpt\n",
      "213/213 [==============================] - 17036s 80s/step - loss: 0.4343 - accuracy: 0.8683 - val_loss: 0.4069 - val_accuracy: 0.8784\n",
      "Epoch 3/20\n",
      "213/213 [==============================] - ETA: 0s - loss: 0.3722 - accuracy: 0.8872  \n",
      "Epoch 3: saving model to checkpointvbpl_ft\\cp.ckpt\n",
      "213/213 [==============================] - 17596s 83s/step - loss: 0.3722 - accuracy: 0.8872 - val_loss: 0.3834 - val_accuracy: 0.8834\n",
      "Epoch 4/20\n",
      "213/213 [==============================] - ETA: 0s - loss: 0.3374 - accuracy: 0.8961  \n",
      "Epoch 4: saving model to checkpointvbpl_ft\\cp.ckpt\n",
      "213/213 [==============================] - 17652s 83s/step - loss: 0.3374 - accuracy: 0.8961 - val_loss: 0.3609 - val_accuracy: 0.8888\n",
      "Epoch 5/20\n",
      "213/213 [==============================] - ETA: 0s - loss: 0.3117 - accuracy: 0.9041  \n",
      "Epoch 5: saving model to checkpointvbpl_ft\\cp.ckpt\n",
      "213/213 [==============================] - 17570s 83s/step - loss: 0.3117 - accuracy: 0.9041 - val_loss: 0.3421 - val_accuracy: 0.8931\n",
      "Epoch 6/20\n",
      "213/213 [==============================] - ETA: 0s - loss: 0.2803 - accuracy: 0.9140  \n",
      "Epoch 6: saving model to checkpointvbpl_ft\\cp.ckpt\n",
      "213/213 [==============================] - 17637s 83s/step - loss: 0.2803 - accuracy: 0.9140 - val_loss: 0.3079 - val_accuracy: 0.9040\n",
      "Epoch 7/20\n",
      "213/213 [==============================] - ETA: 0s - loss: 0.2581 - accuracy: 0.9191  \n",
      "Epoch 7: saving model to checkpointvbpl_ft\\cp.ckpt\n",
      "213/213 [==============================] - 17541s 82s/step - loss: 0.2581 - accuracy: 0.9191 - val_loss: 0.3116 - val_accuracy: 0.9071\n",
      "Epoch 8/20\n",
      "213/213 [==============================] - ETA: 0s - loss: 0.2399 - accuracy: 0.9258  \n",
      "Epoch 8: saving model to checkpointvbpl_ft\\cp.ckpt\n",
      "213/213 [==============================] - 17496s 82s/step - loss: 0.2399 - accuracy: 0.9258 - val_loss: 0.3171 - val_accuracy: 0.9009\n",
      "Epoch 8: early stopping\n"
     ]
    }
   ],
   "source": [
    "# Ghi lại thời điểm bắt đầu\n",
    "start_time = time.time()\n",
    "checkpoint_path = \"\".join(['checkpoint','vbpl_ft',\"/cp.ckpt\"])\n",
    "checkpoint_dir = os.path.dirname(checkpoint_path)\n",
    "earlystopping = EarlyStopping(monitor='val_loss', mode='min', verbose=1,patience=2)\n",
    "checkpointing = tf.keras.callbacks.ModelCheckpoint(filepath=checkpoint_path,\n",
    "                                                 save_weights_only=True,\n",
    "                                                 verbose=1)\n",
    "lstm_model_history = model.fit(X_train, y_train, batch_size=batchSize, epochs=epoch, callbacks=[earlystopping,checkpointing], validation_data=(X_val, y_val))\n",
    "\n",
    "# Tính thời gian đã trôi qua\n",
    "training_time = round(time.time() - start_time, 2)"
   ]
  },
  {
   "cell_type": "markdown",
   "metadata": {},
   "source": [
    "**Save Model**"
   ]
  },
  {
   "cell_type": "code",
   "execution_count": 67,
   "metadata": {},
   "outputs": [
    {
     "name": "stdout",
     "output_type": "stream",
     "text": [
      "model/model_classify_rel_fasttext_optimize_vbpl_256lstm_250_128_20_0.2_137811.3.h5\n"
     ]
    },
    {
     "name": "stderr",
     "output_type": "stream",
     "text": [
      "c:\\Users\\Administrator\\AppData\\Local\\Programs\\Python\\Python311\\Lib\\site-packages\\keras\\src\\engine\\training.py:3103: UserWarning:\n",
      "\n",
      "You are saving your model as an HDF5 file via `model.save()`. This file format is considered legacy. We recommend using instead the native Keras format, e.g. `model.save('my_model.keras')`.\n",
      "\n"
     ]
    }
   ],
   "source": [
    "# thu tu cac chi so: maxLength_Batch_epochs_dropout_recurrentDropout\n",
    "path = f\"model/model_classify_rel_fasttext_optimize_vbpl_256lstm_{250}_{batchSize}_{epoch}_{0.2}_{training_time}.h5\"\n",
    "\n",
    "print(path)\n",
    "model.save(path)"
   ]
  },
  {
   "cell_type": "markdown",
   "metadata": {},
   "source": [
    "**Prediction**"
   ]
  },
  {
   "cell_type": "code",
   "execution_count": 68,
   "metadata": {},
   "outputs": [
    {
     "name": "stdout",
     "output_type": "stream",
     "text": [
      "284/284 [==============================] - 5428s 19s/step - loss: 0.2867 - accuracy: 0.9106\n",
      "Test Score: 0.28671711683273315\n",
      "Test Accuracy: 0.9106256365776062\n"
     ]
    }
   ],
   "source": [
    "# Predictions on the Test Set\n",
    "score = model.evaluate(X_test, y_test)\n",
    "\n",
    "# Model Performance\n",
    "print(\"Test Score:\", score[0])\n",
    "print(\"Test Accuracy:\", score[1])"
   ]
  },
  {
   "cell_type": "code",
   "execution_count": 69,
   "metadata": {},
   "outputs": [
    {
     "name": "stdout",
     "output_type": "stream",
     "text": [
      "284/284 [==============================] - 5463s 19s/step\n",
      "Kết quả thực tế: ['DaC' 'DaC' 'CC' ... 'DaC' 'CC' 'DaC']\n",
      "Kết quả mô hình phân loại: ['DaC' 'DaC' 'CC' ... 'DaC' 'CC' 'DaC'] - [ True  True  True ...  True  True  True]\n"
     ]
    }
   ],
   "source": [
    "start = None\n",
    "end = None\n",
    "\n",
    "# Phân loại \n",
    "y_pred = model.predict(X_test[start:end])\n",
    "# Mã hóa label\n",
    "y_pred_original = label_encoder.inverse_transform(np.argmax(y_pred, axis=1))\n",
    "y_test_original = label_encoder.inverse_transform(y_test[start:end])\n",
    "\n",
    "# In ra kết quả phân loại\n",
    "print(f\"Kết quả thực tế: {y_test_original}\")\n",
    "print(f\"Kết quả mô hình phân loại: {y_pred_original} - {y_pred_original == y_test_original}\")"
   ]
  },
  {
   "cell_type": "code",
   "execution_count": 70,
   "metadata": {},
   "outputs": [
    {
     "data": {
      "image/png": "[encoded data removed]",
      "text/plain": [
       "<Figure size 1000x600 with 1 Axes>"
      ]
     },
     "metadata": {},
     "output_type": "display_data"
    }
   ],
   "source": [
    "def plot_graph(history):\n",
    "    acc = history.history['accuracy']\n",
    "    val_acc = history.history['val_accuracy']\n",
    "    loss = history.history['loss']\n",
    "    val_loss = history.history['val_loss']\n",
    "    epochs = range(len(acc))\n",
    "\n",
    "    plt.figure(figsize=(10,6))\n",
    "    plt.plot(epochs, acc, 'r', label='Training Accuracy')\n",
    "    plt.plot(epochs, val_acc, 'b', label='Validation Accuracy')\n",
    "    plt.plot(epochs, loss, 'g', label='Training Loss')\n",
    "    plt.plot(epochs, val_loss, 'y', label='Validation Loss')\n",
    "\n",
    "    plt.title(f'{X_train.shape[0]} Data - {batchSize} batch size - {epoch} epochs')\n",
    "    plt.legend(loc=0)\n",
    "    plt.savefig(f'images/img_optimize_vbpl_fasttext_vbpl_256lstm_{250}_{batchSize}_{epoch}_0.2_{training_time}.png')\n",
    "    plt.show()\n",
    "\n",
    "\n",
    "plot_graph(lstm_model_history)"
   ]
  },
  {
   "cell_type": "code",
   "execution_count": 71,
   "metadata": {},
   "outputs": [
    {
     "name": "stdout",
     "output_type": "stream",
     "text": [
      "Metrics Table per Class:\n",
      "  Class  Precision    Recall  F1 Score\n",
      "0   BTT   0.936842  0.611684  0.740125\n",
      "1    CC   0.950501  0.965868  0.958123\n",
      "2   DHD   0.705882  0.240000  0.358209\n",
      "3   DSD   0.875000  0.666667  0.756757\n",
      "4   DaC   0.900040  0.974238  0.935670\n",
      "5   HHL   0.822660  0.556667  0.664016\n",
      "6  none   0.452555  0.194357  0.271930\n",
      "\n",
      "Macro-Average Metrics:\n",
      "Macro Precision: 0.806\n",
      "Macro Recall: 0.601\n",
      "Macro F1 Score: 0.669\n"
     ]
    }
   ],
   "source": [
    "# Calculate precision, recall, and F1 score for each class\n",
    "precision_per_class = precision_score(y_test_original, y_pred_original, average=None)\n",
    "recall_per_class = recall_score(y_test_original, y_pred_original, average=None)\n",
    "f1_per_class = f1_score(y_test_original, y_pred_original, average=None)\n",
    "\n",
    "# Calculate macro-average precision, recall, and F1 score\n",
    "macro_precision = round(np.mean(precision_per_class),3)\n",
    "macro_recall = round(np.mean(recall_per_class),3)\n",
    "macro_f1 = round(np.mean(f1_per_class),3)\n",
    "\n",
    "# Create a DataFrame for the table\n",
    "metrics_table_per_class = pd.DataFrame({\n",
    "    'Class': np.unique(y_test_original),\n",
    "    'Precision': precision_per_class,\n",
    "    'Recall': recall_per_class,\n",
    "    'F1 Score': f1_per_class\n",
    "})\n",
    "\n",
    "# Print the table per class\n",
    "print(\"Metrics Table per Class:\")\n",
    "print(metrics_table_per_class)\n",
    "\n",
    "# Print macro-average metrics\n",
    "print(\"\\nMacro-Average Metrics:\")\n",
    "print(f\"Macro Precision: {macro_precision}\")\n",
    "print(f\"Macro Recall: {macro_recall}\")\n",
    "print(f\"Macro F1 Score: {macro_f1}\")"
   ]
  },
  {
   "cell_type": "markdown",
   "metadata": {},
   "source": [
    "**Confusion Matrix**"
   ]
  },
  {
   "cell_type": "code",
   "execution_count": 72,
   "metadata": {},
   "outputs": [
    {
     "name": "stdout",
     "output_type": "stream",
     "text": [
      "Ma trận confusion:\n",
      "[[ 178   23    1    1   50   12   26]\n",
      " [   0 3226    0    0  100    4   10]\n",
      " [   0    8   12    1   29    0    0]\n",
      " [   0    9    0   70   21    1    4]\n",
      " [   1   87    4    3 4538    6   19]\n",
      " [   5   17    0    1   94  167   16]\n",
      " [   6   24    0    4  210   13   62]]\n"
     ]
    }
   ],
   "source": [
    "# Tìm tất cả các nhãn duy nhất\n",
    "labels = np.unique(np.concatenate((y_test_original, y_pred_original)))\n",
    "\n",
    "# Tạo ma trận confusion\n",
    "confusion = confusion_matrix(y_test_original, y_pred_original, labels=labels)\n",
    "\n",
    "print(\"Ma trận confusion:\")\n",
    "print(confusion)"
   ]
  }
 ],
 "metadata": {
  "kernelspec": {
   "display_name": "Python 3",
   "language": "python",
   "name": "python3"
  },
  "language_info": {
   "codemirror_mode": {
    "name": "ipython",
    "version": 3
   },
   "file_extension": ".py",
   "mimetype": "text/x-python",
   "name": "python",
   "nbconvert_exporter": "python",
   "pygments_lexer": "ipython3",
   "version": "3.9.8"
  }
 },
 "nbformat": 4,
 "nbformat_minor": 2
}
