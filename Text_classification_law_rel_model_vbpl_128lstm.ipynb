{
 "cells": [
  {
   "cell_type": "markdown",
   "metadata": {},
   "source": [
    "**Import Library**"
   ]
  },
  {
   "cell_type": "code",
   "execution_count": 1,
   "metadata": {},
   "outputs": [],
   "source": [
    "import re\n",
    "import os\n",
    "import time\n",
    "\n",
    "import numpy as np\n",
    "import pandas as pd\n",
    "import tensorflow as tf\n",
    "import plotly.graph_objects as go\n",
    "import matplotlib.pyplot as plt\n",
    "\n",
    "from sklearn.metrics import confusion_matrix, precision_score, recall_score, f1_score\n",
    "from tensorflow.keras.preprocessing.text import Tokenizer\n",
    "from tensorflow.keras.preprocessing.sequence import pad_sequences\n",
    "from tensorflow.keras.models import Sequential, Model, load_model\n",
    "from keras_self_attention import SeqSelfAttention\n",
    "from tensorflow.keras.layers import Embedding, LSTM, Dense, Flatten\n",
    "from sklearn.model_selection import train_test_split\n",
    "from sklearn.preprocessing import LabelEncoder\n",
    "from tensorflow.keras.callbacks import EarlyStopping\n",
    "from underthesea import word_tokenize\n",
    "from collections import Counter\n",
    "import fasttext\n",
    "\n",
    "\n",
    "#from google.colab import drive\n",
    "#drive.mount('/content/gdrive')\n",
    "\n",
    "\n",
    "#path = \"/content/gdrive/MyDrive/KLTN/\"\n"
   ]
  },
  {
   "cell_type": "markdown",
   "metadata": {},
   "source": [
    "**Read data & Visualize**"
   ]
  },
  {
   "cell_type": "code",
   "execution_count": 2,
   "metadata": {},
   "outputs": [
    {
     "data": {
      "text/html": [
       "<div>\n",
       "<style scoped>\n",
       "    .dataframe tbody tr th:only-of-type {\n",
       "        vertical-align: middle;\n",
       "    }\n",
       "\n",
       "    .dataframe tbody tr th {\n",
       "        vertical-align: top;\n",
       "    }\n",
       "\n",
       "    .dataframe thead th {\n",
       "        text-align: right;\n",
       "    }\n",
       "</style>\n",
       "<table border=\"1\" class=\"dataframe\">\n",
       "  <thead>\n",
       "    <tr style=\"text-align: right;\">\n",
       "      <th></th>\n",
       "      <th>Thực thể tham chiếu</th>\n",
       "      <th>Quan hệ</th>\n",
       "      <th>Nội dung Trước thực thể được tham chiếu</th>\n",
       "      <th>Thực thể được tham chiếu</th>\n",
       "      <th>Nội dung Sau thực thể được tham chiếu</th>\n",
       "    </tr>\n",
       "  </thead>\n",
       "  <tbody>\n",
       "    <tr>\n",
       "      <th>0</th>\n",
       "      <td>Nghị định Về chế độ thôi việc đối với cán bộ, ...</td>\n",
       "      <td>CC</td>\n",
       "      <td>NaN</td>\n",
       "      <td>Luật tổ_chức Chính_phủ ngày 30 tháng 9 năm 1992</td>\n",
       "      <td></td>\n",
       "    </tr>\n",
       "    <tr>\n",
       "      <th>1</th>\n",
       "      <td>Nghị định Về chế độ thôi việc đối với cán bộ, ...</td>\n",
       "      <td>CC</td>\n",
       "      <td>NaN</td>\n",
       "      <td>Bộ_Luật Lao_động ngày 23 tháng 6 năm 1994</td>\n",
       "      <td></td>\n",
       "    </tr>\n",
       "    <tr>\n",
       "      <th>2</th>\n",
       "      <td>Nghị định Về chế độ thôi việc đối với cán bộ, ...</td>\n",
       "      <td>CC</td>\n",
       "      <td>NaN</td>\n",
       "      <td>Pháp_lệnh Cán_bộ , công_chức ngày 26/02 năm 1...</td>\n",
       "      <td></td>\n",
       "    </tr>\n",
       "    <tr>\n",
       "      <th>3</th>\n",
       "      <td>Nghị định Về chế độ thôi việc đối với cán bộ, ...</td>\n",
       "      <td>DC</td>\n",
       "      <td>Những người được quy_định tại các khoản 2 , 3...</td>\n",
       "      <td>Pháp_lệnh Cán_bộ , công_chức</td>\n",
       "      <td></td>\n",
       "    </tr>\n",
       "    <tr>\n",
       "      <th>4</th>\n",
       "      <td>Nghị định Về chế độ thôi việc đối với cán bộ, ...</td>\n",
       "      <td>DC</td>\n",
       "      <td>Cán_bộ , công_chức làm_việc ở những ngành_ngh...</td>\n",
       "      <td>Pháp_lệnh Cán_bộ , công_chức</td>\n",
       "      <td></td>\n",
       "    </tr>\n",
       "  </tbody>\n",
       "</table>\n",
       "</div>"
      ],
      "text/plain": [
       "                                 Thực thể tham chiếu Quan hệ  \\\n",
       "0  Nghị định Về chế độ thôi việc đối với cán bộ, ...      CC   \n",
       "1  Nghị định Về chế độ thôi việc đối với cán bộ, ...      CC   \n",
       "2  Nghị định Về chế độ thôi việc đối với cán bộ, ...      CC   \n",
       "3  Nghị định Về chế độ thôi việc đối với cán bộ, ...      DC   \n",
       "4  Nghị định Về chế độ thôi việc đối với cán bộ, ...      DC   \n",
       "\n",
       "             Nội dung Trước thực thể được tham chiếu  \\\n",
       "0                                                NaN   \n",
       "1                                                NaN   \n",
       "2                                                NaN   \n",
       "3   Những người được quy_định tại các khoản 2 , 3...   \n",
       "4   Cán_bộ , công_chức làm_việc ở những ngành_ngh...   \n",
       "\n",
       "                            Thực thể được tham chiếu  \\\n",
       "0   Luật tổ_chức Chính_phủ ngày 30 tháng 9 năm 1992    \n",
       "1         Bộ_Luật Lao_động ngày 23 tháng 6 năm 1994    \n",
       "2   Pháp_lệnh Cán_bộ , công_chức ngày 26/02 năm 1...   \n",
       "3                      Pháp_lệnh Cán_bộ , công_chức    \n",
       "4                      Pháp_lệnh Cán_bộ , công_chức    \n",
       "\n",
       "  Nội dung Sau thực thể được tham chiếu  \n",
       "0                                        \n",
       "1                                        \n",
       "2                                        \n",
       "3                                        \n",
       "4                                        "
      ]
     },
     "execution_count": 2,
     "metadata": {},
     "output_type": "execute_result"
    }
   ],
   "source": [
    "dt = pd.read_csv(\"data/vbpl.csv\", encoding=\"utf-8\")\n",
    "dt.head()"
   ]
  },
  {
   "cell_type": "code",
   "execution_count": 3,
   "metadata": {},
   "outputs": [
    {
     "name": "stdout",
     "output_type": "stream",
     "text": [
      "<class 'pandas.core.frame.DataFrame'>\n",
      "RangeIndex: 45313 entries, 0 to 45312\n",
      "Data columns (total 5 columns):\n",
      " #   Column                                   Non-Null Count  Dtype \n",
      "---  ------                                   --------------  ----- \n",
      " 0   Thực thể tham chiếu                      45313 non-null  object\n",
      " 1   Quan hệ                                  45313 non-null  object\n",
      " 2   Nội dung Trước thực thể được tham chiếu  29417 non-null  object\n",
      " 3   Thực thể được tham chiếu                 45313 non-null  object\n",
      " 4   Nội dung Sau thực thể được tham chiếu    45313 non-null  object\n",
      "dtypes: object(5)\n",
      "memory usage: 1.7+ MB\n"
     ]
    },
    {
     "data": {
      "text/html": [
       "<div>\n",
       "<style scoped>\n",
       "    .dataframe tbody tr th:only-of-type {\n",
       "        vertical-align: middle;\n",
       "    }\n",
       "\n",
       "    .dataframe tbody tr th {\n",
       "        vertical-align: top;\n",
       "    }\n",
       "\n",
       "    .dataframe thead th {\n",
       "        text-align: right;\n",
       "    }\n",
       "</style>\n",
       "<table border=\"1\" class=\"dataframe\">\n",
       "  <thead>\n",
       "    <tr style=\"text-align: right;\">\n",
       "      <th></th>\n",
       "      <th>Thực thể tham chiếu</th>\n",
       "      <th>Quan hệ</th>\n",
       "      <th>Nội dung Trước thực thể được tham chiếu</th>\n",
       "      <th>Thực thể được tham chiếu</th>\n",
       "      <th>Nội dung Sau thực thể được tham chiếu</th>\n",
       "    </tr>\n",
       "  </thead>\n",
       "  <tbody>\n",
       "    <tr>\n",
       "      <th>0</th>\n",
       "      <td>Nghị định Về chế độ thôi việc đối với cán bộ, ...</td>\n",
       "      <td>CC</td>\n",
       "      <td>NaN</td>\n",
       "      <td>Luật tổ_chức Chính_phủ ngày 30 tháng 9 năm 1992</td>\n",
       "      <td></td>\n",
       "    </tr>\n",
       "    <tr>\n",
       "      <th>1</th>\n",
       "      <td>Nghị định Về chế độ thôi việc đối với cán bộ, ...</td>\n",
       "      <td>CC</td>\n",
       "      <td>NaN</td>\n",
       "      <td>Bộ_Luật Lao_động ngày 23 tháng 6 năm 1994</td>\n",
       "      <td></td>\n",
       "    </tr>\n",
       "    <tr>\n",
       "      <th>2</th>\n",
       "      <td>Nghị định Về chế độ thôi việc đối với cán bộ, ...</td>\n",
       "      <td>CC</td>\n",
       "      <td>NaN</td>\n",
       "      <td>Pháp_lệnh Cán_bộ , công_chức ngày 26/02 năm 1...</td>\n",
       "      <td></td>\n",
       "    </tr>\n",
       "    <tr>\n",
       "      <th>3</th>\n",
       "      <td>Nghị định Về chế độ thôi việc đối với cán bộ, ...</td>\n",
       "      <td>DC</td>\n",
       "      <td>Những người được quy_định tại các khoản 2 , 3...</td>\n",
       "      <td>Pháp_lệnh Cán_bộ , công_chức</td>\n",
       "      <td></td>\n",
       "    </tr>\n",
       "    <tr>\n",
       "      <th>4</th>\n",
       "      <td>Nghị định Về chế độ thôi việc đối với cán bộ, ...</td>\n",
       "      <td>DC</td>\n",
       "      <td>Cán_bộ , công_chức làm_việc ở những ngành_ngh...</td>\n",
       "      <td>Pháp_lệnh Cán_bộ , công_chức</td>\n",
       "      <td></td>\n",
       "    </tr>\n",
       "    <tr>\n",
       "      <th>5</th>\n",
       "      <td>Nghị định Về chế độ thôi việc đối với cán bộ, ...</td>\n",
       "      <td>DC</td>\n",
       "      <td>Cán_bộ , công_chức thôi_việc mà không đủ điều...</td>\n",
       "      <td>Bộ_Luật Lao_động</td>\n",
       "      <td>thì được hưởng trợ_cấp một lần và các quyền_l...</td>\n",
       "    </tr>\n",
       "    <tr>\n",
       "      <th>6</th>\n",
       "      <td>Nghị định Về chế độ thôi việc đối với cán bộ, ...</td>\n",
       "      <td>DC</td>\n",
       "      <td>Thời_gian cán_bộ , công_chức nghỉ theo quy_đị...</td>\n",
       "      <td>Bộ_Luật Lao_động</td>\n",
       "      <td></td>\n",
       "    </tr>\n",
       "    <tr>\n",
       "      <th>7</th>\n",
       "      <td>Nghị định Về chế độ thôi việc đối với cán bộ, ...</td>\n",
       "      <td>DC</td>\n",
       "      <td>Thời_gian cán_bộ , công_chức nghỉ sinh con th...</td>\n",
       "      <td>Bộ_Luật Lao_động</td>\n",
       "      <td></td>\n",
       "    </tr>\n",
       "    <tr>\n",
       "      <th>8</th>\n",
       "      <td>Nghị định Về chế độ thôi việc đối với cán bộ, ...</td>\n",
       "      <td>DC</td>\n",
       "      <td>Thời_gian cán_bộ , công_chức bị xử_lý kỷ_luật...</td>\n",
       "      <td>Pháp_lệnh Cán_bộ , công_chức</td>\n",
       "      <td></td>\n",
       "    </tr>\n",
       "    <tr>\n",
       "      <th>9</th>\n",
       "      <td>Nghị định Về chế độ thôi việc đối với cán bộ, ...</td>\n",
       "      <td>DC</td>\n",
       "      <td>Thời_gian cán_bộ , công_chức bị tạm đình_chỉ ...</td>\n",
       "      <td>Pháp_lệnh Cán_bộ , công_chức</td>\n",
       "      <td></td>\n",
       "    </tr>\n",
       "  </tbody>\n",
       "</table>\n",
       "</div>"
      ],
      "text/plain": [
       "                                 Thực thể tham chiếu Quan hệ  \\\n",
       "0  Nghị định Về chế độ thôi việc đối với cán bộ, ...      CC   \n",
       "1  Nghị định Về chế độ thôi việc đối với cán bộ, ...      CC   \n",
       "2  Nghị định Về chế độ thôi việc đối với cán bộ, ...      CC   \n",
       "3  Nghị định Về chế độ thôi việc đối với cán bộ, ...      DC   \n",
       "4  Nghị định Về chế độ thôi việc đối với cán bộ, ...      DC   \n",
       "5  Nghị định Về chế độ thôi việc đối với cán bộ, ...      DC   \n",
       "6  Nghị định Về chế độ thôi việc đối với cán bộ, ...      DC   \n",
       "7  Nghị định Về chế độ thôi việc đối với cán bộ, ...      DC   \n",
       "8  Nghị định Về chế độ thôi việc đối với cán bộ, ...      DC   \n",
       "9  Nghị định Về chế độ thôi việc đối với cán bộ, ...      DC   \n",
       "\n",
       "             Nội dung Trước thực thể được tham chiếu  \\\n",
       "0                                                NaN   \n",
       "1                                                NaN   \n",
       "2                                                NaN   \n",
       "3   Những người được quy_định tại các khoản 2 , 3...   \n",
       "4   Cán_bộ , công_chức làm_việc ở những ngành_ngh...   \n",
       "5   Cán_bộ , công_chức thôi_việc mà không đủ điều...   \n",
       "6   Thời_gian cán_bộ , công_chức nghỉ theo quy_đị...   \n",
       "7   Thời_gian cán_bộ , công_chức nghỉ sinh con th...   \n",
       "8   Thời_gian cán_bộ , công_chức bị xử_lý kỷ_luật...   \n",
       "9   Thời_gian cán_bộ , công_chức bị tạm đình_chỉ ...   \n",
       "\n",
       "                            Thực thể được tham chiếu  \\\n",
       "0   Luật tổ_chức Chính_phủ ngày 30 tháng 9 năm 1992    \n",
       "1         Bộ_Luật Lao_động ngày 23 tháng 6 năm 1994    \n",
       "2   Pháp_lệnh Cán_bộ , công_chức ngày 26/02 năm 1...   \n",
       "3                      Pháp_lệnh Cán_bộ , công_chức    \n",
       "4                      Pháp_lệnh Cán_bộ , công_chức    \n",
       "5                                  Bộ_Luật Lao_động    \n",
       "6                                  Bộ_Luật Lao_động    \n",
       "7                                  Bộ_Luật Lao_động    \n",
       "8                      Pháp_lệnh Cán_bộ , công_chức    \n",
       "9                      Pháp_lệnh Cán_bộ , công_chức    \n",
       "\n",
       "               Nội dung Sau thực thể được tham chiếu  \n",
       "0                                                     \n",
       "1                                                     \n",
       "2                                                     \n",
       "3                                                     \n",
       "4                                                     \n",
       "5   thì được hưởng trợ_cấp một lần và các quyền_l...  \n",
       "6                                                     \n",
       "7                                                     \n",
       "8                                                     \n",
       "9                                                     "
      ]
     },
     "execution_count": 3,
     "metadata": {},
     "output_type": "execute_result"
    }
   ],
   "source": [
    "A = \"Thực thể tham chiếu\"\n",
    "Label = \"Quan hệ\"\n",
    "B = \"Thực thể được tham chiếu\"\n",
    "Before_B = \"Nội dung Trước thực thể được tham chiếu\"\n",
    "After_B = \"Nội dung Sau thực thể được tham chiếu\"\n",
    "\n",
    "data_Clean = dt[[A,Label,Before_B,B,After_B]].copy()\n",
    "data_Clean[Label] = dt[Label].fillna('None')\n",
    "data_Clean[[A, B]].dropna()\n",
    "data_Clean.info()\n",
    "\n",
    "\n",
    "data_Clean['Quan hệ'].unique()\n",
    "data_Clean.head(10)"
   ]
  },
  {
   "cell_type": "code",
   "execution_count": 4,
   "metadata": {},
   "outputs": [
    {
     "data": {
      "application/vnd.plotly.v1+json": {
       "config": {
        "plotlyServerURL": "https://plot.ly"
       },
       "data": [
        {
         "marker": {
          "color": "cadetblue"
         },
         "type": "bar",
         "width": [
          0.4,
          0.4
         ],
         "x": [
          "BTT",
          "CC",
          "DC",
          "DHD",
          "DSD",
          "HHL",
          "none"
         ],
         "y": [
          1615,
          16441,
          23472,
          269,
          509,
          1390,
          1617
         ]
        }
       ],
       "layout": {
        "template": {
         "data": {
          "bar": [
           {
            "error_x": {
             "color": "#2a3f5f"
            },
            "error_y": {
             "color": "#2a3f5f"
            },
            "marker": {
             "line": {
              "color": "#E5ECF6",
              "width": 0.5
             },
             "pattern": {
              "fillmode": "overlay",
              "size": 10,
              "solidity": 0.2
             }
            },
            "type": "bar"
           }
          ],
          "barpolar": [
           {
            "marker": {
             "line": {
              "color": "#E5ECF6",
              "width": 0.5
             },
             "pattern": {
              "fillmode": "overlay",
              "size": 10,
              "solidity": 0.2
             }
            },
            "type": "barpolar"
           }
          ],
          "carpet": [
           {
            "aaxis": {
             "endlinecolor": "#2a3f5f",
             "gridcolor": "white",
             "linecolor": "white",
             "minorgridcolor": "white",
             "startlinecolor": "#2a3f5f"
            },
            "baxis": {
             "endlinecolor": "#2a3f5f",
             "gridcolor": "white",
             "linecolor": "white",
             "minorgridcolor": "white",
             "startlinecolor": "#2a3f5f"
            },
            "type": "carpet"
           }
          ],
          "choropleth": [
           {
            "colorbar": {
             "outlinewidth": 0,
             "ticks": ""
            },
            "type": "choropleth"
           }
          ],
          "contour": [
           {
            "colorbar": {
             "outlinewidth": 0,
             "ticks": ""
            },
            "colorscale": [
             [
              0,
              "#0d0887"
             ],
             [
              0.1111111111111111,
              "#46039f"
             ],
             [
              0.2222222222222222,
              "#7201a8"
             ],
             [
              0.3333333333333333,
              "#9c179e"
             ],
             [
              0.4444444444444444,
              "#bd3786"
             ],
             [
              0.5555555555555556,
              "#d8576b"
             ],
             [
              0.6666666666666666,
              "#ed7953"
             ],
             [
              0.7777777777777778,
              "#fb9f3a"
             ],
             [
              0.8888888888888888,
              "#fdca26"
             ],
             [
              1,
              "#f0f921"
             ]
            ],
            "type": "contour"
           }
          ],
          "contourcarpet": [
           {
            "colorbar": {
             "outlinewidth": 0,
             "ticks": ""
            },
            "type": "contourcarpet"
           }
          ],
          "heatmap": [
           {
            "colorbar": {
             "outlinewidth": 0,
             "ticks": ""
            },
            "colorscale": [
             [
              0,
              "#0d0887"
             ],
             [
              0.1111111111111111,
              "#46039f"
             ],
             [
              0.2222222222222222,
              "#7201a8"
             ],
             [
              0.3333333333333333,
              "#9c179e"
             ],
             [
              0.4444444444444444,
              "#bd3786"
             ],
             [
              0.5555555555555556,
              "#d8576b"
             ],
             [
              0.6666666666666666,
              "#ed7953"
             ],
             [
              0.7777777777777778,
              "#fb9f3a"
             ],
             [
              0.8888888888888888,
              "#fdca26"
             ],
             [
              1,
              "#f0f921"
             ]
            ],
            "type": "heatmap"
           }
          ],
          "heatmapgl": [
           {
            "colorbar": {
             "outlinewidth": 0,
             "ticks": ""
            },
            "colorscale": [
             [
              0,
              "#0d0887"
             ],
             [
              0.1111111111111111,
              "#46039f"
             ],
             [
              0.2222222222222222,
              "#7201a8"
             ],
             [
              0.3333333333333333,
              "#9c179e"
             ],
             [
              0.4444444444444444,
              "#bd3786"
             ],
             [
              0.5555555555555556,
              "#d8576b"
             ],
             [
              0.6666666666666666,
              "#ed7953"
             ],
             [
              0.7777777777777778,
              "#fb9f3a"
             ],
             [
              0.8888888888888888,
              "#fdca26"
             ],
             [
              1,
              "#f0f921"
             ]
            ],
            "type": "heatmapgl"
           }
          ],
          "histogram": [
           {
            "marker": {
             "pattern": {
              "fillmode": "overlay",
              "size": 10,
              "solidity": 0.2
             }
            },
            "type": "histogram"
           }
          ],
          "histogram2d": [
           {
            "colorbar": {
             "outlinewidth": 0,
             "ticks": ""
            },
            "colorscale": [
             [
              0,
              "#0d0887"
             ],
             [
              0.1111111111111111,
              "#46039f"
             ],
             [
              0.2222222222222222,
              "#7201a8"
             ],
             [
              0.3333333333333333,
              "#9c179e"
             ],
             [
              0.4444444444444444,
              "#bd3786"
             ],
             [
              0.5555555555555556,
              "#d8576b"
             ],
             [
              0.6666666666666666,
              "#ed7953"
             ],
             [
              0.7777777777777778,
              "#fb9f3a"
             ],
             [
              0.8888888888888888,
              "#fdca26"
             ],
             [
              1,
              "#f0f921"
             ]
            ],
            "type": "histogram2d"
           }
          ],
          "histogram2dcontour": [
           {
            "colorbar": {
             "outlinewidth": 0,
             "ticks": ""
            },
            "colorscale": [
             [
              0,
              "#0d0887"
             ],
             [
              0.1111111111111111,
              "#46039f"
             ],
             [
              0.2222222222222222,
              "#7201a8"
             ],
             [
              0.3333333333333333,
              "#9c179e"
             ],
             [
              0.4444444444444444,
              "#bd3786"
             ],
             [
              0.5555555555555556,
              "#d8576b"
             ],
             [
              0.6666666666666666,
              "#ed7953"
             ],
             [
              0.7777777777777778,
              "#fb9f3a"
             ],
             [
              0.8888888888888888,
              "#fdca26"
             ],
             [
              1,
              "#f0f921"
             ]
            ],
            "type": "histogram2dcontour"
           }
          ],
          "mesh3d": [
           {
            "colorbar": {
             "outlinewidth": 0,
             "ticks": ""
            },
            "type": "mesh3d"
           }
          ],
          "parcoords": [
           {
            "line": {
             "colorbar": {
              "outlinewidth": 0,
              "ticks": ""
             }
            },
            "type": "parcoords"
           }
          ],
          "pie": [
           {
            "automargin": true,
            "type": "pie"
           }
          ],
          "scatter": [
           {
            "fillpattern": {
             "fillmode": "overlay",
             "size": 10,
             "solidity": 0.2
            },
            "type": "scatter"
           }
          ],
          "scatter3d": [
           {
            "line": {
             "colorbar": {
              "outlinewidth": 0,
              "ticks": ""
             }
            },
            "marker": {
             "colorbar": {
              "outlinewidth": 0,
              "ticks": ""
             }
            },
            "type": "scatter3d"
           }
          ],
          "scattercarpet": [
           {
            "marker": {
             "colorbar": {
              "outlinewidth": 0,
              "ticks": ""
             }
            },
            "type": "scattercarpet"
           }
          ],
          "scattergeo": [
           {
            "marker": {
             "colorbar": {
              "outlinewidth": 0,
              "ticks": ""
             }
            },
            "type": "scattergeo"
           }
          ],
          "scattergl": [
           {
            "marker": {
             "colorbar": {
              "outlinewidth": 0,
              "ticks": ""
             }
            },
            "type": "scattergl"
           }
          ],
          "scattermapbox": [
           {
            "marker": {
             "colorbar": {
              "outlinewidth": 0,
              "ticks": ""
             }
            },
            "type": "scattermapbox"
           }
          ],
          "scatterpolar": [
           {
            "marker": {
             "colorbar": {
              "outlinewidth": 0,
              "ticks": ""
             }
            },
            "type": "scatterpolar"
           }
          ],
          "scatterpolargl": [
           {
            "marker": {
             "colorbar": {
              "outlinewidth": 0,
              "ticks": ""
             }
            },
            "type": "scatterpolargl"
           }
          ],
          "scatterternary": [
           {
            "marker": {
             "colorbar": {
              "outlinewidth": 0,
              "ticks": ""
             }
            },
            "type": "scatterternary"
           }
          ],
          "surface": [
           {
            "colorbar": {
             "outlinewidth": 0,
             "ticks": ""
            },
            "colorscale": [
             [
              0,
              "#0d0887"
             ],
             [
              0.1111111111111111,
              "#46039f"
             ],
             [
              0.2222222222222222,
              "#7201a8"
             ],
             [
              0.3333333333333333,
              "#9c179e"
             ],
             [
              0.4444444444444444,
              "#bd3786"
             ],
             [
              0.5555555555555556,
              "#d8576b"
             ],
             [
              0.6666666666666666,
              "#ed7953"
             ],
             [
              0.7777777777777778,
              "#fb9f3a"
             ],
             [
              0.8888888888888888,
              "#fdca26"
             ],
             [
              1,
              "#f0f921"
             ]
            ],
            "type": "surface"
           }
          ],
          "table": [
           {
            "cells": {
             "fill": {
              "color": "#EBF0F8"
             },
             "line": {
              "color": "white"
             }
            },
            "header": {
             "fill": {
              "color": "#C8D4E3"
             },
             "line": {
              "color": "white"
             }
            },
            "type": "table"
           }
          ]
         },
         "layout": {
          "annotationdefaults": {
           "arrowcolor": "#2a3f5f",
           "arrowhead": 0,
           "arrowwidth": 1
          },
          "autotypenumbers": "strict",
          "coloraxis": {
           "colorbar": {
            "outlinewidth": 0,
            "ticks": ""
           }
          },
          "colorscale": {
           "diverging": [
            [
             0,
             "#8e0152"
            ],
            [
             0.1,
             "#c51b7d"
            ],
            [
             0.2,
             "#de77ae"
            ],
            [
             0.3,
             "#f1b6da"
            ],
            [
             0.4,
             "#fde0ef"
            ],
            [
             0.5,
             "#f7f7f7"
            ],
            [
             0.6,
             "#e6f5d0"
            ],
            [
             0.7,
             "#b8e186"
            ],
            [
             0.8,
             "#7fbc41"
            ],
            [
             0.9,
             "#4d9221"
            ],
            [
             1,
             "#276419"
            ]
           ],
           "sequential": [
            [
             0,
             "#0d0887"
            ],
            [
             0.1111111111111111,
             "#46039f"
            ],
            [
             0.2222222222222222,
             "#7201a8"
            ],
            [
             0.3333333333333333,
             "#9c179e"
            ],
            [
             0.4444444444444444,
             "#bd3786"
            ],
            [
             0.5555555555555556,
             "#d8576b"
            ],
            [
             0.6666666666666666,
             "#ed7953"
            ],
            [
             0.7777777777777778,
             "#fb9f3a"
            ],
            [
             0.8888888888888888,
             "#fdca26"
            ],
            [
             1,
             "#f0f921"
            ]
           ],
           "sequentialminus": [
            [
             0,
             "#0d0887"
            ],
            [
             0.1111111111111111,
             "#46039f"
            ],
            [
             0.2222222222222222,
             "#7201a8"
            ],
            [
             0.3333333333333333,
             "#9c179e"
            ],
            [
             0.4444444444444444,
             "#bd3786"
            ],
            [
             0.5555555555555556,
             "#d8576b"
            ],
            [
             0.6666666666666666,
             "#ed7953"
            ],
            [
             0.7777777777777778,
             "#fb9f3a"
            ],
            [
             0.8888888888888888,
             "#fdca26"
            ],
            [
             1,
             "#f0f921"
            ]
           ]
          },
          "colorway": [
           "#636efa",
           "#EF553B",
           "#00cc96",
           "#ab63fa",
           "#FFA15A",
           "#19d3f3",
           "#FF6692",
           "#B6E880",
           "#FF97FF",
           "#FECB52"
          ],
          "font": {
           "color": "#2a3f5f"
          },
          "geo": {
           "bgcolor": "white",
           "lakecolor": "white",
           "landcolor": "#E5ECF6",
           "showlakes": true,
           "showland": true,
           "subunitcolor": "white"
          },
          "hoverlabel": {
           "align": "left"
          },
          "hovermode": "closest",
          "mapbox": {
           "style": "light"
          },
          "paper_bgcolor": "white",
          "plot_bgcolor": "#E5ECF6",
          "polar": {
           "angularaxis": {
            "gridcolor": "white",
            "linecolor": "white",
            "ticks": ""
           },
           "bgcolor": "#E5ECF6",
           "radialaxis": {
            "gridcolor": "white",
            "linecolor": "white",
            "ticks": ""
           }
          },
          "scene": {
           "xaxis": {
            "backgroundcolor": "#E5ECF6",
            "gridcolor": "white",
            "gridwidth": 2,
            "linecolor": "white",
            "showbackground": true,
            "ticks": "",
            "zerolinecolor": "white"
           },
           "yaxis": {
            "backgroundcolor": "#E5ECF6",
            "gridcolor": "white",
            "gridwidth": 2,
            "linecolor": "white",
            "showbackground": true,
            "ticks": "",
            "zerolinecolor": "white"
           },
           "zaxis": {
            "backgroundcolor": "#E5ECF6",
            "gridcolor": "white",
            "gridwidth": 2,
            "linecolor": "white",
            "showbackground": true,
            "ticks": "",
            "zerolinecolor": "white"
           }
          },
          "shapedefaults": {
           "line": {
            "color": "#2a3f5f"
           }
          },
          "ternary": {
           "aaxis": {
            "gridcolor": "white",
            "linecolor": "white",
            "ticks": ""
           },
           "baxis": {
            "gridcolor": "white",
            "linecolor": "white",
            "ticks": ""
           },
           "bgcolor": "#E5ECF6",
           "caxis": {
            "gridcolor": "white",
            "linecolor": "white",
            "ticks": ""
           }
          },
          "title": {
           "x": 0.05
          },
          "xaxis": {
           "automargin": true,
           "gridcolor": "white",
           "linecolor": "white",
           "ticks": "",
           "title": {
            "standoff": 15
           },
           "zerolinecolor": "white",
           "zerolinewidth": 2
          },
          "yaxis": {
           "automargin": true,
           "gridcolor": "white",
           "linecolor": "white",
           "ticks": "",
           "title": {
            "standoff": 15
           },
           "zerolinecolor": "white",
           "zerolinewidth": 2
          }
         }
        },
        "title": {
         "text": "Classes and their number in the dataset",
         "x": 0.5
        }
       }
      }
     },
     "metadata": {},
     "output_type": "display_data"
    }
   ],
   "source": [
    "groups = data_Clean.groupby(by=Label).count()[A]\n",
    "fig = go.Figure()\n",
    "fig.add_trace(go.Bar(\n",
    "    x=groups.index,\n",
    "    y=groups,\n",
    "    marker_color='cadetblue',\n",
    "    width=[0.4, 0.4]))\n",
    "fig.update_layout(title='Classes and their number in the dataset', title_x=0.5)"
   ]
  },
  {
   "cell_type": "markdown",
   "metadata": {},
   "source": [
    "**Preprocessing**"
   ]
  },
  {
   "cell_type": "code",
   "execution_count": 5,
   "metadata": {},
   "outputs": [],
   "source": [
    "def load_dicchar():\n",
    "    dic = {}\n",
    "    char1252 = 'à|á|ả|ã|ạ|ầ|ấ|ẩ|ẫ|ậ|ằ|ắ|ẳ|ẵ|ặ|è|é|ẻ|ẽ|ẹ|ề|ế|ể|ễ|ệ|ì|í|ỉ|ĩ|ị|ò|ó|ỏ|õ|ọ|ồ|ố|ổ|ỗ|ộ|ờ|ớ|ở|ỡ|ợ|ù|ú|ủ|ũ|ụ|ừ|ứ|ử|ữ|ự|ỳ|ý|ỷ|ỹ|ỵ|À|Á|Ả|Ã|Ạ|Ầ|Ấ|Ẩ|Ẫ|Ậ|Ằ|Ắ|Ẳ|Ẵ|Ặ|È|É|Ẻ|Ẽ|Ẹ|Ề|Ế|Ể|Ễ|Ệ|Ì|Í|Ỉ|Ĩ|Ị|Ò|Ó|Ỏ|Õ|Ọ|Ồ|Ố|Ổ|Ỗ|Ộ|Ờ|Ớ|Ở|Ỡ|Ợ|Ù|Ú|Ủ|Ũ|Ụ|Ừ|Ứ|Ử|Ữ|Ự|Ỳ|Ý|Ỷ|Ỹ|Ỵ'.split(\n",
    "        '|')\n",
    "    charutf8 = \"à|á|ả|ã|ạ|ầ|ấ|ẩ|ẫ|ậ|ằ|ắ|ẳ|ẵ|ặ|è|é|ẻ|ẽ|ẹ|ề|ế|ể|ễ|ệ|ì|í|ỉ|ĩ|ị|ò|ó|ỏ|õ|ọ|ồ|ố|ổ|ỗ|ộ|ờ|ớ|ở|ỡ|ợ|ù|ú|ủ|ũ|ụ|ừ|ứ|ử|ữ|ự|ỳ|ý|ỷ|ỹ|ỵ|À|Á|Ả|Ã|Ạ|Ầ|Ấ|Ẩ|Ẫ|Ậ|Ằ|Ắ|Ẳ|Ẵ|Ặ|È|É|Ẻ|Ẽ|Ẹ|Ề|Ế|Ể|Ễ|Ệ|Ì|Í|Ỉ|Ĩ|Ị|Ò|Ó|Ỏ|Õ|Ọ|Ồ|Ố|Ổ|Ỗ|Ộ|Ờ|Ớ|Ở|Ỡ|Ợ|Ù|Ú|Ủ|Ũ|Ụ|Ừ|Ứ|Ử|Ữ|Ự|Ỳ|Ý|Ỷ|Ỹ|Ỵ\".split(\n",
    "        '|')\n",
    "    for i in range(len(char1252)):\n",
    "        dic[char1252[i]] = charutf8[i]\n",
    "    return dic\n",
    "\n",
    "# Chuyển đổi mã kí tự 1252 sang UTF-8\n",
    "def covert_unicode(text):\n",
    "    dicchar = load_dicchar()\n",
    "    return re.sub(\n",
    "        r'à|á|ả|ã|ạ|ầ|ấ|ẩ|ẫ|ậ|ằ|ắ|ẳ|ẵ|ặ|è|é|ẻ|ẽ|ẹ|ề|ế|ể|ễ|ệ|ì|í|ỉ|ĩ|ị|ò|ó|ỏ|õ|ọ|ồ|ố|ổ|ỗ|ộ|ờ|ớ|ở|ỡ|ợ|ù|ú|ủ|ũ|ụ|ừ|ứ|ử|ữ|ự|ỳ|ý|ỷ|ỹ|ỵ|À|Á|Ả|Ã|Ạ|Ầ|Ấ|Ẩ|Ẫ|Ậ|Ằ|Ắ|Ẳ|Ẵ|Ặ|È|É|Ẻ|Ẽ|Ẹ|Ề|Ế|Ể|Ễ|Ệ|Ì|Í|Ỉ|Ĩ|Ị|Ò|Ó|Ỏ|Õ|Ọ|Ồ|Ố|Ổ|Ỗ|Ộ|Ờ|Ớ|Ở|Ỡ|Ợ|Ù|Ú|Ủ|Ũ|Ụ|Ừ|Ứ|Ử|Ữ|Ự|Ỳ|Ý|Ỷ|Ỹ|Ỵ',\n",
    "        lambda x: dicchar[x.group()], text)\n",
    "\n",
    "def text_preprocessing(document):\n",
    "    # Chuyển đổi mã kí tự 1252 sang UTF-8\n",
    "    document['Text'] = document['Text'].apply(covert_unicode)\n",
    "    # Đưa về dạng chữ thường\n",
    "    document['Text'] = document['Text'].str.lower()\n",
    "    # xóa các ký tự không cần thiết\n",
    "    document['Text'] = document['Text'].apply(lambda x: re.sub(r'[^\\w\\s]', '', str(x)))\n",
    "    document = document['Text'].apply(lambda y: re.sub(r'[^\\s\\wáàảãạăắằẳẵặâấầẩẫậéèẻẽẹêếềểễệóòỏõọôốồổỗộơớờởỡợíìỉĩịúùủũụưứừửữựýỳỷỹỵđ_]',' ',str(y)))\n",
    "    return document"
   ]
  },
  {
   "cell_type": "code",
   "execution_count": 5,
   "metadata": {},
   "outputs": [
    {
     "name": "stdout",
     "output_type": "stream",
     "text": [
      "<class 'pandas.core.frame.DataFrame'>\n",
      "RangeIndex: 45313 entries, 0 to 45312\n",
      "Data columns (total 5 columns):\n",
      " #   Column                                   Non-Null Count  Dtype \n",
      "---  ------                                   --------------  ----- \n",
      " 0   Thực thể tham chiếu                      45313 non-null  object\n",
      " 1   Quan hệ                                  45313 non-null  object\n",
      " 2   Nội dung Trước thực thể được tham chiếu  29417 non-null  object\n",
      " 3   Thực thể được tham chiếu                 45313 non-null  object\n",
      " 4   Nội dung Sau thực thể được tham chiếu    45313 non-null  object\n",
      "dtypes: object(5)\n",
      "memory usage: 1.7+ MB\n"
     ]
    },
    {
     "data": {
      "text/html": [
       "<div>\n",
       "<style scoped>\n",
       "    .dataframe tbody tr th:only-of-type {\n",
       "        vertical-align: middle;\n",
       "    }\n",
       "\n",
       "    .dataframe tbody tr th {\n",
       "        vertical-align: top;\n",
       "    }\n",
       "\n",
       "    .dataframe thead th {\n",
       "        text-align: right;\n",
       "    }\n",
       "</style>\n",
       "<table border=\"1\" class=\"dataframe\">\n",
       "  <thead>\n",
       "    <tr style=\"text-align: right;\">\n",
       "      <th></th>\n",
       "      <th>Thực thể tham chiếu</th>\n",
       "      <th>Quan hệ</th>\n",
       "      <th>Nội dung Trước thực thể được tham chiếu</th>\n",
       "      <th>Thực thể được tham chiếu</th>\n",
       "      <th>Nội dung Sau thực thể được tham chiếu</th>\n",
       "    </tr>\n",
       "  </thead>\n",
       "  <tbody>\n",
       "    <tr>\n",
       "      <th>0</th>\n",
       "      <td>Nghị định Về chế độ thôi việc đối với cán bộ, ...</td>\n",
       "      <td>CC</td>\n",
       "      <td>NaN</td>\n",
       "      <td>Luật tổ_chức Chính_phủ ngày 30 tháng 9 năm 1992</td>\n",
       "      <td></td>\n",
       "    </tr>\n",
       "    <tr>\n",
       "      <th>1</th>\n",
       "      <td>Nghị định Về chế độ thôi việc đối với cán bộ, ...</td>\n",
       "      <td>CC</td>\n",
       "      <td>NaN</td>\n",
       "      <td>Bộ_Luật Lao_động ngày 23 tháng 6 năm 1994</td>\n",
       "      <td></td>\n",
       "    </tr>\n",
       "    <tr>\n",
       "      <th>2</th>\n",
       "      <td>Nghị định Về chế độ thôi việc đối với cán bộ, ...</td>\n",
       "      <td>CC</td>\n",
       "      <td>NaN</td>\n",
       "      <td>Pháp_lệnh Cán_bộ , công_chức ngày 26/02 năm 1...</td>\n",
       "      <td></td>\n",
       "    </tr>\n",
       "    <tr>\n",
       "      <th>3</th>\n",
       "      <td>Nghị định Về chế độ thôi việc đối với cán bộ, ...</td>\n",
       "      <td>DC</td>\n",
       "      <td>Những người được quy_định tại các khoản 2 , 3...</td>\n",
       "      <td>Pháp_lệnh Cán_bộ , công_chức</td>\n",
       "      <td></td>\n",
       "    </tr>\n",
       "    <tr>\n",
       "      <th>4</th>\n",
       "      <td>Nghị định Về chế độ thôi việc đối với cán bộ, ...</td>\n",
       "      <td>DC</td>\n",
       "      <td>Cán_bộ , công_chức làm_việc ở những ngành_ngh...</td>\n",
       "      <td>Pháp_lệnh Cán_bộ , công_chức</td>\n",
       "      <td></td>\n",
       "    </tr>\n",
       "  </tbody>\n",
       "</table>\n",
       "</div>"
      ],
      "text/plain": [
       "                                 Thực thể tham chiếu Quan hệ  \\\n",
       "0  Nghị định Về chế độ thôi việc đối với cán bộ, ...      CC   \n",
       "1  Nghị định Về chế độ thôi việc đối với cán bộ, ...      CC   \n",
       "2  Nghị định Về chế độ thôi việc đối với cán bộ, ...      CC   \n",
       "3  Nghị định Về chế độ thôi việc đối với cán bộ, ...      DC   \n",
       "4  Nghị định Về chế độ thôi việc đối với cán bộ, ...      DC   \n",
       "\n",
       "             Nội dung Trước thực thể được tham chiếu  \\\n",
       "0                                                NaN   \n",
       "1                                                NaN   \n",
       "2                                                NaN   \n",
       "3   Những người được quy_định tại các khoản 2 , 3...   \n",
       "4   Cán_bộ , công_chức làm_việc ở những ngành_ngh...   \n",
       "\n",
       "                            Thực thể được tham chiếu  \\\n",
       "0   Luật tổ_chức Chính_phủ ngày 30 tháng 9 năm 1992    \n",
       "1         Bộ_Luật Lao_động ngày 23 tháng 6 năm 1994    \n",
       "2   Pháp_lệnh Cán_bộ , công_chức ngày 26/02 năm 1...   \n",
       "3                      Pháp_lệnh Cán_bộ , công_chức    \n",
       "4                      Pháp_lệnh Cán_bộ , công_chức    \n",
       "\n",
       "  Nội dung Sau thực thể được tham chiếu  \n",
       "0                                        \n",
       "1                                        \n",
       "2                                        \n",
       "3                                        \n",
       "4                                        "
      ]
     },
     "execution_count": 5,
     "metadata": {},
     "output_type": "execute_result"
    }
   ],
   "source": [
    "dt_clean =  data_Clean.loc[data_Clean[Label].isin(groups.index)].reset_index(drop=True)\n",
    "dt_clean.info()\n",
    "dt_clean.head()"
   ]
  },
  {
   "cell_type": "code",
   "execution_count": 6,
   "metadata": {},
   "outputs": [
    {
     "data": {
      "text/html": [
       "<div>\n",
       "<style scoped>\n",
       "    .dataframe tbody tr th:only-of-type {\n",
       "        vertical-align: middle;\n",
       "    }\n",
       "\n",
       "    .dataframe tbody tr th {\n",
       "        vertical-align: top;\n",
       "    }\n",
       "\n",
       "    .dataframe thead th {\n",
       "        text-align: right;\n",
       "    }\n",
       "</style>\n",
       "<table border=\"1\" class=\"dataframe\">\n",
       "  <thead>\n",
       "    <tr style=\"text-align: right;\">\n",
       "      <th></th>\n",
       "      <th>Thực thể tham chiếu</th>\n",
       "      <th>Quan hệ</th>\n",
       "      <th>Nội dung Trước thực thể được tham chiếu</th>\n",
       "      <th>Thực thể được tham chiếu</th>\n",
       "      <th>Nội dung Sau thực thể được tham chiếu</th>\n",
       "      <th>Text</th>\n",
       "    </tr>\n",
       "  </thead>\n",
       "  <tbody>\n",
       "    <tr>\n",
       "      <th>0</th>\n",
       "      <td>Nghị định Về chế độ thôi việc đối với cán bộ, ...</td>\n",
       "      <td>CC</td>\n",
       "      <td>NaN</td>\n",
       "      <td>Luật tổ_chức Chính_phủ ngày 30 tháng 9 năm 1992</td>\n",
       "      <td></td>\n",
       "      <td>Nghị định Về chế độ thôi việc đối với cán bộ, ...</td>\n",
       "    </tr>\n",
       "    <tr>\n",
       "      <th>1</th>\n",
       "      <td>Nghị định Về chế độ thôi việc đối với cán bộ, ...</td>\n",
       "      <td>CC</td>\n",
       "      <td>NaN</td>\n",
       "      <td>Bộ_Luật Lao_động ngày 23 tháng 6 năm 1994</td>\n",
       "      <td></td>\n",
       "      <td>Nghị định Về chế độ thôi việc đối với cán bộ, ...</td>\n",
       "    </tr>\n",
       "    <tr>\n",
       "      <th>2</th>\n",
       "      <td>Nghị định Về chế độ thôi việc đối với cán bộ, ...</td>\n",
       "      <td>CC</td>\n",
       "      <td>NaN</td>\n",
       "      <td>Pháp_lệnh Cán_bộ , công_chức ngày 26/02 năm 1...</td>\n",
       "      <td></td>\n",
       "      <td>Nghị định Về chế độ thôi việc đối với cán bộ, ...</td>\n",
       "    </tr>\n",
       "    <tr>\n",
       "      <th>3</th>\n",
       "      <td>Nghị định Về chế độ thôi việc đối với cán bộ, ...</td>\n",
       "      <td>DC</td>\n",
       "      <td>Những người được quy_định tại các khoản 2 , 3...</td>\n",
       "      <td>Pháp_lệnh Cán_bộ , công_chức</td>\n",
       "      <td></td>\n",
       "      <td>Nghị định Về chế độ thôi việc đối với cán bộ, ...</td>\n",
       "    </tr>\n",
       "    <tr>\n",
       "      <th>4</th>\n",
       "      <td>Nghị định Về chế độ thôi việc đối với cán bộ, ...</td>\n",
       "      <td>DC</td>\n",
       "      <td>Cán_bộ , công_chức làm_việc ở những ngành_ngh...</td>\n",
       "      <td>Pháp_lệnh Cán_bộ , công_chức</td>\n",
       "      <td></td>\n",
       "      <td>Nghị định Về chế độ thôi việc đối với cán bộ, ...</td>\n",
       "    </tr>\n",
       "  </tbody>\n",
       "</table>\n",
       "</div>"
      ],
      "text/plain": [
       "                                 Thực thể tham chiếu Quan hệ  \\\n",
       "0  Nghị định Về chế độ thôi việc đối với cán bộ, ...      CC   \n",
       "1  Nghị định Về chế độ thôi việc đối với cán bộ, ...      CC   \n",
       "2  Nghị định Về chế độ thôi việc đối với cán bộ, ...      CC   \n",
       "3  Nghị định Về chế độ thôi việc đối với cán bộ, ...      DC   \n",
       "4  Nghị định Về chế độ thôi việc đối với cán bộ, ...      DC   \n",
       "\n",
       "             Nội dung Trước thực thể được tham chiếu  \\\n",
       "0                                                NaN   \n",
       "1                                                NaN   \n",
       "2                                                NaN   \n",
       "3   Những người được quy_định tại các khoản 2 , 3...   \n",
       "4   Cán_bộ , công_chức làm_việc ở những ngành_ngh...   \n",
       "\n",
       "                            Thực thể được tham chiếu  \\\n",
       "0   Luật tổ_chức Chính_phủ ngày 30 tháng 9 năm 1992    \n",
       "1         Bộ_Luật Lao_động ngày 23 tháng 6 năm 1994    \n",
       "2   Pháp_lệnh Cán_bộ , công_chức ngày 26/02 năm 1...   \n",
       "3                      Pháp_lệnh Cán_bộ , công_chức    \n",
       "4                      Pháp_lệnh Cán_bộ , công_chức    \n",
       "\n",
       "  Nội dung Sau thực thể được tham chiếu  \\\n",
       "0                                         \n",
       "1                                         \n",
       "2                                         \n",
       "3                                         \n",
       "4                                         \n",
       "\n",
       "                                                Text  \n",
       "0  Nghị định Về chế độ thôi việc đối với cán bộ, ...  \n",
       "1  Nghị định Về chế độ thôi việc đối với cán bộ, ...  \n",
       "2  Nghị định Về chế độ thôi việc đối với cán bộ, ...  \n",
       "3  Nghị định Về chế độ thôi việc đối với cán bộ, ...  \n",
       "4  Nghị định Về chế độ thôi việc đối với cán bộ, ...  "
      ]
     },
     "execution_count": 6,
     "metadata": {},
     "output_type": "execute_result"
    }
   ],
   "source": [
    "dt_clean['Text'] = dt_clean.apply(lambda d: f'{d[A]} {d[Before_B]} {d[B]} {d[After_B]}'.strip(), axis=1)\n",
    "\n",
    "dt_clean.head()"
   ]
  },
  {
   "cell_type": "code",
   "execution_count": 8,
   "metadata": {},
   "outputs": [
    {
     "data": {
      "text/html": [
       "<div>\n",
       "<style scoped>\n",
       "    .dataframe tbody tr th:only-of-type {\n",
       "        vertical-align: middle;\n",
       "    }\n",
       "\n",
       "    .dataframe tbody tr th {\n",
       "        vertical-align: top;\n",
       "    }\n",
       "\n",
       "    .dataframe thead th {\n",
       "        text-align: right;\n",
       "    }\n",
       "</style>\n",
       "<table border=\"1\" class=\"dataframe\">\n",
       "  <thead>\n",
       "    <tr style=\"text-align: right;\">\n",
       "      <th></th>\n",
       "      <th>Text</th>\n",
       "      <th>Quan hệ</th>\n",
       "    </tr>\n",
       "  </thead>\n",
       "  <tbody>\n",
       "    <tr>\n",
       "      <th>0</th>\n",
       "      <td>Nghị định Về chế độ thôi việc đối với cán bộ, ...</td>\n",
       "      <td>CC</td>\n",
       "    </tr>\n",
       "    <tr>\n",
       "      <th>1</th>\n",
       "      <td>Nghị định Về chế độ thôi việc đối với cán bộ, ...</td>\n",
       "      <td>CC</td>\n",
       "    </tr>\n",
       "    <tr>\n",
       "      <th>2</th>\n",
       "      <td>Nghị định Về chế độ thôi việc đối với cán bộ, ...</td>\n",
       "      <td>CC</td>\n",
       "    </tr>\n",
       "    <tr>\n",
       "      <th>3</th>\n",
       "      <td>Nghị định Về chế độ thôi việc đối với cán bộ, ...</td>\n",
       "      <td>DaC</td>\n",
       "    </tr>\n",
       "    <tr>\n",
       "      <th>4</th>\n",
       "      <td>Nghị định Về chế độ thôi việc đối với cán bộ, ...</td>\n",
       "      <td>DaC</td>\n",
       "    </tr>\n",
       "  </tbody>\n",
       "</table>\n",
       "</div>"
      ],
      "text/plain": [
       "                                                Text Quan hệ\n",
       "0  Nghị định Về chế độ thôi việc đối với cán bộ, ...      CC\n",
       "1  Nghị định Về chế độ thôi việc đối với cán bộ, ...      CC\n",
       "2  Nghị định Về chế độ thôi việc đối với cán bộ, ...      CC\n",
       "3  Nghị định Về chế độ thôi việc đối với cán bộ, ...     DaC\n",
       "4  Nghị định Về chế độ thôi việc đối với cán bộ, ...     DaC"
      ]
     },
     "execution_count": 8,
     "metadata": {},
     "output_type": "execute_result"
    }
   ],
   "source": [
    "dt_preprocess =  dt_clean[['Text', 'Quan hệ']].copy()\n",
    "dt_preprocess.head()\n"
   ]
  },
  {
   "cell_type": "code",
   "execution_count": 9,
   "metadata": {},
   "outputs": [
    {
     "data": {
      "text/html": [
       "<div>\n",
       "<style scoped>\n",
       "    .dataframe tbody tr th:only-of-type {\n",
       "        vertical-align: middle;\n",
       "    }\n",
       "\n",
       "    .dataframe tbody tr th {\n",
       "        vertical-align: top;\n",
       "    }\n",
       "\n",
       "    .dataframe thead th {\n",
       "        text-align: right;\n",
       "    }\n",
       "</style>\n",
       "<table border=\"1\" class=\"dataframe\">\n",
       "  <thead>\n",
       "    <tr style=\"text-align: right;\">\n",
       "      <th></th>\n",
       "      <th>Text</th>\n",
       "      <th>Quan hệ</th>\n",
       "    </tr>\n",
       "  </thead>\n",
       "  <tbody>\n",
       "    <tr>\n",
       "      <th>0</th>\n",
       "      <td>nghị định về chế độ thôi việc đối với cán bộ c...</td>\n",
       "      <td>CC</td>\n",
       "    </tr>\n",
       "    <tr>\n",
       "      <th>1</th>\n",
       "      <td>nghị định về chế độ thôi việc đối với cán bộ c...</td>\n",
       "      <td>CC</td>\n",
       "    </tr>\n",
       "    <tr>\n",
       "      <th>2</th>\n",
       "      <td>nghị định về chế độ thôi việc đối với cán bộ c...</td>\n",
       "      <td>CC</td>\n",
       "    </tr>\n",
       "    <tr>\n",
       "      <th>3</th>\n",
       "      <td>nghị định về chế độ thôi việc đối với cán bộ c...</td>\n",
       "      <td>DaC</td>\n",
       "    </tr>\n",
       "    <tr>\n",
       "      <th>4</th>\n",
       "      <td>nghị định về chế độ thôi việc đối với cán bộ c...</td>\n",
       "      <td>DaC</td>\n",
       "    </tr>\n",
       "  </tbody>\n",
       "</table>\n",
       "</div>"
      ],
      "text/plain": [
       "                                                Text Quan hệ\n",
       "0  nghị định về chế độ thôi việc đối với cán bộ c...      CC\n",
       "1  nghị định về chế độ thôi việc đối với cán bộ c...      CC\n",
       "2  nghị định về chế độ thôi việc đối với cán bộ c...      CC\n",
       "3  nghị định về chế độ thôi việc đối với cán bộ c...     DaC\n",
       "4  nghị định về chế độ thôi việc đối với cán bộ c...     DaC"
      ]
     },
     "execution_count": 9,
     "metadata": {},
     "output_type": "execute_result"
    }
   ],
   "source": [
    "dt_preprocess['Text'] = text_preprocessing(dt_preprocess)\n",
    "dt_preprocess.head()"
   ]
  },
  {
   "cell_type": "markdown",
   "metadata": {},
   "source": [
    "**Text Length**"
   ]
  },
  {
   "cell_type": "code",
   "execution_count": 10,
   "metadata": {},
   "outputs": [
    {
     "name": "stdout",
     "output_type": "stream",
     "text": [
      "Minimum length: 42\n",
      "Maximum length: 1447\n",
      "Average length: 305\n",
      "Mode length: 237\n",
      "Count Mode length: 215\n",
      "Count Avg length: 125\n"
     ]
    }
   ],
   "source": [
    "def check_length(data):\n",
    "    min_length = float('inf')\n",
    "    max_length = 0\n",
    "    total_length = 0\n",
    "    count = 0\n",
    "    length_counts = {}\n",
    "\n",
    "    for text in data:\n",
    "        length = len(text)\n",
    "\n",
    "        # Update minimum length\n",
    "        if length < min_length:\n",
    "            min_length = length\n",
    "            m = count\n",
    "\n",
    "        # Update maximum length\n",
    "        if length > max_length:\n",
    "            max_length = length\n",
    "\n",
    "        # Update total length for average calculation\n",
    "        total_length += length\n",
    "\n",
    "        # Update length counts for mode calculation\n",
    "        if length in length_counts:\n",
    "            length_counts[length] += 1\n",
    "        else:\n",
    "            length_counts[length] = 1\n",
    "\n",
    "        count += 1\n",
    "\n",
    "    average_length = round(total_length / count)\n",
    "    mode_length = max(length_counts, key=length_counts.get)\n",
    "\n",
    "    count_mode = 0\n",
    "    for i in data:\n",
    "        if len(i) == mode_length:\n",
    "            count_mode = count_mode + 1\n",
    "    count_avg = 0\n",
    "    for j in data:\n",
    "        if len(j) == average_length:\n",
    "            count_avg = count_avg + 1\n",
    "\n",
    "\n",
    "    print(\"Minimum length:\", min_length)\n",
    "    print(\"Maximum length:\", max_length)\n",
    "    print(\"Average length:\", average_length)\n",
    "    print(\"Mode length:\", mode_length)\n",
    "    print(\"Count Mode length:\", count_mode)\n",
    "    print(\"Count Avg length:\", count_avg)\n",
    "\n",
    "\n",
    "check_length(dt_preprocess['Text'])"
   ]
  },
  {
   "cell_type": "code",
   "execution_count": 11,
   "metadata": {},
   "outputs": [],
   "source": [
    "max_length = 250  # Chiều dài tối đa của câu lấy theo độ dài trung bình của toàn bộ tập dữ liệu\n"
   ]
  },
  {
   "cell_type": "markdown",
   "metadata": {},
   "source": [
    "**Tokenization**"
   ]
  },
  {
   "cell_type": "code",
   "execution_count": 12,
   "metadata": {},
   "outputs": [],
   "source": [
    "def tokenization(data):\n",
    "    Text_col = data\n",
    "    tokenizer = Tokenizer(split=' ')\n",
    "    tokenizer.fit_on_texts(Text_col)\n",
    "    words_to_index = tokenizer.word_index\n",
    "    vocab_size = len(words_to_index) + 1\n",
    "\n",
    "    # chuyển đổi dữ liệu văn bản thành các chuỗi số\n",
    "    tokenizer_seq = tokenizer.texts_to_sequences(Text_col)\n",
    "\n",
    "    # Đảm bảo mỗi sequece có cùng độ dài\n",
    "    # 'post' có nghĩa là thêm padding vào cuối mỗi sequence\n",
    "    # 'pre' có nghĩa là thêm padding vào đầu mỗi sequence\n",
    "    tokenizer_pad = pad_sequences(tokenizer_seq, padding='pre', truncating='post', maxlen=max_length)\n",
    "\n",
    "    return tokenizer_pad, vocab_size, words_to_index"
   ]
  },
  {
   "cell_type": "code",
   "execution_count": 13,
   "metadata": {},
   "outputs": [
    {
     "name": "stdout",
     "output_type": "stream",
     "text": [
      "<class 'pandas.core.frame.DataFrame'>\n",
      "RangeIndex: 45313 entries, 0 to 45312\n",
      "Data columns (total 2 columns):\n",
      " #   Column   Non-Null Count  Dtype \n",
      "---  ------   --------------  ----- \n",
      " 0   Text     45313 non-null  object\n",
      " 1   Quan hệ  45313 non-null  object\n",
      "dtypes: object(2)\n",
      "memory usage: 708.1+ KB\n"
     ]
    }
   ],
   "source": [
    "# Tách từ\n",
    "data_tokenizer = dt_preprocess.copy()\n",
    "data_tokenizer['Text'] = data_tokenizer['Text'].apply(word_tokenize)\n",
    "\n",
    "data_tokenizer.info()\n",
    "data_tokenizer.head()\n",
    "\n",
    "\n",
    "data_tokenizer_pad, vocab_size, words_to_index = tokenization(data_tokenizer['Text'])"
   ]
  },
  {
   "cell_type": "code",
   "execution_count": 14,
   "metadata": {},
   "outputs": [
    {
     "name": "stdout",
     "output_type": "stream",
     "text": [
      "[[    0     0     0 ...   152     9   795]\n",
      " [    0     0     0 ...    63     9   989]\n",
      " [    0     0     0 ... 13448     9   777]\n",
      " ...\n",
      " [    0     0     0 ...   592  1508   752]\n",
      " [    0     0     0 ...     1   502    43]\n",
      " [    0     0     0 ...     9  1142     2]]\n"
     ]
    }
   ],
   "source": [
    "print(data_tokenizer_pad)"
   ]
  },
  {
   "cell_type": "markdown",
   "metadata": {},
   "source": [
    "**Embedding**"
   ]
  },
  {
   "cell_type": "code",
   "execution_count": null,
   "metadata": {},
   "outputs": [],
   "source": [
    "with open('model/fasttext/vbpl_text.txt', 'w', encoding=\"utf-8\") as file:\n",
    "    # Write content to the\n",
    "    for i in dt_preprocess['Text']:\n",
    "        file.write(i+\"\\n\")"
   ]
  },
  {
   "cell_type": "code",
   "execution_count": null,
   "metadata": {},
   "outputs": [],
   "source": [
    "model_fasttext = fasttext.train_unsupervised('model/fasttext/vbpl_text.txt', maxn=0, dim=100)\n",
    "model_fasttext.save_model('model/fasttext/fasttext_100d_vbpl.bin')"
   ]
  },
  {
   "cell_type": "code",
   "execution_count": null,
   "metadata": {},
   "outputs": [
    {
     "name": "stdout",
     "output_type": "stream",
     "text": [
      "Most common word: của\n",
      "Frequency: 74939\n"
     ]
    }
   ],
   "source": [
    "all_text = ' '.join(dt_preprocess['Text'])\n",
    "\n",
    "# Split the text into individual words\n",
    "words = all_text.split()\n",
    "\n",
    "# Count the frequency of each word\n",
    "word_counts = Counter(words)\n",
    "\n",
    "# Find the word with the highest frequency\n",
    "most_common_word, frequency = word_counts.most_common(1)[0]\n",
    "\n",
    "print(\"Most common word:\", most_common_word)\n",
    "print(\"Frequency:\", frequency)"
   ]
  },
  {
   "cell_type": "code",
   "execution_count": 15,
   "metadata": {},
   "outputs": [
    {
     "name": "stdout",
     "output_type": "stream",
     "text": [
      "Max length | input_length      = 250\n",
      "input_dim  | vocab_size        = 20349\n",
      "output_dim | embed_vector_size = 100\n",
      "weights = (20349, 100)\n",
      "WARNING:tensorflow:From c:\\Users\\Administrator\\AppData\\Local\\Programs\\Python\\Python311\\Lib\\site-packages\\keras\\src\\backend.py:873: The name tf.get_default_graph is deprecated. Please use tf.compat.v1.get_default_graph instead.\n",
      "\n"
     ]
    }
   ],
   "source": [
    "embedding_dim = 100  # Kích thước nhúng\n",
    "\n",
    "\n",
    "ft = fasttext.load_model('model/fasttext/fasttext_100d_vbpl.bin')\n",
    "embed_vector_size = ft.get_word_vector('của').shape[0]\n",
    "\n",
    "embed_vector_matrix = np.zeros((vocab_size, embed_vector_size))\n",
    "\n",
    "for word, i in words_to_index.items():\n",
    "    embedding_vector = ft.get_word_vector(word)\n",
    "    if any(embedding_vector):\n",
    "        embed_vector_matrix[i] = embedding_vector\n",
    "    else:\n",
    "        embed_vector_matrix[i] = np.random.uniform(low=-1, high=1, size= embed_vector_size)\n",
    "\n",
    "print(f\"Max length | input_length      = {max_length}\")\n",
    "print(f\"input_dim  | vocab_size        = {vocab_size}\")\n",
    "print(f\"output_dim | embed_vector_size = {embed_vector_size}\")\n",
    "print(f\"weights = {embed_vector_matrix.shape}\")\n",
    "\n",
    "embedding = Embedding(input_dim=vocab_size, output_dim=embed_vector_size,\n",
    "                      input_length=max_length, weights=[embed_vector_matrix], trainable=False)"
   ]
  },
  {
   "cell_type": "markdown",
   "metadata": {},
   "source": [
    "**Create Model**"
   ]
  },
  {
   "cell_type": "code",
   "execution_count": 16,
   "metadata": {},
   "outputs": [
    {
     "name": "stdout",
     "output_type": "stream",
     "text": [
      "Number labels = 7\n"
     ]
    }
   ],
   "source": [
    "classes = data_tokenizer['Quan hệ'].nunique()\n",
    "print(f\"Number labels = {classes}\")\n",
    "\n",
    "def create_model():\n",
    "    lstm_units = 128  # Số đơn vị LSTM\n",
    "    dropout_val = 0.2\n",
    "    recurrent_dropout = 0.1\n",
    "\n",
    "    model = Sequential()\n",
    "    model.add(embedding)\n",
    "    model.add(LSTM(lstm_units, return_sequences=True, dropout=dropout_val,recurrent_dropout=recurrent_dropout))\n",
    "    model.add(LSTM(lstm_units, return_sequences=True, dropout=dropout_val,recurrent_dropout=recurrent_dropout))\n",
    "    model.add(LSTM(lstm_units, return_sequences=True, dropout=dropout_val,recurrent_dropout=recurrent_dropout))\n",
    "    model.add(SeqSelfAttention())\n",
    "    model.add(Flatten())\n",
    "    model.add(Dense(classes, activation=\"softmax\"))\n",
    "\n",
    "    # Model compiling\n",
    "    model.compile(optimizer='adam', loss='sparse_categorical_crossentropy', metrics=['accuracy'])\n",
    "\n",
    "    return model"
   ]
  },
  {
   "cell_type": "code",
   "execution_count": 17,
   "metadata": {},
   "outputs": [],
   "source": [
    "# Chia dataset thành tập training thành train_val và test\n",
    "X = data_tokenizer_pad\n",
    "y = data_tokenizer['Quan hệ']\n",
    "\n",
    "X_train_val, X_test, y_train_val, y_test = train_test_split(X, y.values, test_size=0.2, random_state=40)"
   ]
  },
  {
   "cell_type": "code",
   "execution_count": 18,
   "metadata": {},
   "outputs": [
    {
     "name": "stdout",
     "output_type": "stream",
     "text": [
      "\n",
      "Labels: ['BTT', 'CC', 'DHD', 'DSD', 'DaC', 'HHL', 'none'] \n",
      "\n",
      "Size Train:  (27187, 250) (27187,)\n",
      "Size Test:  (9063, 250) (9063,)\n",
      "Size Validation:  (9063, 250) (9063,)\n"
     ]
    }
   ],
   "source": [
    "# encode label\n",
    "label_encoder = LabelEncoder()\n",
    "label_encoder.fit(data_tokenizer[\"Quan hệ\"].values)\n",
    "print('\\nLabels:',list(label_encoder.classes_), '\\n')\n",
    "y_train_val = label_encoder.transform(y_train_val)\n",
    "y_test = label_encoder.transform(y_test)\n",
    "\n",
    "# Chia train_val thành train và validation\n",
    "X_train, X_val, y_train, y_val  = train_test_split(X_train_val, y_train_val, test_size=0.25, random_state=40)\n",
    "\n",
    "print(\"Size Train: \",X_train.shape, y_train.shape)\n",
    "print(\"Size Test: \",X_test.shape, y_test.shape)\n",
    "print(\"Size Validation: \",X_val.shape, y_val.shape)"
   ]
  },
  {
   "cell_type": "markdown",
   "metadata": {},
   "source": [
    "**Run**"
   ]
  },
  {
   "cell_type": "code",
   "execution_count": 19,
   "metadata": {},
   "outputs": [
    {
     "name": "stderr",
     "output_type": "stream",
     "text": [
      "c:\\Users\\Administrator\\AppData\\Local\\Programs\\Python\\Python311\\Lib\\site-packages\\keras\\src\\initializers\\initializers.py:120: UserWarning:\n",
      "\n",
      "The initializer GlorotNormal is unseeded and being called multiple times, which will return identical values each time (even if the initializer is unseeded). Please update your code to provide a seed to the initializer, or avoid using the same initializer instance more than once.\n",
      "\n"
     ]
    },
    {
     "name": "stdout",
     "output_type": "stream",
     "text": [
      "WARNING:tensorflow:From c:\\Users\\Administrator\\AppData\\Local\\Programs\\Python\\Python311\\Lib\\site-packages\\keras\\src\\optimizers\\__init__.py:309: The name tf.train.Optimizer is deprecated. Please use tf.compat.v1.train.Optimizer instead.\n",
      "\n",
      "Model: \"sequential\"\n",
      "_________________________________________________________________\n",
      " Layer (type)                Output Shape              Param #   \n",
      "=================================================================\n",
      " embedding (Embedding)       (None, 250, 100)          2034900   \n",
      "                                                                 \n",
      " lstm (LSTM)                 (None, 250, 128)          117248    \n",
      "                                                                 \n",
      " lstm_1 (LSTM)               (None, 250, 128)          131584    \n",
      "                                                                 \n",
      " lstm_2 (LSTM)               (None, 250, 128)          131584    \n",
      "                                                                 \n",
      " seq_self_attention (SeqSel  (None, 250, 128)          8257      \n",
      " fAttention)                                                     \n",
      "                                                                 \n",
      " flatten (Flatten)           (None, 32000)             0         \n",
      "                                                                 \n",
      " dense (Dense)               (None, 7)                 224007    \n",
      "                                                                 \n",
      "=================================================================\n",
      "Total params: 2647580 (10.10 MB)\n",
      "Trainable params: 612680 (2.34 MB)\n",
      "Non-trainable params: 2034900 (7.76 MB)\n",
      "_________________________________________________________________\n"
     ]
    }
   ],
   "source": [
    "model = create_model()\n",
    "#batchSize = round(X_train.shape[0] * 0.075)\n",
    "batchSize = 128\n",
    "epoch = 20\n",
    "#print(batchSize)\n",
    "model.summary()\n"
   ]
  },
  {
   "cell_type": "code",
   "execution_count": 20,
   "metadata": {},
   "outputs": [
    {
     "name": "stdout",
     "output_type": "stream",
     "text": [
      "Epoch 1/20\n",
      "WARNING:tensorflow:From c:\\Users\\Administrator\\AppData\\Local\\Programs\\Python\\Python311\\Lib\\site-packages\\keras\\src\\utils\\tf_utils.py:492: The name tf.ragged.RaggedTensorValue is deprecated. Please use tf.compat.v1.ragged.RaggedTensorValue instead.\n",
      "\n",
      "WARNING:tensorflow:From c:\\Users\\Administrator\\AppData\\Local\\Programs\\Python\\Python311\\Lib\\site-packages\\keras\\src\\engine\\base_layer_utils.py:384: The name tf.executing_eagerly_outside_functions is deprecated. Please use tf.compat.v1.executing_eagerly_outside_functions instead.\n",
      "\n",
      "213/213 [==============================] - ETA: 0s - loss: 0.5938 - accuracy: 0.8238 \n",
      "Epoch 1: saving model to checkpointvbpl_ft\\cp.ckpt\n",
      "213/213 [==============================] - 4949s 23s/step - loss: 0.5938 - accuracy: 0.8238 - val_loss: 0.4663 - val_accuracy: 0.8662\n",
      "Epoch 2/20\n",
      "213/213 [==============================] - ETA: 0s - loss: 0.4251 - accuracy: 0.8730 \n",
      "Epoch 2: saving model to checkpointvbpl_ft\\cp.ckpt\n",
      "213/213 [==============================] - 5771s 27s/step - loss: 0.4251 - accuracy: 0.8730 - val_loss: 0.4122 - val_accuracy: 0.8685\n",
      "Epoch 3/20\n",
      "213/213 [==============================] - ETA: 0s - loss: 0.3714 - accuracy: 0.8887 \n",
      "Epoch 3: saving model to checkpointvbpl_ft\\cp.ckpt\n",
      "213/213 [==============================] - 6131s 29s/step - loss: 0.3714 - accuracy: 0.8887 - val_loss: 0.3785 - val_accuracy: 0.8862\n",
      "Epoch 4/20\n",
      "213/213 [==============================] - ETA: 0s - loss: 0.3328 - accuracy: 0.8979 \n",
      "Epoch 4: saving model to checkpointvbpl_ft\\cp.ckpt\n",
      "213/213 [==============================] - 6064s 28s/step - loss: 0.3328 - accuracy: 0.8979 - val_loss: 0.3613 - val_accuracy: 0.8951\n",
      "Epoch 5/20\n",
      "213/213 [==============================] - ETA: 0s - loss: 0.3078 - accuracy: 0.9056 \n",
      "Epoch 5: saving model to checkpointvbpl_ft\\cp.ckpt\n",
      "213/213 [==============================] - 6239s 29s/step - loss: 0.3078 - accuracy: 0.9056 - val_loss: 0.3261 - val_accuracy: 0.9020\n",
      "Epoch 6/20\n",
      "213/213 [==============================] - ETA: 0s - loss: 0.2831 - accuracy: 0.9119 \n",
      "Epoch 6: saving model to checkpointvbpl_ft\\cp.ckpt\n",
      "213/213 [==============================] - 6141s 29s/step - loss: 0.2831 - accuracy: 0.9119 - val_loss: 0.3235 - val_accuracy: 0.9061\n",
      "Epoch 7/20\n",
      "213/213 [==============================] - ETA: 0s - loss: 0.2661 - accuracy: 0.9178 \n",
      "Epoch 7: saving model to checkpointvbpl_ft\\cp.ckpt\n",
      "213/213 [==============================] - 6211s 29s/step - loss: 0.2661 - accuracy: 0.9178 - val_loss: 0.3118 - val_accuracy: 0.9016\n",
      "Epoch 8/20\n",
      "213/213 [==============================] - ETA: 0s - loss: 0.2496 - accuracy: 0.9236 \n",
      "Epoch 8: saving model to checkpointvbpl_ft\\cp.ckpt\n",
      "213/213 [==============================] - 6327s 30s/step - loss: 0.2496 - accuracy: 0.9236 - val_loss: 0.3013 - val_accuracy: 0.9127\n",
      "Epoch 9/20\n",
      "213/213 [==============================] - ETA: 0s - loss: 0.2364 - accuracy: 0.9267 \n",
      "Epoch 9: saving model to checkpointvbpl_ft\\cp.ckpt\n",
      "213/213 [==============================] - 6349s 30s/step - loss: 0.2364 - accuracy: 0.9267 - val_loss: 0.3203 - val_accuracy: 0.8989\n",
      "Epoch 10/20\n",
      "213/213 [==============================] - ETA: 0s - loss: 0.2248 - accuracy: 0.9296 \n",
      "Epoch 10: saving model to checkpointvbpl_ft\\cp.ckpt\n",
      "213/213 [==============================] - 6348s 30s/step - loss: 0.2248 - accuracy: 0.9296 - val_loss: 0.3301 - val_accuracy: 0.9021\n",
      "Epoch 10: early stopping\n"
     ]
    }
   ],
   "source": [
    "# Ghi lại thời điểm bắt đầu\n",
    "start_time = time.time()\n",
    "checkpoint_path = \"\".join(['checkpoint','vbpl_ft',\"/cp.ckpt\"])\n",
    "checkpoint_dir = os.path.dirname(checkpoint_path)\n",
    "earlystopping = EarlyStopping(monitor='val_loss', mode='min', verbose=1,patience=2)\n",
    "checkpointing = tf.keras.callbacks.ModelCheckpoint(filepath=checkpoint_path,\n",
    "                                                 save_weights_only=True,\n",
    "                                                 verbose=1)\n",
    "lstm_model_history = model.fit(X_train, y_train, batch_size=batchSize, epochs=epoch, callbacks=[earlystopping,checkpointing], validation_data=(X_val, y_val))\n",
    "\n",
    "# Tính thời gian đã trôi qua\n",
    "training_time = round(time.time() - start_time, 2)"
   ]
  },
  {
   "cell_type": "markdown",
   "metadata": {},
   "source": [
    "**Save Model**"
   ]
  },
  {
   "cell_type": "code",
   "execution_count": 21,
   "metadata": {},
   "outputs": [
    {
     "name": "stdout",
     "output_type": "stream",
     "text": [
      "model/model_classify_law_rel_vbpl_250_128_20_0.2_0.1_60530.43.h5\n"
     ]
    },
    {
     "name": "stderr",
     "output_type": "stream",
     "text": [
      "c:\\Users\\Administrator\\AppData\\Local\\Programs\\Python\\Python311\\Lib\\site-packages\\keras\\src\\engine\\training.py:3103: UserWarning:\n",
      "\n",
      "You are saving your model as an HDF5 file via `model.save()`. This file format is considered legacy. We recommend using instead the native Keras format, e.g. `model.save('my_model.keras')`.\n",
      "\n"
     ]
    }
   ],
   "source": [
    "# thu tu cac chi so: maxLength_Batch_epochs_dropout_recurrentDropout\n",
    "path = f\"model/model_classify_law_rel_vbpl_{max_length}_{batchSize}_{epoch}_{0.2}_{0.1}_{training_time}.h5\"\n",
    "\n",
    "print(path)\n",
    "model.save(path)"
   ]
  },
  {
   "cell_type": "markdown",
   "metadata": {},
   "source": [
    "**Prediction**"
   ]
  },
  {
   "cell_type": "code",
   "execution_count": 22,
   "metadata": {},
   "outputs": [
    {
     "name": "stdout",
     "output_type": "stream",
     "text": [
      "284/284 [==============================] - 95s 333ms/step - loss: 0.3079 - accuracy: 0.9082\n",
      "Test Score: 0.30785974860191345\n",
      "Test Accuracy: 0.9081981778144836\n"
     ]
    }
   ],
   "source": [
    "# Predictions on the Test Set\n",
    "score = model.evaluate(X_test, y_test)\n",
    "\n",
    "# Model Performance\n",
    "print(\"Test Score:\", score[0])\n",
    "print(\"Test Accuracy:\", score[1])"
   ]
  },
  {
   "cell_type": "code",
   "execution_count": 23,
   "metadata": {},
   "outputs": [
    {
     "name": "stdout",
     "output_type": "stream",
     "text": [
      "284/284 [==============================] - 91s 317ms/step\n",
      "Kết quả thực tế: ['DaC' 'DaC' 'CC' ... 'DaC' 'CC' 'DaC']\n",
      "Kết quả mô hình phân loại: ['DaC' 'DaC' 'CC' ... 'DaC' 'CC' 'HHL'] - [ True  True  True ...  True  True False]\n"
     ]
    }
   ],
   "source": [
    "start = None\n",
    "end = None\n",
    "\n",
    "# Phân loại \n",
    "y_pred = model.predict(X_test[start:end])\n",
    "# Mã hóa label\n",
    "y_pred_original = label_encoder.inverse_transform(np.argmax(y_pred, axis=1))\n",
    "y_test_original = label_encoder.inverse_transform(y_test[start:end])\n",
    "\n",
    "# In ra kết quả phân loại\n",
    "print(f\"Kết quả thực tế: {y_test_original}\")\n",
    "print(f\"Kết quả mô hình phân loại: {y_pred_original} - {y_pred_original == y_test_original}\")"
   ]
  },
  {
   "cell_type": "code",
   "execution_count": 24,
   "metadata": {},
   "outputs": [
    {
     "data": {
      "image/png": "[encoded data removed]",
      "text/plain": [
       "<Figure size 1000x600 with 1 Axes>"
      ]
     },
     "metadata": {},
     "output_type": "display_data"
    }
   ],
   "source": [
    "def plot_graph(history):\n",
    "    acc = history.history['accuracy']\n",
    "    val_acc = history.history['val_accuracy']\n",
    "    loss = history.history['loss']\n",
    "    val_loss = history.history['val_loss']\n",
    "    epochs = range(len(acc))\n",
    "\n",
    "    plt.figure(figsize=(10,6))\n",
    "    plt.plot(epochs, acc, 'r', label='Training Accuracy')\n",
    "    plt.plot(epochs, val_acc, 'b', label='Validation Accuracy')\n",
    "    plt.plot(epochs, loss, 'g', label='Training Loss')\n",
    "    plt.plot(epochs, val_loss, 'y', label='Validation Loss')\n",
    "\n",
    "    plt.title(f'{X_train.shape[0]} Data - {batchSize} batch size - {epoch} epochs')\n",
    "    plt.legend(loc=0)\n",
    "    plt.savefig(f'images/vbpl_img_{max_length}_{batchSize}_{epoch}_0.2_0.1_{X_train.shape[0]}_{training_time}.png')\n",
    "    plt.show()\n",
    "\n",
    "\n",
    "plot_graph(lstm_model_history)"
   ]
  },
  {
   "cell_type": "code",
   "execution_count": 25,
   "metadata": {},
   "outputs": [
    {
     "name": "stdout",
     "output_type": "stream",
     "text": [
      "Metrics Table per Class:\n",
      "  Class  Precision    Recall  F1 Score\n",
      "0   BTT   0.674772  0.762887  0.716129\n",
      "1    CC   0.974487  0.937725  0.955752\n",
      "2   DHD   0.758621  0.440000  0.556962\n",
      "3   DSD   0.792079  0.761905  0.776699\n",
      "4   DaC   0.925834  0.959425  0.942330\n",
      "5   HHL   0.592841  0.883333  0.709505\n",
      "6  none   0.353448  0.128527  0.188506\n",
      "\n",
      "Macro-Average Metrics:\n",
      "Macro Precision: 0.725\n",
      "Macro Recall: 0.696\n",
      "Macro F1 Score: 0.692\n"
     ]
    }
   ],
   "source": [
    "# Calculate precision, recall, and F1 score for each class\n",
    "precision_per_class = precision_score(y_test_original, y_pred_original, average=None)\n",
    "recall_per_class = recall_score(y_test_original, y_pred_original, average=None)\n",
    "f1_per_class = f1_score(y_test_original, y_pred_original, average=None)\n",
    "\n",
    "# Calculate macro-average precision, recall, and F1 score\n",
    "macro_precision = round(np.mean(precision_per_class),3)\n",
    "macro_recall = round(np.mean(recall_per_class),3)\n",
    "macro_f1 = round(np.mean(f1_per_class),3)\n",
    "\n",
    "# Create a DataFrame for the table\n",
    "metrics_table_per_class = pd.DataFrame({\n",
    "    'Class': np.unique(y_test_original),\n",
    "    'Precision': precision_per_class,\n",
    "    'Recall': recall_per_class,\n",
    "    'F1 Score': f1_per_class\n",
    "})\n",
    "\n",
    "# Print the table per class\n",
    "print(\"Metrics Table per Class:\")\n",
    "print(metrics_table_per_class)\n",
    "\n",
    "# Print macro-average metrics\n",
    "print(\"\\nMacro-Average Metrics:\")\n",
    "print(f\"Macro Precision: {macro_precision}\")\n",
    "print(f\"Macro Recall: {macro_recall}\")\n",
    "print(f\"Macro F1 Score: {macro_f1}\")"
   ]
  },
  {
   "cell_type": "markdown",
   "metadata": {},
   "source": [
    "**Confusion Matrix**"
   ]
  },
  {
   "cell_type": "code",
   "execution_count": 26,
   "metadata": {},
   "outputs": [
    {
     "name": "stdout",
     "output_type": "stream",
     "text": [
      "Ma trận confusion:\n",
      "[[ 222    3    0    0    9   57    0]\n",
      " [  39 3132    1    2   94   33   39]\n",
      " [   1    4   22    1   22    0    0]\n",
      " [   2    1    0   80    9    7    6]\n",
      " [  30   59    5    8 4469   60   27]\n",
      " [   9    3    0    3   17  265    3]\n",
      " [  26   12    1    7  207   25   41]]\n"
     ]
    }
   ],
   "source": [
    "# Tìm tất cả các nhãn duy nhất\n",
    "labels = np.unique(np.concatenate((y_test_original, y_pred_original)))\n",
    "\n",
    "# Tạo ma trận confusion\n",
    "confusion = confusion_matrix(y_test_original, y_pred_original, labels=labels)\n",
    "\n",
    "print(\"Ma trận confusion:\")\n",
    "print(confusion)"
   ]
  }
 ],
 "metadata": {
  "kernelspec": {
   "display_name": "Python 3",
   "language": "python",
   "name": "python3"
  },
  "language_info": {
   "codemirror_mode": {
    "name": "ipython",
    "version": 3
   },
   "file_extension": ".py",
   "mimetype": "text/x-python",
   "name": "python",
   "nbconvert_exporter": "python",
   "pygments_lexer": "ipython3",
   "version": "3.9.8"
  }
 },
 "nbformat": 4,
 "nbformat_minor": 2
}
