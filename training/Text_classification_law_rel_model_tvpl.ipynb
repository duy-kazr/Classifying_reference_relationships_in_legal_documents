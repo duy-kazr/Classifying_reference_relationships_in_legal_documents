{
 "cells": [
  {
   "cell_type": "markdown",
   "metadata": {},
   "source": [
    "**Import Library**"
   ]
  },
  {
   "cell_type": "code",
   "execution_count": 1,
   "metadata": {},
   "outputs": [],
   "source": [
    "import re\n",
    "import os\n",
    "import time\n",
    "\n",
    "import numpy as np\n",
    "import pandas as pd\n",
    "import tensorflow as tf\n",
    "import plotly.graph_objects as go\n",
    "import matplotlib.pyplot as plt\n",
    "\n",
    "from sklearn.metrics import confusion_matrix, precision_score, recall_score, f1_score\n",
    "from tensorflow.keras.preprocessing.text import Tokenizer\n",
    "from tensorflow.keras.preprocessing.sequence import pad_sequences\n",
    "from tensorflow.keras.models import Sequential, Model, load_model\n",
    "from keras_self_attention import SeqSelfAttention\n",
    "from tensorflow.keras.layers import Embedding, LSTM, Dense, Flatten\n",
    "from sklearn.model_selection import train_test_split\n",
    "from sklearn.preprocessing import LabelEncoder\n",
    "from tensorflow.keras.callbacks import EarlyStopping\n",
    "from underthesea import word_tokenize\n",
    "from collections import Counter\n",
    "import fasttext"
   ]
  },
  {
   "cell_type": "markdown",
   "metadata": {},
   "source": [
    "**Read data & Visualize**"
   ]
  },
  {
   "cell_type": "code",
   "execution_count": 2,
   "metadata": {},
   "outputs": [
    {
     "data": {
      "text/html": [
       "<div>\n",
       "<style scoped>\n",
       "    .dataframe tbody tr th:only-of-type {\n",
       "        vertical-align: middle;\n",
       "    }\n",
       "\n",
       "    .dataframe tbody tr th {\n",
       "        vertical-align: top;\n",
       "    }\n",
       "\n",
       "    .dataframe thead th {\n",
       "        text-align: right;\n",
       "    }\n",
       "</style>\n",
       "<table border=\"1\" class=\"dataframe\">\n",
       "  <thead>\n",
       "    <tr style=\"text-align: right;\">\n",
       "      <th></th>\n",
       "      <th>Loại</th>\n",
       "      <th>Thực thể tham chiếu</th>\n",
       "      <th>Quan hệ</th>\n",
       "      <th>Nội dung Trước thực thể được tham chiếu</th>\n",
       "      <th>Thực thể được tham chiếu</th>\n",
       "      <th>Nội dung Sau thực thể được tham chiếu</th>\n",
       "    </tr>\n",
       "  </thead>\n",
       "  <tbody>\n",
       "    <tr>\n",
       "      <th>0</th>\n",
       "      <td>HP</td>\n",
       "      <td>Luật số 31/2024/qh15 ngày 18 tháng 01 năm 2024...</td>\n",
       "      <td>CC</td>\n",
       "      <td>Căn_cứ</td>\n",
       "      <td>Hiến_pháp nước Cộng_hoà xã_hội chủ_nghĩa Việt_nam</td>\n",
       "      <td>NaN</td>\n",
       "    </tr>\n",
       "    <tr>\n",
       "      <th>1</th>\n",
       "      <td>LT</td>\n",
       "      <td>Luật số 31/2024/qh15 ngày 18 tháng 01 năm 2024...</td>\n",
       "      <td>DC</td>\n",
       "      <td>Tổ_chức kinh_tế theo quy_định của</td>\n",
       "      <td>Luật Đầu_tư</td>\n",
       "      <td>, trừ trường_hợp quy_định tại khoản 7 Điều này</td>\n",
       "    </tr>\n",
       "    <tr>\n",
       "      <th>2</th>\n",
       "      <td>LT</td>\n",
       "      <td>Luật số 31/2024/qh15 ngày 18 tháng 01 năm 2024...</td>\n",
       "      <td>DC</td>\n",
       "      <td>Ủy_ban nhân_dân cấp xã có công_chức làm công_t...</td>\n",
       "      <td>Luật Cán_bộ , công_chức</td>\n",
       "      <td>NaN</td>\n",
       "    </tr>\n",
       "    <tr>\n",
       "      <th>3</th>\n",
       "      <td>QĐ</td>\n",
       "      <td>Luật số 31/2024/qh15 ngày 18 tháng 01 năm 2024...</td>\n",
       "      <td>None</td>\n",
       "      <td>Quyết_định của cơ_quan nhà_nước có thẩm_quyền ...</td>\n",
       "      <td>Quyết_định thi_hành án</td>\n",
       "      <td>của cơ_quan</td>\n",
       "    </tr>\n",
       "    <tr>\n",
       "      <th>4</th>\n",
       "      <td>QĐ</td>\n",
       "      <td>Luật số 31/2024/qh15 ngày 18 tháng 01 năm 2024...</td>\n",
       "      <td>None</td>\n",
       "      <td>NaN</td>\n",
       "      <td>Quyết_định thi_hành án</td>\n",
       "      <td>đã được thi_hành</td>\n",
       "    </tr>\n",
       "  </tbody>\n",
       "</table>\n",
       "</div>"
      ],
      "text/plain": [
       "  Loại                                Thực thể tham chiếu Quan hệ  \\\n",
       "0   HP  Luật số 31/2024/qh15 ngày 18 tháng 01 năm 2024...      CC   \n",
       "1   LT  Luật số 31/2024/qh15 ngày 18 tháng 01 năm 2024...      DC   \n",
       "2   LT  Luật số 31/2024/qh15 ngày 18 tháng 01 năm 2024...      DC   \n",
       "3   QĐ  Luật số 31/2024/qh15 ngày 18 tháng 01 năm 2024...    None   \n",
       "4   QĐ  Luật số 31/2024/qh15 ngày 18 tháng 01 năm 2024...    None   \n",
       "\n",
       "             Nội dung Trước thực thể được tham chiếu  \\\n",
       "0                                             Căn_cứ   \n",
       "1                  Tổ_chức kinh_tế theo quy_định của   \n",
       "2  Ủy_ban nhân_dân cấp xã có công_chức làm công_t...   \n",
       "3  Quyết_định của cơ_quan nhà_nước có thẩm_quyền ...   \n",
       "4                                                NaN   \n",
       "\n",
       "                            Thực thể được tham chiếu  \\\n",
       "0  Hiến_pháp nước Cộng_hoà xã_hội chủ_nghĩa Việt_nam   \n",
       "1                                        Luật Đầu_tư   \n",
       "2                            Luật Cán_bộ , công_chức   \n",
       "3                             Quyết_định thi_hành án   \n",
       "4                             Quyết_định thi_hành án   \n",
       "\n",
       "            Nội dung Sau thực thể được tham chiếu  \n",
       "0                                             NaN  \n",
       "1  , trừ trường_hợp quy_định tại khoản 7 Điều này  \n",
       "2                                             NaN  \n",
       "3                                     của cơ_quan  \n",
       "4                                đã được thi_hành  "
      ]
     },
     "execution_count": 2,
     "metadata": {},
     "output_type": "execute_result"
    }
   ],
   "source": [
    "dt = pd.read_csv(\"data/tvpl_data.csv\", encoding=\"utf-8\")\n",
    "dt.head()"
   ]
  },
  {
   "cell_type": "code",
   "execution_count": 3,
   "metadata": {},
   "outputs": [
    {
     "name": "stdout",
     "output_type": "stream",
     "text": [
      "<class 'pandas.core.frame.DataFrame'>\n",
      "RangeIndex: 148558 entries, 0 to 148557\n",
      "Data columns (total 5 columns):\n",
      " #   Column                                   Non-Null Count   Dtype \n",
      "---  ------                                   --------------   ----- \n",
      " 0   Thực thể tham chiếu                      148558 non-null  object\n",
      " 1   Quan hệ                                  148558 non-null  object\n",
      " 2   Nội dung Trước thực thể được tham chiếu  110690 non-null  object\n",
      " 3   Thực thể được tham chiếu                 148558 non-null  object\n",
      " 4   Nội dung Sau thực thể được tham chiếu    94056 non-null   object\n",
      "dtypes: object(5)\n",
      "memory usage: 5.7+ MB\n"
     ]
    },
    {
     "data": {
      "text/html": [
       "<div>\n",
       "<style scoped>\n",
       "    .dataframe tbody tr th:only-of-type {\n",
       "        vertical-align: middle;\n",
       "    }\n",
       "\n",
       "    .dataframe tbody tr th {\n",
       "        vertical-align: top;\n",
       "    }\n",
       "\n",
       "    .dataframe thead th {\n",
       "        text-align: right;\n",
       "    }\n",
       "</style>\n",
       "<table border=\"1\" class=\"dataframe\">\n",
       "  <thead>\n",
       "    <tr style=\"text-align: right;\">\n",
       "      <th></th>\n",
       "      <th>Thực thể tham chiếu</th>\n",
       "      <th>Quan hệ</th>\n",
       "      <th>Nội dung Trước thực thể được tham chiếu</th>\n",
       "      <th>Thực thể được tham chiếu</th>\n",
       "      <th>Nội dung Sau thực thể được tham chiếu</th>\n",
       "    </tr>\n",
       "  </thead>\n",
       "  <tbody>\n",
       "    <tr>\n",
       "      <th>0</th>\n",
       "      <td>Luật số 31/2024/qh15 ngày 18 tháng 01 năm 2024...</td>\n",
       "      <td>CC</td>\n",
       "      <td>Căn_cứ</td>\n",
       "      <td>Hiến_pháp nước Cộng_hoà xã_hội chủ_nghĩa Việt_nam</td>\n",
       "      <td>NaN</td>\n",
       "    </tr>\n",
       "    <tr>\n",
       "      <th>1</th>\n",
       "      <td>Luật số 31/2024/qh15 ngày 18 tháng 01 năm 2024...</td>\n",
       "      <td>DC</td>\n",
       "      <td>Tổ_chức kinh_tế theo quy_định của</td>\n",
       "      <td>Luật Đầu_tư</td>\n",
       "      <td>, trừ trường_hợp quy_định tại khoản 7 Điều này</td>\n",
       "    </tr>\n",
       "    <tr>\n",
       "      <th>2</th>\n",
       "      <td>Luật số 31/2024/qh15 ngày 18 tháng 01 năm 2024...</td>\n",
       "      <td>DC</td>\n",
       "      <td>Ủy_ban nhân_dân cấp xã có công_chức làm công_t...</td>\n",
       "      <td>Luật Cán_bộ , công_chức</td>\n",
       "      <td>NaN</td>\n",
       "    </tr>\n",
       "    <tr>\n",
       "      <th>3</th>\n",
       "      <td>Luật số 31/2024/qh15 ngày 18 tháng 01 năm 2024...</td>\n",
       "      <td>None</td>\n",
       "      <td>Quyết_định của cơ_quan nhà_nước có thẩm_quyền ...</td>\n",
       "      <td>Quyết_định thi_hành án</td>\n",
       "      <td>của cơ_quan</td>\n",
       "    </tr>\n",
       "    <tr>\n",
       "      <th>4</th>\n",
       "      <td>Luật số 31/2024/qh15 ngày 18 tháng 01 năm 2024...</td>\n",
       "      <td>None</td>\n",
       "      <td>NaN</td>\n",
       "      <td>Quyết_định thi_hành án</td>\n",
       "      <td>đã được thi_hành</td>\n",
       "    </tr>\n",
       "    <tr>\n",
       "      <th>5</th>\n",
       "      <td>Luật số 31/2024/qh15 ngày 18 tháng 01 năm 2024...</td>\n",
       "      <td>None</td>\n",
       "      <td>Quyết_định của cơ_quan nhà_nước có thẩm_quyền ...</td>\n",
       "      <td>Quyết_định thi_hành án</td>\n",
       "      <td>của cơ_quan</td>\n",
       "    </tr>\n",
       "    <tr>\n",
       "      <th>6</th>\n",
       "      <td>Luật số 31/2024/qh15 ngày 18 tháng 01 năm 2024...</td>\n",
       "      <td>None</td>\n",
       "      <td>NaN</td>\n",
       "      <td>Quyết_định thi_hành án</td>\n",
       "      <td>đã được thi_hành</td>\n",
       "    </tr>\n",
       "    <tr>\n",
       "      <th>7</th>\n",
       "      <td>Luật số 31/2024/qh15 ngày 18 tháng 01 năm 2024...</td>\n",
       "      <td>DC</td>\n",
       "      <td>Trường_hợp chủ đầu_tư chuyển_nhượng quyền sử_d...</td>\n",
       "      <td>Luật Kinh_doanh bất_động_sản</td>\n",
       "      <td>,</td>\n",
       "    </tr>\n",
       "    <tr>\n",
       "      <th>8</th>\n",
       "      <td>Luật số 31/2024/qh15 ngày 18 tháng 01 năm 2024...</td>\n",
       "      <td>DC</td>\n",
       "      <td>NaN</td>\n",
       "      <td>Luật Nhà ở</td>\n",
       "      <td>NaN</td>\n",
       "    </tr>\n",
       "    <tr>\n",
       "      <th>9</th>\n",
       "      <td>Luật số 31/2024/qh15 ngày 18 tháng 01 năm 2024...</td>\n",
       "      <td>DC</td>\n",
       "      <td>Trường_hợp được Nhà_nước cho thuê đất trả tiền...</td>\n",
       "      <td>Luật Kinh_doanh bất_động_sản</td>\n",
       "      <td>NaN</td>\n",
       "    </tr>\n",
       "  </tbody>\n",
       "</table>\n",
       "</div>"
      ],
      "text/plain": [
       "                                 Thực thể tham chiếu Quan hệ  \\\n",
       "0  Luật số 31/2024/qh15 ngày 18 tháng 01 năm 2024...      CC   \n",
       "1  Luật số 31/2024/qh15 ngày 18 tháng 01 năm 2024...      DC   \n",
       "2  Luật số 31/2024/qh15 ngày 18 tháng 01 năm 2024...      DC   \n",
       "3  Luật số 31/2024/qh15 ngày 18 tháng 01 năm 2024...    None   \n",
       "4  Luật số 31/2024/qh15 ngày 18 tháng 01 năm 2024...    None   \n",
       "5  Luật số 31/2024/qh15 ngày 18 tháng 01 năm 2024...    None   \n",
       "6  Luật số 31/2024/qh15 ngày 18 tháng 01 năm 2024...    None   \n",
       "7  Luật số 31/2024/qh15 ngày 18 tháng 01 năm 2024...      DC   \n",
       "8  Luật số 31/2024/qh15 ngày 18 tháng 01 năm 2024...      DC   \n",
       "9  Luật số 31/2024/qh15 ngày 18 tháng 01 năm 2024...      DC   \n",
       "\n",
       "             Nội dung Trước thực thể được tham chiếu  \\\n",
       "0                                             Căn_cứ   \n",
       "1                  Tổ_chức kinh_tế theo quy_định của   \n",
       "2  Ủy_ban nhân_dân cấp xã có công_chức làm công_t...   \n",
       "3  Quyết_định của cơ_quan nhà_nước có thẩm_quyền ...   \n",
       "4                                                NaN   \n",
       "5  Quyết_định của cơ_quan nhà_nước có thẩm_quyền ...   \n",
       "6                                                NaN   \n",
       "7  Trường_hợp chủ đầu_tư chuyển_nhượng quyền sử_d...   \n",
       "8                                                NaN   \n",
       "9  Trường_hợp được Nhà_nước cho thuê đất trả tiền...   \n",
       "\n",
       "                            Thực thể được tham chiếu  \\\n",
       "0  Hiến_pháp nước Cộng_hoà xã_hội chủ_nghĩa Việt_nam   \n",
       "1                                        Luật Đầu_tư   \n",
       "2                            Luật Cán_bộ , công_chức   \n",
       "3                             Quyết_định thi_hành án   \n",
       "4                             Quyết_định thi_hành án   \n",
       "5                             Quyết_định thi_hành án   \n",
       "6                             Quyết_định thi_hành án   \n",
       "7                       Luật Kinh_doanh bất_động_sản   \n",
       "8                                         Luật Nhà ở   \n",
       "9                       Luật Kinh_doanh bất_động_sản   \n",
       "\n",
       "            Nội dung Sau thực thể được tham chiếu  \n",
       "0                                             NaN  \n",
       "1  , trừ trường_hợp quy_định tại khoản 7 Điều này  \n",
       "2                                             NaN  \n",
       "3                                     của cơ_quan  \n",
       "4                                đã được thi_hành  \n",
       "5                                     của cơ_quan  \n",
       "6                                đã được thi_hành  \n",
       "7                                               ,  \n",
       "8                                             NaN  \n",
       "9                                             NaN  "
      ]
     },
     "execution_count": 3,
     "metadata": {},
     "output_type": "execute_result"
    }
   ],
   "source": [
    "A = \"Thực thể tham chiếu\"\n",
    "Label = \"Quan hệ\"\n",
    "B = \"Thực thể được tham chiếu\"\n",
    "Before_B = \"Nội dung Trước thực thể được tham chiếu\"\n",
    "After_B = \"Nội dung Sau thực thể được tham chiếu\"\n",
    "\n",
    "data_Clean = dt[[A,Label,Before_B,B,After_B]].copy()\n",
    "data_Clean[Label] = dt[Label].fillna('None')\n",
    "data_Clean[[A, B]].dropna()\n",
    "data_Clean.info()\n",
    "\n",
    "\n",
    "data_Clean['Quan hệ'].unique()\n",
    "data_Clean.head(10)"
   ]
  },
  {
   "cell_type": "code",
   "execution_count": 4,
   "metadata": {},
   "outputs": [
    {
     "data": {
      "application/vnd.plotly.v1+json": {
       "config": {
        "plotlyServerURL": "https://plot.ly"
       },
       "data": [
        {
         "marker": {
          "color": "cadetblue"
         },
         "type": "bar",
         "width": [
          0.4,
          0.4
         ],
         "x": [
          "BTT",
          "CC",
          "DC",
          "DHD",
          "DSD",
          "HHL",
          "None"
         ],
         "y": [
          410,
          37365,
          66518,
          2187,
          4624,
          1604,
          35850
         ]
        }
       ],
       "layout": {
        "template": {
         "data": {
          "bar": [
           {
            "error_x": {
             "color": "#2a3f5f"
            },
            "error_y": {
             "color": "#2a3f5f"
            },
            "marker": {
             "line": {
              "color": "#E5ECF6",
              "width": 0.5
             },
             "pattern": {
              "fillmode": "overlay",
              "size": 10,
              "solidity": 0.2
             }
            },
            "type": "bar"
           }
          ],
          "barpolar": [
           {
            "marker": {
             "line": {
              "color": "#E5ECF6",
              "width": 0.5
             },
             "pattern": {
              "fillmode": "overlay",
              "size": 10,
              "solidity": 0.2
             }
            },
            "type": "barpolar"
           }
          ],
          "carpet": [
           {
            "aaxis": {
             "endlinecolor": "#2a3f5f",
             "gridcolor": "white",
             "linecolor": "white",
             "minorgridcolor": "white",
             "startlinecolor": "#2a3f5f"
            },
            "baxis": {
             "endlinecolor": "#2a3f5f",
             "gridcolor": "white",
             "linecolor": "white",
             "minorgridcolor": "white",
             "startlinecolor": "#2a3f5f"
            },
            "type": "carpet"
           }
          ],
          "choropleth": [
           {
            "colorbar": {
             "outlinewidth": 0,
             "ticks": ""
            },
            "type": "choropleth"
           }
          ],
          "contour": [
           {
            "colorbar": {
             "outlinewidth": 0,
             "ticks": ""
            },
            "colorscale": [
             [
              0,
              "#0d0887"
             ],
             [
              0.1111111111111111,
              "#46039f"
             ],
             [
              0.2222222222222222,
              "#7201a8"
             ],
             [
              0.3333333333333333,
              "#9c179e"
             ],
             [
              0.4444444444444444,
              "#bd3786"
             ],
             [
              0.5555555555555556,
              "#d8576b"
             ],
             [
              0.6666666666666666,
              "#ed7953"
             ],
             [
              0.7777777777777778,
              "#fb9f3a"
             ],
             [
              0.8888888888888888,
              "#fdca26"
             ],
             [
              1,
              "#f0f921"
             ]
            ],
            "type": "contour"
           }
          ],
          "contourcarpet": [
           {
            "colorbar": {
             "outlinewidth": 0,
             "ticks": ""
            },
            "type": "contourcarpet"
           }
          ],
          "heatmap": [
           {
            "colorbar": {
             "outlinewidth": 0,
             "ticks": ""
            },
            "colorscale": [
             [
              0,
              "#0d0887"
             ],
             [
              0.1111111111111111,
              "#46039f"
             ],
             [
              0.2222222222222222,
              "#7201a8"
             ],
             [
              0.3333333333333333,
              "#9c179e"
             ],
             [
              0.4444444444444444,
              "#bd3786"
             ],
             [
              0.5555555555555556,
              "#d8576b"
             ],
             [
              0.6666666666666666,
              "#ed7953"
             ],
             [
              0.7777777777777778,
              "#fb9f3a"
             ],
             [
              0.8888888888888888,
              "#fdca26"
             ],
             [
              1,
              "#f0f921"
             ]
            ],
            "type": "heatmap"
           }
          ],
          "heatmapgl": [
           {
            "colorbar": {
             "outlinewidth": 0,
             "ticks": ""
            },
            "colorscale": [
             [
              0,
              "#0d0887"
             ],
             [
              0.1111111111111111,
              "#46039f"
             ],
             [
              0.2222222222222222,
              "#7201a8"
             ],
             [
              0.3333333333333333,
              "#9c179e"
             ],
             [
              0.4444444444444444,
              "#bd3786"
             ],
             [
              0.5555555555555556,
              "#d8576b"
             ],
             [
              0.6666666666666666,
              "#ed7953"
             ],
             [
              0.7777777777777778,
              "#fb9f3a"
             ],
             [
              0.8888888888888888,
              "#fdca26"
             ],
             [
              1,
              "#f0f921"
             ]
            ],
            "type": "heatmapgl"
           }
          ],
          "histogram": [
           {
            "marker": {
             "pattern": {
              "fillmode": "overlay",
              "size": 10,
              "solidity": 0.2
             }
            },
            "type": "histogram"
           }
          ],
          "histogram2d": [
           {
            "colorbar": {
             "outlinewidth": 0,
             "ticks": ""
            },
            "colorscale": [
             [
              0,
              "#0d0887"
             ],
             [
              0.1111111111111111,
              "#46039f"
             ],
             [
              0.2222222222222222,
              "#7201a8"
             ],
             [
              0.3333333333333333,
              "#9c179e"
             ],
             [
              0.4444444444444444,
              "#bd3786"
             ],
             [
              0.5555555555555556,
              "#d8576b"
             ],
             [
              0.6666666666666666,
              "#ed7953"
             ],
             [
              0.7777777777777778,
              "#fb9f3a"
             ],
             [
              0.8888888888888888,
              "#fdca26"
             ],
             [
              1,
              "#f0f921"
             ]
            ],
            "type": "histogram2d"
           }
          ],
          "histogram2dcontour": [
           {
            "colorbar": {
             "outlinewidth": 0,
             "ticks": ""
            },
            "colorscale": [
             [
              0,
              "#0d0887"
             ],
             [
              0.1111111111111111,
              "#46039f"
             ],
             [
              0.2222222222222222,
              "#7201a8"
             ],
             [
              0.3333333333333333,
              "#9c179e"
             ],
             [
              0.4444444444444444,
              "#bd3786"
             ],
             [
              0.5555555555555556,
              "#d8576b"
             ],
             [
              0.6666666666666666,
              "#ed7953"
             ],
             [
              0.7777777777777778,
              "#fb9f3a"
             ],
             [
              0.8888888888888888,
              "#fdca26"
             ],
             [
              1,
              "#f0f921"
             ]
            ],
            "type": "histogram2dcontour"
           }
          ],
          "mesh3d": [
           {
            "colorbar": {
             "outlinewidth": 0,
             "ticks": ""
            },
            "type": "mesh3d"
           }
          ],
          "parcoords": [
           {
            "line": {
             "colorbar": {
              "outlinewidth": 0,
              "ticks": ""
             }
            },
            "type": "parcoords"
           }
          ],
          "pie": [
           {
            "automargin": true,
            "type": "pie"
           }
          ],
          "scatter": [
           {
            "fillpattern": {
             "fillmode": "overlay",
             "size": 10,
             "solidity": 0.2
            },
            "type": "scatter"
           }
          ],
          "scatter3d": [
           {
            "line": {
             "colorbar": {
              "outlinewidth": 0,
              "ticks": ""
             }
            },
            "marker": {
             "colorbar": {
              "outlinewidth": 0,
              "ticks": ""
             }
            },
            "type": "scatter3d"
           }
          ],
          "scattercarpet": [
           {
            "marker": {
             "colorbar": {
              "outlinewidth": 0,
              "ticks": ""
             }
            },
            "type": "scattercarpet"
           }
          ],
          "scattergeo": [
           {
            "marker": {
             "colorbar": {
              "outlinewidth": 0,
              "ticks": ""
             }
            },
            "type": "scattergeo"
           }
          ],
          "scattergl": [
           {
            "marker": {
             "colorbar": {
              "outlinewidth": 0,
              "ticks": ""
             }
            },
            "type": "scattergl"
           }
          ],
          "scattermapbox": [
           {
            "marker": {
             "colorbar": {
              "outlinewidth": 0,
              "ticks": ""
             }
            },
            "type": "scattermapbox"
           }
          ],
          "scatterpolar": [
           {
            "marker": {
             "colorbar": {
              "outlinewidth": 0,
              "ticks": ""
             }
            },
            "type": "scatterpolar"
           }
          ],
          "scatterpolargl": [
           {
            "marker": {
             "colorbar": {
              "outlinewidth": 0,
              "ticks": ""
             }
            },
            "type": "scatterpolargl"
           }
          ],
          "scatterternary": [
           {
            "marker": {
             "colorbar": {
              "outlinewidth": 0,
              "ticks": ""
             }
            },
            "type": "scatterternary"
           }
          ],
          "surface": [
           {
            "colorbar": {
             "outlinewidth": 0,
             "ticks": ""
            },
            "colorscale": [
             [
              0,
              "#0d0887"
             ],
             [
              0.1111111111111111,
              "#46039f"
             ],
             [
              0.2222222222222222,
              "#7201a8"
             ],
             [
              0.3333333333333333,
              "#9c179e"
             ],
             [
              0.4444444444444444,
              "#bd3786"
             ],
             [
              0.5555555555555556,
              "#d8576b"
             ],
             [
              0.6666666666666666,
              "#ed7953"
             ],
             [
              0.7777777777777778,
              "#fb9f3a"
             ],
             [
              0.8888888888888888,
              "#fdca26"
             ],
             [
              1,
              "#f0f921"
             ]
            ],
            "type": "surface"
           }
          ],
          "table": [
           {
            "cells": {
             "fill": {
              "color": "#EBF0F8"
             },
             "line": {
              "color": "white"
             }
            },
            "header": {
             "fill": {
              "color": "#C8D4E3"
             },
             "line": {
              "color": "white"
             }
            },
            "type": "table"
           }
          ]
         },
         "layout": {
          "annotationdefaults": {
           "arrowcolor": "#2a3f5f",
           "arrowhead": 0,
           "arrowwidth": 1
          },
          "autotypenumbers": "strict",
          "coloraxis": {
           "colorbar": {
            "outlinewidth": 0,
            "ticks": ""
           }
          },
          "colorscale": {
           "diverging": [
            [
             0,
             "#8e0152"
            ],
            [
             0.1,
             "#c51b7d"
            ],
            [
             0.2,
             "#de77ae"
            ],
            [
             0.3,
             "#f1b6da"
            ],
            [
             0.4,
             "#fde0ef"
            ],
            [
             0.5,
             "#f7f7f7"
            ],
            [
             0.6,
             "#e6f5d0"
            ],
            [
             0.7,
             "#b8e186"
            ],
            [
             0.8,
             "#7fbc41"
            ],
            [
             0.9,
             "#4d9221"
            ],
            [
             1,
             "#276419"
            ]
           ],
           "sequential": [
            [
             0,
             "#0d0887"
            ],
            [
             0.1111111111111111,
             "#46039f"
            ],
            [
             0.2222222222222222,
             "#7201a8"
            ],
            [
             0.3333333333333333,
             "#9c179e"
            ],
            [
             0.4444444444444444,
             "#bd3786"
            ],
            [
             0.5555555555555556,
             "#d8576b"
            ],
            [
             0.6666666666666666,
             "#ed7953"
            ],
            [
             0.7777777777777778,
             "#fb9f3a"
            ],
            [
             0.8888888888888888,
             "#fdca26"
            ],
            [
             1,
             "#f0f921"
            ]
           ],
           "sequentialminus": [
            [
             0,
             "#0d0887"
            ],
            [
             0.1111111111111111,
             "#46039f"
            ],
            [
             0.2222222222222222,
             "#7201a8"
            ],
            [
             0.3333333333333333,
             "#9c179e"
            ],
            [
             0.4444444444444444,
             "#bd3786"
            ],
            [
             0.5555555555555556,
             "#d8576b"
            ],
            [
             0.6666666666666666,
             "#ed7953"
            ],
            [
             0.7777777777777778,
             "#fb9f3a"
            ],
            [
             0.8888888888888888,
             "#fdca26"
            ],
            [
             1,
             "#f0f921"
            ]
           ]
          },
          "colorway": [
           "#636efa",
           "#EF553B",
           "#00cc96",
           "#ab63fa",
           "#FFA15A",
           "#19d3f3",
           "#FF6692",
           "#B6E880",
           "#FF97FF",
           "#FECB52"
          ],
          "font": {
           "color": "#2a3f5f"
          },
          "geo": {
           "bgcolor": "white",
           "lakecolor": "white",
           "landcolor": "#E5ECF6",
           "showlakes": true,
           "showland": true,
           "subunitcolor": "white"
          },
          "hoverlabel": {
           "align": "left"
          },
          "hovermode": "closest",
          "mapbox": {
           "style": "light"
          },
          "paper_bgcolor": "white",
          "plot_bgcolor": "#E5ECF6",
          "polar": {
           "angularaxis": {
            "gridcolor": "white",
            "linecolor": "white",
            "ticks": ""
           },
           "bgcolor": "#E5ECF6",
           "radialaxis": {
            "gridcolor": "white",
            "linecolor": "white",
            "ticks": ""
           }
          },
          "scene": {
           "xaxis": {
            "backgroundcolor": "#E5ECF6",
            "gridcolor": "white",
            "gridwidth": 2,
            "linecolor": "white",
            "showbackground": true,
            "ticks": "",
            "zerolinecolor": "white"
           },
           "yaxis": {
            "backgroundcolor": "#E5ECF6",
            "gridcolor": "white",
            "gridwidth": 2,
            "linecolor": "white",
            "showbackground": true,
            "ticks": "",
            "zerolinecolor": "white"
           },
           "zaxis": {
            "backgroundcolor": "#E5ECF6",
            "gridcolor": "white",
            "gridwidth": 2,
            "linecolor": "white",
            "showbackground": true,
            "ticks": "",
            "zerolinecolor": "white"
           }
          },
          "shapedefaults": {
           "line": {
            "color": "#2a3f5f"
           }
          },
          "ternary": {
           "aaxis": {
            "gridcolor": "white",
            "linecolor": "white",
            "ticks": ""
           },
           "baxis": {
            "gridcolor": "white",
            "linecolor": "white",
            "ticks": ""
           },
           "bgcolor": "#E5ECF6",
           "caxis": {
            "gridcolor": "white",
            "linecolor": "white",
            "ticks": ""
           }
          },
          "title": {
           "x": 0.05
          },
          "xaxis": {
           "automargin": true,
           "gridcolor": "white",
           "linecolor": "white",
           "ticks": "",
           "title": {
            "standoff": 15
           },
           "zerolinecolor": "white",
           "zerolinewidth": 2
          },
          "yaxis": {
           "automargin": true,
           "gridcolor": "white",
           "linecolor": "white",
           "ticks": "",
           "title": {
            "standoff": 15
           },
           "zerolinecolor": "white",
           "zerolinewidth": 2
          }
         }
        },
        "title": {
         "text": "Classes and their number in the dataset",
         "x": 0.5
        }
       }
      }
     },
     "metadata": {},
     "output_type": "display_data"
    }
   ],
   "source": [
    "groups = data_Clean.groupby(by=Label).count()[A]\n",
    "fig = go.Figure()\n",
    "fig.add_trace(go.Bar(\n",
    "    x=groups.index,\n",
    "    y=groups,\n",
    "    marker_color='cadetblue',\n",
    "    width=[0.4, 0.4]))\n",
    "fig.update_layout(title='Classes and their number in the dataset', title_x=0.5)"
   ]
  },
  {
   "cell_type": "markdown",
   "metadata": {},
   "source": [
    "**Preprocessing**"
   ]
  },
  {
   "cell_type": "code",
   "execution_count": 5,
   "metadata": {},
   "outputs": [],
   "source": [
    "def load_dicchar():\n",
    "    dic = {}\n",
    "    char1252 = 'à|á|ả|ã|ạ|ầ|ấ|ẩ|ẫ|ậ|ằ|ắ|ẳ|ẵ|ặ|è|é|ẻ|ẽ|ẹ|ề|ế|ể|ễ|ệ|ì|í|ỉ|ĩ|ị|ò|ó|ỏ|õ|ọ|ồ|ố|ổ|ỗ|ộ|ờ|ớ|ở|ỡ|ợ|ù|ú|ủ|ũ|ụ|ừ|ứ|ử|ữ|ự|ỳ|ý|ỷ|ỹ|ỵ|À|Á|Ả|Ã|Ạ|Ầ|Ấ|Ẩ|Ẫ|Ậ|Ằ|Ắ|Ẳ|Ẵ|Ặ|È|É|Ẻ|Ẽ|Ẹ|Ề|Ế|Ể|Ễ|Ệ|Ì|Í|Ỉ|Ĩ|Ị|Ò|Ó|Ỏ|Õ|Ọ|Ồ|Ố|Ổ|Ỗ|Ộ|Ờ|Ớ|Ở|Ỡ|Ợ|Ù|Ú|Ủ|Ũ|Ụ|Ừ|Ứ|Ử|Ữ|Ự|Ỳ|Ý|Ỷ|Ỹ|Ỵ'.split(\n",
    "        '|')\n",
    "    charutf8 = \"à|á|ả|ã|ạ|ầ|ấ|ẩ|ẫ|ậ|ằ|ắ|ẳ|ẵ|ặ|è|é|ẻ|ẽ|ẹ|ề|ế|ể|ễ|ệ|ì|í|ỉ|ĩ|ị|ò|ó|ỏ|õ|ọ|ồ|ố|ổ|ỗ|ộ|ờ|ớ|ở|ỡ|ợ|ù|ú|ủ|ũ|ụ|ừ|ứ|ử|ữ|ự|ỳ|ý|ỷ|ỹ|ỵ|À|Á|Ả|Ã|Ạ|Ầ|Ấ|Ẩ|Ẫ|Ậ|Ằ|Ắ|Ẳ|Ẵ|Ặ|È|É|Ẻ|Ẽ|Ẹ|Ề|Ế|Ể|Ễ|Ệ|Ì|Í|Ỉ|Ĩ|Ị|Ò|Ó|Ỏ|Õ|Ọ|Ồ|Ố|Ổ|Ỗ|Ộ|Ờ|Ớ|Ở|Ỡ|Ợ|Ù|Ú|Ủ|Ũ|Ụ|Ừ|Ứ|Ử|Ữ|Ự|Ỳ|Ý|Ỷ|Ỹ|Ỵ\".split(\n",
    "        '|')\n",
    "    for i in range(len(char1252)):\n",
    "        dic[char1252[i]] = charutf8[i]\n",
    "    return dic\n",
    "\n",
    "# Chuyển đổi mã kí tự 1252 sang UTF-8\n",
    "def covert_unicode(text):\n",
    "    dicchar = load_dicchar()\n",
    "    return re.sub(\n",
    "        r'à|á|ả|ã|ạ|ầ|ấ|ẩ|ẫ|ậ|ằ|ắ|ẳ|ẵ|ặ|è|é|ẻ|ẽ|ẹ|ề|ế|ể|ễ|ệ|ì|í|ỉ|ĩ|ị|ò|ó|ỏ|õ|ọ|ồ|ố|ổ|ỗ|ộ|ờ|ớ|ở|ỡ|ợ|ù|ú|ủ|ũ|ụ|ừ|ứ|ử|ữ|ự|ỳ|ý|ỷ|ỹ|ỵ|À|Á|Ả|Ã|Ạ|Ầ|Ấ|Ẩ|Ẫ|Ậ|Ằ|Ắ|Ẳ|Ẵ|Ặ|È|É|Ẻ|Ẽ|Ẹ|Ề|Ế|Ể|Ễ|Ệ|Ì|Í|Ỉ|Ĩ|Ị|Ò|Ó|Ỏ|Õ|Ọ|Ồ|Ố|Ổ|Ỗ|Ộ|Ờ|Ớ|Ở|Ỡ|Ợ|Ù|Ú|Ủ|Ũ|Ụ|Ừ|Ứ|Ử|Ữ|Ự|Ỳ|Ý|Ỷ|Ỹ|Ỵ',\n",
    "        lambda x: dicchar[x.group()], text)\n",
    "\n",
    "def text_preprocessing(document):\n",
    "    # Chuyển đổi mã kí tự 1252 sang UTF-8\n",
    "    document['Text'] = document['Text'].apply(covert_unicode)\n",
    "    # Đưa về dạng chữ thường\n",
    "    document['Text'] = document['Text'].str.lower()\n",
    "    # xóa các ký tự không cần thiết\n",
    "    document['Text'] = document['Text'].apply(lambda x: re.sub(r'[^\\w\\s]', '', str(x)))\n",
    "    document = document['Text'].apply(lambda y: re.sub(r'[^\\s\\wáàảãạăắằẳẵặâấầẩẫậéèẻẽẹêếềểễệóòỏõọôốồổỗộơớờởỡợíìỉĩịúùủũụưứừửữựýỳỷỹỵđ_]',' ',str(y)))\n",
    "    return document"
   ]
  },
  {
   "cell_type": "code",
   "execution_count": 5,
   "metadata": {},
   "outputs": [
    {
     "name": "stdout",
     "output_type": "stream",
     "text": [
      "<class 'pandas.core.frame.DataFrame'>\n",
      "RangeIndex: 148558 entries, 0 to 148557\n",
      "Data columns (total 5 columns):\n",
      " #   Column                                   Non-Null Count   Dtype \n",
      "---  ------                                   --------------   ----- \n",
      " 0   Thực thể tham chiếu                      148558 non-null  object\n",
      " 1   Quan hệ                                  148558 non-null  object\n",
      " 2   Nội dung Trước thực thể được tham chiếu  110690 non-null  object\n",
      " 3   Thực thể được tham chiếu                 148558 non-null  object\n",
      " 4   Nội dung Sau thực thể được tham chiếu    94056 non-null   object\n",
      "dtypes: object(5)\n",
      "memory usage: 5.7+ MB\n"
     ]
    },
    {
     "data": {
      "text/html": [
       "<div>\n",
       "<style scoped>\n",
       "    .dataframe tbody tr th:only-of-type {\n",
       "        vertical-align: middle;\n",
       "    }\n",
       "\n",
       "    .dataframe tbody tr th {\n",
       "        vertical-align: top;\n",
       "    }\n",
       "\n",
       "    .dataframe thead th {\n",
       "        text-align: right;\n",
       "    }\n",
       "</style>\n",
       "<table border=\"1\" class=\"dataframe\">\n",
       "  <thead>\n",
       "    <tr style=\"text-align: right;\">\n",
       "      <th></th>\n",
       "      <th>Thực thể tham chiếu</th>\n",
       "      <th>Quan hệ</th>\n",
       "      <th>Nội dung Trước thực thể được tham chiếu</th>\n",
       "      <th>Thực thể được tham chiếu</th>\n",
       "      <th>Nội dung Sau thực thể được tham chiếu</th>\n",
       "    </tr>\n",
       "  </thead>\n",
       "  <tbody>\n",
       "    <tr>\n",
       "      <th>0</th>\n",
       "      <td>Luật số 31/2024/qh15 ngày 18 tháng 01 năm 2024...</td>\n",
       "      <td>CC</td>\n",
       "      <td>Căn_cứ</td>\n",
       "      <td>Hiến_pháp nước Cộng_hoà xã_hội chủ_nghĩa Việt_nam</td>\n",
       "      <td>NaN</td>\n",
       "    </tr>\n",
       "    <tr>\n",
       "      <th>1</th>\n",
       "      <td>Luật số 31/2024/qh15 ngày 18 tháng 01 năm 2024...</td>\n",
       "      <td>DC</td>\n",
       "      <td>Tổ_chức kinh_tế theo quy_định của</td>\n",
       "      <td>Luật Đầu_tư</td>\n",
       "      <td>, trừ trường_hợp quy_định tại khoản 7 Điều này</td>\n",
       "    </tr>\n",
       "    <tr>\n",
       "      <th>2</th>\n",
       "      <td>Luật số 31/2024/qh15 ngày 18 tháng 01 năm 2024...</td>\n",
       "      <td>DC</td>\n",
       "      <td>Ủy_ban nhân_dân cấp xã có công_chức làm công_t...</td>\n",
       "      <td>Luật Cán_bộ , công_chức</td>\n",
       "      <td>NaN</td>\n",
       "    </tr>\n",
       "    <tr>\n",
       "      <th>3</th>\n",
       "      <td>Luật số 31/2024/qh15 ngày 18 tháng 01 năm 2024...</td>\n",
       "      <td>None</td>\n",
       "      <td>Quyết_định của cơ_quan nhà_nước có thẩm_quyền ...</td>\n",
       "      <td>Quyết_định thi_hành án</td>\n",
       "      <td>của cơ_quan</td>\n",
       "    </tr>\n",
       "    <tr>\n",
       "      <th>4</th>\n",
       "      <td>Luật số 31/2024/qh15 ngày 18 tháng 01 năm 2024...</td>\n",
       "      <td>None</td>\n",
       "      <td>NaN</td>\n",
       "      <td>Quyết_định thi_hành án</td>\n",
       "      <td>đã được thi_hành</td>\n",
       "    </tr>\n",
       "  </tbody>\n",
       "</table>\n",
       "</div>"
      ],
      "text/plain": [
       "                                 Thực thể tham chiếu Quan hệ  \\\n",
       "0  Luật số 31/2024/qh15 ngày 18 tháng 01 năm 2024...      CC   \n",
       "1  Luật số 31/2024/qh15 ngày 18 tháng 01 năm 2024...      DC   \n",
       "2  Luật số 31/2024/qh15 ngày 18 tháng 01 năm 2024...      DC   \n",
       "3  Luật số 31/2024/qh15 ngày 18 tháng 01 năm 2024...    None   \n",
       "4  Luật số 31/2024/qh15 ngày 18 tháng 01 năm 2024...    None   \n",
       "\n",
       "             Nội dung Trước thực thể được tham chiếu  \\\n",
       "0                                             Căn_cứ   \n",
       "1                  Tổ_chức kinh_tế theo quy_định của   \n",
       "2  Ủy_ban nhân_dân cấp xã có công_chức làm công_t...   \n",
       "3  Quyết_định của cơ_quan nhà_nước có thẩm_quyền ...   \n",
       "4                                                NaN   \n",
       "\n",
       "                            Thực thể được tham chiếu  \\\n",
       "0  Hiến_pháp nước Cộng_hoà xã_hội chủ_nghĩa Việt_nam   \n",
       "1                                        Luật Đầu_tư   \n",
       "2                            Luật Cán_bộ , công_chức   \n",
       "3                             Quyết_định thi_hành án   \n",
       "4                             Quyết_định thi_hành án   \n",
       "\n",
       "            Nội dung Sau thực thể được tham chiếu  \n",
       "0                                             NaN  \n",
       "1  , trừ trường_hợp quy_định tại khoản 7 Điều này  \n",
       "2                                             NaN  \n",
       "3                                     của cơ_quan  \n",
       "4                                đã được thi_hành  "
      ]
     },
     "execution_count": 5,
     "metadata": {},
     "output_type": "execute_result"
    }
   ],
   "source": [
    "dt_clean =  data_Clean.loc[data_Clean[Label].isin(groups.index)].reset_index(drop=True)\n",
    "dt_clean.info()\n",
    "dt_clean.head()"
   ]
  },
  {
   "cell_type": "code",
   "execution_count": 6,
   "metadata": {},
   "outputs": [
    {
     "data": {
      "text/html": [
       "<div>\n",
       "<style scoped>\n",
       "    .dataframe tbody tr th:only-of-type {\n",
       "        vertical-align: middle;\n",
       "    }\n",
       "\n",
       "    .dataframe tbody tr th {\n",
       "        vertical-align: top;\n",
       "    }\n",
       "\n",
       "    .dataframe thead th {\n",
       "        text-align: right;\n",
       "    }\n",
       "</style>\n",
       "<table border=\"1\" class=\"dataframe\">\n",
       "  <thead>\n",
       "    <tr style=\"text-align: right;\">\n",
       "      <th></th>\n",
       "      <th>Thực thể tham chiếu</th>\n",
       "      <th>Quan hệ</th>\n",
       "      <th>Nội dung Trước thực thể được tham chiếu</th>\n",
       "      <th>Thực thể được tham chiếu</th>\n",
       "      <th>Nội dung Sau thực thể được tham chiếu</th>\n",
       "      <th>Text</th>\n",
       "    </tr>\n",
       "  </thead>\n",
       "  <tbody>\n",
       "    <tr>\n",
       "      <th>0</th>\n",
       "      <td>Luật số 31/2024/qh15 ngày 18 tháng 01 năm 2024...</td>\n",
       "      <td>CC</td>\n",
       "      <td>Căn_cứ</td>\n",
       "      <td>Hiến_pháp nước Cộng_hoà xã_hội chủ_nghĩa Việt_nam</td>\n",
       "      <td>NaN</td>\n",
       "      <td>Luật số 31/2024/qh15 ngày 18 tháng 01 năm 2024...</td>\n",
       "    </tr>\n",
       "    <tr>\n",
       "      <th>1</th>\n",
       "      <td>Luật số 31/2024/qh15 ngày 18 tháng 01 năm 2024...</td>\n",
       "      <td>DC</td>\n",
       "      <td>Tổ_chức kinh_tế theo quy_định của</td>\n",
       "      <td>Luật Đầu_tư</td>\n",
       "      <td>, trừ trường_hợp quy_định tại khoản 7 Điều này</td>\n",
       "      <td>Luật số 31/2024/qh15 ngày 18 tháng 01 năm 2024...</td>\n",
       "    </tr>\n",
       "    <tr>\n",
       "      <th>2</th>\n",
       "      <td>Luật số 31/2024/qh15 ngày 18 tháng 01 năm 2024...</td>\n",
       "      <td>DC</td>\n",
       "      <td>Ủy_ban nhân_dân cấp xã có công_chức làm công_t...</td>\n",
       "      <td>Luật Cán_bộ , công_chức</td>\n",
       "      <td>NaN</td>\n",
       "      <td>Luật số 31/2024/qh15 ngày 18 tháng 01 năm 2024...</td>\n",
       "    </tr>\n",
       "    <tr>\n",
       "      <th>3</th>\n",
       "      <td>Luật số 31/2024/qh15 ngày 18 tháng 01 năm 2024...</td>\n",
       "      <td>None</td>\n",
       "      <td>Quyết_định của cơ_quan nhà_nước có thẩm_quyền ...</td>\n",
       "      <td>Quyết_định thi_hành án</td>\n",
       "      <td>của cơ_quan</td>\n",
       "      <td>Luật số 31/2024/qh15 ngày 18 tháng 01 năm 2024...</td>\n",
       "    </tr>\n",
       "    <tr>\n",
       "      <th>4</th>\n",
       "      <td>Luật số 31/2024/qh15 ngày 18 tháng 01 năm 2024...</td>\n",
       "      <td>None</td>\n",
       "      <td>NaN</td>\n",
       "      <td>Quyết_định thi_hành án</td>\n",
       "      <td>đã được thi_hành</td>\n",
       "      <td>Luật số 31/2024/qh15 ngày 18 tháng 01 năm 2024...</td>\n",
       "    </tr>\n",
       "  </tbody>\n",
       "</table>\n",
       "</div>"
      ],
      "text/plain": [
       "                                 Thực thể tham chiếu Quan hệ  \\\n",
       "0  Luật số 31/2024/qh15 ngày 18 tháng 01 năm 2024...      CC   \n",
       "1  Luật số 31/2024/qh15 ngày 18 tháng 01 năm 2024...      DC   \n",
       "2  Luật số 31/2024/qh15 ngày 18 tháng 01 năm 2024...      DC   \n",
       "3  Luật số 31/2024/qh15 ngày 18 tháng 01 năm 2024...    None   \n",
       "4  Luật số 31/2024/qh15 ngày 18 tháng 01 năm 2024...    None   \n",
       "\n",
       "             Nội dung Trước thực thể được tham chiếu  \\\n",
       "0                                             Căn_cứ   \n",
       "1                  Tổ_chức kinh_tế theo quy_định của   \n",
       "2  Ủy_ban nhân_dân cấp xã có công_chức làm công_t...   \n",
       "3  Quyết_định của cơ_quan nhà_nước có thẩm_quyền ...   \n",
       "4                                                NaN   \n",
       "\n",
       "                            Thực thể được tham chiếu  \\\n",
       "0  Hiến_pháp nước Cộng_hoà xã_hội chủ_nghĩa Việt_nam   \n",
       "1                                        Luật Đầu_tư   \n",
       "2                            Luật Cán_bộ , công_chức   \n",
       "3                             Quyết_định thi_hành án   \n",
       "4                             Quyết_định thi_hành án   \n",
       "\n",
       "            Nội dung Sau thực thể được tham chiếu  \\\n",
       "0                                             NaN   \n",
       "1  , trừ trường_hợp quy_định tại khoản 7 Điều này   \n",
       "2                                             NaN   \n",
       "3                                     của cơ_quan   \n",
       "4                                đã được thi_hành   \n",
       "\n",
       "                                                Text  \n",
       "0  Luật số 31/2024/qh15 ngày 18 tháng 01 năm 2024...  \n",
       "1  Luật số 31/2024/qh15 ngày 18 tháng 01 năm 2024...  \n",
       "2  Luật số 31/2024/qh15 ngày 18 tháng 01 năm 2024...  \n",
       "3  Luật số 31/2024/qh15 ngày 18 tháng 01 năm 2024...  \n",
       "4  Luật số 31/2024/qh15 ngày 18 tháng 01 năm 2024...  "
      ]
     },
     "execution_count": 6,
     "metadata": {},
     "output_type": "execute_result"
    }
   ],
   "source": [
    "dt_clean['Text'] = dt_clean.apply(lambda d: f'{d[A]} {d[Before_B]} {d[B]} {d[After_B]}'.strip(), axis=1)\n",
    "\n",
    "dt_clean.head()"
   ]
  },
  {
   "cell_type": "code",
   "execution_count": 8,
   "metadata": {},
   "outputs": [
    {
     "data": {
      "text/html": [
       "<div>\n",
       "<style scoped>\n",
       "    .dataframe tbody tr th:only-of-type {\n",
       "        vertical-align: middle;\n",
       "    }\n",
       "\n",
       "    .dataframe tbody tr th {\n",
       "        vertical-align: top;\n",
       "    }\n",
       "\n",
       "    .dataframe thead th {\n",
       "        text-align: right;\n",
       "    }\n",
       "</style>\n",
       "<table border=\"1\" class=\"dataframe\">\n",
       "  <thead>\n",
       "    <tr style=\"text-align: right;\">\n",
       "      <th></th>\n",
       "      <th>Text</th>\n",
       "      <th>Quan hệ</th>\n",
       "    </tr>\n",
       "  </thead>\n",
       "  <tbody>\n",
       "    <tr>\n",
       "      <th>0</th>\n",
       "      <td>Luật số 31/2024/qh15 ngày 18 tháng 01 năm 2024...</td>\n",
       "      <td>CC</td>\n",
       "    </tr>\n",
       "    <tr>\n",
       "      <th>1</th>\n",
       "      <td>Luật số 31/2024/qh15 ngày 18 tháng 01 năm 2024...</td>\n",
       "      <td>DC</td>\n",
       "    </tr>\n",
       "    <tr>\n",
       "      <th>2</th>\n",
       "      <td>Luật số 31/2024/qh15 ngày 18 tháng 01 năm 2024...</td>\n",
       "      <td>DC</td>\n",
       "    </tr>\n",
       "    <tr>\n",
       "      <th>3</th>\n",
       "      <td>Luật số 31/2024/qh15 ngày 18 tháng 01 năm 2024...</td>\n",
       "      <td>None</td>\n",
       "    </tr>\n",
       "    <tr>\n",
       "      <th>4</th>\n",
       "      <td>Luật số 31/2024/qh15 ngày 18 tháng 01 năm 2024...</td>\n",
       "      <td>None</td>\n",
       "    </tr>\n",
       "  </tbody>\n",
       "</table>\n",
       "</div>"
      ],
      "text/plain": [
       "                                                Text Quan hệ\n",
       "0  Luật số 31/2024/qh15 ngày 18 tháng 01 năm 2024...      CC\n",
       "1  Luật số 31/2024/qh15 ngày 18 tháng 01 năm 2024...      DC\n",
       "2  Luật số 31/2024/qh15 ngày 18 tháng 01 năm 2024...      DC\n",
       "3  Luật số 31/2024/qh15 ngày 18 tháng 01 năm 2024...    None\n",
       "4  Luật số 31/2024/qh15 ngày 18 tháng 01 năm 2024...    None"
      ]
     },
     "execution_count": 8,
     "metadata": {},
     "output_type": "execute_result"
    }
   ],
   "source": [
    "dt_preprocess =  dt_clean[['Text', 'Quan hệ']].copy()\n",
    "dt_preprocess.head()\n"
   ]
  },
  {
   "cell_type": "code",
   "execution_count": 9,
   "metadata": {},
   "outputs": [
    {
     "data": {
      "text/html": [
       "<div>\n",
       "<style scoped>\n",
       "    .dataframe tbody tr th:only-of-type {\n",
       "        vertical-align: middle;\n",
       "    }\n",
       "\n",
       "    .dataframe tbody tr th {\n",
       "        vertical-align: top;\n",
       "    }\n",
       "\n",
       "    .dataframe thead th {\n",
       "        text-align: right;\n",
       "    }\n",
       "</style>\n",
       "<table border=\"1\" class=\"dataframe\">\n",
       "  <thead>\n",
       "    <tr style=\"text-align: right;\">\n",
       "      <th></th>\n",
       "      <th>Text</th>\n",
       "      <th>Quan hệ</th>\n",
       "    </tr>\n",
       "  </thead>\n",
       "  <tbody>\n",
       "    <tr>\n",
       "      <th>0</th>\n",
       "      <td>luật số 312024qh15 ngày 18 tháng 01 năm 2024 c...</td>\n",
       "      <td>CC</td>\n",
       "    </tr>\n",
       "    <tr>\n",
       "      <th>1</th>\n",
       "      <td>luật số 312024qh15 ngày 18 tháng 01 năm 2024 c...</td>\n",
       "      <td>DC</td>\n",
       "    </tr>\n",
       "    <tr>\n",
       "      <th>2</th>\n",
       "      <td>luật số 312024qh15 ngày 18 tháng 01 năm 2024 c...</td>\n",
       "      <td>DC</td>\n",
       "    </tr>\n",
       "    <tr>\n",
       "      <th>3</th>\n",
       "      <td>luật số 312024qh15 ngày 18 tháng 01 năm 2024 c...</td>\n",
       "      <td>None</td>\n",
       "    </tr>\n",
       "    <tr>\n",
       "      <th>4</th>\n",
       "      <td>luật số 312024qh15 ngày 18 tháng 01 năm 2024 c...</td>\n",
       "      <td>None</td>\n",
       "    </tr>\n",
       "  </tbody>\n",
       "</table>\n",
       "</div>"
      ],
      "text/plain": [
       "                                                Text Quan hệ\n",
       "0  luật số 312024qh15 ngày 18 tháng 01 năm 2024 c...      CC\n",
       "1  luật số 312024qh15 ngày 18 tháng 01 năm 2024 c...      DC\n",
       "2  luật số 312024qh15 ngày 18 tháng 01 năm 2024 c...      DC\n",
       "3  luật số 312024qh15 ngày 18 tháng 01 năm 2024 c...    None\n",
       "4  luật số 312024qh15 ngày 18 tháng 01 năm 2024 c...    None"
      ]
     },
     "execution_count": 9,
     "metadata": {},
     "output_type": "execute_result"
    }
   ],
   "source": [
    "dt_preprocess['Text'] = text_preprocessing(dt_preprocess)\n",
    "dt_preprocess.head()"
   ]
  },
  {
   "cell_type": "markdown",
   "metadata": {},
   "source": [
    "**Text Length**"
   ]
  },
  {
   "cell_type": "code",
   "execution_count": 10,
   "metadata": {},
   "outputs": [
    {
     "name": "stdout",
     "output_type": "stream",
     "text": [
      "Minimum length: 76\n",
      "Maximum length: 1182\n",
      "Average length: 215\n",
      "Mode length: 123\n",
      "Count Mode length: 2643\n",
      "Count Avg length: 933\n"
     ]
    }
   ],
   "source": [
    "def check_length(data):\n",
    "    min_length = float('inf')\n",
    "    max_length = 0\n",
    "    total_length = 0\n",
    "    count = 0\n",
    "    length_counts = {}\n",
    "\n",
    "    for text in data:\n",
    "        length = len(text)\n",
    "\n",
    "        # Update minimum length\n",
    "        if length < min_length:\n",
    "            min_length = length\n",
    "            m = count\n",
    "\n",
    "        # Update maximum length\n",
    "        if length > max_length:\n",
    "            max_length = length\n",
    "\n",
    "        # Update total length for average calculation\n",
    "        total_length += length\n",
    "\n",
    "        # Update length counts for mode calculation\n",
    "        if length in length_counts:\n",
    "            length_counts[length] += 1\n",
    "        else:\n",
    "            length_counts[length] = 1\n",
    "\n",
    "        count += 1\n",
    "\n",
    "    average_length = round(total_length / count)\n",
    "    mode_length = max(length_counts, key=length_counts.get)\n",
    "\n",
    "\n",
    "    count_mode = 0\n",
    "    for i in data:\n",
    "        if len(i) == mode_length:\n",
    "            count_mode = count_mode + 1\n",
    "    count_avg = 0\n",
    "    for j in data:\n",
    "        if len(j) == average_length:\n",
    "            count_avg = count_avg + 1\n",
    "\n",
    "\n",
    "    print(\"Minimum length:\", min_length)\n",
    "    print(\"Maximum length:\", max_length)\n",
    "    print(\"Average length:\", average_length)\n",
    "    print(\"Mode length:\", mode_length)\n",
    "    print(\"Count Mode length:\", count_mode)\n",
    "    print(\"Count Avg length:\", count_avg)\n",
    "\n",
    "\n",
    "check_length(dt_preprocess['Text'])"
   ]
  },
  {
   "cell_type": "code",
   "execution_count": 11,
   "metadata": {},
   "outputs": [],
   "source": [
    "max_length = 250  # Chiều dài tối đa của câu lấy theo độ dài trung bình của toàn bộ tập dữ liệu"
   ]
  },
  {
   "cell_type": "markdown",
   "metadata": {},
   "source": [
    "**Tokenization**"
   ]
  },
  {
   "cell_type": "code",
   "execution_count": 12,
   "metadata": {},
   "outputs": [],
   "source": [
    "def tokenization(data):\n",
    "    Text_col = data\n",
    "    tokenizer = Tokenizer(split=' ')\n",
    "    tokenizer.fit_on_texts(Text_col)\n",
    "    words_to_index = tokenizer.word_index\n",
    "    vocab_size = len(words_to_index) + 1\n",
    "\n",
    "    # chuyển đổi dữ liệu văn bản thành các chuỗi số\n",
    "    tokenizer_seq = tokenizer.texts_to_sequences(Text_col)\n",
    "\n",
    "    # Đảm bảo mỗi sequece có cùng độ dài\n",
    "    # 'post' có nghĩa là thêm padding vào cuối mỗi sequence\n",
    "    # 'pre' có nghĩa là thêm padding vào đầu mỗi sequence\n",
    "    tokenizer_pad = pad_sequences(tokenizer_seq, padding='pre', truncating='post', maxlen=max_length)\n",
    "\n",
    "    return tokenizer_pad, vocab_size, words_to_index"
   ]
  },
  {
   "cell_type": "code",
   "execution_count": 13,
   "metadata": {},
   "outputs": [
    {
     "name": "stdout",
     "output_type": "stream",
     "text": [
      "<class 'pandas.core.frame.DataFrame'>\n",
      "RangeIndex: 148558 entries, 0 to 148557\n",
      "Data columns (total 2 columns):\n",
      " #   Column   Non-Null Count   Dtype \n",
      "---  ------   --------------   ----- \n",
      " 0   Text     148558 non-null  object\n",
      " 1   Quan hệ  148558 non-null  object\n",
      "dtypes: object(2)\n",
      "memory usage: 2.3+ MB\n"
     ]
    }
   ],
   "source": [
    "# Tách từ\n",
    "data_tokenizer = dt_preprocess.copy()\n",
    "data_tokenizer['Text'] = data_tokenizer['Text'].apply(word_tokenize)\n",
    "\n",
    "data_tokenizer.info()\n",
    "data_tokenizer.head()\n",
    "\n",
    "\n",
    "data_tokenizer_pad, vocab_size, words_to_index = tokenization(data_tokenizer['Text'])"
   ]
  },
  {
   "cell_type": "code",
   "execution_count": 14,
   "metadata": {},
   "outputs": [
    {
     "name": "stdout",
     "output_type": "stream",
     "text": [
      "[[   0    0    0 ...  440   68   14]\n",
      " [   0    0    0 ...  106   13   49]\n",
      " [   0    0    0 ... 3567  252   14]\n",
      " ...\n",
      " [   0    0    0 ...  197    1   14]\n",
      " [   0    0    0 ... 3882  228   14]\n",
      " [   0    0    0 ...  887   46 2602]]\n"
     ]
    }
   ],
   "source": [
    "print(data_tokenizer_pad)"
   ]
  },
  {
   "cell_type": "markdown",
   "metadata": {},
   "source": [
    "**Embedding**"
   ]
  },
  {
   "cell_type": "code",
   "execution_count": 15,
   "metadata": {},
   "outputs": [],
   "source": [
    "with open('model/fasttext/tvpl_text.txt', 'w', encoding=\"utf-8\") as file:\n",
    "    # Write content to the\n",
    "    for i in dt_preprocess['Text']:\n",
    "        file.write(i+\"\\n\")"
   ]
  },
  {
   "cell_type": "code",
   "execution_count": 16,
   "metadata": {},
   "outputs": [],
   "source": [
    "model_fasttext = fasttext.train_unsupervised('model/fasttext/tvpl_text.txt', maxn=0, dim=100)\n",
    "model_fasttext.save_model('model/fasttext/fasttext_100d_tvpl.bin')"
   ]
  },
  {
   "cell_type": "code",
   "execution_count": 17,
   "metadata": {},
   "outputs": [
    {
     "name": "stdout",
     "output_type": "stream",
     "text": [
      "Most common word: của\n",
      "Frequency: 270213\n"
     ]
    }
   ],
   "source": [
    "all_text = ' '.join(dt_preprocess['Text'])\n",
    "\n",
    "# Split the text into individual words\n",
    "words = all_text.split()\n",
    "\n",
    "# Count the frequency of each word\n",
    "word_counts = Counter(words)\n",
    "\n",
    "# Find the word with the highest frequency\n",
    "most_common_word, frequency = word_counts.most_common(1)[0]\n",
    "\n",
    "print(\"Most common word:\", most_common_word)\n",
    "print(\"Frequency:\", frequency)"
   ]
  },
  {
   "cell_type": "code",
   "execution_count": 18,
   "metadata": {},
   "outputs": [
    {
     "name": "stdout",
     "output_type": "stream",
     "text": [
      "Max length | input_length      = 250\n",
      "input_dim  | vocab_size        = 25673\n",
      "output_dim | embed_vector_size = 100\n",
      "weights = (25673, 100)\n",
      "WARNING:tensorflow:From c:\\Users\\Administrator\\AppData\\Local\\Programs\\Python\\Python311\\Lib\\site-packages\\keras\\src\\backend.py:873: The name tf.get_default_graph is deprecated. Please use tf.compat.v1.get_default_graph instead.\n",
      "\n"
     ]
    }
   ],
   "source": [
    "embedding_dim = 100  # Kích thước nhúng\n",
    "\n",
    "\n",
    "ft = fasttext.load_model('model/fasttext/fasttext_100d_tvpl.bin')\n",
    "embed_vector_size = ft.get_word_vector('của').shape[0]\n",
    "\n",
    "embed_vector_matrix = np.zeros((vocab_size, embed_vector_size))\n",
    "\n",
    "for word, i in words_to_index.items():\n",
    "    embedding_vector = ft.get_word_vector(word)\n",
    "    if any(embedding_vector):\n",
    "        embed_vector_matrix[i] = embedding_vector\n",
    "    else:\n",
    "        embed_vector_matrix[i] = np.random.uniform(low=-1, high=1, size= embed_vector_size)\n",
    "\n",
    "print(f\"Max length | input_length      = {max_length}\")\n",
    "print(f\"input_dim  | vocab_size        = {vocab_size}\")\n",
    "print(f\"output_dim | embed_vector_size = {embed_vector_size}\")\n",
    "print(f\"weights = {embed_vector_matrix.shape}\")\n",
    "\n",
    "embedding = Embedding(input_dim=vocab_size, output_dim=embed_vector_size,\n",
    "                      input_length=max_length, weights=[embed_vector_matrix], trainable=False)"
   ]
  },
  {
   "cell_type": "markdown",
   "metadata": {},
   "source": [
    "**Create Model**"
   ]
  },
  {
   "cell_type": "code",
   "execution_count": 19,
   "metadata": {},
   "outputs": [
    {
     "name": "stdout",
     "output_type": "stream",
     "text": [
      "Number labels = 7\n"
     ]
    }
   ],
   "source": [
    "classes = data_tokenizer['Quan hệ'].nunique()\n",
    "print(f\"Number labels = {classes}\")\n",
    "\n",
    "def create_model():\n",
    "    lstm_units =250  # Số đơn vị LSTM\n",
    "    dropout_val = 0.2\n",
    "    recurrent_dropout = 0.1\n",
    "\n",
    "    model = Sequential()\n",
    "    model.add(embedding)\n",
    "    model.add(LSTM(lstm_units, return_sequences=True, dropout=dropout_val,recurrent_dropout=recurrent_dropout))\n",
    "    model.add(LSTM(lstm_units, return_sequences=True, dropout=dropout_val,recurrent_dropout=recurrent_dropout))\n",
    "    model.add(LSTM(lstm_units, return_sequences=True, dropout=dropout_val,recurrent_dropout=recurrent_dropout))\n",
    "    model.add(SeqSelfAttention())\n",
    "    model.add(Flatten())\n",
    "    model.add(Dense(classes, activation=\"softmax\"))\n",
    "\n",
    "    # Model compiling\n",
    "    model.compile(optimizer='adam', loss='sparse_categorical_crossentropy', metrics=['accuracy'])\n",
    "\n",
    "    return model"
   ]
  },
  {
   "cell_type": "code",
   "execution_count": 20,
   "metadata": {},
   "outputs": [],
   "source": [
    "# Chia dataset thành tập training thành train_val và test\n",
    "X = data_tokenizer_pad\n",
    "y = data_tokenizer['Quan hệ']\n",
    "\n",
    "X_train_val, X_test, y_train_val, y_test = train_test_split(X, y.values, test_size=0.2, random_state=40)"
   ]
  },
  {
   "cell_type": "code",
   "execution_count": 21,
   "metadata": {},
   "outputs": [
    {
     "name": "stdout",
     "output_type": "stream",
     "text": [
      "\n",
      "Labels: ['BTT', 'CC', 'DC', 'DHD', 'DSD', 'HHL', 'None'] \n",
      "\n",
      "Size Train:  (89134, 250) (89134,)\n",
      "Size Test:  (29712, 250) (29712,)\n",
      "Size Validation:  (29712, 250) (29712,)\n"
     ]
    }
   ],
   "source": [
    "# encode label\n",
    "label_encoder = LabelEncoder()\n",
    "label_encoder.fit(data_tokenizer[\"Quan hệ\"].values)\n",
    "print('\\nLabels:',list(label_encoder.classes_), '\\n')\n",
    "y_train_val = label_encoder.transform(y_train_val)\n",
    "y_test = label_encoder.transform(y_test)\n",
    "\n",
    "# Chia train_val thành train và validation\n",
    "X_train, X_val, y_train, y_val  = train_test_split(X_train_val, y_train_val, test_size=0.25, random_state=40)\n",
    "\n",
    "print(\"Size Train: \",X_train.shape, y_train.shape)\n",
    "print(\"Size Test: \",X_test.shape, y_test.shape)\n",
    "print(\"Size Validation: \",X_val.shape, y_val.shape)"
   ]
  },
  {
   "cell_type": "markdown",
   "metadata": {},
   "source": [
    "**Run**"
   ]
  },
  {
   "cell_type": "code",
   "execution_count": 22,
   "metadata": {},
   "outputs": [
    {
     "name": "stderr",
     "output_type": "stream",
     "text": [
      "c:\\Users\\Administrator\\AppData\\Local\\Programs\\Python\\Python311\\Lib\\site-packages\\keras\\src\\initializers\\initializers.py:120: UserWarning:\n",
      "\n",
      "The initializer GlorotNormal is unseeded and being called multiple times, which will return identical values each time (even if the initializer is unseeded). Please update your code to provide a seed to the initializer, or avoid using the same initializer instance more than once.\n",
      "\n"
     ]
    },
    {
     "name": "stdout",
     "output_type": "stream",
     "text": [
      "WARNING:tensorflow:From c:\\Users\\Administrator\\AppData\\Local\\Programs\\Python\\Python311\\Lib\\site-packages\\keras\\src\\optimizers\\__init__.py:309: The name tf.train.Optimizer is deprecated. Please use tf.compat.v1.train.Optimizer instead.\n",
      "\n",
      "Model: \"sequential\"\n",
      "_________________________________________________________________\n",
      " Layer (type)                Output Shape              Param #   \n",
      "=================================================================\n",
      " embedding (Embedding)       (None, 250, 100)          2567300   \n",
      "                                                                 \n",
      " lstm (LSTM)                 (None, 250, 250)          351000    \n",
      "                                                                 \n",
      " lstm_1 (LSTM)               (None, 250, 250)          501000    \n",
      "                                                                 \n",
      " lstm_2 (LSTM)               (None, 250, 250)          501000    \n",
      "                                                                 \n",
      " seq_self_attention (SeqSel  (None, 250, 250)          16065     \n",
      " fAttention)                                                     \n",
      "                                                                 \n",
      " flatten (Flatten)           (None, 62500)             0         \n",
      "                                                                 \n",
      " dense (Dense)               (None, 7)                 437507    \n",
      "                                                                 \n",
      "=================================================================\n",
      "Total params: 4373872 (16.68 MB)\n",
      "Trainable params: 1806572 (6.89 MB)\n",
      "Non-trainable params: 2567300 (9.79 MB)\n",
      "_________________________________________________________________\n"
     ]
    }
   ],
   "source": [
    "model = create_model()\n",
    "batchSize = 128\n",
    "epoch = 20\n",
    "model.summary()\n"
   ]
  },
  {
   "cell_type": "code",
   "execution_count": 23,
   "metadata": {},
   "outputs": [
    {
     "name": "stdout",
     "output_type": "stream",
     "text": [
      "Epoch 1/20\n",
      "WARNING:tensorflow:From c:\\Users\\Administrator\\AppData\\Local\\Programs\\Python\\Python311\\Lib\\site-packages\\keras\\src\\utils\\tf_utils.py:492: The name tf.ragged.RaggedTensorValue is deprecated. Please use tf.compat.v1.ragged.RaggedTensorValue instead.\n",
      "\n",
      "WARNING:tensorflow:From c:\\Users\\Administrator\\AppData\\Local\\Programs\\Python\\Python311\\Lib\\site-packages\\keras\\src\\engine\\base_layer_utils.py:384: The name tf.executing_eagerly_outside_functions is deprecated. Please use tf.compat.v1.executing_eagerly_outside_functions instead.\n",
      "\n",
      "697/697 [==============================] - ETA: 0s - loss: 0.6067 - accuracy: 0.7754  \n",
      "Epoch 1: saving model to checkpointvbpl_ft\\cp.ckpt\n",
      "697/697 [==============================] - 58993s 85s/step - loss: 0.6067 - accuracy: 0.7754 - val_loss: 0.4105 - val_accuracy: 0.8575\n",
      "Epoch 2/20\n",
      "697/697 [==============================] - ETA: 0s - loss: 0.3962 - accuracy: 0.8587  \n",
      "Epoch 2: saving model to checkpointvbpl_ft\\cp.ckpt\n",
      "697/697 [==============================] - 67593s 97s/step - loss: 0.3962 - accuracy: 0.8587 - val_loss: 0.3625 - val_accuracy: 0.8675\n",
      "Epoch 3/20\n",
      "697/697 [==============================] - ETA: 0s - loss: 0.3382 - accuracy: 0.8780  \n",
      "Epoch 3: saving model to checkpointvbpl_ft\\cp.ckpt\n",
      "697/697 [==============================] - 68685s 99s/step - loss: 0.3382 - accuracy: 0.8780 - val_loss: 0.3124 - val_accuracy: 0.8825\n",
      "Epoch 4/20\n",
      "697/697 [==============================] - ETA: 0s - loss: 0.3072 - accuracy: 0.8879  \n",
      "Epoch 4: saving model to checkpointvbpl_ft\\cp.ckpt\n",
      "697/697 [==============================] - 69202s 99s/step - loss: 0.3072 - accuracy: 0.8879 - val_loss: 0.2869 - val_accuracy: 0.8955\n",
      "Epoch 5/20\n",
      "697/697 [==============================] - ETA: 0s - loss: 0.2861 - accuracy: 0.8942  \n",
      "Epoch 5: saving model to checkpointvbpl_ft\\cp.ckpt\n",
      "697/697 [==============================] - 69635s 100s/step - loss: 0.2861 - accuracy: 0.8942 - val_loss: 0.2665 - val_accuracy: 0.9036\n",
      "Epoch 6/20\n",
      "697/697 [==============================] - ETA: 0s - loss: 0.2671 - accuracy: 0.9019  \n",
      "Epoch 6: saving model to checkpointvbpl_ft\\cp.ckpt\n",
      "697/697 [==============================] - 70349s 101s/step - loss: 0.2671 - accuracy: 0.9019 - val_loss: 0.2606 - val_accuracy: 0.9059\n",
      "Epoch 7/20\n",
      "697/697 [==============================] - ETA: 0s - loss: 0.2554 - accuracy: 0.9055  \n",
      "Epoch 7: saving model to checkpointvbpl_ft\\cp.ckpt\n",
      "697/697 [==============================] - 71312s 102s/step - loss: 0.2554 - accuracy: 0.9055 - val_loss: 0.2526 - val_accuracy: 0.9074\n",
      "Epoch 8/20\n",
      "697/697 [==============================] - ETA: 0s - loss: 0.2431 - accuracy: 0.9088  \n",
      "Epoch 8: saving model to checkpointvbpl_ft\\cp.ckpt\n",
      "697/697 [==============================] - 71439s 102s/step - loss: 0.2431 - accuracy: 0.9088 - val_loss: 0.2444 - val_accuracy: 0.9125\n",
      "Epoch 9/20\n",
      "697/697 [==============================] - ETA: 0s - loss: 0.2345 - accuracy: 0.9131  \n",
      "Epoch 9: saving model to checkpointvbpl_ft\\cp.ckpt\n",
      "697/697 [==============================] - 71552s 103s/step - loss: 0.2345 - accuracy: 0.9131 - val_loss: 0.2434 - val_accuracy: 0.9131\n",
      "Epoch 10/20\n",
      "697/697 [==============================] - ETA: 0s - loss: 0.2268 - accuracy: 0.9146  \n",
      "Epoch 10: saving model to checkpointvbpl_ft\\cp.ckpt\n",
      "697/697 [==============================] - 71676s 103s/step - loss: 0.2268 - accuracy: 0.9146 - val_loss: 0.2374 - val_accuracy: 0.9099\n",
      "Epoch 11/20\n",
      "697/697 [==============================] - ETA: 0s - loss: 0.2163 - accuracy: 0.9200  \n",
      "Epoch 11: saving model to checkpointvbpl_ft\\cp.ckpt\n",
      "697/697 [==============================] - 72003s 103s/step - loss: 0.2163 - accuracy: 0.9200 - val_loss: 0.2377 - val_accuracy: 0.9108\n",
      "Epoch 12/20\n",
      "697/697 [==============================] - ETA: 0s - loss: 0.2083 - accuracy: 0.9219  \n",
      "Epoch 12: saving model to checkpointvbpl_ft\\cp.ckpt\n",
      "697/697 [==============================] - 72120s 103s/step - loss: 0.2083 - accuracy: 0.9219 - val_loss: 0.2273 - val_accuracy: 0.9196\n",
      "Epoch 13/20\n",
      "697/697 [==============================] - ETA: 0s - loss: 0.2016 - accuracy: 0.9234  \n",
      "Epoch 13: saving model to checkpointvbpl_ft\\cp.ckpt\n",
      "697/697 [==============================] - 72082s 103s/step - loss: 0.2016 - accuracy: 0.9234 - val_loss: 0.2269 - val_accuracy: 0.9186\n",
      "Epoch 14/20\n",
      "697/697 [==============================] - ETA: 0s - loss: 0.1966 - accuracy: 0.9263  \n",
      "Epoch 14: saving model to checkpointvbpl_ft\\cp.ckpt\n",
      "697/697 [==============================] - 72167s 104s/step - loss: 0.1966 - accuracy: 0.9263 - val_loss: 0.2206 - val_accuracy: 0.9221\n",
      "Epoch 15/20\n",
      "697/697 [==============================] - ETA: 0s - loss: 0.1909 - accuracy: 0.9280  \n",
      "Epoch 15: saving model to checkpointvbpl_ft\\cp.ckpt\n",
      "697/697 [==============================] - 71050s 102s/step - loss: 0.1909 - accuracy: 0.9280 - val_loss: 0.2320 - val_accuracy: 0.9189\n",
      "Epoch 16/20\n",
      "697/697 [==============================] - ETA: 0s - loss: 0.1872 - accuracy: 0.9284  \n",
      "Epoch 16: saving model to checkpointvbpl_ft\\cp.ckpt\n",
      "697/697 [==============================] - 72099s 103s/step - loss: 0.1872 - accuracy: 0.9284 - val_loss: 0.2296 - val_accuracy: 0.9198\n",
      "Epoch 16: early stopping\n"
     ]
    }
   ],
   "source": [
    "# Ghi lại thời điểm bắt đầu\n",
    "start_time = time.time()\n",
    "checkpoint_path = \"\".join(['checkpoint','vbpl_ft',\"/cp.ckpt\"])\n",
    "checkpoint_dir = os.path.dirname(checkpoint_path)\n",
    "earlystopping = EarlyStopping(monitor='val_loss', mode='min', verbose=1,patience=2)\n",
    "checkpointing = tf.keras.callbacks.ModelCheckpoint(filepath=checkpoint_path,\n",
    "                                                 save_weights_only=True,\n",
    "                                                 verbose=1)\n",
    "lstm_model_history = model.fit(X_train, y_train, batch_size=batchSize, epochs=epoch, callbacks=[earlystopping,checkpointing], validation_data=(X_val, y_val))\n",
    "\n",
    "# Tính thời gian đã trôi qua\n",
    "training_time = round(time.time() - start_time, 2)"
   ]
  },
  {
   "cell_type": "markdown",
   "metadata": {},
   "source": [
    "**Save Model**"
   ]
  },
  {
   "cell_type": "code",
   "execution_count": 24,
   "metadata": {},
   "outputs": [
    {
     "name": "stdout",
     "output_type": "stream",
     "text": [
      "model/model_tvpl_250_250lstmunits_128_20_0.2_0.1_1121956.82.h5\n"
     ]
    },
    {
     "name": "stderr",
     "output_type": "stream",
     "text": [
      "c:\\Users\\Administrator\\AppData\\Local\\Programs\\Python\\Python311\\Lib\\site-packages\\keras\\src\\engine\\training.py:3103: UserWarning:\n",
      "\n",
      "You are saving your model as an HDF5 file via `model.save()`. This file format is considered legacy. We recommend using instead the native Keras format, e.g. `model.save('my_model.keras')`.\n",
      "\n"
     ]
    }
   ],
   "source": [
    "# thu tu cac chi so: maxLength_Batch_epochs_dropout_recurrentDropout\n",
    "path = f\"model/model_tvpl_{max_length}_250lstmunits_{batchSize}_{epoch}_{0.2}_{0.1}_{training_time}.h5\"\n",
    "\n",
    "print(path)\n",
    "model.save(path)"
   ]
  },
  {
   "cell_type": "markdown",
   "metadata": {},
   "source": [
    "**Prediction**"
   ]
  },
  {
   "cell_type": "code",
   "execution_count": 25,
   "metadata": {},
   "outputs": [
    {
     "name": "stdout",
     "output_type": "stream",
     "text": [
      "929/929 [==============================] - 4850s 5s/step - loss: 0.2338 - accuracy: 0.9202\n",
      "Test Score: 0.2338390052318573\n",
      "Test Accuracy: 0.9201669096946716\n"
     ]
    }
   ],
   "source": [
    "# Predictions on the Test Set\n",
    "score = model.evaluate(X_test, y_test)\n",
    "\n",
    "# Model Performance\n",
    "print(\"Test Score:\", score[0])\n",
    "print(\"Test Accuracy:\", score[1])"
   ]
  },
  {
   "cell_type": "code",
   "execution_count": 26,
   "metadata": {},
   "outputs": [
    {
     "name": "stdout",
     "output_type": "stream",
     "text": [
      "929/929 [==============================] - 4877s 5s/step\n",
      "Kết quả thực tế: ['CC' 'None' 'DC' ... 'None' 'DSD' 'DC']\n",
      "Kết quả mô hình phân loại: ['CC' 'None' 'DC' ... 'None' 'DSD' 'DC'] - [ True  True  True ...  True  True  True]\n"
     ]
    }
   ],
   "source": [
    "start = None\n",
    "end = None\n",
    "\n",
    "# Phân loại \n",
    "y_pred = model.predict(X_test[start:end])\n",
    "# Mã hóa label\n",
    "y_pred_original = label_encoder.inverse_transform(np.argmax(y_pred, axis=1))\n",
    "y_test_original = label_encoder.inverse_transform(y_test[start:end])\n",
    "\n",
    "# In ra kết quả phân loại\n",
    "print(f\"Kết quả thực tế: {y_test_original}\")\n",
    "print(f\"Kết quả mô hình phân loại: {y_pred_original} - {y_pred_original == y_test_original}\")"
   ]
  },
  {
   "cell_type": "code",
   "execution_count": 27,
   "metadata": {},
   "outputs": [
    {
     "data": {
      "image/png": "[encoded data removed]",
      "text/plain": [
       "<Figure size 1000x600 with 1 Axes>"
      ]
     },
     "metadata": {},
     "output_type": "display_data"
    }
   ],
   "source": [
    "def plot_graph(history):\n",
    "    acc = history.history['accuracy']\n",
    "    val_acc = history.history['val_accuracy']\n",
    "    loss = history.history['loss']\n",
    "    val_loss = history.history['val_loss']\n",
    "    epochs = range(len(acc))\n",
    "\n",
    "    plt.figure(figsize=(10,6))\n",
    "    plt.plot(epochs, acc, 'r', label='Training Accuracy')\n",
    "    plt.plot(epochs, val_acc, 'b', label='Validation Accuracy')\n",
    "    plt.plot(epochs, loss, 'g', label='Training Loss')\n",
    "    plt.plot(epochs, val_loss, 'y', label='Validation Loss')\n",
    "\n",
    "    plt.title(f'{X_train.shape[0]} Data - {batchSize} batch size - {epoch} epochs')\n",
    "    plt.legend(loc=0)\n",
    "    plt.savefig(f'images/tvpl_img_{max_length}_250lstmunits_{batchSize}_{epoch}_0.4_0.1.png')\n",
    "    plt.show()\n",
    "\n",
    "\n",
    "plot_graph(lstm_model_history)"
   ]
  },
  {
   "cell_type": "code",
   "execution_count": 28,
   "metadata": {},
   "outputs": [
    {
     "name": "stdout",
     "output_type": "stream",
     "text": [
      "Metrics Table per Class:\n",
      "  Class  Precision    Recall  F1 Score\n",
      "0   BTT   0.711111  0.351648  0.470588\n",
      "1    CC   0.962135  0.971757  0.966922\n",
      "2    DC   0.923446  0.939874  0.931587\n",
      "3   DHD   0.671937  0.422886  0.519084\n",
      "4   DSD   0.777893  0.794304  0.786013\n",
      "5   HHL   0.901961  0.721003  0.801394\n",
      "6  None   0.900112  0.891148  0.895607\n",
      "\n",
      "Macro-Average Metrics:\n",
      "Macro Precision: 0.836\n",
      "Macro Recall: 0.728\n",
      "Macro F1 Score: 0.767\n"
     ]
    }
   ],
   "source": [
    "# Calculate precision, recall, and F1 score for each class\n",
    "precision_per_class = precision_score(y_test_original, y_pred_original, average=None)\n",
    "recall_per_class = recall_score(y_test_original, y_pred_original, average=None)\n",
    "f1_per_class = f1_score(y_test_original, y_pred_original, average=None)\n",
    "\n",
    "# Calculate macro-average precision, recall, and F1 score\n",
    "macro_precision = round(np.mean(precision_per_class),3)\n",
    "macro_recall = round(np.mean(recall_per_class),3)\n",
    "macro_f1 = round(np.mean(f1_per_class),3)\n",
    "\n",
    "# Create a DataFrame for the table\n",
    "metrics_table_per_class = pd.DataFrame({\n",
    "    'Class': np.unique(y_test_original),\n",
    "    'Precision': precision_per_class,\n",
    "    'Recall': recall_per_class,\n",
    "    'F1 Score': f1_per_class\n",
    "})\n",
    "\n",
    "# Print the table per class\n",
    "print(\"Metrics Table per Class:\")\n",
    "print(metrics_table_per_class)\n",
    "\n",
    "# Print macro-average metrics\n",
    "print(\"\\nMacro-Average Metrics:\")\n",
    "print(f\"Macro Precision: {macro_precision}\")\n",
    "print(f\"Macro Recall: {macro_recall}\")\n",
    "print(f\"Macro F1 Score: {macro_f1}\")"
   ]
  },
  {
   "cell_type": "markdown",
   "metadata": {},
   "source": [
    "**Confusion Matrix**"
   ]
  },
  {
   "cell_type": "code",
   "execution_count": 29,
   "metadata": {},
   "outputs": [
    {
     "name": "stdout",
     "output_type": "stream",
     "text": [
      "Ma trận confusion:\n",
      "[[   32     2    11     8    20     1    17]\n",
      " [    0  7191   131    27    24     0    27]\n",
      " [    0   127 12521    35    97     7   535]\n",
      " [    3   100   108   170    17     0     4]\n",
      " [    5    10   109     3   753     0    68]\n",
      " [    0     0    18     1     6   230    64]\n",
      " [    5    44   661     9    51    17  6443]]\n"
     ]
    }
   ],
   "source": [
    "# Tìm tất cả các nhãn duy nhất\n",
    "labels = np.unique(np.concatenate((y_test_original, y_pred_original)))\n",
    "\n",
    "# Tạo ma trận confusion\n",
    "confusion = confusion_matrix(y_test_original, y_pred_original, labels=labels)\n",
    "\n",
    "print(\"Ma trận confusion:\")\n",
    "print(confusion)"
   ]
  }
 ],
 "metadata": {
  "kernelspec": {
   "display_name": "Python 3",
   "language": "python",
   "name": "python3"
  },
  "language_info": {
   "codemirror_mode": {
    "name": "ipython",
    "version": 3
   },
   "file_extension": ".py",
   "mimetype": "text/x-python",
   "name": "python",
   "nbconvert_exporter": "python",
   "pygments_lexer": "ipython3",
   "version": "3.9.8"
  }
 },
 "nbformat": 4,
 "nbformat_minor": 2
}
